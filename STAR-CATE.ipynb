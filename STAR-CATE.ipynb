{
 "cells": [
  {
   "cell_type": "code",
   "execution_count": 1,
   "metadata": {},
   "outputs": [
    {
     "name": "stderr",
     "output_type": "stream",
     "text": [
      "/Users/kallus/Applications/anaconda3/lib/python3.7/site-packages/sklearn/ensemble/weight_boosting.py:29: DeprecationWarning: numpy.core.umath_tests is an internal NumPy module and should not be imported. It will be removed in a future NumPy release.\n",
      "  from numpy.core.umath_tests import inner1d\n"
     ]
    },
    {
     "name": "stdout",
     "output_type": "stream",
     "text": [
      "8\n"
     ]
    }
   ],
   "source": [
    "%load_ext autoreload\n",
    "%autoreload 2\n",
    "from sklearn.cluster import SpectralClustering as sc\n",
    "import numpy.random as rand\n",
    "from numpy.linalg import norm as dist\n",
    "import numpy as np\n",
    "import matplotlib.pyplot as plt\n",
    "from mpl_toolkits.mplot3d import Axes3D\n",
    "from functools import partial\n",
    "from scipy.special import expit\n",
    "from sklearn.linear_model import Ridge as ridge\n",
    "from sklearn.linear_model import Lasso as lasso\n",
    "from sklearn.linear_model import LinearRegression as ols\n",
    "from sklearn.svm import SVR as kernel_svr\n",
    "from sklearn.svm import LinearSVR as lin_svr\n",
    "from sklearn.kernel_ridge import KernelRidge as kernel_ridge\n",
    "\n",
    "from sklearn.tree import DecisionTreeRegressor as reg_tree\n",
    "from sklearn.ensemble import RandomForestRegressor as rfr\n",
    "from sklearn.ensemble import AdaBoostRegressor as ada_reg\n",
    "from sklearn.ensemble import GradientBoostingRegressor as gbr\n",
    "from sklearn.metrics import mean_squared_error as mse\n",
    "from sklearn.model_selection import train_test_split\n",
    "from sklearn.preprocessing import normalize\n",
    "\n",
    "from sklearn.model_selection import GridSearchCV\n",
    "\n",
    "import copy\n",
    "\n",
    "import statsmodels.api as sm\n",
    "import statsmodels.formula.api as smf\n",
    "\n",
    "rmse = lambda x,y: np.power(mse(x,y), 0.5)\n",
    "\n",
    "import pandas as pd\n",
    "\n",
    "import multiprocessing\n",
    "_n_cpu = multiprocessing.cpu_count()\n",
    "print(_n_cpu)"
   ]
  },
  {
   "cell_type": "code",
   "execution_count": 2,
   "metadata": {},
   "outputs": [],
   "source": [
    "import rpy2.robjects as robjects\n",
    "import rpy2.robjects.numpy2ri as np2ri\n",
    "\n",
    "robjects.numpy2ri.activate()\n",
    "\n",
    "from rpy2.robjects.packages import importr\n",
    "grf = importr('grf')\n",
    "cf = grf.causal_forest"
   ]
  },
  {
   "cell_type": "code",
   "execution_count": 3,
   "metadata": {},
   "outputs": [],
   "source": [
    "def count_nans(x):\n",
    "    assert(type(x) == type(np.ones(1,)))\n",
    "    return np.sum(np.isnan(x))"
   ]
  },
  {
   "cell_type": "code",
   "execution_count": 4,
   "metadata": {},
   "outputs": [
    {
     "data": {
      "text/plain": [
       "Index(['stdntid', 'gender', 'race', 'birthmonth', 'birthday', 'birthyear',\n",
       "       'gkclasstype', 'gkclasssize', 'gkschid', 'gksurban', 'gktchid',\n",
       "       'gkfreelunch', 'gktreadss', 'gktmathss', 'gktlistss', 'g1classtype',\n",
       "       'g1classsize', 'g1schid', 'g1surban', 'g1tchid', 'g1freelunch',\n",
       "       'g1treadss', 'g1tmathss', 'g1tlistss', 'g2classtype', 'g2classsize',\n",
       "       'g2schid', 'g2surban', 'g2tchid', 'g2freelunch', 'g2treadss',\n",
       "       'g2tmathss', 'g2tlistss', 'g3classtype', 'g3classsize', 'g3schid',\n",
       "       'g3surban', 'g3tchid', 'g3freelunch', 'g3treadss', 'g3tmathss',\n",
       "       'g3tlangss', 'g3tlistss', 'Unnamed: 43', 'Unnamed: 44'],\n",
       "      dtype='object')"
      ]
     },
     "execution_count": 4,
     "metadata": {},
     "output_type": "execute_result"
    }
   ],
   "source": [
    "star_data = pd.read_csv('STAR_Students_for_Uri.csv')\n",
    "star_data.columns"
   ]
  },
  {
   "cell_type": "code",
   "execution_count": 5,
   "metadata": {},
   "outputs": [],
   "source": [
    "treatment_filter = np.isfinite(star_data.g1classtype)\n",
    "outcome_filter = np.isfinite(star_data.g1tlistss + star_data.g1treadss + star_data.g1tmathss)"
   ]
  },
  {
   "cell_type": "code",
   "execution_count": 6,
   "metadata": {
    "scrolled": true
   },
   "outputs": [
    {
     "name": "stdout",
     "output_type": "stream",
     "text": [
      "Full data set size     :  (11601, 45)\n",
      "Removing treatment NaNs:  (6829, 45)\n",
      "Removing outcome NaNs  :  (6322, 45)\n"
     ]
    }
   ],
   "source": [
    "print('Full data set size     : ', star_data.shape)\n",
    "print('Removing treatment NaNs: ',  star_data[treatment_filter].shape)\n",
    "print('Removing outcome NaNs  : ',  star_data[np.logical_and(treatment_filter, outcome_filter)].shape)"
   ]
  },
  {
   "cell_type": "code",
   "execution_count": 7,
   "metadata": {},
   "outputs": [],
   "source": [
    "# RANDOM FORESTS\n",
    "reg_parameter_pairs = [(rfr(),{#'max_depth':[None] + list(range(2,11,4)),\n",
    "                             'min_samples_leaf':list(range(1,10,4)), \n",
    "                             'n_estimators':[10, 50, 100, 150, 200, 400]})]\n",
    "\n",
    "# ADABOOST REGRESSION\n",
    "reg_parameter_pairs.append((ada_reg(),{'loss':['linear', 'square', 'exponential'],\n",
    "                                     'n_estimators':[10, 50, 100, 150, 200]}))\n",
    "\n",
    "# REGRESSION TREES\n",
    "reg_parameter_pairs.append((reg_tree(),{'max_depth':list(range(4,20,3))}))\n",
    "\n",
    "# GRADIENT BOOSTED REGRESSION TREES\n",
    "reg_parameter_pairs.append((gbr(),{'loss':['ls', 'lad', 'huber'],\n",
    "                                    #'max_depth':list(range(2,7,4)),\n",
    "                                    'min_samples_leaf':list(range(1,10,4)),\n",
    "                                    'n_estimators':[10, 50, 100, 200, 400]}))\n",
    "\n",
    "# # KERNEL RIDGE\n",
    "# reg_parameter_pairs.append((kernel_ridge(),{'kernel':['poly','rbf','sigmoid'],\n",
    "#                                              'alpha':[1e-5,1e-3,1e-1,1,1e+1,1e+3,1e+5]}))\n",
    "# kernel_ridge?"
   ]
  },
  {
   "cell_type": "code",
   "execution_count": 8,
   "metadata": {},
   "outputs": [],
   "source": [
    "rfr_reg_parameter_pairs = [(rfr(),{#'max_depth':[None] + list(range(2,11,4)),\n",
    "                             'min_samples_leaf':list(range(1,11,3)), \n",
    "                             'n_estimators':[100, 200]})]"
   ]
  },
  {
   "cell_type": "code",
   "execution_count": 9,
   "metadata": {},
   "outputs": [],
   "source": [
    "# # OLS\n",
    "# # linear_reg_parameter_pairs = [(ols(),{'fit_intercept': [True]})]\n",
    "# linear_reg_parameter_pairs = []\n",
    "# # LASSO\n",
    "# linear_reg_parameter_pairs.append((lasso(), {'alpha': np.logspace(-7, 7,8),\n",
    "#                                              'selection':['random'],\n",
    "#                                              'max_iter':[500000],\n",
    "#                                              'tol':[1e-3]}))\n",
    "# # RIDGE\n",
    "# linear_reg_parameter_pairs.append((ridge(), {'alpha': np.logspace(-7, 7,8),\n",
    "#                                              'max_iter':[500000]}))\n",
    "\n",
    "# # linear SUPPORT VECTOR REGRESSION\n",
    "# linear_reg_parameter_pairs.append((lin_svr(), {'C': np.logspace(-7, 7,8),\n",
    "#                                                'max_iter':[500000]}))"
   ]
  },
  {
   "cell_type": "code",
   "execution_count": 10,
   "metadata": {},
   "outputs": [],
   "source": [
    "# OLS\n",
    "# linear_reg_parameter_pairs = [(ols(),{'fit_intercept': [True]})]\n",
    "linear_reg_parameter_pairs = []\n",
    "# # LASSO\n",
    "# linear_reg_parameter_pairs.append((lasso(), {'alpha': np.logspace(-6, 6,5),\n",
    "#                                              'selection':['random'],\n",
    "#                                              'max_iter':[400000],\n",
    "#                                              'tol':[1e-3]}))\n",
    "# # RIDGE\n",
    "linear_reg_parameter_pairs.append((ridge(), {'alpha':np.logspace(-7, 7,8),\n",
    "                                             'tol':[1e-3]}))\n",
    "\n",
    "# # # linear SUPPORT VECTOR REGRESSION\n",
    "# linear_reg_parameter_pairs.append((lin_svr(), {'C': np.logspace(-6, 6,5),\n",
    "#                                                'max_iter':[400000],\n",
    "#                                                'tol':[1e-3]}))"
   ]
  },
  {
   "cell_type": "code",
   "execution_count": 11,
   "metadata": {},
   "outputs": [],
   "source": [
    "regs = [rfr(n_estimators=i, min_samples_leaf=2) for i in [10, 20, 40, 60, 100, 150, 200]]\n",
    "regs += [reg_tree(max_depth=i) for i in [5, 10, 20, 30, 40, 50]]\n",
    "regs += [ada_reg(n_estimators=i) for i in [10, 20, 50, 70, 100, 150, 200]]\n",
    "regs += [gbr(n_estimators=i) for i in [50, 70, 100, 150, 200]]\n",
    "regs.extend([kernel_ridge(alpha=alph, kernel=kern) for alph in [1e-5,1e-3,1e-1,1,1e+1,1e+3,1e+5] for kern in ['poly','rbf','sigmoid']])\n",
    "# regs.extend([kernel_svr(C=c) for c in [1e-5,1e-3,1e-1,1,1e+1,1e+3,1e+5] for kern in ['poly','rbf','sigmoid']])\n",
    "\n",
    "linear_regs = [ols()] \n",
    "linear_regs.extend([lasso(alpha=alph) for alph in [1e-5,1e-3,1e-1,1,1e+1,1e+3,1e+5]])\n",
    "linear_regs.extend([ridge(alpha=alph) for alph in [1e-5,1e-3,1e-1,1,1e+1,1e+3,1e+5]])\n",
    "linear_regs.extend([lin_svr(C=c) for c in [1e-5,1e-3,1e-1,1,1e+1,1e+3,1e+5]])\n",
    "\n",
    "def get_best_for_data(X, Y, regs, print_flag = False):\n",
    "    x_train, x_test, y_train, y_test = train_test_split(X, Y, test_size = 0.2)\n",
    "    val_errs = []\n",
    "    models = []\n",
    "    for reg in regs:\n",
    "        model = copy.deepcopy(reg)\n",
    "        model.fit(x_train, y_train)\n",
    "        val_errs.append(rmse(y_test, model.predict(x_test)))\n",
    "        if print_flag:\n",
    "            print('trying ' + str(model)[:60], val_errs[-1])\n",
    "        models.append(copy.deepcopy(model))\n",
    "    min_ind = val_errs.index(min(val_errs))\n",
    "    print(str(regs[min_ind]), 'val rmse:{}'.format(val_errs[min_ind]))\n",
    "    return models[min_ind]\n",
    "\n",
    "\n",
    "def get_best_model_from_gridcv(X, Y, reg_parameter_pairs, print_flag = False, verbose = 0):\n",
    "    val_errs = []\n",
    "    models = []\n",
    "    x_train, x_test, y_train, y_test = train_test_split(X, Y, test_size = 0.2)\n",
    "    for reg, parameters in reg_parameter_pairs:\n",
    "        if print_flag:\n",
    "            print('trying ', str(reg)[:50])\n",
    "        model = GridSearchCV(reg, parameters, cv=2, refit=True, verbose=verbose, n_jobs = 10)\n",
    "        model.fit(X,Y)\n",
    "        val_errs.append(rmse(y_test, model.predict(x_test)))\n",
    "#         if print_flag:\n",
    "#             print('trying ' + str(reg)[:60], val_errs[-1])\n",
    "        models.append(copy.deepcopy(model.best_estimator_))\n",
    "    min_ind = val_errs.index(min(val_errs))\n",
    "    if verbose != 0:\n",
    "        print(str(models[min_ind]), 'val rmse:{}'.format(val_errs[min_ind]))\n",
    "    return copy.deepcopy(models[min_ind])"
   ]
  },
  {
   "cell_type": "code",
   "execution_count": 12,
   "metadata": {},
   "outputs": [],
   "source": [
    "def covar_and_interaction_term(x,t):\n",
    "    assert x.shape[0] == t.shape[0], 'make sure x,t have the same number of samples'\n",
    "    assert len(t.shape) == 1 or t.shape[1] == 1,'t must have a shape (a,) or (a,1)'\n",
    "    term_int = np.multiply(x, t.reshape(-1,1))\n",
    "    return np.hstack((x,t.reshape(-1,1),term_int))\n",
    "\n",
    "def _to_categorical(X):\n",
    "    assert(type(X) == type(np.ones((1,))))\n",
    "    return pd.get_dummies(pd.DataFrame(X.astype(str)), dummy_na=True).values.astype(np.int)\n",
    "\n",
    "def regress_with_interaction_term(_X, _Y, _T, linear_regs):\n",
    "    _X_interaction = covar_and_interaction_term(_X, _T)\n",
    "    _f_best = get_best_for_data(_X_interaction, _Y, linear_regs)\n",
    "    return copy.deepcopy(_f_best)"
   ]
  },
  {
   "cell_type": "code",
   "execution_count": 13,
   "metadata": {},
   "outputs": [],
   "source": [
    "cat_covar_columns = ['gender', 'race', 'birthmonth', 'birthday', 'birthyear', \n",
    "                     # 'gkschid', \n",
    "                     # 'gktchid', \n",
    "                     'gkfreelunch',\n",
    "                     # 'gktreadss', 'gktmathss', 'gktlistss',\n",
    "                     # 'g1schid', \n",
    "                     'g1tchid', \n",
    "                     'g1freelunch' ] # 'g1treadss', 'g1tmathss', 'g1tlistss']\n",
    "\n",
    "_confounding_covar = 'g1surban'\n",
    "\n",
    "# 'gkclasssize' same as gk and maybe g1\n",
    "num_covar_columns = [ 'gktreadss', 'gktmathss', 'gktlistss']\n",
    "Y_columns = [ 'g1treadss', 'g1tmathss', 'g1tlistss']"
   ]
  },
  {
   "cell_type": "code",
   "execution_count": 14,
   "metadata": {},
   "outputs": [
    {
     "name": "stdout",
     "output_type": "stream",
     "text": [
      "gender\n",
      "race\n",
      "birthmonth\n",
      "birthday\n",
      "birthyear\n",
      "gkfreelunch\n",
      "g1tchid\n",
      "g1freelunch\n"
     ]
    }
   ],
   "source": [
    "for name in cat_covar_columns:\n",
    "    print(name,)\n",
    "    "
   ]
  },
  {
   "cell_type": "code",
   "execution_count": 15,
   "metadata": {},
   "outputs": [
    {
     "data": {
      "text/html": [
       "<div>\n",
       "<style scoped>\n",
       "    .dataframe tbody tr th:only-of-type {\n",
       "        vertical-align: middle;\n",
       "    }\n",
       "\n",
       "    .dataframe tbody tr th {\n",
       "        vertical-align: top;\n",
       "    }\n",
       "\n",
       "    .dataframe thead th {\n",
       "        text-align: right;\n",
       "    }\n",
       "</style>\n",
       "<table border=\"1\" class=\"dataframe\">\n",
       "  <thead>\n",
       "    <tr style=\"text-align: right;\">\n",
       "      <th></th>\n",
       "      <th>gender</th>\n",
       "      <th>race</th>\n",
       "      <th>birthmonth</th>\n",
       "      <th>birthday</th>\n",
       "      <th>birthyear</th>\n",
       "      <th>gkfreelunch</th>\n",
       "      <th>g1tchid</th>\n",
       "      <th>g1freelunch</th>\n",
       "      <th>g1treadss</th>\n",
       "      <th>g1tmathss</th>\n",
       "      <th>g1tlistss</th>\n",
       "    </tr>\n",
       "  </thead>\n",
       "  <tbody>\n",
       "    <tr>\n",
       "      <th>gender</th>\n",
       "      <td>1.000000</td>\n",
       "      <td>0.008470</td>\n",
       "      <td>0.005888</td>\n",
       "      <td>0.007640</td>\n",
       "      <td>0.022252</td>\n",
       "      <td>0.029746</td>\n",
       "      <td>0.010995</td>\n",
       "      <td>-0.010638</td>\n",
       "      <td>0.101150</td>\n",
       "      <td>0.001521</td>\n",
       "      <td>-0.006144</td>\n",
       "    </tr>\n",
       "    <tr>\n",
       "      <th>race</th>\n",
       "      <td>0.008470</td>\n",
       "      <td>1.000000</td>\n",
       "      <td>-0.005727</td>\n",
       "      <td>-0.000866</td>\n",
       "      <td>0.027945</td>\n",
       "      <td>-0.204308</td>\n",
       "      <td>0.291779</td>\n",
       "      <td>-0.277295</td>\n",
       "      <td>-0.262934</td>\n",
       "      <td>-0.267703</td>\n",
       "      <td>-0.316418</td>\n",
       "    </tr>\n",
       "    <tr>\n",
       "      <th>birthmonth</th>\n",
       "      <td>0.005888</td>\n",
       "      <td>-0.005727</td>\n",
       "      <td>1.000000</td>\n",
       "      <td>-0.035776</td>\n",
       "      <td>0.040553</td>\n",
       "      <td>-0.032230</td>\n",
       "      <td>-0.005644</td>\n",
       "      <td>-0.016031</td>\n",
       "      <td>0.006727</td>\n",
       "      <td>-0.003830</td>\n",
       "      <td>-0.006117</td>\n",
       "    </tr>\n",
       "    <tr>\n",
       "      <th>birthday</th>\n",
       "      <td>0.007640</td>\n",
       "      <td>-0.000866</td>\n",
       "      <td>-0.035776</td>\n",
       "      <td>1.000000</td>\n",
       "      <td>0.040958</td>\n",
       "      <td>-0.024933</td>\n",
       "      <td>-0.002868</td>\n",
       "      <td>-0.013146</td>\n",
       "      <td>-0.028317</td>\n",
       "      <td>-0.027968</td>\n",
       "      <td>-0.013439</td>\n",
       "    </tr>\n",
       "    <tr>\n",
       "      <th>birthyear</th>\n",
       "      <td>0.022252</td>\n",
       "      <td>0.027945</td>\n",
       "      <td>0.040553</td>\n",
       "      <td>0.040958</td>\n",
       "      <td>1.000000</td>\n",
       "      <td>0.033730</td>\n",
       "      <td>-0.021625</td>\n",
       "      <td>0.004971</td>\n",
       "      <td>0.006494</td>\n",
       "      <td>-0.007884</td>\n",
       "      <td>-0.006379</td>\n",
       "    </tr>\n",
       "    <tr>\n",
       "      <th>gkfreelunch</th>\n",
       "      <td>0.029746</td>\n",
       "      <td>-0.204308</td>\n",
       "      <td>-0.032230</td>\n",
       "      <td>-0.024933</td>\n",
       "      <td>0.033730</td>\n",
       "      <td>1.000000</td>\n",
       "      <td>-0.011985</td>\n",
       "      <td>0.278325</td>\n",
       "      <td>0.242825</td>\n",
       "      <td>0.212630</td>\n",
       "      <td>0.215343</td>\n",
       "    </tr>\n",
       "    <tr>\n",
       "      <th>g1tchid</th>\n",
       "      <td>0.010995</td>\n",
       "      <td>0.291779</td>\n",
       "      <td>-0.005644</td>\n",
       "      <td>-0.002868</td>\n",
       "      <td>-0.021625</td>\n",
       "      <td>-0.011985</td>\n",
       "      <td>1.000000</td>\n",
       "      <td>-0.069965</td>\n",
       "      <td>-0.118471</td>\n",
       "      <td>-0.119555</td>\n",
       "      <td>-0.123606</td>\n",
       "    </tr>\n",
       "    <tr>\n",
       "      <th>g1freelunch</th>\n",
       "      <td>-0.010638</td>\n",
       "      <td>-0.277295</td>\n",
       "      <td>-0.016031</td>\n",
       "      <td>-0.013146</td>\n",
       "      <td>0.004971</td>\n",
       "      <td>0.278325</td>\n",
       "      <td>-0.069965</td>\n",
       "      <td>1.000000</td>\n",
       "      <td>0.293404</td>\n",
       "      <td>0.269605</td>\n",
       "      <td>0.286026</td>\n",
       "    </tr>\n",
       "    <tr>\n",
       "      <th>g1treadss</th>\n",
       "      <td>0.101150</td>\n",
       "      <td>-0.262934</td>\n",
       "      <td>0.006727</td>\n",
       "      <td>-0.028317</td>\n",
       "      <td>0.006494</td>\n",
       "      <td>0.242825</td>\n",
       "      <td>-0.118471</td>\n",
       "      <td>0.293404</td>\n",
       "      <td>1.000000</td>\n",
       "      <td>0.725071</td>\n",
       "      <td>0.616927</td>\n",
       "    </tr>\n",
       "    <tr>\n",
       "      <th>g1tmathss</th>\n",
       "      <td>0.001521</td>\n",
       "      <td>-0.267703</td>\n",
       "      <td>-0.003830</td>\n",
       "      <td>-0.027968</td>\n",
       "      <td>-0.007884</td>\n",
       "      <td>0.212630</td>\n",
       "      <td>-0.119555</td>\n",
       "      <td>0.269605</td>\n",
       "      <td>0.725071</td>\n",
       "      <td>1.000000</td>\n",
       "      <td>0.715495</td>\n",
       "    </tr>\n",
       "    <tr>\n",
       "      <th>g1tlistss</th>\n",
       "      <td>-0.006144</td>\n",
       "      <td>-0.316418</td>\n",
       "      <td>-0.006117</td>\n",
       "      <td>-0.013439</td>\n",
       "      <td>-0.006379</td>\n",
       "      <td>0.215343</td>\n",
       "      <td>-0.123606</td>\n",
       "      <td>0.286026</td>\n",
       "      <td>0.616927</td>\n",
       "      <td>0.715495</td>\n",
       "      <td>1.000000</td>\n",
       "    </tr>\n",
       "  </tbody>\n",
       "</table>\n",
       "</div>"
      ],
      "text/plain": [
       "               gender      race  birthmonth  birthday  birthyear  gkfreelunch  \\\n",
       "gender       1.000000  0.008470    0.005888  0.007640   0.022252     0.029746   \n",
       "race         0.008470  1.000000   -0.005727 -0.000866   0.027945    -0.204308   \n",
       "birthmonth   0.005888 -0.005727    1.000000 -0.035776   0.040553    -0.032230   \n",
       "birthday     0.007640 -0.000866   -0.035776  1.000000   0.040958    -0.024933   \n",
       "birthyear    0.022252  0.027945    0.040553  0.040958   1.000000     0.033730   \n",
       "gkfreelunch  0.029746 -0.204308   -0.032230 -0.024933   0.033730     1.000000   \n",
       "g1tchid      0.010995  0.291779   -0.005644 -0.002868  -0.021625    -0.011985   \n",
       "g1freelunch -0.010638 -0.277295   -0.016031 -0.013146   0.004971     0.278325   \n",
       "g1treadss    0.101150 -0.262934    0.006727 -0.028317   0.006494     0.242825   \n",
       "g1tmathss    0.001521 -0.267703   -0.003830 -0.027968  -0.007884     0.212630   \n",
       "g1tlistss   -0.006144 -0.316418   -0.006117 -0.013439  -0.006379     0.215343   \n",
       "\n",
       "              g1tchid  g1freelunch  g1treadss  g1tmathss  g1tlistss  \n",
       "gender       0.010995    -0.010638   0.101150   0.001521  -0.006144  \n",
       "race         0.291779    -0.277295  -0.262934  -0.267703  -0.316418  \n",
       "birthmonth  -0.005644    -0.016031   0.006727  -0.003830  -0.006117  \n",
       "birthday    -0.002868    -0.013146  -0.028317  -0.027968  -0.013439  \n",
       "birthyear   -0.021625     0.004971   0.006494  -0.007884  -0.006379  \n",
       "gkfreelunch -0.011985     0.278325   0.242825   0.212630   0.215343  \n",
       "g1tchid      1.000000    -0.069965  -0.118471  -0.119555  -0.123606  \n",
       "g1freelunch -0.069965     1.000000   0.293404   0.269605   0.286026  \n",
       "g1treadss   -0.118471     0.293404   1.000000   0.725071   0.616927  \n",
       "g1tmathss   -0.119555     0.269605   0.725071   1.000000   0.715495  \n",
       "g1tlistss   -0.123606     0.286026   0.616927   0.715495   1.000000  "
      ]
     },
     "execution_count": 15,
     "metadata": {},
     "output_type": "execute_result"
    }
   ],
   "source": [
    "# for col in cat_covar_columns:\n",
    "#     if col == 'birthday':\n",
    "#         continue\n",
    "#     print(col, len(set(star_data[outcome_filter][col].fillna(-1))))\n",
    "#     print(star_data[outcome_filter].fillna(-1).groupby(col).size())\n",
    "star_data[cat_covar_columns + Y_columns][outcome_filter].fillna(-1).corr()\n"
   ]
  },
  {
   "cell_type": "code",
   "execution_count": 16,
   "metadata": {},
   "outputs": [],
   "source": [
    "# all is post-filtering\n",
    "# CHECKED\n",
    "T_all = star_data.g1classtype[np.logical_and(treatment_filter, outcome_filter)].values # check\n",
    "X_all = _to_categorical(star_data[cat_covar_columns][np.logical_and(treatment_filter, outcome_filter)].fillna(0).values[T_all!=3]) #check\n",
    "Y_cols = star_data[Y_columns][np.logical_and(treatment_filter, outcome_filter)].values[T_all!=3] # check \n",
    "urban = star_data.g1surban[np.logical_and(outcome_filter, treatment_filter)].values[T_all!=3] # check \n",
    "\n",
    "rural_filter = np.logical_or(urban==1, urban==3) # 1 = inner city, 3 = rural\n",
    "urban_filter = np.logical_or(urban==2, urban==4) # 2 = suburban, 4 = urban\n",
    "\n",
    "## FLIPPING AROUND TEMPORARILY\n",
    "# urban_filter = np.logical_or(urban==1, urban==3) # 1 = inner city, 3 = rural\n",
    "# rural_filter = np.logical_or(urban==2, urban==4) # 2 = suburban, 4 = urban\n",
    "\n",
    "T_all = star_data.g1classtype[np.logical_and(treatment_filter, outcome_filter)].values[T_all!=3] # removing 2s from T. check\n",
    "T_all[T_all == 2] = 0 # check. 3 is control.\n",
    "Y_all = np.sum(Y_cols, axis=1)/3\n",
    "\n",
    "# ALL SHAPES ARE AS SHOULD BE!"
   ]
  },
  {
   "cell_type": "code",
   "execution_count": 17,
   "metadata": {},
   "outputs": [],
   "source": [
    "# all is post-filtering\n",
    "# CHECKED\n",
    "T_all = star_data.g1classtype[np.logical_and(treatment_filter, outcome_filter)].values # check\n",
    "X_all = _to_categorical(star_data[cat_covar_columns][np.logical_and(treatment_filter, outcome_filter)].fillna(0).values[T_all!=3]) #check\n",
    "Y_cols = star_data[Y_columns][np.logical_and(treatment_filter, outcome_filter)].values[T_all!=3] # check \n",
    "urban = star_data.g1surban[np.logical_and(outcome_filter, treatment_filter)].values[T_all!=3] # check \n",
    "\n",
    "rural_filter = np.logical_or(urban==1, urban==3) # 1 = inner city, 3 = rural\n",
    "urban_filter = np.logical_or(urban==2, urban==4) # 2 = suburban, 4 = urban\n",
    "\n",
    "## FLIPPING AROUND TEMPORARILY\n",
    "# urban_filter = np.logical_or(urban==1, urban==3) # 1 = inner city, 3 = rural\n",
    "# rural_filter = np.logical_or(urban==2, urban==4) # 2 = suburban, 4 = urban\n",
    "rural_teach_set = set(star_data[cat_covar_columns][np.logical_and(treatment_filter, outcome_filter)][T_all!=3].g1tchid[rural_filter])\n",
    "urban_teach_set = set(star_data[cat_covar_columns][np.logical_and(treatment_filter, outcome_filter)][T_all!=3].g1tchid[~rural_filter])\n",
    "\n",
    "T_all = star_data.g1classtype[np.logical_and(treatment_filter, outcome_filter)].values[T_all!=3] # removing 2s from T. check\n",
    "T_all[T_all == 2] = 0 # check. 3 is control.\n",
    "Y_all = np.sum(Y_cols, axis=1)/3\n",
    "\n",
    "# ALL SHAPES ARE AS SHOULD BE!"
   ]
  },
  {
   "cell_type": "code",
   "execution_count": 18,
   "metadata": {},
   "outputs": [
    {
     "name": "stderr",
     "output_type": "stream",
     "text": [
      "/Users/kallus/Applications/anaconda3/lib/python3.7/site-packages/matplotlib/axes/_axes.py:6571: UserWarning: The 'normed' kwarg is deprecated, and has been replaced by the 'density' kwarg.\n",
      "  warnings.warn(\"The 'normed' kwarg is deprecated, and has been \"\n",
      "/Users/kallus/Applications/anaconda3/lib/python3.7/site-packages/matplotlib/axes/_axes.py:6571: UserWarning: The 'normed' kwarg is deprecated, and has been replaced by the 'density' kwarg.\n",
      "  warnings.warn(\"The 'normed' kwarg is deprecated, and has been \"\n"
     ]
    },
    {
     "data": {
      "image/png": "[encoded data removed]",
      "text/plain": [
       "<Figure size 432x288 with 1 Axes>"
      ]
     },
     "metadata": {
      "needs_background": "light"
     },
     "output_type": "display_data"
    }
   ],
   "source": [
    "plt.hist(Y_all[T_all==1], alpha = 0.5,label='treated', bins=50, normed=True)\n",
    "plt.hist(Y_all[T_all==0], alpha = 0.5,label='control', bins=50, normed=True)\n",
    "plt.legend()\n",
    "plt.show()"
   ]
  },
  {
   "cell_type": "code",
   "execution_count": 19,
   "metadata": {},
   "outputs": [],
   "source": [
    "# nothing screwed up here\n",
    "assert(set(urban[rural_filter]) == set([1,3]))\n",
    "assert(set(urban[urban_filter]) == set([2,4]))"
   ]
  },
  {
   "cell_type": "code",
   "execution_count": 20,
   "metadata": {},
   "outputs": [],
   "source": [
    "# checked\n",
    "X_rural = X_all[rural_filter]\n",
    "X_urban = X_all[urban_filter]\n",
    "\n",
    "# checked\n",
    "T_rural = T_all[rural_filter]\n",
    "T_urban = T_all[urban_filter]\n",
    "\n",
    "#checked\n",
    "Y_rural = Y_all[rural_filter]\n",
    "Y_urban = Y_all[urban_filter] # + 20*(2*T_all[urban_filter]-1) # checked\n",
    "\n",
    "\n",
    "#checked\n",
    "X_rural_control = X_rural[T_rural==0]\n",
    "X_rural_treated = X_rural[T_rural==1]\n",
    "\n",
    "#checked\n",
    "X_urban_control = X_urban[T_urban==0]\n",
    "X_urban_treated = X_urban[T_urban==1]\n",
    "\n",
    "#checked\n",
    "Y_rural_control = Y_rural[T_rural==0]\n",
    "Y_rural_treated = Y_rural[T_rural==1]\n",
    "\n",
    "#checked\n",
    "Y_urban_control = Y_urban[T_urban==0]\n",
    "Y_urban_treated = Y_urban[T_urban==1]"
   ]
  },
  {
   "cell_type": "code",
   "execution_count": 21,
   "metadata": {},
   "outputs": [
    {
     "name": "stderr",
     "output_type": "stream",
     "text": [
      "/Users/kallus/Applications/anaconda3/lib/python3.7/site-packages/matplotlib/axes/_axes.py:6571: UserWarning: The 'normed' kwarg is deprecated, and has been replaced by the 'density' kwarg.\n",
      "  warnings.warn(\"The 'normed' kwarg is deprecated, and has been \"\n",
      "/Users/kallus/Applications/anaconda3/lib/python3.7/site-packages/matplotlib/axes/_axes.py:6571: UserWarning: The 'normed' kwarg is deprecated, and has been replaced by the 'density' kwarg.\n",
      "  warnings.warn(\"The 'normed' kwarg is deprecated, and has been \"\n"
     ]
    },
    {
     "data": {
      "image/png": "[encoded data removed]",
      "text/plain": [
       "<Figure size 432x288 with 1 Axes>"
      ]
     },
     "metadata": {
      "needs_background": "light"
     },
     "output_type": "display_data"
    }
   ],
   "source": [
    "plt.hist(Y_rural, bins=50, alpha=0.5, label='rural outcomes', normed=True)\n",
    "plt.hist(Y_urban, bins=50, alpha=0.5, label='urban outcomes', normed=True)\n",
    "plt.legend()\n",
    "plt.show()"
   ]
  },
  {
   "cell_type": "code",
   "execution_count": 22,
   "metadata": {},
   "outputs": [],
   "source": [
    "assert X_rural_treated.shape[0] == Y_rural_treated.shape[0], (X_rural_treated.shape[0], Y_rural_treated.shape[0])"
   ]
  },
  {
   "cell_type": "code",
   "execution_count": 23,
   "metadata": {},
   "outputs": [
    {
     "data": {
      "text/plain": [
       "((4218, 310), (2811, 310), (1407, 310), (4218,), (2811,), (1407,))"
      ]
     },
     "execution_count": 23,
     "metadata": {},
     "output_type": "execute_result"
    }
   ],
   "source": [
    "X_all.shape, X_rural.shape, X_urban.shape, Y_all.shape, Y_rural.shape, Y_urban.shape"
   ]
  },
  {
   "cell_type": "code",
   "execution_count": 24,
   "metadata": {},
   "outputs": [
    {
     "data": {
      "text/plain": [
       "(1199, 310)"
      ]
     },
     "execution_count": 24,
     "metadata": {},
     "output_type": "execute_result"
    }
   ],
   "source": [
    "X_rural[T_rural ==1 ].shape"
   ]
  },
  {
   "cell_type": "code",
   "execution_count": 25,
   "metadata": {},
   "outputs": [
    {
     "data": {
      "text/plain": [
       "(606, 310)"
      ]
     },
     "execution_count": 25,
     "metadata": {},
     "output_type": "execute_result"
    }
   ],
   "source": [
    "X_urban[T_urban ==1 ].shape"
   ]
  },
  {
   "cell_type": "code",
   "execution_count": 26,
   "metadata": {},
   "outputs": [
    {
     "data": {
      "text/plain": [
       "((1612, 310), (801, 310))"
      ]
     },
     "execution_count": 26,
     "metadata": {},
     "output_type": "execute_result"
    }
   ],
   "source": [
    "X_rural_control.shape, X_urban_control.shape"
   ]
  },
  {
   "cell_type": "code",
   "execution_count": 27,
   "metadata": {},
   "outputs": [
    {
     "data": {
      "text/plain": [
       "((1199, 310), (606, 310))"
      ]
     },
     "execution_count": 27,
     "metadata": {},
     "output_type": "execute_result"
    }
   ],
   "source": [
    "X_rural_treated.shape, X_urban_treated.shape"
   ]
  },
  {
   "cell_type": "code",
   "execution_count": 28,
   "metadata": {},
   "outputs": [],
   "source": [
    "_mean_outcome = np.mean(Y_all)\n",
    "_mean_outcome\n",
    "_propensity_all = np.sum(T_all)/T_all.shape[0]"
   ]
  },
  {
   "cell_type": "code",
   "execution_count": 29,
   "metadata": {},
   "outputs": [],
   "source": [
    "def ite_adjusted_outcome(Y,T,_propensity, c = _mean_outcome):\n",
    "    assert(_propensity>0)\n",
    "    assert(_propensity<1)\n",
    "    assert(len(Y.shape) == 1)\n",
    "    assert(Y.shape == T.shape )\n",
    "    _ite = np.zeros(Y.shape)\n",
    "    _ite[T==1] =  (Y[T==1]- c)/_propensity\n",
    "    _ite[T==0] = -(Y[T==0] - c)/(1-_propensity)\n",
    "    return _ite"
   ]
  },
  {
   "cell_type": "code",
   "execution_count": 30,
   "metadata": {},
   "outputs": [],
   "source": [
    "_cf_num_threads = 1"
   ]
  },
  {
   "cell_type": "code",
   "execution_count": null,
   "metadata": {},
   "outputs": [],
   "source": [
    "gt_cf_all_ite_model = cf(X_all,\n",
    "                         Y_all.reshape(-1,1),\n",
    "                         T_all.astype(np.int).reshape(-1,1),\n",
    "                         num_trees=5000,\n",
    "                         tune_parameters=True,\n",
    "                         num_threads = _cf_num_threads)\n",
    "# baseline_ite_model = cf(X_all, Y_all.reshape(-1,1), T_all.astype(np.int).reshape(-1,1), num_trees=2000)\n",
    "\n",
    "gt_cf_all_ite_all = np.array(grf.predict_causal_forest(gt_cf_all_ite_model, X_all,\n",
    "                                                       num_threads = _cf_num_threads)[0]).ravel()"
   ]
  },
  {
   "cell_type": "code",
   "execution_count": null,
   "metadata": {},
   "outputs": [],
   "source": [
    "plt.hist(ite_adjusted_outcome(Y_all - 10*gt_cf_all_ite_all, T_all, _propensity_all, c = _mean_outcome), bins=50)\n",
    "plt.show()\n",
    "\n",
    "plt.hist(ite_adjusted_outcome(Y_all, T_all, _propensity_all, c = _mean_outcome), bins = 50)\n",
    "plt.show()"
   ]
  },
  {
   "cell_type": "code",
   "execution_count": null,
   "metadata": {},
   "outputs": [],
   "source": [
    "rewrewrew"
   ]
  },
  {
   "cell_type": "markdown",
   "metadata": {},
   "source": [
    "#  RCT OBS split"
   ]
  },
  {
   "cell_type": "code",
   "execution_count": 92,
   "metadata": {},
   "outputs": [],
   "source": [
    "\"\"\"\n",
    "X_rct = half of X_rural\n",
    "\n",
    "T_rct = same half but of T_rural\n",
    "Y_rct = same half but of Y_rural\n",
    "\n",
    "X_rural_not_rct = X_rural \\ X_rct\n",
    "X_obs_treated_urban = half of X_urban_treated\n",
    "X_obs_control_rural = half of X_rural_not_RCT_control\n",
    "\n",
    "X_rct = \n",
    "\n",
    "X_obs = half of urban treated +\n",
    "        all of urban control +\n",
    "        half or non RCT rural control + \n",
    "        all of non RCT rural treated\n",
    "\n",
    "X_obs = (X_rural_not_RCT_treated, X_obs_treated_urban, X_obs_control_rural, X_urban_control)\n",
    "T_obs = (1*X_rural_treated.shape, 1*X_obs_treated_urban.shape, 0*X_obs_control_rural.shape, 0*X_urban_control.shape)\n",
    "\n",
    "^^^ OLD SPLIT\n",
    "\n",
    "New confounding:\n",
    "1. top half of urban treated thrown away\n",
    "2. top half of non-RCT rural treated also thrown away\n",
    "3. something along these lines: like move both urban and rural treated in the same way\n",
    "4. make size thrown away a parameter\n",
    "\"\"\"\n",
    "\n",
    "_keep_size = 0.5\n",
    "\n",
    "#splitting rural in half\n",
    "X_rct, X_rural_not_RCT, Y_rct, Y_rural_not_RCT, T_rct, T_rural_not_rct = train_test_split(X_rural,\n",
    "                                                                                          Y_rural,\n",
    "                                                                                          T_rural,\n",
    "                                                                                          test_size = 0.5) # checked\n",
    "\n",
    "\n",
    "#checked\n",
    "X_rural_not_RCT_treated = X_rural_not_RCT[T_rural_not_rct==1]\n",
    "X_rural_not_RCT_control = X_rural_not_RCT[T_rural_not_rct==0]\n",
    "\n",
    "#checked\n",
    "Y_rural_not_RCT_treated = Y_rural_not_RCT[T_rural_not_rct==1]\n",
    "Y_rural_not_RCT_control = Y_rural_not_RCT[T_rural_not_rct==0]\n",
    "\n",
    "\n",
    "# OUTCOME BASED REMOVAL METHOD\n",
    "_treated_rural_median = np.median(Y_rural_not_RCT_treated)\n",
    "_treated_urban_median = np.median(Y_urban_treated)\n",
    "\n",
    "_treated_rural_filter = Y_rural_not_RCT_treated<_treated_rural_median\n",
    "_treated_urban_filter = Y_urban_treated<_treated_urban_median\n",
    "\n",
    "# remov\n",
    "X_obs_treated_urban = X_urban_treated[_treated_urban_filter,:]\n",
    "X_obs_treated_rural = X_rural_not_RCT_treated[_treated_rural_filter,:]\n",
    "\n",
    "Y_obs_treated_urban = Y_urban_treated[_treated_urban_filter]\n",
    "Y_obs_treated_rural = Y_rural_not_RCT_treated[_treated_rural_filter]\n",
    "\n",
    "\n",
    "#checked\n",
    "X_obs = np.vstack((X_obs_treated_rural,\n",
    "                   X_obs_treated_urban,\n",
    "                   X_rural_not_RCT_control,\n",
    "                   X_urban_control))\n",
    "\n",
    "#checked\n",
    "Y_obs = np.vstack((Y_obs_treated_rural.reshape(-1,1),\n",
    "                   Y_obs_treated_urban.reshape(-1,1),\n",
    "                   Y_rural_not_RCT_control.reshape(-1,1),\n",
    "                   Y_urban_control.reshape(-1,1))).ravel()\n",
    "\n",
    "#checked\n",
    "T_obs = np.array([1]*int(Y_obs_treated_rural.shape[0] + Y_obs_treated_urban.shape[0]) + \n",
    "                 [0]*int(Y_rural_not_RCT_control.shape[0] + Y_urban_control.shape[0]))\n",
    "\n",
    "\n",
    "#checked\n",
    "# X_obs_treated_urban, X_drop_obs_treated_urban, Y_obs_treated_urban, Y_drop_obs_treated_urban = train_test_split(X_urban_treated,\n",
    "#                                                                                                                 Y_urban_treated,\n",
    "#                                                                                                                 test_size = _keep_size)\n",
    "\n",
    "\n",
    "# #checked\n",
    "# X_obs_control_rural, X_drop_obs_control_rural, Y_obs_control_rural, Y_drop_obs_control_rural = train_test_split(X_rural_not_RCT_control,\n",
    "#                                                                                                                 Y_rural_not_RCT_control,\n",
    "#                                                                                                                 test_size = _keep_size)\n",
    "\n",
    "# #checked\n",
    "# X_obs = np.vstack((X_rural_not_RCT_treated,\n",
    "#                    X_obs_treated_urban,\n",
    "#                    X_obs_control_rural,\n",
    "#                    X_urban_control))\n",
    "\n",
    "# #checked\n",
    "# Y_obs = np.vstack((Y_rural_not_RCT_treated.reshape(-1,1),\n",
    "#                    Y_obs_treated_urban.reshape(-1,1),\n",
    "#                    Y_obs_control_rural.reshape(-1,1),\n",
    "#                    Y_urban_control.reshape(-1,1))).ravel()\n",
    "\n",
    "# #checked\n",
    "# T_obs = np.array([1]*int(Y_rural_not_RCT_treated.shape[0] + Y_obs_treated_urban.shape[0]) + \n",
    "#                  [0]*int(Y_obs_control_rural.shape[0] + Y_urban_control.shape[0]))"
   ]
  },
  {
   "cell_type": "code",
   "execution_count": 93,
   "metadata": {},
   "outputs": [
    {
     "data": {
      "text/plain": [
       "562.2"
      ]
     },
     "execution_count": 93,
     "metadata": {},
     "output_type": "execute_result"
    }
   ],
   "source": [
    "X_rural.shape[0]*0.2\n"
   ]
  },
  {
   "cell_type": "code",
   "execution_count": null,
   "metadata": {},
   "outputs": [],
   "source": []
  },
  {
   "cell_type": "code",
   "execution_count": 94,
   "metadata": {},
   "outputs": [
    {
     "data": {
      "text/plain": [
       "(80, 310)"
      ]
     },
     "execution_count": 94,
     "metadata": {},
     "output_type": "execute_result"
    }
   ],
   "source": [
    "X_all[np.random.randint(X_all.shape[0], size=80)].shape"
   ]
  },
  {
   "cell_type": "code",
   "execution_count": null,
   "metadata": {},
   "outputs": [],
   "source": []
  },
  {
   "cell_type": "code",
   "execution_count": 95,
   "metadata": {},
   "outputs": [],
   "source": [
    "def _generate_rct_obs(X_rural, Y_rural, T_rural, X_urban, Y_urban, T_urban, rct_fraction_of_rural = 0.5, eval_fraction_of_notrct = 0.4):\n",
    "    #splitting rural into rct and not rct\n",
    "    # checked\n",
    "    \"\"\"\n",
    "    X_rural -> X_rct + X_rural_not_RCT\n",
    "    \n",
    "    X_rural_not_RCT + X_urban -> X_notrct\n",
    "    \n",
    "    X_notrct -> X_eval + X_noteval\n",
    "    \n",
    "    X_noteval -> X_noteval_urban + X_noteval_rural\n",
    "    \n",
    "    X_noteval_urban is further curropted\n",
    "    \n",
    "    \n",
    "    \"\"\"\n",
    "    X_rct, X_rural_not_RCT, Y_rct, Y_rural_not_RCT, T_rct, T_rural_not_rct = train_test_split(X_rural,\n",
    "                                                                                              Y_rural,\n",
    "                                                                                              T_rural,\n",
    "                                                                                              test_size = rct_fraction_of_rural) \n",
    "    #checked\n",
    "    X_notrct = np.vstack((X_rural_not_RCT, X_urban))\n",
    "    Y_notrct = np.hstack((Y_rural_not_RCT, Y_urban))\n",
    "    T_notrct = np.hstack((T_rural_not_rct, T_urban))\n",
    "    _local_rural_filter = np.array([True]*X_rural_not_RCT.shape[0] + [False]*X_urban.shape[0]).ravel()\n",
    "    assert(_local_rural_filter.shape == Y_notrct.shape)\n",
    "    \n",
    "    X_eval, X_noteval, Y_eval, Y_noteval, T_eval, T_noteval, _local_rural_filter_eval, _local_rural_filter_noteval = train_test_split(X_notrct, Y_notrct, T_notrct, _local_rural_filter, test_size = 1 - eval_fraction_of_notrct) \n",
    "    \n",
    "    X_noteval_rural = X_noteval[_local_rural_filter_noteval]\n",
    "    Y_noteval_rural = Y_noteval[_local_rural_filter_noteval]\n",
    "    T_noteval_rural = T_noteval[_local_rural_filter_noteval]\n",
    "    \n",
    "    # checked\n",
    "    X_noteval_rural_treated = X_noteval_rural[T_noteval_rural==1]\n",
    "    X_noteval_rural_control = X_noteval_rural[T_noteval_rural==0]\n",
    "        \n",
    "    #checked \n",
    "    Y_noteval_rural_treated = Y_noteval_rural[T_noteval_rural==1]\n",
    "    Y_noteval_rural_control = Y_noteval_rural[T_noteval_rural==0]\n",
    "    \n",
    "    # OUTCOME BASED REMOVAL\n",
    "    _treated_rural_filter = Y_noteval_rural_treated<np.median(Y_noteval_rural_treated)\n",
    "    _treated_urban_filter = Y_urban_treated<np.median(Y_urban[T_urban==1])\n",
    "\n",
    "    # remove large samples.\n",
    "    X_obs_treated_rural = X_noteval_rural_treated[_treated_rural_filter,:]\n",
    "    Y_obs_treated_rural = Y_noteval_rural_treated[_treated_rural_filter]\n",
    "    \n",
    "    X_obs_treated_urban = X_urban_treated[_treated_urban_filter,:]\n",
    "    Y_obs_treated_urban = Y_urban_treated[_treated_urban_filter]\n",
    "    \n",
    "    \n",
    "    assert(X_obs_treated_rural.shape[0] == Y_obs_treated_rural.shape[0])\n",
    "\n",
    "    #checked\n",
    "    X_obs = np.vstack((X_obs_treated_rural,\n",
    "                       X_obs_treated_urban,\n",
    "                       X_noteval_rural_control,\n",
    "                       X_urban_control))\n",
    "\n",
    "    #checked\n",
    "    Y_obs = np.vstack((Y_obs_treated_rural.reshape(-1,1),\n",
    "                       Y_obs_treated_urban.reshape(-1,1),\n",
    "                       Y_noteval_rural_control.reshape(-1,1),\n",
    "                       Y_urban_control.reshape(-1,1))).ravel()\n",
    "\n",
    "    #checked\n",
    "    T_obs = np.array([1]*int(Y_obs_treated_rural.shape[0] + Y_obs_treated_urban.shape[0]) + \n",
    "                     [0]*int(Y_noteval_rural_control.shape[0] + Y_urban_control.shape[0]))\n",
    "    \n",
    "    assert(Y_eval.shape == T_eval.shape)\n",
    "    assert(Y_rct.shape == T_rct.shape)\n",
    "    assert(Y_obs.shape == Y_obs.shape)\n",
    "    assert(X_rct.shape[0] == T_rct.shape[0])\n",
    "    assert(X_obs.shape[0] == T_obs.shape[0])\n",
    "    assert(X_eval.shape[0] == T_eval.shape[0])\n",
    "    \n",
    "    return X_rct, Y_rct, T_rct, X_obs, Y_obs, T_obs, X_eval, Y_eval, T_eval"
   ]
  },
  {
   "cell_type": "code",
   "execution_count": 96,
   "metadata": {},
   "outputs": [
    {
     "data": {
      "text/plain": [
       "[(1405, 310),\n",
       " (1405,),\n",
       " (1405,),\n",
       " (1750, 310),\n",
       " (1750,),\n",
       " (1750,),\n",
       " (1125, 310),\n",
       " (1125,),\n",
       " (1125,)]"
      ]
     },
     "execution_count": 96,
     "metadata": {},
     "output_type": "execute_result"
    }
   ],
   "source": [
    "[ item.shape for item in _generate_rct_obs(X_rural, Y_rural, T_rural, X_urban, Y_urban, T_urban, rct_fraction_of_rural = 0.5, eval_fraction_of_notrct = 0.4)]"
   ]
  },
  {
   "cell_type": "code",
   "execution_count": 97,
   "metadata": {},
   "outputs": [
    {
     "data": {
      "text/plain": [
       "(2811, 310)"
      ]
     },
     "execution_count": 97,
     "metadata": {},
     "output_type": "execute_result"
    }
   ],
   "source": [
    "X_rural.shape"
   ]
  },
  {
   "cell_type": "code",
   "execution_count": 98,
   "metadata": {
    "scrolled": true
   },
   "outputs": [],
   "source": [
    "# # X_rct, Y_rct, T_rct, X_obs, Y_obs, T_obs, X_not_rct, Y_not_rct, T_not_rct = _generate_rct_obs(X_rural,\n",
    "#                                                                                               Y_rural,\n",
    "#                                                                                               T_rural,\n",
    "#                                                                                               X_urban,\n",
    "#                                                                                              Y_urban,\n",
    "#                                                                                              T_urban)"
   ]
  },
  {
   "cell_type": "code",
   "execution_count": 99,
   "metadata": {},
   "outputs": [
    {
     "data": {
      "text/plain": [
       "((1406,), (1407,))"
      ]
     },
     "execution_count": 99,
     "metadata": {},
     "output_type": "execute_result"
    }
   ],
   "source": [
    "Y_rural_not_RCT.shape, Y_urban.shape"
   ]
  },
  {
   "cell_type": "code",
   "execution_count": 100,
   "metadata": {},
   "outputs": [],
   "source": [
    "X_not_rct = np.vstack((X_rural_not_RCT, X_urban))\n",
    "Y_not_rct = np.hstack((Y_rural_not_RCT, Y_urban))\n",
    "T_not_rct = np.hstack((T_rural_not_rct, T_urban))"
   ]
  },
  {
   "cell_type": "code",
   "execution_count": 101,
   "metadata": {},
   "outputs": [
    {
     "data": {
      "text/plain": [
       "((2813,), (2813,))"
      ]
     },
     "execution_count": 101,
     "metadata": {},
     "output_type": "execute_result"
    }
   ],
   "source": [
    "Y_not_rct.shape, T_not_rct.shape"
   ]
  },
  {
   "cell_type": "code",
   "execution_count": null,
   "metadata": {},
   "outputs": [],
   "source": []
  },
  {
   "cell_type": "code",
   "execution_count": 102,
   "metadata": {},
   "outputs": [
    {
     "data": {
      "text/plain": [
       "((289,), (583,))"
      ]
     },
     "execution_count": 102,
     "metadata": {},
     "output_type": "execute_result"
    }
   ],
   "source": [
    "Y_obs_treated_rural.shape, Y_rural_not_RCT_treated.shape"
   ]
  },
  {
   "cell_type": "code",
   "execution_count": 103,
   "metadata": {},
   "outputs": [
    {
     "data": {
      "text/plain": [
       "(1405,)"
      ]
     },
     "execution_count": 103,
     "metadata": {},
     "output_type": "execute_result"
    }
   ],
   "source": [
    "Y_rct.shape"
   ]
  },
  {
   "cell_type": "code",
   "execution_count": 104,
   "metadata": {},
   "outputs": [
    {
     "data": {
      "text/plain": [
       "(536.2329774614473, 531.0579121540312, 540.0987829935199)"
      ]
     },
     "execution_count": 104,
     "metadata": {},
     "output_type": "execute_result"
    }
   ],
   "source": [
    "np.mean(Y_rct), np.mean(Y_obs) , np.mean(Y_all)"
   ]
  },
  {
   "cell_type": "code",
   "execution_count": 105,
   "metadata": {},
   "outputs": [
    {
     "data": {
      "text/plain": [
       "(38.938586200915196, 39.96875809969279, 39.467645802145995)"
      ]
     },
     "execution_count": 105,
     "metadata": {},
     "output_type": "execute_result"
    }
   ],
   "source": [
    "np.std(Y_rct), np.std(Y_rural_not_RCT) , np.std(Y_rural)"
   ]
  },
  {
   "cell_type": "code",
   "execution_count": 106,
   "metadata": {},
   "outputs": [
    {
     "name": "stdout",
     "output_type": "stream",
     "text": [
      "[(1405, 310), (1406, 310), (1405,), (1406,), (1405,), (1406,)]\n"
     ]
    }
   ],
   "source": [
    "print([item.shape for item in (X_rct, X_rural_not_RCT, Y_rct, Y_rural_not_RCT, T_rct, T_rural_not_rct)])"
   ]
  },
  {
   "cell_type": "code",
   "execution_count": 107,
   "metadata": {},
   "outputs": [
    {
     "name": "stdout",
     "output_type": "stream",
     "text": [
      "X_obs.shape (2216, 310)\n",
      "Y_obs.shape (2216,)\n",
      "T_obs.shape (2216,)\n",
      "X_rct.shape (1405, 310)\n",
      "Y_rct.shape (1405,)\n",
      "T_rct.shape (1405,)\n"
     ]
    }
   ],
   "source": [
    "assert X_obs.shape[0] == Y_obs.shape[0], (X_obs.shape[0], Y_obs.shape[0])\n",
    "assert X_obs.shape[0] == T_obs.shape[0], (X_obs.shape[0], T_obs.shape[0])\n",
    "print('X_obs.shape', X_obs.shape)\n",
    "print('Y_obs.shape', Y_obs.shape)\n",
    "print('T_obs.shape', T_obs.shape)\n",
    "\n",
    "assert X_rct.shape[0] == Y_rct.shape[0]\n",
    "assert X_rct.shape[0] == T_rct.shape[0]\n",
    "print('X_rct.shape', X_rct.shape)\n",
    "print('Y_rct.shape', Y_rct.shape)\n",
    "print('T_rct.shape', T_rct.shape)\n",
    "\n"
   ]
  },
  {
   "cell_type": "code",
   "execution_count": 108,
   "metadata": {},
   "outputs": [
    {
     "name": "stdout",
     "output_type": "stream",
     "text": [
      "treated std 40.31223525890279\n",
      "control std 37.52658889734035\n"
     ]
    }
   ],
   "source": [
    "print('treated std', np.std(Y_all[T_all==1]))\n",
    "print('control std', np.std(Y_all[T_all==0]))"
   ]
  },
  {
   "cell_type": "code",
   "execution_count": null,
   "metadata": {},
   "outputs": [],
   "source": []
  },
  {
   "cell_type": "markdown",
   "metadata": {},
   "source": [
    "# ALL GROUND TRUTH"
   ]
  },
  {
   "cell_type": "code",
   "execution_count": 109,
   "metadata": {},
   "outputs": [],
   "source": [
    "_propensity_all = np.sum(T_all)/T_all.shape[0]"
   ]
  },
  {
   "cell_type": "code",
   "execution_count": 110,
   "metadata": {},
   "outputs": [],
   "source": [
    "_propensity_all = np.sum(T_all)/T_all.shape[0]\n",
    "gt_adjusted_ite_all = ite_adjusted_outcome(Y_all, T_all, _propensity= _propensity_all)\n",
    "gt_adjusted_ite_obs = ite_adjusted_outcome(Y_obs, T_obs, _propensity= _propensity_all)\n",
    "gt_adjusted_ite_rct = ite_adjusted_outcome(Y_rct, T_rct, _propensity= _propensity_all)\n",
    "gt_adjusted_ite_urban = ite_adjusted_outcome(Y_urban, T_urban, _propensity= _propensity_all)"
   ]
  },
  {
   "cell_type": "code",
   "execution_count": null,
   "metadata": {},
   "outputs": [],
   "source": []
  },
  {
   "cell_type": "code",
   "execution_count": 146,
   "metadata": {},
   "outputs": [
    {
     "ename": "NameError",
     "evalue": "name '_eta_model_2step' is not defined",
     "output_type": "error",
     "traceback": [
      "\u001b[0;31m---------------------------------------------------------------------------\u001b[0m",
      "\u001b[0;31mNameError\u001b[0m                                 Traceback (most recent call last)",
      "\u001b[0;32m<ipython-input-146-acda8b433ee0>\u001b[0m in \u001b[0;36m<module>\u001b[0;34m\u001b[0m\n\u001b[1;32m      3\u001b[0m                                            _propensity= _propensity_all)\n\u001b[1;32m      4\u001b[0m \u001b[0;34m\u001b[0m\u001b[0m\n\u001b[0;32m----> 5\u001b[0;31m \u001b[0mrmse\u001b[0m\u001b[0;34m(\u001b[0m\u001b[0mgt_adjusted_not_rct\u001b[0m\u001b[0;34m,\u001b[0m \u001b[0m_eta_model_2step\u001b[0m\u001b[0;34m.\u001b[0m\u001b[0mpredict\u001b[0m\u001b[0;34m(\u001b[0m\u001b[0mX_not_rct\u001b[0m\u001b[0;34m)\u001b[0m \u001b[0;34m+\u001b[0m \u001b[0momega_not_rct_pred_2step\u001b[0m\u001b[0;34m)\u001b[0m\u001b[0;34m\u001b[0m\u001b[0m\n\u001b[0m",
      "\u001b[0;31mNameError\u001b[0m: name '_eta_model_2step' is not defined"
     ]
    }
   ],
   "source": [
    "gt_adjusted_not_rct = ite_adjusted_outcome(Y_not_rct, \n",
    "                                           T_not_rct,\n",
    "                                           _propensity= _propensity_all)\n",
    "\n",
    "rmse(gt_adjusted_not_rct, _eta_model_2step.predict(X_not_rct) + omega_not_rct_pred_2step)"
   ]
  },
  {
   "cell_type": "code",
   "execution_count": 112,
   "metadata": {},
   "outputs": [
    {
     "ename": "NameError",
     "evalue": "name '_eta_model_2step' is not defined",
     "output_type": "error",
     "traceback": [
      "\u001b[0;31m---------------------------------------------------------------------------\u001b[0m",
      "\u001b[0;31mNameError\u001b[0m                                 Traceback (most recent call last)",
      "\u001b[0;32m<ipython-input-112-ca57d5505a2d>\u001b[0m in \u001b[0;36m<module>\u001b[0;34m\u001b[0m\n\u001b[0;32m----> 1\u001b[0;31m \u001b[0mplt\u001b[0m\u001b[0;34m.\u001b[0m\u001b[0mhist\u001b[0m\u001b[0;34m(\u001b[0m\u001b[0m_eta_model_2step\u001b[0m\u001b[0;34m.\u001b[0m\u001b[0mpredict\u001b[0m\u001b[0;34m(\u001b[0m\u001b[0mX_not_rct\u001b[0m\u001b[0;34m)\u001b[0m\u001b[0;34m,\u001b[0m \u001b[0mbins\u001b[0m \u001b[0;34m=\u001b[0m \u001b[0;36m50\u001b[0m\u001b[0;34m)\u001b[0m\u001b[0;34m\u001b[0m\u001b[0m\n\u001b[0m\u001b[1;32m      2\u001b[0m \u001b[0mplt\u001b[0m\u001b[0;34m.\u001b[0m\u001b[0mshow\u001b[0m\u001b[0;34m(\u001b[0m\u001b[0;34m)\u001b[0m\u001b[0;34m\u001b[0m\u001b[0m\n\u001b[1;32m      3\u001b[0m \u001b[0;34m\u001b[0m\u001b[0m\n\u001b[1;32m      4\u001b[0m \u001b[0mplt\u001b[0m\u001b[0;34m.\u001b[0m\u001b[0mhist\u001b[0m\u001b[0;34m(\u001b[0m\u001b[0momega_not_rct_pred_2step\u001b[0m\u001b[0;34m,\u001b[0m \u001b[0mbins\u001b[0m \u001b[0;34m=\u001b[0m \u001b[0;36m50\u001b[0m\u001b[0;34m)\u001b[0m\u001b[0;34m\u001b[0m\u001b[0m\n\u001b[1;32m      5\u001b[0m \u001b[0mplt\u001b[0m\u001b[0;34m.\u001b[0m\u001b[0mshow\u001b[0m\u001b[0;34m(\u001b[0m\u001b[0;34m)\u001b[0m\u001b[0;34m\u001b[0m\u001b[0m\n",
      "\u001b[0;31mNameError\u001b[0m: name '_eta_model_2step' is not defined"
     ]
    }
   ],
   "source": [
    "plt.hist(_eta_model_2step.predict(X_not_rct), bins = 50)\n",
    "plt.show()\n",
    "\n",
    "plt.hist(omega_not_rct_pred_2step, bins = 50)\n",
    "plt.show()"
   ]
  },
  {
   "cell_type": "code",
   "execution_count": 113,
   "metadata": {},
   "outputs": [
    {
     "name": "stdout",
     "output_type": "stream",
     "text": [
      "GROUND TRUTH adjusted ite\n",
      "CF on OBS vs. 2 step with CF on ALL\n"
     ]
    },
    {
     "ename": "NameError",
     "evalue": "name '_ite_rmse' is not defined",
     "output_type": "error",
     "traceback": [
      "\u001b[0;31m---------------------------------------------------------------------------\u001b[0m",
      "\u001b[0;31mNameError\u001b[0m                                 Traceback (most recent call last)",
      "\u001b[0;32m<ipython-input-113-4da30547bbc4>\u001b[0m in \u001b[0;36m<module>\u001b[0;34m\u001b[0m\n\u001b[1;32m      2\u001b[0m \u001b[0mprint\u001b[0m\u001b[0;34m(\u001b[0m\u001b[0;34m'CF on OBS vs. 2 step with CF on ALL'\u001b[0m\u001b[0;34m)\u001b[0m\u001b[0;34m\u001b[0m\u001b[0m\n\u001b[1;32m      3\u001b[0m \u001b[0;34m\u001b[0m\u001b[0m\n\u001b[0;32m----> 4\u001b[0;31m _ite_rmse(gt_adjusted_not_rct, # trained on whole dataset. ground truth\n\u001b[0m\u001b[1;32m      5\u001b[0m           \u001b[0m_baseline_cf_OBS_ite_not_rct\u001b[0m\u001b[0;34m,\u001b[0m \u001b[0;31m# trained only on obs data after the confounding\u001b[0m\u001b[0;34m\u001b[0m\u001b[0m\n\u001b[1;32m      6\u001b[0m           \u001b[0m_eta_model_2step\u001b[0m\u001b[0;34m.\u001b[0m\u001b[0mpredict\u001b[0m\u001b[0;34m(\u001b[0m\u001b[0mX_not_rct\u001b[0m\u001b[0;34m)\u001b[0m\u001b[0;34m,\u001b[0m\u001b[0;34m\u001b[0m\u001b[0m\n",
      "\u001b[0;31mNameError\u001b[0m: name '_ite_rmse' is not defined"
     ]
    }
   ],
   "source": [
    "print('GROUND TRUTH adjusted ite')\n",
    "print('CF on OBS vs. 2 step with CF on ALL')\n",
    "\n",
    "_ite_rmse(gt_adjusted_not_rct, # trained on whole dataset. ground truth\n",
    "          _baseline_cf_OBS_ite_not_rct, # trained only on obs data after the confounding\n",
    "          _eta_model_2step.predict(X_not_rct),\n",
    "          omega_not_rct_pred_2step)\n",
    "\n",
    "print()\n",
    "print('GROUND TRUTH adjusted ite')\n",
    "print('CF on RCT vs. 2 step with CF on ALL')\n",
    "\n",
    "_ite_rmse(gt_adjusted_not_rct, # trained on whole dataset. ground truth\n",
    "          _baseline_cf_RCT_ite_not_rct, # trained only on obs data after the confounding\n",
    "          _eta_model_2step.predict(X_not_rct),\n",
    "          omega_not_rct_pred_2step)"
   ]
  },
  {
   "cell_type": "code",
   "execution_count": 115,
   "metadata": {},
   "outputs": [],
   "source": [
    "gt_cf_all_ite_model = cf(X_all,\n",
    "                         Y_all.reshape(-1,1),\n",
    "                         T_all.astype(np.int).reshape(-1,1),\n",
    "                         num_trees=5000,\n",
    "                         tune_parameters=True,\n",
    "                         num_threads = _cf_num_threads)\n",
    "# baseline_ite_model = cf(X_all, Y_all.reshape(-1,1), T_all.astype(np.int).reshape(-1,1), num_trees=2000)\n",
    "gt_cf_all_ite_obs = np.array(grf.predict_causal_forest(gt_cf_all_ite_model, X_obs,\n",
    "                                                       num_threads = _cf_num_threads)[0]).ravel()\n",
    "gt_cf_all_ite_rct = np.array(grf.predict_causal_forest(gt_cf_all_ite_model, X_rct,\n",
    "                                                       num_threads = _cf_num_threads)[0]).ravel()\n",
    "gt_cf_all_ite_all = np.array(grf.predict_causal_forest(gt_cf_all_ite_model, X_all,\n",
    "                                                       num_threads = _cf_num_threads)[0]).ravel()\n",
    "gt_cf_all_ite_urban = np.array(grf.predict_causal_forest(gt_cf_all_ite_model, X_urban,\n",
    "                                                       num_threads = _cf_num_threads)[0]).ravel()"
   ]
  },
  {
   "cell_type": "code",
   "execution_count": 116,
   "metadata": {},
   "outputs": [],
   "source": [
    "# get_best_model_from_gridcv(X_all,Y_all, reg_parameter_pairs + linear_reg_parameter_pairs, verbose=1)"
   ]
  },
  {
   "cell_type": "code",
   "execution_count": 117,
   "metadata": {
    "scrolled": true
   },
   "outputs": [
    {
     "name": "stdout",
     "output_type": "stream",
     "text": [
      "Fitting 2 folds for each of 18 candidates, totalling 36 fits\n"
     ]
    },
    {
     "name": "stderr",
     "output_type": "stream",
     "text": [
      "[Parallel(n_jobs=10)]: Using backend LokyBackend with 10 concurrent workers.\n",
      "[Parallel(n_jobs=10)]: Done  36 out of  36 | elapsed:    3.8s finished\n"
     ]
    },
    {
     "name": "stdout",
     "output_type": "stream",
     "text": [
      "Fitting 2 folds for each of 15 candidates, totalling 30 fits\n"
     ]
    },
    {
     "name": "stderr",
     "output_type": "stream",
     "text": [
      "[Parallel(n_jobs=10)]: Using backend LokyBackend with 10 concurrent workers.\n",
      "[Parallel(n_jobs=10)]: Done  11 out of  30 | elapsed:    0.2s remaining:    0.3s\n",
      "[Parallel(n_jobs=10)]: Done  30 out of  30 | elapsed:    2.3s finished\n",
      "[Parallel(n_jobs=10)]: Using backend LokyBackend with 10 concurrent workers.\n",
      "[Parallel(n_jobs=10)]: Done   6 out of  12 | elapsed:    0.0s remaining:    0.0s\n"
     ]
    },
    {
     "name": "stdout",
     "output_type": "stream",
     "text": [
      "Fitting 2 folds for each of 6 candidates, totalling 12 fits\n",
      "Fitting 2 folds for each of 45 candidates, totalling 90 fits\n"
     ]
    },
    {
     "name": "stderr",
     "output_type": "stream",
     "text": [
      "[Parallel(n_jobs=10)]: Done  12 out of  12 | elapsed:    0.1s finished\n",
      "[Parallel(n_jobs=10)]: Using backend LokyBackend with 10 concurrent workers.\n",
      "[Parallel(n_jobs=10)]: Done  90 out of  90 | elapsed:    6.9s finished\n"
     ]
    },
    {
     "name": "stdout",
     "output_type": "stream",
     "text": [
      "Fitting 2 folds for each of 8 candidates, totalling 16 fits\n"
     ]
    },
    {
     "name": "stderr",
     "output_type": "stream",
     "text": [
      "[Parallel(n_jobs=10)]: Using backend LokyBackend with 10 concurrent workers.\n",
      "[Parallel(n_jobs=10)]: Done  14 out of  16 | elapsed:    0.8s remaining:    0.1s\n",
      "[Parallel(n_jobs=10)]: Done  16 out of  16 | elapsed:    0.8s finished\n"
     ]
    },
    {
     "name": "stdout",
     "output_type": "stream",
     "text": [
      "RandomForestRegressor(bootstrap=True, criterion='mse', max_depth=None,\n",
      "           max_features='auto', max_leaf_nodes=None,\n",
      "           min_impurity_decrease=0.0, min_impurity_split=None,\n",
      "           min_samples_leaf=1, min_samples_split=2,\n",
      "           min_weight_fraction_leaf=0.0, n_estimators=400, n_jobs=None,\n",
      "           oob_score=False, random_state=None, verbose=0, warm_start=False) val rmse:12.415891120397207\n"
     ]
    }
   ],
   "source": [
    "gt_f1_obs_ite_model = get_best_model_from_gridcv(X_all[T_all==1],Y_all[T_all==1] , reg_parameter_pairs + linear_reg_parameter_pairs, verbose=1)\n",
    "gt_f0_obs_ite_model = get_best_model_from_gridcv(X_all[T_all==0],Y_all[T_all==0] , reg_parameter_pairs + linear_reg_parameter_pairs)\n",
    "# baseline_ite_model = cf(X_all, Y_all.reshape(-1,1), T_all.astype(np.int).reshape(-1,1), num_trees=2000)\n",
    "\n",
    "gt_regressed_ite_obs = gt_f1_obs_ite_model.predict(X_obs).ravel() - gt_f0_obs_ite_model.predict(X_obs).ravel()\n",
    "gt_regressed_ite_rct = gt_f1_obs_ite_model.predict(X_rct).ravel() - gt_f0_obs_ite_model.predict(X_rct).ravel()\n",
    "gt_regressed_ite_all = gt_f1_obs_ite_model.predict(X_all).ravel() - gt_f0_obs_ite_model.predict(X_all).ravel()\n",
    "gt_regressed_ite_urban = gt_f1_obs_ite_model.predict(X_urban).ravel() - gt_f0_obs_ite_model.predict(X_urban).ravel()\n",
    "# _baseline_adjusted_ite_rct = _baseline_adjusted_obs_ite_model.predict(X_rct)\n",
    "# _baseline_adjusted_ite_all = _baseline_adjusted_obs_ite_model.predict(X_all)"
   ]
  },
  {
   "cell_type": "code",
   "execution_count": 118,
   "metadata": {},
   "outputs": [
    {
     "data": {
      "text/plain": [
       "(1.623257167374289, 79.20299797687596, 24.914851374981847)"
      ]
     },
     "execution_count": 118,
     "metadata": {},
     "output_type": "execute_result"
    }
   ],
   "source": [
    "np.std(gt_cf_all_ite_all), np.std(gt_adjusted_ite_all), np.std(gt_regressed_ite_obs)"
   ]
  },
  {
   "cell_type": "code",
   "execution_count": 119,
   "metadata": {},
   "outputs": [],
   "source": [
    "# IF BART AS A BASELINE, then use BART THROUGHOUT"
   ]
  },
  {
   "cell_type": "code",
   "execution_count": 120,
   "metadata": {},
   "outputs": [
    {
     "data": {
      "image/png": "[encoded data removed]",
      "text/plain": [
       "<Figure size 432x288 with 1 Axes>"
      ]
     },
     "metadata": {
      "needs_background": "light"
     },
     "output_type": "display_data"
    },
    {
     "data": {
      "image/png": "[encoded data removed]",
      "text/plain": [
       "<Figure size 432x288 with 1 Axes>"
      ]
     },
     "metadata": {
      "needs_background": "light"
     },
     "output_type": "display_data"
    }
   ],
   "source": [
    "# plt.hist(gt_regressed_ite_all, bins=30,label='simple regression')\n",
    "# plt.legend()\n",
    "# plt.show()\n",
    "\n",
    "plt.hist(gt_adjusted_ite_all, bins=30,label='Y_adjusted')\n",
    "plt.legend()\n",
    "plt.show()\n",
    "\n",
    "plt.hist(gt_cf_all_ite_all, bins=30,label='CF on whole dataset')\n",
    "plt.legend()\n",
    "plt.show()"
   ]
  },
  {
   "cell_type": "markdown",
   "metadata": {},
   "source": [
    "# BASELINES"
   ]
  },
  {
   "cell_type": "markdown",
   "metadata": {},
   "source": [
    "## baseline: fit Y_adj on the obs data"
   ]
  },
  {
   "cell_type": "code",
   "execution_count": 121,
   "metadata": {},
   "outputs": [],
   "source": [
    "#  _baseline_adjusted_obs_ite_model = get_best_model_from_gridcv(X_obs, \n",
    "#                                                                ite_adjusted_outcome(Y_obs, \n",
    "#                                                                                     T_obs,\n",
    "#                                                                                     _propensity=_propensity_all), \n",
    "#                                                                reg_parameter_pairs,\n",
    "#                                                                verbose=1)\n",
    "# # baseline_ite_model = cf(X_all, Y_all.reshape(-1,1), T_all.astype(np.int).reshape(-1,1), num_trees=2000)\n",
    "# _baseline_adjusted_ite_obs = _baseline_adjusted_obs_ite_model.predict(X_obs)\n",
    "# _baseline_adjusted_ite_rct = _baseline_adjusted_obs_ite_model.predict(X_rct)\n",
    "# _baseline_adjusted_ite_all = _baseline_adjusted_obs_ite_model.predict(X_all)\n",
    "# _baseline_adjusted_ite_urban = _baseline_adjusted_obs_ite_model.predict(X_urban)"
   ]
  },
  {
   "cell_type": "code",
   "execution_count": 122,
   "metadata": {},
   "outputs": [
    {
     "ename": "NameError",
     "evalue": "name '_baseline_adjusted_ite_obs' is not defined",
     "output_type": "error",
     "traceback": [
      "\u001b[0;31m---------------------------------------------------------------------------\u001b[0m",
      "\u001b[0;31mNameError\u001b[0m                                 Traceback (most recent call last)",
      "\u001b[0;32m<ipython-input-122-9ea315c9e30e>\u001b[0m in \u001b[0;36m<module>\u001b[0;34m\u001b[0m\n\u001b[0;32m----> 1\u001b[0;31m \u001b[0mnp\u001b[0m\u001b[0;34m.\u001b[0m\u001b[0mstd\u001b[0m\u001b[0;34m(\u001b[0m\u001b[0mite_adjusted_outcome\u001b[0m\u001b[0;34m(\u001b[0m\u001b[0mY_obs\u001b[0m\u001b[0;34m,\u001b[0m \u001b[0mT_obs\u001b[0m\u001b[0;34m,\u001b[0m \u001b[0m_propensity\u001b[0m\u001b[0;34m=\u001b[0m\u001b[0m_propensity_all\u001b[0m\u001b[0;34m)\u001b[0m\u001b[0;34m)\u001b[0m\u001b[0;34m,\u001b[0m \u001b[0mrmse\u001b[0m\u001b[0;34m(\u001b[0m\u001b[0mite_adjusted_outcome\u001b[0m\u001b[0;34m(\u001b[0m\u001b[0mY_obs\u001b[0m\u001b[0;34m,\u001b[0m \u001b[0mT_obs\u001b[0m\u001b[0;34m,\u001b[0m \u001b[0m_propensity\u001b[0m\u001b[0;34m=\u001b[0m\u001b[0m_propensity_all\u001b[0m\u001b[0;34m)\u001b[0m\u001b[0;34m,\u001b[0m \u001b[0m_baseline_adjusted_ite_obs\u001b[0m\u001b[0;34m)\u001b[0m\u001b[0;34m\u001b[0m\u001b[0m\n\u001b[0m",
      "\u001b[0;31mNameError\u001b[0m: name '_baseline_adjusted_ite_obs' is not defined"
     ]
    }
   ],
   "source": [
    "np.std(ite_adjusted_outcome(Y_obs, T_obs, _propensity=_propensity_all)), rmse(ite_adjusted_outcome(Y_obs, T_obs, _propensity=_propensity_all), _baseline_adjusted_ite_obs)"
   ]
  },
  {
   "cell_type": "code",
   "execution_count": 123,
   "metadata": {},
   "outputs": [
    {
     "ename": "NameError",
     "evalue": "name '_baseline_adjusted_ite_all' is not defined",
     "output_type": "error",
     "traceback": [
      "\u001b[0;31m---------------------------------------------------------------------------\u001b[0m",
      "\u001b[0;31mNameError\u001b[0m                                 Traceback (most recent call last)",
      "\u001b[0;32m<ipython-input-123-4e0d5fb4ed0d>\u001b[0m in \u001b[0;36m<module>\u001b[0;34m\u001b[0m\n\u001b[0;32m----> 1\u001b[0;31m \u001b[0mplt\u001b[0m\u001b[0;34m.\u001b[0m\u001b[0mhist\u001b[0m\u001b[0;34m(\u001b[0m\u001b[0m_baseline_adjusted_ite_all\u001b[0m\u001b[0;34m,\u001b[0m \u001b[0mbins\u001b[0m\u001b[0;34m=\u001b[0m\u001b[0;36m50\u001b[0m\u001b[0;34m,\u001b[0m \u001b[0mlabel\u001b[0m\u001b[0;34m=\u001b[0m\u001b[0;34m'Y_adj, fit on OBS, pred on OBS'\u001b[0m\u001b[0;34m)\u001b[0m\u001b[0;34m\u001b[0m\u001b[0m\n\u001b[0m\u001b[1;32m      2\u001b[0m \u001b[0mplt\u001b[0m\u001b[0;34m.\u001b[0m\u001b[0mlegend\u001b[0m\u001b[0;34m(\u001b[0m\u001b[0;34m)\u001b[0m\u001b[0;34m\u001b[0m\u001b[0m\n\u001b[1;32m      3\u001b[0m \u001b[0mplt\u001b[0m\u001b[0;34m.\u001b[0m\u001b[0mshow\u001b[0m\u001b[0;34m(\u001b[0m\u001b[0;34m)\u001b[0m\u001b[0;34m\u001b[0m\u001b[0m\n",
      "\u001b[0;31mNameError\u001b[0m: name '_baseline_adjusted_ite_all' is not defined"
     ]
    }
   ],
   "source": [
    "plt.hist(_baseline_adjusted_ite_all, bins=50, label='Y_adj, fit on OBS, pred on OBS')\n",
    "plt.legend()\n",
    "plt.show()\n"
   ]
  },
  {
   "cell_type": "markdown",
   "metadata": {},
   "source": [
    "# baseline: CF (2000 trees) only on OBS"
   ]
  },
  {
   "cell_type": "code",
   "execution_count": 124,
   "metadata": {},
   "outputs": [],
   "source": [
    "_ite_obs_model = cf(X_obs,\n",
    "               Y_obs.reshape(-1,1),\n",
    "               T_obs.astype(np.int).reshape(-1,1), num_trees=5000, tune_parameters=True)\n",
    "# baseline_ite_model = cf(X_all, Y_all.reshape(-1,1), T_all.astype(np.int).reshape(-1,1), num_trees=2000)\n",
    "_baseline_cf_OBS_ite_obs = np.array(grf.predict_causal_forest(_ite_obs_model,  X_obs)[0]).ravel()\n",
    "_baseline_cf_OBS_ite_rct = np.array(grf.predict_causal_forest(_ite_obs_model,  X_rct)[0]).ravel()\n",
    "_baseline_cf_OBS_ite_all = np.array(grf.predict_causal_forest(_ite_obs_model,  X_all)[0]).ravel()\n",
    "_baseline_cf_OBS_ite_urban = np.array(grf.predict_causal_forest(_ite_obs_model,  X_urban)[0]).ravel()"
   ]
  },
  {
   "cell_type": "markdown",
   "metadata": {},
   "source": [
    "# baseline: CF (2000 trees) only on RCT"
   ]
  },
  {
   "cell_type": "code",
   "execution_count": 125,
   "metadata": {},
   "outputs": [],
   "source": [
    "_ite_rct_model = cf(X_rct,\n",
    "               Y_rct.reshape(-1,1),\n",
    "               T_rct.astype(np.int).reshape(-1,1), num_trees=5000, tune_parameters=True)\n",
    "# baseline_ite_model = cf(X_all, Y_all.reshape(-1,1), T_all.astype(np.int).reshape(-1,1), num_trees=2000)\n",
    "_baseline_cf_rct_ite_obs = np.array(grf.predict_causal_forest(_ite_rct_model,  X_obs)[0]).ravel()\n",
    "_baseline_cf_rct_ite_rct = np.array(grf.predict_causal_forest(_ite_rct_model,  X_rct)[0]).ravel()\n",
    "_baseline_cf_rct_ite_all = np.array(grf.predict_causal_forest(_ite_rct_model,  X_all)[0]).ravel()\n",
    "_baseline_cf_rct_ite_urban = np.array(grf.predict_causal_forest(_ite_rct_model,  X_urban)[0]).ravel()"
   ]
  },
  {
   "cell_type": "code",
   "execution_count": 126,
   "metadata": {},
   "outputs": [],
   "source": [
    "def _ite_rmse(ite, _baseline_ite, eta_pred, omega_pred):\n",
    "    assert(eta_pred.shape ==  omega_pred.shape)\n",
    "    assert(ite.shape ==  _baseline_ite.shape)\n",
    "    assert(ite.shape ==  omega_pred.shape)\n",
    "    print('method 1 ite rmse: ', rmse(ite, _baseline_ite))\n",
    "    print('method 2 ite rmse: ', rmse(ite, eta_pred + omega_pred))"
   ]
  },
  {
   "cell_type": "code",
   "execution_count": 127,
   "metadata": {},
   "outputs": [],
   "source": [
    "def run_allregression_method(X_rct, Y_rct, T_rct, X_obs, Y_obs, T_obs):\n",
    "    assert(X_rct.shape[0] == Y_rct.shape[0])\n",
    "    assert(T_rct.shape[0] == Y_rct.shape[0])\n",
    "    assert(X_obs.shape[0] == Y_obs.shape[0])\n",
    "    assert(T_obs.shape[0] == Y_obs.shape[0])\n",
    "    # ^^^ IGNORE. just sanity checks \n",
    "    \n",
    "    # 2 regressions on the obs data for OMEGA\n",
    "    _best_f1_reg = get_best_model_from_gridcv(X_obs[T_obs==1], Y_obs[T_obs==1], reg_parameter_pairs)\n",
    "    _best_f0_reg = get_best_model_from_gridcv(X_obs[T_obs==0], Y_obs[T_obs==0], reg_parameter_pairs)\n",
    "    omega_obs_pred = _best_f1_reg.predict(X_obs).ravel() - _best_f0_reg.predict(X_obs).ravel() \n",
    "    omega_all_pred = _best_f1_reg.predict(X_all).ravel() - _best_f0_reg.predict(X_all).ravel() \n",
    "    omega_notrct_pred = _best_f1_reg.predict(X_not_rct).ravel() - _best_f0_reg.predict(X_not_rct).ravel() \n",
    "    \n",
    "    # IGNORE. just sanity checks \n",
    "    assert(Y_obs.shape == omega_obs_pred.shape)\n",
    "    \n",
    "    # 2 regressions on the rct data for TAU\n",
    "    # NOTE: this is only linear regs\n",
    "    _best_f1_rct_reg = get_best_model_from_gridcv(X_rct[T_rct==1], Y_rct[T_rct==1], reg_parameter_pairs)\n",
    "    _best_f0_rct_reg = get_best_model_from_gridcv(X_rct[T_rct==0], Y_rct[T_rct==0], reg_parameter_pairs)\n",
    "    \n",
    "    omega_rct_pred = _best_f1_reg.predict(X_rct).ravel() - _best_f0_reg.predict(X_rct).ravel()\n",
    "    assert(omega_rct_pred.shape == Y_rct.shape)\n",
    "    eta_rct_pred = _best_f1_rct_reg.predict(X_rct).ravel() - _best_f0_rct_reg.predict(X_rct).ravel() - omega_rct_pred\n",
    "    \n",
    "    _best_eta_reg = get_best_model_from_gridcv(X_rct, eta_rct_pred, linear_reg_parameter_pairs)\n",
    "    \n",
    "    return copy.deepcopy(_best_eta_reg), omega_obs_pred, omega_all_pred, omega_notrct_pred"
   ]
  },
  {
   "cell_type": "code",
   "execution_count": 128,
   "metadata": {
    "scrolled": true
   },
   "outputs": [
    {
     "name": "stderr",
     "output_type": "stream",
     "text": [
      "/scratch/apm470/pfrl-env/lib/python3.6/site-packages/sklearn/model_selection/_search.py:841: DeprecationWarning: The default of the `iid` parameter will change from True to False in version 0.22 and will be removed in 0.24. This will change numeric results when test-set sizes are unequal.\n",
      "  DeprecationWarning)\n"
     ]
    }
   ],
   "source": [
    "_eta_pred_model_allreg, _omega_obs_pred_allreg, _omega_all_pred_allreg, _omega_notrct_pred_allreg = run_allregression_method(X_rct, Y_rct, T_rct, X_obs,  Y_obs, T_obs)\n",
    "\n"
   ]
  },
  {
   "cell_type": "code",
   "execution_count": 129,
   "metadata": {},
   "outputs": [
    {
     "name": "stdout",
     "output_type": "stream",
     "text": [
      "GROUND TRUTH regressed ITE\n",
      "\n",
      "CF on OBS vs. all regressions on OBS\n",
      "method 1 ite rmse:  30.657201635341124\n",
      "method 2 ite rmse:  22.114358412706025\n",
      "\n",
      "CF on OBS vs. all regressions on ALL\n",
      "method 1 ite rmse:  37.54374409632222\n",
      "method 2 ite rmse:  23.66542082214918\n",
      "\n",
      "CF on RCT vs. all regressions on ALL\n",
      "method 1 ite rmse:  25.395255251410674\n",
      "method 2 ite rmse:  22.114358412706025\n"
     ]
    }
   ],
   "source": [
    "print('GROUND TRUTH regressed ITE')\n",
    "print()\n",
    "print('CF on OBS vs. all regressions on OBS')\n",
    "_ite_rmse(gt_regressed_ite_obs, # trained on whole dataset. ground truth\n",
    "          _baseline_cf_OBS_ite_obs, # trained only on obs data after the confounding\n",
    "          _eta_pred_model_allreg.predict(X_obs), \n",
    "          _omega_obs_pred_allreg)\n",
    "print()\n",
    "print('CF on OBS vs. all regressions on ALL')\n",
    "\n",
    "_ite_rmse(gt_regressed_ite_all, # trained on whole dataset. ground truth\n",
    "          _baseline_cf_OBS_ite_all, # trained only on obs data after the confounding\n",
    "          _eta_pred_model_allreg.predict(X_all), \n",
    "          _omega_all_pred_allreg)\n",
    "\n",
    "print()\n",
    "print('CF on RCT vs. all regressions on ALL')\n",
    "\n",
    "_ite_rmse(gt_regressed_ite_obs, # trained on whole dataset. ground truth\n",
    "          _baseline_cf_rct_ite_obs, # trained only on obs data after the confounding\n",
    "          _eta_pred_model_allreg.predict(X_obs), \n",
    "          _omega_obs_pred_allreg)"
   ]
  },
  {
   "cell_type": "code",
   "execution_count": 130,
   "metadata": {},
   "outputs": [
    {
     "data": {
      "text/plain": [
       "('CF on all vs. Y_adj, on all', 79.14075259074676)"
      ]
     },
     "execution_count": 130,
     "metadata": {},
     "output_type": "execute_result"
    }
   ],
   "source": [
    "'CF on all vs. Y_adj, on all', rmse(gt_adjusted_ite_all, gt_cf_all_ite_all)"
   ]
  },
  {
   "cell_type": "code",
   "execution_count": 131,
   "metadata": {},
   "outputs": [
    {
     "data": {
      "text/plain": [
       "('CF on all vs. Y_adj, on OBS', 69.49335878476855)"
      ]
     },
     "execution_count": 131,
     "metadata": {},
     "output_type": "execute_result"
    }
   ],
   "source": [
    "'CF on all vs. Y_adj, on OBS', rmse(gt_adjusted_ite_obs, gt_cf_all_ite_obs)"
   ]
  },
  {
   "cell_type": "code",
   "execution_count": 132,
   "metadata": {},
   "outputs": [
    {
     "name": "stdout",
     "output_type": "stream",
     "text": [
      "GROUND TRUTH Y_adj\n",
      "\n",
      "CF on OBS vs. all regressions on OBS\n",
      "method 1 ite rmse:  65.4726759609998\n",
      "method 2 ite rmse:  65.30216375189177\n",
      "\n",
      "CF on RCT vs. all regressions on OBS\n",
      "method 1 ite rmse:  68.55810408505143\n",
      "method 2 ite rmse:  65.30216375189177\n",
      "\n",
      "CF on RCT vs. all regressions on ALL\n",
      "method 1 ite rmse:  79.29181112996544\n",
      "method 2 ite rmse:  75.93873678492\n",
      "\n",
      "CF on RCT vs. all regressions on NOT RCT\n"
     ]
    },
    {
     "data": {
      "text/plain": [
       "76.93398411871611"
      ]
     },
     "execution_count": 132,
     "metadata": {},
     "output_type": "execute_result"
    }
   ],
   "source": [
    "print('GROUND TRUTH Y_adj')\n",
    "print()\n",
    "print('CF on OBS vs. all regressions on OBS')\n",
    "_ite_rmse(gt_adjusted_ite_obs, # trained on whole dataset. ground truth\n",
    "          _baseline_cf_OBS_ite_obs, # trained only on obs data after the confounding\n",
    "          _eta_pred_model_allreg.predict(X_obs), \n",
    "          _omega_obs_pred_allreg)\n",
    "print()\n",
    "print('CF on RCT vs. all regressions on OBS')\n",
    "\n",
    "_ite_rmse(gt_adjusted_ite_obs, # trained on whole dataset. ground truth\n",
    "          _baseline_cf_rct_ite_obs, # trained only on obs data after the confounding\n",
    "          _eta_pred_model_allreg.predict(X_obs), \n",
    "          _omega_obs_pred_allreg)\n",
    "\n",
    "print()\n",
    "print('CF on RCT vs. all regressions on ALL')\n",
    "\n",
    "_ite_rmse(gt_adjusted_ite_all, # trained on whole dataset. ground truth\n",
    "          _baseline_cf_rct_ite_all, # trained only on obs data after the confounding\n",
    "          _eta_pred_model_allreg.predict(X_all),\n",
    "          _omega_all_pred_allreg)\n",
    "\n",
    "print()\n",
    "print('CF on RCT vs. all regressions on NOT RCT')\n",
    "\n",
    "rmse(gt_adjusted_not_rct, _eta_pred_model_allreg.predict(X_not_rct) + _omega_notrct_pred_allreg)\n"
   ]
  },
  {
   "cell_type": "code",
   "execution_count": 133,
   "metadata": {},
   "outputs": [
    {
     "name": "stdout",
     "output_type": "stream",
     "text": [
      "RMSE of CF on RCT on OBS\n",
      "method 1 ite rmse:  27.80451076649255\n",
      "method 2 ite rmse:  13.682628333529086\n",
      "\n",
      "CF on OBS vs. all regressions on ALL\n",
      "method 1 ite rmse:  37.54374409632222\n",
      "method 2 ite rmse:  23.66542082214918\n"
     ]
    }
   ],
   "source": [
    "print('RMSE of CF on RCT on OBS')\n",
    "_ite_rmse(gt_cf_all_ite_obs, # trained on whole dataset. ground truth\n",
    "          _baseline_cf_OBS_ite_obs, # trained only on obs data after the confounding\n",
    "          _eta_pred_model_allreg.predict(X_obs), \n",
    "          _omega_obs_pred_allreg)\n",
    "print()\n",
    "print('CF on OBS vs. all regressions on ALL')\n",
    "_ite_rmse(gt_regressed_ite_all, # trained on whole dataset. ground truth\n",
    "          _baseline_cf_OBS_ite_all, # trained only on obs data after the confounding\n",
    "          _eta_pred_model_allreg.predict(X_all), \n",
    "          _omega_all_pred_allreg)"
   ]
  },
  {
   "cell_type": "code",
   "execution_count": 134,
   "metadata": {},
   "outputs": [],
   "source": [
    "def run_2step_with_ite_with_interaction_method(X_rct, Y_rct, T_rct, X_obs, Y_obs, T_obs):\n",
    "    assert(X_rct.shape[0] == Y_rct.shape[0])\n",
    "    assert(T_rct.shape[0] == Y_rct.shape[0])\n",
    "    assert(X_obs.shape[0] == Y_obs.shape[0])\n",
    "    assert(T_obs.shape[0] == Y_obs.shape[0])\n",
    "    \n",
    "    omega_obs_model = get_best_model_from_gridcv(covar_and_interaction_term(X_obs, T_obs),\n",
    "                                                 Y_obs,\n",
    "                                                 linear_reg_parameter_pairs,\n",
    "                                                 print_flag=True)\n",
    "    omega_rct_pred = omega_obs_model.predict(covar_and_interaction_term(X_rct, np.ones((X_rct.shape[0],)))).ravel() - omega_obs_model.predict(covar_and_interaction_term(X_rct, np.zeros((X_rct.shape[0],)))).ravel()\n",
    "    omega_all_pred = omega_obs_model.predict(covar_and_interaction_term(X_all, np.ones((X_all.shape[0],)))).ravel() - omega_obs_model.predict(covar_and_interaction_term(X_all, np.zeros((X_all.shape[0],)))).ravel()\n",
    "    # omega_obs_model.predict(covar_and_interaction_term(X_rct, np.ones((X_rct.shape[0],)))).ravel() - omega_obs_model.predict(covar_and_interaction_term(X_rct, np.zeros((X_rct.shape[0],)))).ravel()\n",
    "    # omega_obs_model.predict(X_rct)\n",
    "    _propensity_rct = np.sum(T_rct)/T_rct.shape[0]\n",
    "    cate_rct_est = ite_adjusted_outcome(Y_rct, T_rct, _propensity=_propensity_rct) # CHECKED\n",
    "    # 2*np.multiply(Y_rct, 2*T_rct-1).ravel() # change var name\n",
    "    # omega  and cate_rct_est should both have a shape (n_rct,)\n",
    "    assert(cate_rct_est.shape == omega_rct_pred.shape)\n",
    "    print(np.std(2*Y_rct), np.std(cate_rct_est), np.std(omega_rct_pred))\n",
    "    eta_rct_est = cate_rct_est - omega_rct_pred\n",
    "    assert(len(eta_rct_est.shape) == 1)\n",
    "    \n",
    "    best_eta_pred_model = get_best_model_from_gridcv(X_rct,eta_rct_est, linear_reg_parameter_pairs)\n",
    "    omega_obs_pred = omega_obs_model.predict(covar_and_interaction_term(X_obs, np.ones((X_obs.shape[0],)))).ravel() - omega_obs_model.predict(covar_and_interaction_term(X_obs, np.zeros((X_obs.shape[0],)))).ravel()\n",
    "    \n",
    "    return copy.deepcopy(best_eta_pred_model), omega_obs_pred, omega_all_pred"
   ]
  },
  {
   "cell_type": "code",
   "execution_count": 135,
   "metadata": {},
   "outputs": [
    {
     "name": "stdout",
     "output_type": "stream",
     "text": [
      "trying  Ridge(alpha=1.0, copy_X=True, fit_intercept=True, \n",
      "77.87717240183039 78.3021478906284 11.80796433066401\n"
     ]
    }
   ],
   "source": [
    "_eta_model_2ste_with_int, omega_obs_pred_2step_with_int, omega_all_pred_2step_with_int = run_2step_with_ite_with_interaction_method(X_rct, Y_rct, T_rct,\n",
    "                                                                                                        X_obs, Y_obs, T_obs)\n",
    "# _eta_model_2ste_with_int = lambda x: _best_yt_pred_model.predict(covar_and_interaction_term(x, np.zeros((x.shape[0],)))) - _best_yt_pred_model.predict(covar_and_interaction_term(x, np.ones((x.shape[0],))))\n"
   ]
  },
  {
   "cell_type": "code",
   "execution_count": 136,
   "metadata": {},
   "outputs": [
    {
     "name": "stdout",
     "output_type": "stream",
     "text": [
      "GROUND TRUTH Y_adj\n",
      "\n",
      "CF on OBS vs. 2step with interaction on OBS\n",
      "method 1 ite rmse:  65.4726759609998\n",
      "method 2 ite rmse:  65.73356593291548\n",
      "\n",
      "CF on RCT vs. 2step with interaction on OBS\n",
      "method 1 ite rmse:  68.55810408505143\n",
      "method 2 ite rmse:  65.73356593291548\n",
      "\n",
      "CF on RCT vs. 2step with interaction on OBS\n",
      "method 1 ite rmse:  79.29181112996544\n",
      "method 2 ite rmse:  72.66704079071981\n"
     ]
    }
   ],
   "source": [
    "print('GROUND TRUTH Y_adj')\n",
    "print()\n",
    "print('CF on OBS vs. 2step with interaction on OBS')\n",
    "_ite_rmse(gt_adjusted_ite_obs, # trained on whole dataset. ground truth\n",
    "          _baseline_cf_OBS_ite_obs, # trained only on obs data after the confounding\n",
    "          _eta_model_2ste_with_int.predict(X_obs),\n",
    "          omega_obs_pred_2step_with_int)\n",
    "print()\n",
    "print('CF on RCT vs. 2step with interaction on OBS')\n",
    "\n",
    "_ite_rmse(gt_adjusted_ite_obs, # trained on whole dataset. ground truth\n",
    "          _baseline_cf_rct_ite_obs, # trained only on obs data after the confounding\n",
    "          _eta_model_2ste_with_int.predict(X_obs),\n",
    "          omega_obs_pred_2step_with_int)\n",
    "\n",
    "print()\n",
    "print('CF on RCT vs. 2step with interaction on OBS')\n",
    "\n",
    "_ite_rmse(gt_adjusted_ite_all, # trained on whole dataset. ground truth\n",
    "          _baseline_cf_rct_ite_all, # trained only on obs data after the confounding\n",
    "          _eta_model_2ste_with_int.predict(X_all),\n",
    "          omega_all_pred_2step_with_int)"
   ]
  },
  {
   "cell_type": "code",
   "execution_count": 137,
   "metadata": {},
   "outputs": [
    {
     "name": "stdout",
     "output_type": "stream",
     "text": [
      "GROUND TRUTH CF\n",
      "\n",
      "CF on OBS vs. 2step with interaction on OBS\n",
      "method 1 ite rmse:  27.80451076649255\n",
      "method 2 ite rmse:  20.16126224173181\n",
      "\n",
      "CF on RCT vs. 2step with interaction on OBS\n",
      "method 1 ite rmse:  3.5176140559774765\n",
      "method 2 ite rmse:  20.16126224173181\n",
      "\n",
      "CF on RCT vs. 2step with interaction on OBS\n",
      "method 1 ite rmse:  3.697837783439241\n",
      "method 2 ite rmse:  22.620176584128092\n"
     ]
    }
   ],
   "source": [
    "print('GROUND TRUTH CF')\n",
    "print()\n",
    "print('CF on OBS vs. 2step with interaction on OBS')\n",
    "_ite_rmse(gt_cf_all_ite_obs, # trained on whole dataset. ground truth\n",
    "          _baseline_cf_OBS_ite_obs, # trained only on obs data after the confounding\n",
    "          _eta_model_2ste_with_int.predict(X_obs),\n",
    "          omega_obs_pred_2step_with_int)\n",
    "print()\n",
    "print('CF on RCT vs. 2step with interaction on OBS')\n",
    "\n",
    "_ite_rmse(gt_cf_all_ite_obs, # trained on whole dataset. ground truth\n",
    "          _baseline_cf_rct_ite_obs, # trained only on obs data after the confounding\n",
    "          _eta_model_2ste_with_int.predict(X_obs),\n",
    "          omega_obs_pred_2step_with_int)\n",
    "\n",
    "print()\n",
    "print('CF on RCT vs. 2step with interaction on OBS')\n",
    "\n",
    "_ite_rmse(gt_cf_all_ite_all, # trained on whole dataset. ground truth\n",
    "          _baseline_cf_rct_ite_all, # trained only on obs data after the confounding\n",
    "          _eta_model_2ste_with_int.predict(X_all),\n",
    "          omega_all_pred_2step_with_int)"
   ]
  },
  {
   "cell_type": "code",
   "execution_count": 138,
   "metadata": {},
   "outputs": [
    {
     "name": "stdout",
     "output_type": "stream",
     "text": [
      "GROUND TRUTH regressed ite\n",
      "\n",
      "CF on OBS vs. 2step with interaction on OBS\n",
      "method 1 ite rmse:  30.657201635341124\n",
      "method 2 ite rmse:  27.91513817981817\n",
      "\n",
      "CF on RCT vs. 2step with interaction on OBS\n",
      "method 1 ite rmse:  25.395255251410674\n",
      "method 2 ite rmse:  27.91513817981817\n",
      "\n",
      "CF on RCT vs. 2step with interaction on OBS\n",
      "method 1 ite rmse:  27.176713294195043\n",
      "method 2 ite rmse:  27.650096537900513\n"
     ]
    }
   ],
   "source": [
    "print('GROUND TRUTH regressed ite')\n",
    "print()\n",
    "print('CF on OBS vs. 2step with interaction on OBS')\n",
    "_ite_rmse(gt_regressed_ite_obs, # trained on whole dataset. ground truth\n",
    "          _baseline_cf_OBS_ite_obs, # trained only on obs data after the confounding\n",
    "          _eta_model_2ste_with_int.predict(X_obs),\n",
    "          omega_obs_pred_2step_with_int)\n",
    "print()\n",
    "print('CF on RCT vs. 2step with interaction on OBS')\n",
    "\n",
    "_ite_rmse(gt_regressed_ite_obs, # trained on whole dataset. ground truth\n",
    "          _baseline_cf_rct_ite_obs, # trained only on obs data after the confounding\n",
    "          _eta_model_2ste_with_int.predict(X_obs),\n",
    "          omega_obs_pred_2step_with_int)\n",
    "\n",
    "print()\n",
    "print('CF on RCT vs. 2step with interaction on OBS')\n",
    "\n",
    "_ite_rmse(gt_regressed_ite_all, # trained on whole dataset. ground truth\n",
    "          _baseline_cf_rct_ite_all, # trained only on obs data after the confounding\n",
    "          _eta_model_2ste_with_int.predict(X_all),\n",
    "          omega_all_pred_2step_with_int)"
   ]
  },
  {
   "cell_type": "code",
   "execution_count": 139,
   "metadata": {},
   "outputs": [
    {
     "data": {
      "text/plain": [
       "1.623257167374289"
      ]
     },
     "execution_count": 139,
     "metadata": {},
     "output_type": "execute_result"
    }
   ],
   "source": [
    "np.std(gt_cf_all_ite_all)"
   ]
  },
  {
   "cell_type": "code",
   "execution_count": 140,
   "metadata": {},
   "outputs": [],
   "source": [
    "# def run_method(X_rct, Y_rct, T_rct, X_obs, Y_obs, T_obs, _internal_X_not_rct):\n",
    "#     assert(X_rct.shape[0] == Y_rct.shape[0])\n",
    "#     assert(T_rct.shape[0] == Y_rct.shape[0])\n",
    "#     assert(X_obs.shape[0] == Y_obs.shape[0])\n",
    "#     assert(T_obs.shape[0] == Y_obs.shape[0])\n",
    "#     _cf_model = cf(X_obs,\n",
    "#                    Y_obs.reshape(-1,1),\n",
    "#                    T_obs.astype(np.int).reshape(-1,1),\n",
    "#                    num_trees=500,\n",
    "#                    tune_parameters=True,\n",
    "#                    num_threads = _cf_num_threads)\n",
    "    \n",
    "#     omega_rct_pred = np.array(grf.predict_causal_forest(_cf_model, X_rct)[0]).ravel()\n",
    "#     omega_obs_pred = np.array(grf.predict_causal_forest(_cf_model, X_obs)[0]).ravel()\n",
    "#     omega_all_pred = np.array(grf.predict_causal_forest(_cf_model, X_all)[0]).ravel()\n",
    "#     omega_not_rct_pred = np.array(grf.predict_causal_forest(_cf_model, _internal_X_not_rct)[0]).ravel()\n",
    "    \n",
    "#     _propensity_rct = np.sum(T_rct)/T_rct.shape[0]\n",
    "#     cate_rct_est = ite_adjusted_outcome(Y_rct, T_rct, _propensity=_propensity_rct) # CHECKED\n",
    "\n",
    "#     # omega  and cate_rct_est should both have a shape (n_rct,)\n",
    "#     assert(cate_rct_est.shape == omega_rct_pred.shape)\n",
    "#     eta_rct_est = cate_rct_est - omega_rct_pred\n",
    "#     assert(len(eta_rct_est.shape) == 1)\n",
    "    \n",
    "#     best_eta_est_linear = get_best_model_from_gridcv(X_rct, eta_rct_est, linear_reg_parameter_pairs)\n",
    "    \n",
    "#     return copy.deepcopy(best_eta_est_linear), omega_obs_pred, omega_all_pred, omega_not_rct_pred"
   ]
  },
  {
   "cell_type": "code",
   "execution_count": 141,
   "metadata": {},
   "outputs": [],
   "source": [
    "def run_method(X_rct, Y_rct, T_rct, X_obs, Y_obs, T_obs, _internal_X_not_rct):\n",
    "    assert(X_rct.shape[0] == Y_rct.shape[0])\n",
    "    assert(T_rct.shape[0] == Y_rct.shape[0])\n",
    "    assert(X_obs.shape[0] == Y_obs.shape[0])\n",
    "    assert(T_obs.shape[0] == Y_obs.shape[0])\n",
    "    \n",
    "    f1_rfr_model = get_best_model_from_gridcv(X_obs[T_obs==1], Y_obs[T_obs==1], rfr_reg_parameter_pairs)\n",
    "    f0_rfr_model = get_best_model_from_gridcv(X_obs[T_obs==0], Y_obs[T_obs==0], rfr_reg_parameter_pairs)\n",
    "    \n",
    "    omega_rct_pred = f1_rfr_model.predict(X_rct).ravel() - f0_rfr_model.predict(X_rct).ravel()\n",
    "    omega_obs_pred = f1_rfr_model.predict(X_obs).ravel() - f0_rfr_model.predict(X_obs).ravel()\n",
    "    omega_all_pred = f1_rfr_model.predict(X_all).ravel() - f0_rfr_model.predict(X_all).ravel()\n",
    "    omega_not_rct_pred = f1_rfr_model.predict(_internal_X_not_rct).ravel() - f0_rfr_model.predict(_internal_X_not_rct).ravel()\n",
    "    \n",
    "    _propensity_rct = np.sum(T_rct)/T_rct.shape[0]\n",
    "    cate_rct_est = ite_adjusted_outcome(Y_rct, T_rct, _propensity=_propensity_rct) # CHECKED\n",
    "\n",
    "    # omega  and cate_rct_est should both have a shape (n_rct,)\n",
    "    assert(cate_rct_est.shape == omega_rct_pred.shape)\n",
    "    eta_rct_est = cate_rct_est - omega_rct_pred\n",
    "    assert(len(eta_rct_est.shape) == 1)\n",
    "    \n",
    "    best_eta_est_linear = get_best_model_from_gridcv(X_rct, eta_rct_est, linear_reg_parameter_pairs)\n",
    "    \n",
    "    return copy.deepcopy(best_eta_est_linear), omega_obs_pred, omega_all_pred, omega_not_rct_pred"
   ]
  },
  {
   "cell_type": "code",
   "execution_count": 142,
   "metadata": {},
   "outputs": [],
   "source": [
    "def run_method_ridge_omega(X_rct, Y_rct, T_rct, X_obs, Y_obs, T_obs, _internal_X_not_rct):\n",
    "    assert(X_rct.shape[0] == Y_rct.shape[0])\n",
    "    assert(T_rct.shape[0] == Y_rct.shape[0])\n",
    "    assert(X_obs.shape[0] == Y_obs.shape[0])\n",
    "    assert(T_obs.shape[0] == Y_obs.shape[0])\n",
    "    \n",
    "    f1_ridge_model = get_best_model_from_gridcv(X_obs[T_obs==1], Y_obs[T_obs==1], linear_reg_parameter_pairs)\n",
    "    f0_ridge_model = get_best_model_from_gridcv(X_obs[T_obs==0], Y_obs[T_obs==0], linear_reg_parameter_pairs)\n",
    "    \n",
    "    omega_rct_pred = f1_ridge_model.predict(X_rct).ravel() - f0_ridge_model.predict(X_rct).ravel()\n",
    "    omega_obs_pred = f1_ridge_model.predict(X_obs).ravel() - f0_ridge_model.predict(X_obs).ravel()\n",
    "    omega_all_pred = f1_ridge_model.predict(X_all).ravel() - f0_ridge_model.predict(X_all).ravel()\n",
    "    omega_not_rct_pred = f1_ridge_model.predict(_internal_X_not_rct).ravel() - f0_ridge_model.predict(_internal_X_not_rct).ravel()\n",
    "    \n",
    "    _propensity_rct = np.sum(T_rct)/T_rct.shape[0]\n",
    "    cate_rct_est = ite_adjusted_outcome(Y_rct, T_rct, _propensity=_propensity_rct) # CHECKED\n",
    "\n",
    "    # omega  and cate_rct_est should both have a shape (n_rct,)\n",
    "    assert(cate_rct_est.shape == omega_rct_pred.shape)\n",
    "    eta_rct_est = cate_rct_est - omega_rct_pred\n",
    "    assert(len(eta_rct_est.shape) == 1)\n",
    "    \n",
    "    best_eta_est_linear = get_best_model_from_gridcv(X_rct, eta_rct_est, linear_reg_parameter_pairs)\n",
    "    \n",
    "    return copy.deepcopy(best_eta_est_linear), omega_obs_pred, omega_all_pred, omega_not_rct_pred"
   ]
  },
  {
   "cell_type": "code",
   "execution_count": 143,
   "metadata": {
    "scrolled": false
   },
   "outputs": [
    {
     "ename": "TypeError",
     "evalue": "run_method() missing 1 required positional argument: '_internal_X_not_rct'",
     "output_type": "error",
     "traceback": [
      "\u001b[0;31m---------------------------------------------------------------------------\u001b[0m",
      "\u001b[0;31mTypeError\u001b[0m                                 Traceback (most recent call last)",
      "\u001b[0;32m<ipython-input-143-c0d9871fc4bc>\u001b[0m in \u001b[0;36m<module>\u001b[0;34m\u001b[0m\n\u001b[0;32m----> 1\u001b[0;31m \u001b[0m_eta_model_2step\u001b[0m \u001b[0;34m,\u001b[0m \u001b[0momega_obs_pred_2step\u001b[0m\u001b[0;34m,\u001b[0m \u001b[0momega_all_pred_2step\u001b[0m\u001b[0;34m,\u001b[0m \u001b[0momega_not_rct_pred_2step\u001b[0m \u001b[0;34m=\u001b[0m \u001b[0mrun_method\u001b[0m\u001b[0;34m(\u001b[0m\u001b[0mX_rct\u001b[0m\u001b[0;34m,\u001b[0m \u001b[0mY_rct\u001b[0m\u001b[0;34m,\u001b[0m \u001b[0mT_rct\u001b[0m\u001b[0;34m,\u001b[0m \u001b[0mX_obs\u001b[0m\u001b[0;34m,\u001b[0m  \u001b[0mY_obs\u001b[0m\u001b[0;34m,\u001b[0m \u001b[0mT_obs\u001b[0m\u001b[0;34m)\u001b[0m\u001b[0;34m\u001b[0m\u001b[0m\n\u001b[0m\u001b[1;32m      2\u001b[0m \u001b[0;31m# 0.8140800290679538 10.825779370835095 0.06316849619889346\u001b[0m\u001b[0;34m\u001b[0m\u001b[0;34m\u001b[0m\u001b[0m\n",
      "\u001b[0;31mTypeError\u001b[0m: run_method() missing 1 required positional argument: '_internal_X_not_rct'"
     ]
    }
   ],
   "source": [
    "_eta_model_2step , omega_obs_pred_2step, omega_all_pred_2step, omega_not_rct_pred_2step = run_method(X_rct, Y_rct, T_rct, X_obs,  Y_obs, T_obs)\n",
    "# 0.8140800290679538 10.825779370835095 0.06316849619889346"
   ]
  },
  {
   "cell_type": "code",
   "execution_count": 147,
   "metadata": {},
   "outputs": [
    {
     "name": "stdout",
     "output_type": "stream",
     "text": [
      "GROUND TRUTH adjusted ite\n",
      "\n",
      "CF on OBS vs. 2 step with CF on OBS\n"
     ]
    },
    {
     "ename": "NameError",
     "evalue": "name '_eta_model_2step' is not defined",
     "output_type": "error",
     "traceback": [
      "\u001b[0;31m---------------------------------------------------------------------------\u001b[0m",
      "\u001b[0;31mNameError\u001b[0m                                 Traceback (most recent call last)",
      "\u001b[0;32m<ipython-input-147-ea155d9dcb0c>\u001b[0m in \u001b[0;36m<module>\u001b[0;34m\u001b[0m\n\u001b[1;32m      4\u001b[0m _ite_rmse(gt_adjusted_ite_obs, # trained on whole dataset. ground truth\n\u001b[1;32m      5\u001b[0m           \u001b[0m_baseline_cf_OBS_ite_obs\u001b[0m\u001b[0;34m,\u001b[0m \u001b[0;31m# trained only on obs data after the confounding\u001b[0m\u001b[0;34m\u001b[0m\u001b[0m\n\u001b[0;32m----> 6\u001b[0;31m           \u001b[0m_eta_model_2step\u001b[0m\u001b[0;34m.\u001b[0m\u001b[0mpredict\u001b[0m\u001b[0;34m(\u001b[0m\u001b[0mX_obs\u001b[0m\u001b[0;34m)\u001b[0m\u001b[0;34m,\u001b[0m\u001b[0;34m\u001b[0m\u001b[0m\n\u001b[0m\u001b[1;32m      7\u001b[0m           omega_obs_pred_2step)\n\u001b[1;32m      8\u001b[0m \u001b[0mprint\u001b[0m\u001b[0;34m(\u001b[0m\u001b[0;34m)\u001b[0m\u001b[0;34m\u001b[0m\u001b[0m\n",
      "\u001b[0;31mNameError\u001b[0m: name '_eta_model_2step' is not defined"
     ]
    }
   ],
   "source": [
    "print('GROUND TRUTH adjusted ite')\n",
    "print()\n",
    "print('CF on OBS vs. 2 step with CF on OBS')\n",
    "_ite_rmse(gt_adjusted_ite_obs, # trained on whole dataset. ground truth\n",
    "          _baseline_cf_OBS_ite_obs, # trained only on obs data after the confounding\n",
    "          _eta_model_2step.predict(X_obs),\n",
    "          omega_obs_pred_2step)\n",
    "print()\n",
    "print('CF on RCT vs. 2 step with CF on OBS')\n",
    "\n",
    "_ite_rmse(gt_adjusted_ite_obs, # trained on whole dataset. ground truth\n",
    "          _baseline_cf_rct_ite_obs, # trained only on obs data after the confounding\n",
    "          _eta_model_2step.predict(X_obs),\n",
    "          omega_obs_pred_2step)\n",
    "\n",
    "print()\n",
    "print('CF on RCT vs. 2 step with CF on ALL')\n",
    "\n",
    "_ite_rmse(gt_adjusted_ite_all, # trained on whole dataset. ground truth\n",
    "          _baseline_cf_rct_ite_all, # trained only on obs data after the confounding\n",
    "          _eta_model_2step.predict(X_all),\n",
    "          omega_all_pred_2step)"
   ]
  },
  {
   "cell_type": "code",
   "execution_count": 148,
   "metadata": {},
   "outputs": [
    {
     "ename": "NameError",
     "evalue": "name '_eta_model_2step' is not defined",
     "output_type": "error",
     "traceback": [
      "\u001b[0;31m---------------------------------------------------------------------------\u001b[0m",
      "\u001b[0;31mNameError\u001b[0m                                 Traceback (most recent call last)",
      "\u001b[0;32m<ipython-input-148-900bdc27e4e9>\u001b[0m in \u001b[0;36m<module>\u001b[0;34m\u001b[0m\n\u001b[1;32m      3\u001b[0m                                         _propensity = _propensity_all)\n\u001b[1;32m      4\u001b[0m \u001b[0;34m\u001b[0m\u001b[0m\n\u001b[0;32m----> 5\u001b[0;31m \u001b[0mrmse\u001b[0m\u001b[0;34m(\u001b[0m\u001b[0mY_adj_notrct\u001b[0m\u001b[0;34m,\u001b[0m \u001b[0m_eta_model_2step\u001b[0m\u001b[0;34m.\u001b[0m\u001b[0mpredict\u001b[0m\u001b[0;34m(\u001b[0m\u001b[0mX_not_rct\u001b[0m\u001b[0;34m)\u001b[0m \u001b[0;34m+\u001b[0m \u001b[0momega_not_rct_pred_2step\u001b[0m\u001b[0;34m)\u001b[0m\u001b[0;34m\u001b[0m\u001b[0m\n\u001b[0m",
      "\u001b[0;31mNameError\u001b[0m: name '_eta_model_2step' is not defined"
     ]
    }
   ],
   "source": [
    "Y_adj_notrct = ite_adjusted_outcome(Y_not_rct, \n",
    "                                        T_not_rct,\n",
    "                                        _propensity = _propensity_all)\n",
    "\n",
    "rmse(Y_adj_notrct, _eta_model_2step.predict(X_not_rct) + omega_not_rct_pred_2step)"
   ]
  },
  {
   "cell_type": "code",
   "execution_count": 149,
   "metadata": {},
   "outputs": [
    {
     "ename": "NameError",
     "evalue": "name '_eta_model_2step' is not defined",
     "output_type": "error",
     "traceback": [
      "\u001b[0;31m---------------------------------------------------------------------------\u001b[0m",
      "\u001b[0;31mNameError\u001b[0m                                 Traceback (most recent call last)",
      "\u001b[0;32m<ipython-input-149-218bf143802b>\u001b[0m in \u001b[0;36m<module>\u001b[0;34m\u001b[0m\n\u001b[0;32m----> 1\u001b[0;31m \u001b[0mgt_adjusted_ite_obs\u001b[0m\u001b[0;34m.\u001b[0m\u001b[0mshape\u001b[0m\u001b[0;34m,\u001b[0m \u001b[0m_baseline_cf_OBS_ite_obs\u001b[0m\u001b[0;34m.\u001b[0m\u001b[0mshape\u001b[0m\u001b[0;34m,\u001b[0m \u001b[0m_eta_model_2step\u001b[0m\u001b[0;34m.\u001b[0m\u001b[0mpredict\u001b[0m\u001b[0;34m(\u001b[0m\u001b[0mX_obs\u001b[0m\u001b[0;34m)\u001b[0m\u001b[0;34m.\u001b[0m\u001b[0mshape\u001b[0m\u001b[0;34m,\u001b[0m \u001b[0momega_obs_pred_2step\u001b[0m\u001b[0;34m.\u001b[0m\u001b[0mshape\u001b[0m\u001b[0;34m\u001b[0m\u001b[0m\n\u001b[0m",
      "\u001b[0;31mNameError\u001b[0m: name '_eta_model_2step' is not defined"
     ]
    }
   ],
   "source": [
    "gt_adjusted_ite_obs.shape, _baseline_cf_OBS_ite_obs.shape, _eta_model_2step.predict(X_obs).shape, omega_obs_pred_2step.shape"
   ]
  },
  {
   "cell_type": "code",
   "execution_count": 150,
   "metadata": {
    "scrolled": true
   },
   "outputs": [
    {
     "name": "stdout",
     "output_type": "stream",
     "text": [
      "GROUND TRUTH adjusted ite\n",
      "\n",
      "CF on OBS vs. 2 step with CF on ALL\n"
     ]
    },
    {
     "ename": "NameError",
     "evalue": "name '_eta_model_2step' is not defined",
     "output_type": "error",
     "traceback": [
      "\u001b[0;31m---------------------------------------------------------------------------\u001b[0m",
      "\u001b[0;31mNameError\u001b[0m                                 Traceback (most recent call last)",
      "\u001b[0;32m<ipython-input-150-6be684c6a082>\u001b[0m in \u001b[0;36m<module>\u001b[0;34m\u001b[0m\n\u001b[1;32m      4\u001b[0m _ite_rmse(gt_adjusted_ite_all, # trained on whole dataset. ground truth\n\u001b[1;32m      5\u001b[0m           \u001b[0m_baseline_cf_OBS_ite_all\u001b[0m\u001b[0;34m,\u001b[0m \u001b[0;31m# trained only on obs data after the confounding\u001b[0m\u001b[0;34m\u001b[0m\u001b[0m\n\u001b[0;32m----> 6\u001b[0;31m           \u001b[0m_eta_model_2step\u001b[0m\u001b[0;34m.\u001b[0m\u001b[0mpredict\u001b[0m\u001b[0;34m(\u001b[0m\u001b[0mX_all\u001b[0m\u001b[0;34m)\u001b[0m\u001b[0;34m,\u001b[0m\u001b[0;34m\u001b[0m\u001b[0m\n\u001b[0m\u001b[1;32m      7\u001b[0m           omega_all_pred_2step)\n\u001b[1;32m      8\u001b[0m \u001b[0mprint\u001b[0m\u001b[0;34m(\u001b[0m\u001b[0;34m)\u001b[0m\u001b[0;34m\u001b[0m\u001b[0m\n",
      "\u001b[0;31mNameError\u001b[0m: name '_eta_model_2step' is not defined"
     ]
    }
   ],
   "source": [
    "print('GROUND TRUTH adjusted ite')\n",
    "print()\n",
    "print('CF on OBS vs. 2 step with CF on ALL')\n",
    "_ite_rmse(gt_adjusted_ite_all, # trained on whole dataset. ground truth\n",
    "          _baseline_cf_OBS_ite_all, # trained only on obs data after the confounding\n",
    "          _eta_model_2step.predict(X_all),\n",
    "          omega_all_pred_2step)\n",
    "print()\n",
    "print('GROUND TRUTH adjusted ite')\n",
    "print('CF on RCT vs. 2 step with CF on ALL')\n",
    "\n",
    "_ite_rmse(gt_adjusted_ite_all, # trained on whole dataset. ground truth\n",
    "          _baseline_cf_rct_ite_all, # trained only on obs data after the confounding\n",
    "          _eta_model_2step.predict(X_all),\n",
    "          omega_all_pred_2step)\n",
    "\n",
    "print()\n",
    "print('GROUND TRUTH regressed ite')\n",
    "print('CF on RCT vs. 2 step with CF on ALL')\n",
    "\n",
    "_ite_rmse(gt_regressed_ite_all, # trained on whole dataset. ground truth\n",
    "          _baseline_cf_rct_ite_all, # trained only on obs data after the confounding\n",
    "          _eta_model_2step.predict(X_all),\n",
    "          omega_all_pred_2step)\n",
    "\n",
    "\n",
    "print()\n",
    "print('GROUND TRUTH cf on ALL ite')\n",
    "print('CF on RCT vs. 2 step with CF on ALL')\n",
    "\n",
    "_ite_rmse(gt_cf_all_ite_all, # trained on whole dataset. ground truth\n",
    "          _baseline_cf_rct_ite_all, # trained only on obs data after the confounding\n",
    "          _eta_model_2step.predict(X_all),\n",
    "          omega_all_pred_2step)"
   ]
  },
  {
   "cell_type": "code",
   "execution_count": 151,
   "metadata": {},
   "outputs": [
    {
     "name": "stdout",
     "output_type": "stream",
     "text": [
      "GROUND TRUTH regressed ite\n",
      "\n",
      "CF on OBS vs. 2 step with CF on OBS\n"
     ]
    },
    {
     "ename": "NameError",
     "evalue": "name '_eta_model_2step' is not defined",
     "output_type": "error",
     "traceback": [
      "\u001b[0;31m---------------------------------------------------------------------------\u001b[0m",
      "\u001b[0;31mNameError\u001b[0m                                 Traceback (most recent call last)",
      "\u001b[0;32m<ipython-input-151-6c4957752127>\u001b[0m in \u001b[0;36m<module>\u001b[0;34m\u001b[0m\n\u001b[1;32m      4\u001b[0m _ite_rmse(gt_regressed_ite_obs, # trained on whole dataset. ground truth\n\u001b[1;32m      5\u001b[0m           \u001b[0m_baseline_cf_OBS_ite_obs\u001b[0m\u001b[0;34m,\u001b[0m \u001b[0;31m# trained only on obs data after the confounding\u001b[0m\u001b[0;34m\u001b[0m\u001b[0m\n\u001b[0;32m----> 6\u001b[0;31m           \u001b[0m_eta_model_2step\u001b[0m\u001b[0;34m.\u001b[0m\u001b[0mpredict\u001b[0m\u001b[0;34m(\u001b[0m\u001b[0mX_obs\u001b[0m\u001b[0;34m)\u001b[0m\u001b[0;34m,\u001b[0m\u001b[0;34m\u001b[0m\u001b[0m\n\u001b[0m\u001b[1;32m      7\u001b[0m           omega_obs_pred_2step)\n\u001b[1;32m      8\u001b[0m \u001b[0mprint\u001b[0m\u001b[0;34m(\u001b[0m\u001b[0;34m)\u001b[0m\u001b[0;34m\u001b[0m\u001b[0m\n",
      "\u001b[0;31mNameError\u001b[0m: name '_eta_model_2step' is not defined"
     ]
    }
   ],
   "source": [
    "print('GROUND TRUTH regressed ite')\n",
    "print()\n",
    "print('CF on OBS vs. 2 step with CF on OBS')\n",
    "_ite_rmse(gt_regressed_ite_obs, # trained on whole dataset. ground truth\n",
    "          _baseline_cf_OBS_ite_obs, # trained only on obs data after the confounding\n",
    "          _eta_model_2step.predict(X_obs),\n",
    "          omega_obs_pred_2step)\n",
    "print()\n",
    "print('CF on RCT vs. 2 step with CF on OBS')\n",
    "\n",
    "_ite_rmse(gt_regressed_ite_obs, # trained on whole dataset. ground truth\n",
    "          _baseline_cf_rct_ite_obs, # trained only on obs data after the confounding\n",
    "          _eta_model_2step.predict(X_obs),\n",
    "          omega_obs_pred_2step)\n",
    "\n",
    "print()\n",
    "print('CF on RCT vs. 2 step with CF on OBS')\n",
    "\n",
    "_ite_rmse(gt_regressed_ite_all, # trained on whole dataset. ground truth\n",
    "          _baseline_cf_rct_ite_all, # trained only on obs data after the confounding\n",
    "          _eta_model_2step.predict(X_all),\n",
    "          omega_all_pred_2step)"
   ]
  },
  {
   "cell_type": "code",
   "execution_count": 152,
   "metadata": {},
   "outputs": [
    {
     "name": "stdout",
     "output_type": "stream",
     "text": [
      "GROUND TRUTH CF on all\n",
      "\n",
      "CF on OBS vs. 2 step with CF on OBS\n"
     ]
    },
    {
     "ename": "NameError",
     "evalue": "name '_eta_model_2step' is not defined",
     "output_type": "error",
     "traceback": [
      "\u001b[0;31m---------------------------------------------------------------------------\u001b[0m",
      "\u001b[0;31mNameError\u001b[0m                                 Traceback (most recent call last)",
      "\u001b[0;32m<ipython-input-152-adcc87d11727>\u001b[0m in \u001b[0;36m<module>\u001b[0;34m\u001b[0m\n\u001b[1;32m      4\u001b[0m _ite_rmse(gt_cf_all_ite_obs, # trained on whole dataset. ground truth\n\u001b[1;32m      5\u001b[0m           \u001b[0m_baseline_cf_OBS_ite_obs\u001b[0m\u001b[0;34m,\u001b[0m \u001b[0;31m# trained only on obs data after the confounding\u001b[0m\u001b[0;34m\u001b[0m\u001b[0m\n\u001b[0;32m----> 6\u001b[0;31m           \u001b[0m_eta_model_2step\u001b[0m\u001b[0;34m.\u001b[0m\u001b[0mpredict\u001b[0m\u001b[0;34m(\u001b[0m\u001b[0mX_obs\u001b[0m\u001b[0;34m)\u001b[0m\u001b[0;34m,\u001b[0m\u001b[0;34m\u001b[0m\u001b[0m\n\u001b[0m\u001b[1;32m      7\u001b[0m           omega_obs_pred_2step)\n\u001b[1;32m      8\u001b[0m \u001b[0mprint\u001b[0m\u001b[0;34m(\u001b[0m\u001b[0;34m)\u001b[0m\u001b[0;34m\u001b[0m\u001b[0m\n",
      "\u001b[0;31mNameError\u001b[0m: name '_eta_model_2step' is not defined"
     ]
    }
   ],
   "source": [
    "print('GROUND TRUTH CF on all')\n",
    "print()\n",
    "print('CF on OBS vs. 2 step with CF on OBS')\n",
    "_ite_rmse(gt_cf_all_ite_obs, # trained on whole dataset. ground truth\n",
    "          _baseline_cf_OBS_ite_obs, # trained only on obs data after the confounding\n",
    "          _eta_model_2step.predict(X_obs),\n",
    "          omega_obs_pred_2step)\n",
    "print()\n",
    "print('CF on RCT vs. 2 step with CF on OBS')\n",
    "\n",
    "_ite_rmse(gt_cf_all_ite_obs, # trained on whole dataset. ground truth\n",
    "          _baseline_cf_rct_ite_obs, # trained only on obs data after the confounding\n",
    "          _eta_model_2step.predict(X_obs),\n",
    "          omega_obs_pred_2step)\n",
    "\n",
    "print()\n",
    "print('CF on RCT vs. 2 step with CF on OBS')\n",
    "\n",
    "_ite_rmse(gt_cf_all_ite_all, # trained on whole dataset. ground truth\n",
    "          _baseline_cf_rct_ite_all, # trained only on obs data after the confounding\n",
    "          _eta_model_2step.predict(X_all),\n",
    "          omega_all_pred_2step)"
   ]
  },
  {
   "cell_type": "code",
   "execution_count": 153,
   "metadata": {},
   "outputs": [],
   "source": [
    "def run_cf_3step_method(X_rct, Y_rct, T_rct, X_obs, Y_obs, T_obs):\n",
    "    assert(X_rct.shape[0] == Y_rct.shape[0])\n",
    "    assert(T_rct.shape[0] == Y_rct.shape[0])\n",
    "    assert(X_obs.shape[0] == Y_obs.shape[0])\n",
    "    assert(T_obs.shape[0] == Y_obs.shape[0])\n",
    "    _cf_model = cf(X_obs,\n",
    "                   Y_obs.reshape(-1,1),\n",
    "                   T_obs.astype(np.int).reshape(-1,1),\n",
    "                   num_trees=5000,\n",
    "                   tune_parameters=True)\n",
    "    \n",
    "    omega_rct_pred = np.array(grf.predict_causal_forest(_cf_model, X_rct)[0]).ravel()\n",
    "    omega_obs_pred = np.array(grf.predict_causal_forest(_cf_model, X_obs)[0]).ravel()\n",
    "    omega_all_pred = np.array(grf.predict_causal_forest(_cf_model, X_all)[0]).ravel()\n",
    "    omega_notrct_pred = np.array(grf.predict_causal_forest(_cf_model, X_not_rct)[0]).ravel()\n",
    "    \n",
    "    # omega  and cate_rct_est should both have a shape (n_rct,)\n",
    "    _rct_cf_model = cf(X_rct,\n",
    "                       Y_rct.reshape(-1,1),\n",
    "                       T_rct.astype(np.int).reshape(-1,1),\n",
    "                       num_trees=5000,\n",
    "                       tune_parameters=True)\n",
    "    \n",
    "    tau_rct_pred = np.array(grf.predict_causal_forest(_rct_cf_model, X_rct)[0]).ravel()\n",
    "    # eta_rct_est = cate_rct_est - omega_rct_pred\n",
    "    eta_rct_est = tau_rct_pred - omega_rct_pred\n",
    "    assert(len(eta_rct_est.shape) == 1)\n",
    "    \n",
    "    best_eta_est_linear = get_best_model_from_gridcv(X_rct, eta_rct_est, linear_reg_parameter_pairs)\n",
    "    return copy.deepcopy(best_eta_est_linear), omega_obs_pred, omega_all_pred, omega_notrct_pred"
   ]
  },
  {
   "cell_type": "code",
   "execution_count": 154,
   "metadata": {
    "scrolled": true
   },
   "outputs": [
    {
     "ename": "ValueError",
     "evalue": "too many values to unpack (expected 3)",
     "output_type": "error",
     "traceback": [
      "\u001b[0;31m---------------------------------------------------------------------------\u001b[0m",
      "\u001b[0;31mValueError\u001b[0m                                Traceback (most recent call last)",
      "\u001b[0;32m<ipython-input-154-ddef7c0de6b1>\u001b[0m in \u001b[0;36m<module>\u001b[0;34m\u001b[0m\n\u001b[0;32m----> 1\u001b[0;31m \u001b[0m_eta_model_cf_3step\u001b[0m \u001b[0;34m,\u001b[0m \u001b[0momega_obs_pred_cf_3step\u001b[0m\u001b[0;34m,\u001b[0m \u001b[0momega_all_pred_cf_3step\u001b[0m \u001b[0;34m=\u001b[0m \u001b[0mrun_cf_3step_method\u001b[0m\u001b[0;34m(\u001b[0m\u001b[0mX_rct\u001b[0m\u001b[0;34m,\u001b[0m \u001b[0mY_rct\u001b[0m\u001b[0;34m,\u001b[0m \u001b[0mT_rct\u001b[0m\u001b[0;34m,\u001b[0m \u001b[0mX_obs\u001b[0m\u001b[0;34m,\u001b[0m  \u001b[0mY_obs\u001b[0m\u001b[0;34m,\u001b[0m \u001b[0mT_obs\u001b[0m\u001b[0;34m)\u001b[0m\u001b[0;34m\u001b[0m\u001b[0m\n\u001b[0m",
      "\u001b[0;31mValueError\u001b[0m: too many values to unpack (expected 3)"
     ]
    }
   ],
   "source": [
    "_eta_model_cf_3step , omega_obs_pred_cf_3step, omega_all_pred_cf_3step = run_cf_3step_method(X_rct, Y_rct, T_rct, X_obs,  Y_obs, T_obs)\n"
   ]
  },
  {
   "cell_type": "code",
   "execution_count": null,
   "metadata": {
    "scrolled": true
   },
   "outputs": [],
   "source": [
    "print('GROUND TRUTH CF on all')\n",
    "print()\n",
    "print('CF on OBS vs. 3 step with CF on OBS')\n",
    "_ite_rmse(gt_cf_all_ite_obs, # trained on whole dataset. ground truth\n",
    "          _baseline_cf_OBS_ite_obs, # trained only on obs data after the confounding\n",
    "          _eta_model_cf_3step .predict(X_obs),\n",
    "          omega_obs_pred_cf_3step)\n",
    "print()\n",
    "print('CF on RCT vs. 3 step with CF on OBS')\n",
    "\n",
    "_ite_rmse(gt_cf_all_ite_obs, # trained on whole dataset. ground truth\n",
    "          _baseline_cf_rct_ite_obs, # trained only on obs data after the confounding\n",
    "          _eta_model_cf_3step .predict(X_obs),\n",
    "          omega_obs_pred_cf_3step)\n",
    "\n",
    "print()\n",
    "print('CF on RCT vs. 3 step with CF on ALL')\n",
    "\n",
    "_ite_rmse(gt_cf_all_ite_all, # trained on whole dataset. ground truth\n",
    "          _baseline_cf_rct_ite_all, # trained only on obs data after the confounding\n",
    "          _eta_model_cf_3step .predict(X_all),\n",
    "          omega_all_pred_cf_3step)"
   ]
  },
  {
   "cell_type": "code",
   "execution_count": null,
   "metadata": {},
   "outputs": [],
   "source": [
    "print('GROUND TRUTH Y_adjusted')\n",
    "print()\n",
    "print('CF on OBS vs. 3 step with CF on OBS')\n",
    "_ite_rmse(gt_adjusted_ite_obs, # trained on whole dataset. ground truth\n",
    "          _baseline_cf_OBS_ite_obs, # trained only on obs data after the confounding\n",
    "          _eta_model_cf_3step .predict(X_obs),\n",
    "          omega_obs_pred_cf_3step)\n",
    "print()\n",
    "print('CF on RCT vs. 3 step with CF on OBS')\n",
    "\n",
    "_ite_rmse(gt_adjusted_ite_obs, # trained on whole dataset. ground truth\n",
    "          _baseline_cf_rct_ite_obs, # trained only on obs data after the confounding\n",
    "          _eta_model_cf_3step .predict(X_obs),\n",
    "          omega_obs_pred_cf_3step)\n",
    "\n",
    "print()\n",
    "print('CF on RCT vs. 3 step with CF on ALL')\n",
    "\n",
    "_ite_rmse(gt_adjusted_ite_all, # trained on whole dataset. ground truth\n",
    "          _baseline_cf_rct_ite_all, # trained only on obs data after the confounding\n",
    "          _eta_model_cf_3step .predict(X_all),\n",
    "          omega_all_pred_cf_3step)"
   ]
  },
  {
   "cell_type": "code",
   "execution_count": null,
   "metadata": {},
   "outputs": [],
   "source": []
  },
  {
   "cell_type": "code",
   "execution_count": null,
   "metadata": {},
   "outputs": [],
   "source": [
    "print('GROUND TRUTH regression on Y')\n",
    "print()\n",
    "print('CF on OBS vs. 3 step with CF on OBS')\n",
    "_ite_rmse(gt_regressed_ite_obs, # trained on whole dataset. ground truth\n",
    "          _baseline_cf_OBS_ite_obs, # trained only on obs data after the confounding\n",
    "          _eta_model_cf_3step .predict(X_obs),\n",
    "          omega_obs_pred_cf_3step)\n",
    "print()\n",
    "print('CF on RCT vs. 3 step with CF on OBS')\n",
    "\n",
    "_ite_rmse(gt_regressed_ite_obs, # trained on whole dataset. ground truth\n",
    "          _baseline_cf_rct_ite_obs, # trained only on obs data after the confounding\n",
    "          _eta_model_cf_3step .predict(X_obs),\n",
    "          omega_obs_pred_cf_3step)\n",
    "\n",
    "print()\n",
    "print('CF on RCT vs. 3 step with CF on ALL')\n",
    "\n",
    "_ite_rmse(gt_regressed_ite_all, # trained on whole dataset. ground truth\n",
    "          _baseline_cf_rct_ite_all, # trained only on obs data after the confounding\n",
    "          _eta_model_cf_3step .predict(X_all),\n",
    "          omega_all_pred_cf_3step)\n"
   ]
  },
  {
   "cell_type": "markdown",
   "metadata": {},
   "source": [
    "\n",
    "RMSE table. All numbers reported on the OBS dataset\n",
    "\n",
    "| truth: Y_adj| truth: CF on all | truth: regression on Y |\n",
    "---| --- | --- | --- |\n",
    "method 5 regression| 54.01 | 27.80 | 17.55 |\n",
    "method 2step with int| 63.82 | 29.07| 31.10 |\n",
    "method 2step with cf| 65.33 | 28.00 | 31.43 |\n",
    "method 3step with cd| 70.41 | 3.35 | 26.42 |\n",
    "baseline CF on RCT| 70.42 | 3.03 | 26.44 |\n",
    "baseline CF on OBS| 69.76 | 2.72 | 26.43 |\n",
    "truth: Y_adj (std: 70.28)| - | 70.20| 51.96  |\n",
    "truth: CF on all (std: 1.20)| 70.20 | - | 26.41 |\n",
    "truth: regression on Y (std: 26.56)| 51.96 | 26.41 | - |"
   ]
  },
  {
   "cell_type": "code",
   "execution_count": null,
   "metadata": {},
   "outputs": [],
   "source": [
    "np.std(gt_cf_all_ite_obs), np.std(gt_regressed_ite_obs), np.std(gt_adjusted_ite_obs)"
   ]
  },
  {
   "cell_type": "code",
   "execution_count": null,
   "metadata": {},
   "outputs": [],
   "source": [
    "'CF, regression on Y RMSE',rmse(gt_cf_all_ite_obs, gt_regressed_ite_obs)"
   ]
  },
  {
   "cell_type": "code",
   "execution_count": null,
   "metadata": {},
   "outputs": [],
   "source": [
    "'CF, Y_adjusted RMSE',rmse(gt_cf_all_ite_obs, gt_adjusted_ite_obs)"
   ]
  },
  {
   "cell_type": "code",
   "execution_count": null,
   "metadata": {},
   "outputs": [],
   "source": [
    "'regression on Y, Y_adjusted RMSE',rmse(gt_regressed_ite_obs, gt_adjusted_ite_obs)"
   ]
  },
  {
   "cell_type": "code",
   "execution_count": null,
   "metadata": {},
   "outputs": [],
   "source": [
    "'CF, regression on Y RMSE',rmse(gt_cf_all_ite_obs, gt_adjusted_ite_obs)"
   ]
  },
  {
   "cell_type": "code",
   "execution_count": null,
   "metadata": {},
   "outputs": [],
   "source": [
    "_ite_rmse(_adjusted_ite_obs,\n",
    "          _baseline_ite_obs,\n",
    "          _best_eta_reg_2step.predict(X_obs),\n",
    "          omega_obs_pred_2step)"
   ]
  },
  {
   "cell_type": "code",
   "execution_count": null,
   "metadata": {},
   "outputs": [],
   "source": [
    "plt.hist(_best_eta_reg_2step.predict(X_obs) + omega_obs_pred_2step, bins = 50, alpha=0.5, label='2 step predicted ITE')\n",
    "plt.legend()\n",
    "plt.show()\n",
    "plt.hist(_best_eta_reg_cf_3step.predict(X_obs) + omega_obs_pred_cf_3step, bins = 50, alpha=0.5, label='3(CF on obs/rct) step predicted ITE')\n",
    "plt.legend()\n",
    "plt.show()"
   ]
  },
  {
   "cell_type": "code",
   "execution_count": null,
   "metadata": {},
   "outputs": [],
   "source": [
    "print('CF on RCT v. 3 step method')\n",
    "print('On the obs population')\n",
    "print()\n",
    "_ite_rmse(_adjusted_ite_obs,\n",
    "          _baseline_adjusted_ite_obs,\n",
    "          _eta_model_2ste_with_int.predict(X_obs),\n",
    "          omega_obs_pred_2step_interaction)"
   ]
  },
  {
   "cell_type": "code",
   "execution_count": null,
   "metadata": {},
   "outputs": [],
   "source": [
    "print('CF on RCT v. 3 step method')\n",
    "print('On the urban population')\n",
    "print()\n",
    "_ite_rmse(_adjusted_ite_ur,\n",
    "          _baseline_adjusted_ite_obs,\n",
    "          _eta_model_2ste_with_int.predict(X_obs),\n",
    "          omega_obs_pred_2step_interaction)"
   ]
  },
  {
   "cell_type": "code",
   "execution_count": null,
   "metadata": {},
   "outputs": [],
   "source": [
    "_ite_rmse(_adjusted_ite_obs,\n",
    "          _baseline_ite_obs,\n",
    "           _best_eta_reg_cf_3step.predict(X_obs),\n",
    "          omega_obs_pred_cf_3step)"
   ]
  },
  {
   "cell_type": "code",
   "execution_count": null,
   "metadata": {},
   "outputs": [],
   "source": [
    "_ite_rmse(_adjusted_ite_urban,\n",
    "          _baseline_adjusted_ite_urban,\n",
    "           _best_eta_reg_cf_3step.predict(X_urban),\n",
    "          _baseline_ite_urban)"
   ]
  },
  {
   "cell_type": "code",
   "execution_count": null,
   "metadata": {},
   "outputs": [],
   "source": [
    "_ite_rmse(gt_adjusted_ite_urban,\n",
    "          ite_urban,\n",
    "           _best_eta_reg_cf_3step.predict(X_urban),\n",
    "          _baseline_ite_urban)"
   ]
  },
  {
   "cell_type": "code",
   "execution_count": null,
   "metadata": {},
   "outputs": [],
   "source": [
    "plt.hist(ite_urban, alpha=0.5, label='CF')\n",
    "plt.hist(_adjusted_ite_urban, alpha=0.5, label='Y_adj')\n",
    "plt.hist(gt_adjusted_ite_urban, alpha=0.5, label='Y_adj pred')\n",
    "plt.legend()\n",
    "plt.show()"
   ]
  },
  {
   "cell_type": "code",
   "execution_count": null,
   "metadata": {},
   "outputs": [],
   "source": [
    "_ite_rmse(gt_regressed_ite_urban,\n",
    "          _baseline_ite_urban,\n",
    "           _best_eta_reg_cf_3step.predict(X_urban),\n",
    "          _baseline_ite_urban)"
   ]
  },
  {
   "cell_type": "code",
   "execution_count": null,
   "metadata": {},
   "outputs": [],
   "source": [
    "print('CF on RCT v. 2 step method')\n",
    "print('On the urban population')\n",
    "print()\n",
    "_ite_rmse(gt_regressed_ite_urban,\n",
    "          _baseline_rct_ite_urban,\n",
    "           _best_eta_reg_2step.predict(X_urban),\n",
    "          _baseline_ite_urban)"
   ]
  },
  {
   "cell_type": "code",
   "execution_count": null,
   "metadata": {},
   "outputs": [],
   "source": [
    "np.std(gt_adjusted_ite_urban), np.std(gt_regressed_ite_urban)"
   ]
  },
  {
   "cell_type": "code",
   "execution_count": null,
   "metadata": {},
   "outputs": [],
   "source": [
    "print('CF on RCT v. 3 step method')\n",
    "print('On the urban population')\n",
    "print()\n",
    "_ite_rmse(ite_urban,\n",
    "          _baseline_rct_ite_urban,\n",
    "          _best_eta_reg_cf_3step.predict(X_urban),\n",
    "          _baseline_ite_urban)"
   ]
  },
  {
   "cell_type": "code",
   "execution_count": null,
   "metadata": {},
   "outputs": [],
   "source": [
    "plt.hist(_best_eta_reg_cf_3step.predict(X_urban),  bins=40)\n",
    "plt.show()"
   ]
  },
  {
   "cell_type": "code",
   "execution_count": null,
   "metadata": {},
   "outputs": [],
   "source": [
    "print('std of ite (CF on all) of urban population ',np.std(ite_urban))\n",
    "print('std of ite (CF on all) of whole population ',np.std(ite_all))"
   ]
  },
  {
   "cell_type": "code",
   "execution_count": null,
   "metadata": {},
   "outputs": [],
   "source": [
    "print('std of ite (regression) of urban population ',np.std(gt_regressed_ite_urban))\n",
    "print('std of ite (regression) of whole population ',np.std(gt_regressed_ite_all))"
   ]
  },
  {
   "cell_type": "code",
   "execution_count": null,
   "metadata": {},
   "outputs": [],
   "source": [
    "plt.hist(gt_regressed_ite_all, bins=40, alpha=0.5)\n",
    "plt.show()\n",
    "\n",
    "plt.hist(gt_regressed_ite_urban, bins=40, alpha=0.5)\n",
    "plt.show()"
   ]
  },
  {
   "cell_type": "code",
   "execution_count": null,
   "metadata": {},
   "outputs": [],
   "source": [
    "np.std(_baseline_adjusted_ite_all)"
   ]
  },
  {
   "cell_type": "code",
   "execution_count": null,
   "metadata": {},
   "outputs": [],
   "source": [
    "'std of ite using CF on all', np.std(ite_all)"
   ]
  },
  {
   "cell_type": "code",
   "execution_count": null,
   "metadata": {},
   "outputs": [],
   "source": [
    "print('std of ite adjusted outcome (all)', np.std(_adjusted_ite_all))\n",
    "print('std of ite adjusted outcome (obs)', np.std(_adjusted_ite_obs))"
   ]
  },
  {
   "cell_type": "code",
   "execution_count": null,
   "metadata": {},
   "outputs": [],
   "source": [
    "np.mean(Y_all[T_all==1]) - np.mean(Y_all[T_all==0])"
   ]
  },
  {
   "cell_type": "code",
   "execution_count": null,
   "metadata": {},
   "outputs": [],
   "source": [
    "print('ATE from data   : ', np.mean(Y_all[T_all==1]) - np.mean(Y_all[T_all==0]))\n",
    "print('2step cf ATE    : ', np.mean(_best_eta_reg_2step.predict(X_obs) + omega_obs_pred_2step))\n",
    "print('2step interact  : ', np.mean(_eta_model_2ste_with_int.predict(X_obs) + omega_obs_pred_2step_interaction))\n",
    "print('cf 5000 trees   : ', np.mean(omega_obs_pred_2step))\n",
    "print('regressions     : ', np.mean(_omega_obs_pred_allreg))\n",
    "print('4 regressions   : ', np.mean(_eta_pred_model_allreg.predict(X_obs).ravel() + _omega_obs_pred_allreg))\n",
    "print('cf on obs       : ', np.mean(_baseline_ite_obs))\n",
    "print('cf on rct       : ', np.mean(_baseline_rct_ite_obs))"
   ]
  },
  {
   "cell_type": "code",
   "execution_count": null,
   "metadata": {},
   "outputs": [],
   "source": [
    "plt.hist(_baseline_rct_ite_obs, label='CF on RCT ite', alpha=0.5)\n",
    "plt.hist(ite_obs, label='CF on all ite', alpha=0.5)\n",
    "plt.legend()\n",
    "plt.show()\n",
    "\n",
    "# plt.hist(ite_obs)\n",
    "# plt.show()"
   ]
  },
  {
   "cell_type": "code",
   "execution_count": null,
   "metadata": {},
   "outputs": [],
   "source": [
    "plt.hist(ite_all, alpha=0.4, label='CF(all) on obs', normed=True, bins=30)\n",
    "plt.hist(ite_rct, alpha=0.4, label='CF(all) on rct', normed=True, bins=30)\n",
    "plt.legend()\n",
    "plt.show()"
   ]
  },
  {
   "cell_type": "code",
   "execution_count": null,
   "metadata": {
    "scrolled": false
   },
   "outputs": [],
   "source": [
    "plt.hist(_baseline_ite_obs, bins=30)\n",
    "plt.show()\n",
    "plt.hist(_baseline_rct_ite_obs, bins=30)\n",
    "plt.show()"
   ]
  },
  {
   "cell_type": "code",
   "execution_count": null,
   "metadata": {},
   "outputs": [],
   "source": [
    "np.std(Y_all), np.std(Y_obs), np.std(Y_rct)"
   ]
  },
  {
   "cell_type": "code",
   "execution_count": null,
   "metadata": {},
   "outputs": [],
   "source": [
    "rmse(_baseline_rct_ite_obs, ite_obs)"
   ]
  },
  {
   "cell_type": "code",
   "execution_count": null,
   "metadata": {},
   "outputs": [],
   "source": []
  },
  {
   "cell_type": "code",
   "execution_count": null,
   "metadata": {},
   "outputs": [],
   "source": [
    "_rc"
   ]
  },
  {
   "cell_type": "code",
   "execution_count": null,
   "metadata": {},
   "outputs": [],
   "source": [
    "run_allregression_method?"
   ]
  },
  {
   "cell_type": "code",
   "execution_count": 36,
   "metadata": {},
   "outputs": [],
   "source": [
    "_ite_all_model = cf(X_all,\n",
    "                        Y_all.reshape(-1,1),\n",
    "                        T_all.astype(np.int).reshape(-1,1),\n",
    "                        num_trees=5000,\n",
    "                        tune_parameters=True)\n",
    "\n",
    "_baseline_cf_all_pred_all = np.array(grf.predict_causal_forest(_ite_all_model, X_all)[0]).ravel()"
   ]
  },
  {
   "cell_type": "code",
   "execution_count": 37,
   "metadata": {},
   "outputs": [
    {
     "name": "stdout",
     "output_type": "stream",
     "text": [
      "Fitting 2 folds for each of 8 candidates, totalling 16 fits\n"
     ]
    },
    {
     "name": "stderr",
     "output_type": "stream",
     "text": [
      "[Parallel(n_jobs=10)]: Done  14 out of  16 | elapsed:   14.1s remaining:    2.0s\n",
      "[Parallel(n_jobs=10)]: Done  16 out of  16 | elapsed:   17.7s finished\n"
     ]
    },
    {
     "name": "stdout",
     "output_type": "stream",
     "text": [
      "RandomForestRegressor(bootstrap=True, criterion='mse', max_depth=None,\n",
      "           max_features='auto', max_leaf_nodes=None,\n",
      "           min_impurity_decrease=0.0, min_impurity_split=None,\n",
      "           min_samples_leaf=1, min_samples_split=2,\n",
      "           min_weight_fraction_leaf=0.0, n_estimators=200, n_jobs=1,\n",
      "           oob_score=False, random_state=None, verbose=0, warm_start=False) val rmse:25.52289241701434\n"
     ]
    }
   ],
   "source": [
    "_best_rfr_ALL_model = get_best_model_from_gridcv(X_all, ite_adjusted_outcome(Y_all,\n",
    "                                                                             T_all,\n",
    "                                                                             _propensity = _propensity_all,\n",
    "                                                                             c=_mean_outcome), rfr_reg_parameter_pairs, verbose=1)"
   ]
  },
  {
   "cell_type": "code",
   "execution_count": 78,
   "metadata": {},
   "outputs": [],
   "source": [
    "def get_best_rfr_difference_pred(X, Y, T, X_to_eval):\n",
    "     \n",
    "    f1_rfr_model = get_best_model_from_gridcv(X[T==1], Y[T==1], rfr_reg_parameter_pairs)\n",
    "    f0_rfr_model = get_best_model_from_gridcv(X[T==0], Y[T==0], rfr_reg_parameter_pairs)\n",
    "    \n",
    "    omega_eval_pred = f1_rfr_model.predict(X_to_eval).ravel() - f0_rfr_model.predict(X_to_eval).ravel()\n",
    "    \n",
    "    return omega_eval_pred\n",
    "\n",
    "def get_best_ridge_difference_pred(X, Y, T, X_to_eval):    \n",
    "    f1_ridge_model = get_best_model_from_gridcv(X[T==1], Y[T==1], linear_reg_parameter_pairs)\n",
    "    f0_ridge_model = get_best_model_from_gridcv(X[T==0], Y[T==0], linear_reg_parameter_pairs)\n",
    "    \n",
    "    omega_eval_pred = f1_ridge_model.predict(X_to_eval).ravel() - f0_ridge_model.predict(X_to_eval).ravel()    \n",
    "    \n",
    "    return omega_eval_pred"
   ]
  },
  {
   "cell_type": "code",
   "execution_count": 84,
   "metadata": {},
   "outputs": [],
   "source": [
    "def _full_experiment(rct_fraction_of_rural = 0.5, storage_folder = None):\n",
    "    # X_rct, Y_rct, T_rct, X_obs, Y_obs, T_obs, X_not_rct, Y_not_rct, T_not_rct \n",
    "    X_rct, Y_rct, T_rct, X_obs, Y_obs, T_obs, X_eval, Y_eval, T_eval = _generate_rct_obs(X_rural,\n",
    "                                                                                                  Y_rural,\n",
    "                                                                                                  T_rural,\n",
    "                                                                                                  X_urban,\n",
    "                                                                                                  Y_urban,\n",
    "                                                                                              T_urban,\n",
    "                                                                                                  rct_fraction_of_rural = rct_fraction_of_rural)\n",
    "\n",
    "    _baseline_cf_ALL_pred_eval= np.array(grf.predict_causal_forest(_ite_all_model, X_eval)[0]).ravel()\n",
    "    \n",
    "    Y_adj_eval = ite_adjusted_outcome(Y_eval, T_eval, _propensity = _propensity_all, c = _mean_outcome)\n",
    "    Y_adj_rct = ite_adjusted_outcome(Y_rct, T_rct, _propensity = _propensity_all, c=_mean_outcome)\n",
    "    \n",
    "    # RCT models\n",
    "    _best_rct_rfr_adj_model = get_best_model_from_gridcv(X_rct, Y_adj_rct, rfr_reg_parameter_pairs)\n",
    "    _best_rct_ridge_adj_model = get_best_model_from_gridcv(X_rct, Y_adj_rct, linear_reg_parameter_pairs)\n",
    "    \n",
    "    # rct preds\n",
    "    _ite_pred_rct_rfr_adj = _best_rct_rfr_adj_model.predict(X_eval)\n",
    "    _ite_pred_rct_ridge_adj = _best_rct_ridge_adj_model.predict(X_eval)  \n",
    "    _ite_pred_rct_rfr_diff = get_best_rfr_difference_pred(X_rct, Y_rct, T_rct, X_eval)\n",
    "    _ite_pred_rct_ridge_diff = get_best_ridge_difference_pred(X_rct, Y_rct, T_rct, X_eval)\n",
    "    \n",
    "    # obs preds\n",
    "    _ite_pred_obs_rfr_diff = get_best_rfr_difference_pred(X_obs, Y_obs, T_obs, X_eval)\n",
    "    _ite_pred_obs_ridge_diff = get_best_ridge_difference_pred(X_obs, Y_obs, T_obs, X_eval)\n",
    "    \n",
    "    # 2 step methods\n",
    "    _eta_2step_model, _omega_obs_pred_2step, _omega_all_pred_2step, _omega_eval_pred_2step = run_method(X_rct, Y_rct, T_rct, X_obs, Y_obs, T_obs, X_eval)\n",
    "    _eta_ridge_2step_model, _omega_obs_pred_ridge_2step, _omega_all_pred_ridge_2step, _omega_eval_pred_ridge_2step = run_method_with_ridge(X_rct, Y_rct, T_rct, X_obs, Y_obs, T_obs, X_eval)\n",
    "    \n",
    "    assert(_omega_eval_pred_2step.shape == _baseline_cf_ALL_pred_eval.shape)\n",
    "    \n",
    "    _tau_pred_eval_2step = _eta_2step_model.predict(X_eval).ravel() + _omega_eval_pred_2step.ravel()\n",
    "    _tau_pred_eval_ridge_2step = _eta_ridge_2step_model.predict(X_eval).ravel() + _omega_eval_pred_ridge_2step.ravel()\n",
    "    \n",
    "    _error_rct_pred_eval = rmse(_best_rct_ridge_adj_model.predict(X_eval), Y_adj_eval)\n",
    "    _error_obs_pred_eval = rmse(_ite_pred_obs_ridge_diff, Y_adj_eval)\n",
    "    \n",
    "    return {\n",
    "        '2 step rfr':       rmse(Y_adj_eval, _tau_pred_eval_2step),\n",
    "        '2 step ridge':     rmse(Y_adj_eval, _tau_pred_eval_ridge_2step),\n",
    "        'ridge RCT':        rmse(Y_adj_eval, _ite_pred_rct_ridge_adj),\n",
    "        'ridge DIFF(RCT) ': rmse(Y_adj_eval, _ite_pred_rct_rfr_diff),\n",
    "        'RFR (RCT) ':       rmse(Y_adj_eval, _ite_pred_rct_rfr_adj),\n",
    "        'RFR DIFF(RCT) ':   rmse(Y_adj_eval, _ite_pred_rct_rfr_diff),\n",
    "        'ridge DIFF OBS':   rmse(Y_adj_eval, _ite_pred_obs_ridge_diff),\n",
    "        'RFR DIFF(OBS)':    rmse(Y_adj_eval, _ite_pred_obs_rfr_diff),\n",
    "        'RFR (ALL)':        rmse(Y_adj_eval, _best_rfr_ALL_model.predict(X_eval)),\n",
    "        'CF on ALL':        rmse(Y_adj_eval, _baseline_cf_ALL_pred_eval),\n",
    "        'std Y_adj': np.std(Y_adj_eval)\n",
    "    }\n",
    "    \n",
    "#     return _results\n",
    "    "
   ]
  },
  {
   "cell_type": "code",
   "execution_count": 93,
   "metadata": {
    "scrolled": true
   },
   "outputs": [
    {
     "name": "stdout",
     "output_type": "stream",
     "text": [
      "{'2 step rfr': 74.15511314304062, '2 step ridge': 72.41221132351792, 'ridge RCT': 74.29296293448122, 'ridge DIFF(RCT) ': 77.62831218348074, 'RFR (RCT) ': 73.30387332796231, 'RFR DIFF(RCT) ': 77.62831218348074, 'ridge DIFF OBS': 82.34152268771842, 'RFR DIFF(OBS)': 83.1996233481951, 'RFR (ALL)': 25.490177949876472, 'CF on ALL': 78.02762767215846, 'std Y_adj': 78.086576723828}\n",
      "{'2 step rfr': 77.52178274214269, '2 step ridge': 77.1568654871584, 'ridge RCT': 78.97209493076912, 'ridge DIFF(RCT) ': 82.57776988673369, 'RFR (RCT) ': 79.21426526415003, 'RFR DIFF(RCT) ': 82.57776988673369, 'ridge DIFF OBS': 86.29860808118926, 'RFR DIFF(OBS)': 86.79470648378376, 'RFR (ALL)': 25.472156946971065, 'CF on ALL': 81.70032493741407, 'std Y_adj': 81.55401630123772}\n",
      "{'2 step rfr': 72.97491789814163, '2 step ridge': 72.00833003964487, 'ridge RCT': 73.80219949128755, 'ridge DIFF(RCT) ': 77.90396563353595, 'RFR (RCT) ': 74.3066323988928, 'RFR DIFF(RCT) ': 77.90396563353595, 'ridge DIFF OBS': 79.14882067136801, 'RFR DIFF(OBS)': 80.28107638054907, 'RFR (ALL)': 25.289492347210615, 'CF on ALL': 76.50144898278111, 'std Y_adj': 76.60109601142355}\n",
      "{'2 step rfr': 73.61236206017269, '2 step ridge': 72.73752453522499, 'ridge RCT': 74.23812286138279, 'ridge DIFF(RCT) ': 77.61312228197383, 'RFR (RCT) ': 74.84200121950175, 'RFR DIFF(RCT) ': 77.61312228197383, 'ridge DIFF OBS': 82.95963041228217, 'RFR DIFF(OBS)': 84.21575273592138, 'RFR (ALL)': 24.026750518404686, 'CF on ALL': 78.3746126696932, 'std Y_adj': 78.38314736803535}\n",
      "{'2 step rfr': 75.43581942630199, '2 step ridge': 73.64936175027727, 'ridge RCT': 75.24808754292918, 'ridge DIFF(RCT) ': 78.83182604219661, 'RFR (RCT) ': 77.1513994816454, 'RFR DIFF(RCT) ': 78.83182604219661, 'ridge DIFF OBS': 84.43785302657915, 'RFR DIFF(OBS)': 85.92556376238245, 'RFR (ALL)': 25.519497106368323, 'CF on ALL': 78.53116964931485, 'std Y_adj': 78.53444825352945}\n",
      "{'2 step rfr': 75.1281051736104, '2 step ridge': 74.70026081190719, 'ridge RCT': 76.28240905911926, 'ridge DIFF(RCT) ': 78.92849395862277, 'RFR (RCT) ': 76.41201105010549, 'RFR DIFF(RCT) ': 78.92849395862277, 'ridge DIFF OBS': 85.42972090158693, 'RFR DIFF(OBS)': 86.58636341543479, 'RFR (ALL)': 24.84243139258834, 'CF on ALL': 79.46588690984295, 'std Y_adj': 79.28636313835376}\n",
      "{'2 step rfr': 75.95690540380149, '2 step ridge': 75.48920464309545, 'ridge RCT': 77.28699578567564, 'ridge DIFF(RCT) ': 80.5023688099823, 'RFR (RCT) ': 76.48524871512062, 'RFR DIFF(RCT) ': 80.5023688099823, 'ridge DIFF OBS': 85.63389885458857, 'RFR DIFF(OBS)': 86.01627437176238, 'RFR (ALL)': 25.39124171850057, 'CF on ALL': 80.95419017695947, 'std Y_adj': 81.0101967966669}\n",
      "{'2 step rfr': 76.32372564480676, '2 step ridge': 75.03492572564785, 'ridge RCT': 76.78783800066662, 'ridge DIFF(RCT) ': 80.34173459364635, 'RFR (RCT) ': 76.63331326772129, 'RFR DIFF(RCT) ': 80.34173459364635, 'ridge DIFF OBS': 86.5396130320026, 'RFR DIFF(OBS)': 87.58204400391756, 'RFR (ALL)': 24.95883368899084, 'CF on ALL': 80.30917275683645, 'std Y_adj': 79.99679237150158}\n",
      "{'2 step rfr': 74.20731793107869, '2 step ridge': 75.50428131596752, 'ridge RCT': 77.36965947278377, 'ridge DIFF(RCT) ': 80.38270706269736, 'RFR (RCT) ': 77.50160877667294, 'RFR DIFF(RCT) ': 80.38270706269736, 'ridge DIFF OBS': 83.99054085140835, 'RFR DIFF(OBS)': 82.15890453094444, 'RFR (ALL)': 25.931213418890476, 'CF on ALL': 80.7539072849597, 'std Y_adj': 80.83777340890357}\n",
      "{'2 step rfr': 75.246076384878, '2 step ridge': 74.2109211198641, 'ridge RCT': 76.01057284984239, 'ridge DIFF(RCT) ': 79.89844895894034, 'RFR (RCT) ': 76.4465229262486, 'RFR DIFF(RCT) ': 79.89844895894034, 'ridge DIFF OBS': 83.23954373637943, 'RFR DIFF(OBS)': 84.50459625543245, 'RFR (ALL)': 26.388833387080005, 'CF on ALL': 79.40830915549812, 'std Y_adj': 79.48926570927483}\n",
      "{'2 step rfr': 71.49622486643541, '2 step ridge': 72.81696494202218, 'ridge RCT': 74.52496397623933, 'ridge DIFF(RCT) ': 78.07256538146585, 'RFR (RCT) ': 75.95835546808748, 'RFR DIFF(RCT) ': 78.07256538146585, 'ridge DIFF OBS': 81.68162738483178, 'RFR DIFF(OBS)': 81.73620520737077, 'RFR (ALL)': 24.789505343433248, 'CF on ALL': 77.41433031302724, 'std Y_adj': 77.35532310350628}\n",
      "{'2 step rfr': 70.71094286572301, '2 step ridge': 72.74437231293493, 'ridge RCT': 74.46203646377627, 'ridge DIFF(RCT) ': 78.55158608566289, 'RFR (RCT) ': 75.53586874816166, 'RFR DIFF(RCT) ': 78.55158608566289, 'ridge DIFF OBS': 82.36583050391006, 'RFR DIFF(OBS)': 80.20590110762869, 'RFR (ALL)': 25.02437450550087, 'CF on ALL': 78.3974210127331, 'std Y_adj': 78.4775503218619}\n",
      "{'2 step rfr': 76.5847522598322, '2 step ridge': 74.29955212900346, 'ridge RCT': 77.50308835339645, 'ridge DIFF(RCT) ': 79.4387875258942, 'RFR (RCT) ': 76.12250442156724, 'RFR DIFF(RCT) ': 79.4387875258942, 'ridge DIFF OBS': 83.86890743626198, 'RFR DIFF(OBS)': 81.52016668695732, 'RFR (ALL)': 25.28229811740097, 'CF on ALL': 79.23374423133461, 'std Y_adj': 79.3230239206647}\n",
      "{'2 step rfr': 75.29547426453148, '2 step ridge': 74.44897809609715, 'ridge RCT': 76.25399359402675, 'ridge DIFF(RCT) ': 79.66384966196222, 'RFR (RCT) ': 75.66149277903146, 'RFR DIFF(RCT) ': 79.66384966196222, 'ridge DIFF OBS': 83.93398239678133, 'RFR DIFF(OBS)': 85.60218558256122, 'RFR (ALL)': 26.036601233139105, 'CF on ALL': 79.64614499624501, 'std Y_adj': 79.6432375652016}\n",
      "{'2 step rfr': 77.71612595865689, '2 step ridge': 76.12021155060228, 'ridge RCT': 78.11494071641705, 'ridge DIFF(RCT) ': 81.52494029966563, 'RFR (RCT) ': 79.6708234754764, 'RFR DIFF(RCT) ': 81.52494029966563, 'ridge DIFF OBS': 85.83315261984527, 'RFR DIFF(OBS)': 87.4798658544153, 'RFR (ALL)': 25.435368982379142, 'CF on ALL': 81.08299360997539, 'std Y_adj': 81.01082071823382}\n",
      "{'2 step rfr': 75.32214435446923, '2 step ridge': 76.48340396927863, 'ridge RCT': 78.22702927887212, 'ridge DIFF(RCT) ': 81.66523273390307, 'RFR (RCT) ': 79.87750674590349, 'RFR DIFF(RCT) ': 81.66523273390307, 'ridge DIFF OBS': 86.33531177186174, 'RFR DIFF(OBS)': 85.0614777033737, 'RFR (ALL)': 25.818713527530235, 'CF on ALL': 81.19309318565344, 'std Y_adj': 81.17728536944783}\n",
      "{'2 step rfr': 73.40691805815153, '2 step ridge': 72.49207566037059, 'ridge RCT': 74.44451097253652, 'ridge DIFF(RCT) ': 77.53051959737105, 'RFR (RCT) ': 74.29423756802282, 'RFR DIFF(RCT) ': 77.53051959737105, 'ridge DIFF OBS': 81.45981016966307, 'RFR DIFF(OBS)': 81.72078982524398, 'RFR (ALL)': 24.63348803131555, 'CF on ALL': 77.46949080645882, 'std Y_adj': 77.52251023065028}\n",
      "{'2 step rfr': 73.62029833854444, '2 step ridge': 75.00252939536799, 'ridge RCT': 76.66214739499381, 'ridge DIFF(RCT) ': 79.9240482434717, 'RFR (RCT) ': 77.4006278661232, 'RFR DIFF(RCT) ': 79.9240482434717, 'ridge DIFF OBS': 84.55727983444034, 'RFR DIFF(OBS)': 83.24166591293924, 'RFR (ALL)': 25.946168898583885, 'CF on ALL': 80.31645783264341, 'std Y_adj': 80.29890389872219}\n",
      "{'2 step rfr': 72.41984897026165, '2 step ridge': 73.50689760090948, 'ridge RCT': 75.28342546440406, 'ridge DIFF(RCT) ': 80.0378706383319, 'RFR (RCT) ': 74.70496420358883, 'RFR DIFF(RCT) ': 80.0378706383319, 'ridge DIFF OBS': 83.86269207589288, 'RFR DIFF(OBS)': 85.17225910849433, 'RFR (ALL)': 25.13507173883264, 'CF on ALL': 79.80629854107696, 'std Y_adj': 79.91747229613337}\n",
      "{'2 step rfr': 73.93770492296241, '2 step ridge': 73.00567066413046, 'ridge RCT': 75.06586535551781, 'ridge DIFF(RCT) ': 78.43887790387633, 'RFR (RCT) ': 74.86452626861676, 'RFR DIFF(RCT) ': 78.43887790387633, 'ridge DIFF OBS': 80.50610095011558, 'RFR DIFF(OBS)': 81.54497176206536, 'RFR (ALL)': 24.356343685811307, 'CF on ALL': 77.78057901252296, 'std Y_adj': 77.84283016782985}\n",
      "{'2 step rfr': 73.65531697545661, '2 step ridge': 72.54606929328509, 'ridge RCT': 74.49446048145539, 'ridge DIFF(RCT) ': 78.66085410334237, 'RFR (RCT) ': 75.46209475749468, 'RFR DIFF(RCT) ': 78.66085410334237, 'ridge DIFF OBS': 83.67783089619232, 'RFR DIFF(OBS)': 84.93414832062135, 'RFR (ALL)': 24.223874277941686, 'CF on ALL': 78.64172009656554, 'std Y_adj': 78.60398756852486}\n",
      "{'2 step rfr': 73.24816461025004, '2 step ridge': 72.30411277142142, 'ridge RCT': 74.20377302284922, 'ridge DIFF(RCT) ': 77.37074934861322, 'RFR (RCT) ': 74.33849996079125, 'RFR DIFF(RCT) ': 77.37074934861322, 'ridge DIFF OBS': 81.49847121583326, 'RFR DIFF(OBS)': 82.80256226620251, 'RFR (ALL)': 24.30470872652827, 'CF on ALL': 77.4643171005857, 'std Y_adj': 77.54438310879638}\n"
     ]
    },
    {
     "name": "stdout",
     "output_type": "stream",
     "text": [
      "{'2 step rfr': 77.64847636345662, '2 step ridge': 76.03365294280242, 'ridge RCT': 77.84992940328178, 'ridge DIFF(RCT) ': 80.02801104637342, 'RFR (RCT) ': 76.89031337838365, 'RFR DIFF(RCT) ': 80.02801104637342, 'ridge DIFF OBS': 85.30917976722228, 'RFR DIFF(OBS)': 86.90466161905438, 'RFR (ALL)': 25.64695283821415, 'CF on ALL': 80.85949036214527, 'std Y_adj': 80.87190879468127}\n",
      "{'2 step rfr': 75.92452918391498, '2 step ridge': 74.73314353434118, 'ridge RCT': 76.44994767693076, 'ridge DIFF(RCT) ': 79.50842768808104, 'RFR (RCT) ': 77.58032639145726, 'RFR DIFF(RCT) ': 79.50842768808104, 'ridge DIFF OBS': 84.67266313773828, 'RFR DIFF(OBS)': 86.15232692760893, 'RFR (ALL)': 25.610212381227043, 'CF on ALL': 79.52259522063012, 'std Y_adj': 79.38817494992948}\n",
      "{'2 step rfr': 72.6162984245188, '2 step ridge': 74.12670715467097, 'ridge RCT': 75.7813849203114, 'ridge DIFF(RCT) ': 79.24519178898295, 'RFR (RCT) ': 76.00092221955558, 'RFR DIFF(RCT) ': 79.24519178898295, 'ridge DIFF OBS': 83.29737771589997, 'RFR DIFF(OBS)': 81.77262155308354, 'RFR (ALL)': 25.56981363209781, 'CF on ALL': 78.80232465599778, 'std Y_adj': 78.80503507038937}\n",
      "{'2 step rfr': 71.34639504491233, '2 step ridge': 72.78508770414449, 'ridge RCT': 74.20818072440605, 'ridge DIFF(RCT) ': 79.38913327154995, 'RFR (RCT) ': 75.08123999517417, 'RFR DIFF(RCT) ': 79.38913327154995, 'ridge DIFF OBS': 84.98793181822754, 'RFR DIFF(OBS)': 83.33193099429862, 'RFR (ALL)': 24.48592928806743, 'CF on ALL': 78.07624362049981, 'std Y_adj': 77.8562588267352}\n",
      "{'2 step rfr': 74.30309991593165, '2 step ridge': 72.77413308977042, 'ridge RCT': 74.52140531105381, 'ridge DIFF(RCT) ': 77.85027026088842, 'RFR (RCT) ': 75.66980286293074, 'RFR DIFF(RCT) ': 77.85027026088842, 'ridge DIFF OBS': 81.77048801867994, 'RFR DIFF(OBS)': 83.29036207459836, 'RFR (ALL)': 25.03968358675132, 'CF on ALL': 77.07954985334857, 'std Y_adj': 77.18392441617355}\n",
      "{'2 step rfr': 78.26328112454611, '2 step ridge': 77.3264849516361, 'ridge RCT': 78.9604726454408, 'ridge DIFF(RCT) ': 81.60261560777315, 'RFR (RCT) ': 79.89123484528788, 'RFR DIFF(RCT) ': 81.60261560777315, 'ridge DIFF OBS': 86.28744039355867, 'RFR DIFF(OBS)': 87.15852263336352, 'RFR (ALL)': 25.79161875713367, 'CF on ALL': 81.75713940027504, 'std Y_adj': 81.76790589518562}\n",
      "{'2 step rfr': 75.15078555342893, '2 step ridge': 73.77783689983548, 'ridge RCT': 75.68086652549206, 'ridge DIFF(RCT) ': 79.09129767095169, 'RFR (RCT) ': 74.74790698587907, 'RFR DIFF(RCT) ': 79.09129767095169, 'ridge DIFF OBS': 84.03567315469034, 'RFR DIFF(OBS)': 85.00710162318028, 'RFR (ALL)': 25.75466847251318, 'CF on ALL': 79.53862217032408, 'std Y_adj': 79.53471923834302}\n",
      "{'2 step rfr': 75.56110284604607, '2 step ridge': 74.89735869948409, 'ridge RCT': 76.21662096883112, 'ridge DIFF(RCT) ': 79.09857909680889, 'RFR (RCT) ': 77.09249773021652, 'RFR DIFF(RCT) ': 79.09857909680889, 'ridge DIFF OBS': 82.6033602224832, 'RFR DIFF(OBS)': 83.11833466099526, 'RFR (ALL)': 25.70170436109877, 'CF on ALL': 79.13047238282802, 'std Y_adj': 79.25623879618352}\n",
      "{'2 step rfr': 74.27426565231632, '2 step ridge': 73.73955080757587, 'ridge RCT': 75.5884605838531, 'ridge DIFF(RCT) ': 80.4964704073922, 'RFR (RCT) ': 76.34953068955792, 'RFR DIFF(RCT) ': 80.4964704073922, 'ridge DIFF OBS': 83.53747466728194, 'RFR DIFF(OBS)': 84.05131175703737, 'RFR (ALL)': 25.398074966837434, 'CF on ALL': 79.44210462543359, 'std Y_adj': 79.49455678010072}\n",
      "{'2 step rfr': 75.72720081687685, '2 step ridge': 74.3425081772724, 'ridge RCT': 75.86634853069584, 'ridge DIFF(RCT) ': 78.91526581740716, 'RFR (RCT) ': 74.68950332747683, 'RFR DIFF(RCT) ': 78.91526581740716, 'ridge DIFF OBS': 84.9646760425926, 'RFR DIFF(OBS)': 85.86127552236188, 'RFR (ALL)': 24.93320394357149, 'CF on ALL': 79.04545551897151, 'std Y_adj': 79.0307061962629}\n",
      "{'2 step rfr': 70.8357572584487, '2 step ridge': 70.64845901973887, 'ridge RCT': 72.52947616864084, 'ridge DIFF(RCT) ': 75.82459827250153, 'RFR (RCT) ': 72.57300442775913, 'RFR DIFF(RCT) ': 75.82459827250153, 'ridge DIFF OBS': 79.12392466058135, 'RFR DIFF(OBS)': 79.47824856947119, 'RFR (ALL)': 24.07912400177056, 'CF on ALL': 75.9427264416999, 'std Y_adj': 76.03545446443856}\n",
      "{'2 step rfr': 74.53294214574322, '2 step ridge': 72.93621199040855, 'ridge RCT': 74.8580610240687, 'ridge DIFF(RCT) ': 77.65911024601212, 'RFR (RCT) ': 75.24284138273488, 'RFR DIFF(RCT) ': 77.65911024601212, 'ridge DIFF OBS': 82.17211337915282, 'RFR DIFF(OBS)': 83.43249629644822, 'RFR (ALL)': 25.509183417775095, 'CF on ALL': 78.17408399003224, 'std Y_adj': 78.21836424690542}\n",
      "{'2 step rfr': 74.9461783478053, '2 step ridge': 73.97016117474432, 'ridge RCT': 75.63474053303638, 'ridge DIFF(RCT) ': 78.63427281833486, 'RFR (RCT) ': 78.25143379905383, 'RFR DIFF(RCT) ': 78.63427281833486, 'ridge DIFF OBS': 83.47343671214287, 'RFR DIFF(OBS)': 84.58747432254323, 'RFR (ALL)': 25.820871083994497, 'CF on ALL': 78.5789007679078, 'std Y_adj': 78.59601196381446}\n",
      "{'2 step rfr': 75.25458292254493, '2 step ridge': 74.97692251268812, 'ridge RCT': 76.74592920089444, 'ridge DIFF(RCT) ': 79.97690924670987, 'RFR (RCT) ': 77.84551790578246, 'RFR DIFF(RCT) ': 79.97690924670987, 'ridge DIFF OBS': 84.5991980904206, 'RFR DIFF(OBS)': 85.14429834731, 'RFR (ALL)': 24.888823773348168, 'CF on ALL': 79.03313480241827, 'std Y_adj': 78.87044858344916}\n",
      "{'2 step rfr': 78.0675239316137, '2 step ridge': 77.48175976888295, 'ridge RCT': 78.97271599910712, 'ridge DIFF(RCT) ': 80.28510003816582, 'RFR (RCT) ': 80.12385778500024, 'RFR DIFF(RCT) ': 80.28510003816582, 'ridge DIFF OBS': 82.09754066719955, 'RFR DIFF(OBS)': 83.3174069454186, 'RFR (ALL)': 26.1416020201287, 'CF on ALL': 80.37395722588947, 'std Y_adj': 80.47450498828856}\n",
      "{'2 step rfr': 72.22051940917576, '2 step ridge': 73.96383135623562, 'ridge RCT': 75.6360233063895, 'ridge DIFF(RCT) ': 78.69648472444048, 'RFR (RCT) ': 75.34903701041246, 'RFR DIFF(RCT) ': 78.69648472444048, 'ridge DIFF OBS': 82.39521256371232, 'RFR DIFF(OBS)': 82.33191246571616, 'RFR (ALL)': 25.964813282670143, 'CF on ALL': 78.5615677779094, 'std Y_adj': 78.66482287202908}\n",
      "{'2 step rfr': 72.56605412433503, '2 step ridge': 71.46335656842811, 'ridge RCT': 73.20623689703963, 'ridge DIFF(RCT) ': 77.0140040390336, 'RFR (RCT) ': 73.87040612095105, 'RFR DIFF(RCT) ': 77.0140040390336, 'ridge DIFF OBS': 81.82143943652189, 'RFR DIFF(OBS)': 82.57787629537391, 'RFR (ALL)': 24.571587790894934, 'CF on ALL': 76.60075523623873, 'std Y_adj': 76.6202665038472}\n",
      "{'2 step rfr': 77.8531208436628, '2 step ridge': 76.39252607474012, 'ridge RCT': 78.12733152815852, 'ridge DIFF(RCT) ': 81.0946249889821, 'RFR (RCT) ': 78.12482134020416, 'RFR DIFF(RCT) ': 81.0946249889821, 'ridge DIFF OBS': 87.50317144475481, 'RFR DIFF(OBS)': 88.85104857825513, 'RFR (ALL)': 26.50395353773217, 'CF on ALL': 81.50484229689005, 'std Y_adj': 81.21660358344995}\n",
      "{'2 step rfr': 75.53516327066235, '2 step ridge': 73.80884372197117, 'ridge RCT': 75.74095585650497, 'ridge DIFF(RCT) ': 79.75002553538401, 'RFR (RCT) ': 74.58814283587701, 'RFR DIFF(RCT) ': 79.75002553538401, 'ridge DIFF OBS': 83.02600143671539, 'RFR DIFF(OBS)': 84.67715526803389, 'RFR (ALL)': 24.902991828059537, 'CF on ALL': 79.66361548653842, 'std Y_adj': 79.71694919345111}\n",
      "{'2 step rfr': 74.67463450067103, '2 step ridge': 74.25020202524686, 'ridge RCT': 75.97643884155293, 'ridge DIFF(RCT) ': 79.82739568587941, 'RFR (RCT) ': 76.8502356533925, 'RFR DIFF(RCT) ': 79.82739568587941, 'ridge DIFF OBS': 84.52330505977739, 'RFR DIFF(OBS)': 85.29761910088983, 'RFR (ALL)': 25.405073948986857, 'CF on ALL': 79.4631295649541, 'std Y_adj': 79.32113280814988}\n",
      "{'2 step rfr': 78.53360652606246, '2 step ridge': 77.2021503325526, 'ridge RCT': 79.19949584272548, 'ridge DIFF(RCT) ': 82.5821641995698, 'RFR (RCT) ': 80.74883376948792, 'RFR DIFF(RCT) ': 82.5821641995698, 'ridge DIFF OBS': 88.56604028731566, 'RFR DIFF(OBS)': 90.00958406572768, 'RFR (ALL)': 25.586032282566286, 'CF on ALL': 82.40260432174827, 'std Y_adj': 82.08340220139948}\n",
      "{'2 step rfr': 75.20778309062452, '2 step ridge': 73.83493044168723, 'ridge RCT': 75.69032063890714, 'ridge DIFF(RCT) ': 77.46861303672003, 'RFR (RCT) ': 76.06663351400252, 'RFR DIFF(RCT) ': 77.46861303672003, 'ridge DIFF OBS': 83.36909262911009, 'RFR DIFF(OBS)': 84.32469742740916, 'RFR (ALL)': 24.94283467385793, 'CF on ALL': 78.46979070786848, 'std Y_adj': 78.42579295078353}\n"
     ]
    },
    {
     "name": "stdout",
     "output_type": "stream",
     "text": [
      "{'2 step rfr': 73.45793529655377, '2 step ridge': 74.75915661366214, 'ridge RCT': 76.62723648685233, 'ridge DIFF(RCT) ': 80.32048820834785, 'RFR (RCT) ': 76.8569949316269, 'RFR DIFF(RCT) ': 80.32048820834785, 'ridge DIFF OBS': 86.03560734889535, 'RFR DIFF(OBS)': 84.59658450346136, 'RFR (ALL)': 25.722299128105472, 'CF on ALL': 80.26921084400603, 'std Y_adj': 80.11991957789927}\n",
      "{'2 step rfr': 73.29481015012408, '2 step ridge': 73.16583715513495, 'ridge RCT': 74.9892483552622, 'ridge DIFF(RCT) ': 78.82176429080731, 'RFR (RCT) ': 73.75386830804402, 'RFR DIFF(RCT) ': 78.82176429080731, 'ridge DIFF OBS': 82.7380813877813, 'RFR DIFF(OBS)': 83.1924860749877, 'RFR (ALL)': 24.774376957093093, 'CF on ALL': 79.02687610583942, 'std Y_adj': 79.08391463172408}\n",
      "{'2 step rfr': 74.37640963374233, '2 step ridge': 73.61991755913809, 'ridge RCT': 75.42922596831393, 'ridge DIFF(RCT) ': 78.78139699874542, 'RFR (RCT) ': 75.37685743495095, 'RFR DIFF(RCT) ': 78.78139699874542, 'ridge DIFF OBS': 83.20174304693167, 'RFR DIFF(OBS)': 83.90372479238167, 'RFR (ALL)': 24.64669511970797, 'CF on ALL': 78.25222139948241, 'std Y_adj': 78.27118327505602}\n",
      "{'2 step rfr': 75.80061858529822, '2 step ridge': 74.74499144187162, 'ridge RCT': 76.0549870479015, 'ridge DIFF(RCT) ': 79.32826632657229, 'RFR (RCT) ': 74.21698963389893, 'RFR DIFF(RCT) ': 79.32826632657229, 'ridge DIFF OBS': 84.51132402929208, 'RFR DIFF(OBS)': 85.44389108734575, 'RFR (ALL)': 25.315755013811476, 'CF on ALL': 78.93195593064799, 'std Y_adj': 78.89017524671316}\n",
      "{'2 step rfr': 75.79840525518749, '2 step ridge': 74.25269960363745, 'ridge RCT': 75.7392363056386, 'ridge DIFF(RCT) ': 79.30479338887778, 'RFR (RCT) ': 75.11817806921671, 'RFR DIFF(RCT) ': 79.30479338887778, 'ridge DIFF OBS': 84.79317762733008, 'RFR DIFF(OBS)': 86.59789861076415, 'RFR (ALL)': 26.129506162381745, 'CF on ALL': 79.76683646065834, 'std Y_adj': 79.67629330324324}\n",
      "{'2 step rfr': 77.04949021508924, '2 step ridge': 75.6305687547139, 'ridge RCT': 77.67540253315026, 'ridge DIFF(RCT) ': 82.39962992368483, 'RFR (RCT) ': 78.5868932213367, 'RFR DIFF(RCT) ': 82.39962992368483, 'ridge DIFF OBS': 87.03667355223043, 'RFR DIFF(OBS)': 88.72026529466467, 'RFR (ALL)': 25.529765781442805, 'CF on ALL': 81.31597027986099, 'std Y_adj': 81.1322641495572}\n"
     ]
    }
   ],
   "source": [
    "# _result_list = []\n",
    "\n",
    "for i in range(50):\n",
    "    _result_list.append(_full_experiment(rct_fraction_of_rural=0.5))\n",
    "    np.savez('result_with_EVALSET_all_baselines', _result_list)\n",
    "    print(_result_list[-1])"
   ]
  },
  {
   "cell_type": "code",
   "execution_count": 95,
   "metadata": {},
   "outputs": [
    {
     "name": "stdout",
     "output_type": "stream",
     "text": [
      "2 step rfr        : 74.44 +/- 0.20\n",
      "2 step ridge      : 74.05 +/- 0.15\n",
      "ridge RCT         : 75.83 +/- 0.15\n",
      "ridge DIFF(RCT)   : 79.14 +/- 0.15\n",
      "RFR (RCT)         : 76.23 +/- 0.17\n",
      "RFR DIFF(RCT)     : 79.14 +/- 0.15\n",
      "ridge DIFF OBS    : 83.76 +/- 0.19\n",
      "RFR DIFF(OBS)     : 84.15 +/- 0.23\n",
      "RFR (ALL)         : 25.28 +/- 0.06\n",
      "CF on ALL         : 79.07 +/- 0.14\n",
      "std Y_adj         : 79.05 +/- 0.14\n"
     ]
    }
   ],
   "source": [
    "clean_results('result_with_EVALSET_all_baselines.npz')"
   ]
  },
  {
   "cell_type": "code",
   "execution_count": 96,
   "metadata": {
    "scrolled": true
   },
   "outputs": [
    {
     "name": "stdout",
     "output_type": "stream",
     "text": [
      "{'2 step rfr': 74.10565490830638, '2 step ridge': 72.83631534918382, 'ridge RCT': 74.45714175805057, 'ridge DIFF(RCT) ': 77.57010302015168, 'RFR (RCT) ': 74.5378261416923, 'RFR DIFF(RCT) ': 77.57010302015168, 'ridge DIFF OBS': 82.49666777328233, 'RFR DIFF(OBS)': 84.19305378642683, 'RFR (ALL)': 24.753475346424082, 'CF on ALL': 77.3948246797411, 'std Y_adj': 77.38433131526013}\n",
      "{'2 step rfr': 70.83559074857757, '2 step ridge': 72.50204470389949, 'ridge RCT': 74.11475312450986, 'ridge DIFF(RCT) ': 78.32698534713906, 'RFR (RCT) ': 73.2516598653161, 'RFR DIFF(RCT) ': 78.32698534713906, 'ridge DIFF OBS': 82.26185485053855, 'RFR DIFF(OBS)': 80.66405130274727, 'RFR (ALL)': 24.66325323148562, 'CF on ALL': 77.52675785701462, 'std Y_adj': 77.55678574162192}\n",
      "{'2 step rfr': 76.7087693936295, '2 step ridge': 74.99731020892223, 'ridge RCT': 76.94603140604298, 'ridge DIFF(RCT) ': 80.88183519716462, 'RFR (RCT) ': 77.923578792163, 'RFR DIFF(RCT) ': 80.88183519716462, 'ridge DIFF OBS': 84.51619410144629, 'RFR DIFF(OBS)': 86.26254872160933, 'RFR (ALL)': 24.992133550064473, 'CF on ALL': 79.77985313543616, 'std Y_adj': 79.74125059458434}\n",
      "{'2 step rfr': 76.78721470129484, '2 step ridge': 75.97023080527909, 'ridge RCT': 77.53953618427734, 'ridge DIFF(RCT) ': 80.13961833067152, 'RFR (RCT) ': 77.98821486083197, 'RFR DIFF(RCT) ': 80.13961833067152, 'ridge DIFF OBS': 84.76155325095196, 'RFR DIFF(OBS)': 85.65964821104389, 'RFR (ALL)': 26.216814796160808, 'CF on ALL': 79.95961134864939, 'std Y_adj': 80.00638090085495}\n",
      "{'2 step rfr': 75.29396467849311, '2 step ridge': 73.46221490236327, 'ridge RCT': 75.33342940380378, 'ridge DIFF(RCT) ': 80.3083740799671, 'RFR (RCT) ': 74.31170664994191, 'RFR DIFF(RCT) ': 80.3083740799671, 'ridge DIFF OBS': 83.88859985727524, 'RFR DIFF(OBS)': 85.7293101282993, 'RFR (ALL)': 24.7643749398271, 'CF on ALL': 79.46877759272616, 'std Y_adj': 79.47558219438315}\n",
      "{'2 step rfr': 75.13298261674392, '2 step ridge': 73.4581686270448, 'ridge RCT': 75.26988249969095, 'ridge DIFF(RCT) ': 78.53523365358949, 'RFR (RCT) ': 75.10997020899178, 'RFR DIFF(RCT) ': 78.53523365358949, 'ridge DIFF OBS': 83.11004485941643, 'RFR DIFF(OBS)': 84.7287866668517, 'RFR (ALL)': 25.103382083506474, 'CF on ALL': 78.20921615724251, 'std Y_adj': 78.24798972097236}\n",
      "{'2 step rfr': 74.81156181331978, '2 step ridge': 73.13101960442677, 'ridge RCT': 74.98447462086628, 'ridge DIFF(RCT) ': 79.3126324488964, 'RFR (RCT) ': 72.4839439311207, 'RFR DIFF(RCT) ': 79.3126324488964, 'ridge DIFF OBS': 82.39823267603607, 'RFR DIFF(OBS)': 84.46412395101311, 'RFR (ALL)': 24.697674368015488, 'CF on ALL': 78.89215586574585, 'std Y_adj': 78.96495471352276}\n",
      "{'2 step rfr': 75.47012909401114, '2 step ridge': 73.97413385160698, 'ridge RCT': 75.8879952019654, 'ridge DIFF(RCT) ': 79.50089675184805, 'RFR (RCT) ': 75.67170239377874, 'RFR DIFF(RCT) ': 79.50089675184805, 'ridge DIFF OBS': 84.34149611664354, 'RFR DIFF(OBS)': 86.11681895972202, 'RFR (ALL)': 25.409503327467156, 'CF on ALL': 78.34796293358754, 'std Y_adj': 78.03007472549473}\n",
      "{'2 step rfr': 77.12700323462794, '2 step ridge': 75.59840619106961, 'ridge RCT': 77.36113785685379, 'ridge DIFF(RCT) ': 80.62058223137885, 'RFR (RCT) ': 77.19006178087355, 'RFR DIFF(RCT) ': 80.62058223137885, 'ridge DIFF OBS': 86.49640042687467, 'RFR DIFF(OBS)': 87.7772456335048, 'RFR (ALL)': 25.663084325279996, 'CF on ALL': 80.77298094730943, 'std Y_adj': 80.66762311847813}\n",
      "{'2 step rfr': 71.08768790368634, '2 step ridge': 72.89878555166027, 'ridge RCT': 74.80911654389429, 'ridge DIFF(RCT) ': 79.32754901916404, 'RFR (RCT) ': 73.83247588394366, 'RFR DIFF(RCT) ': 79.32754901916404, 'ridge DIFF OBS': 83.87095597971482, 'RFR DIFF(OBS)': 81.56429788720031, 'RFR (ALL)': 24.30465526292968, 'CF on ALL': 78.56479707604792, 'std Y_adj': 78.30188257630655}\n",
      "{'2 step rfr': 75.95910288808652, '2 step ridge': 74.76151142362552, 'ridge RCT': 76.36470864102105, 'ridge DIFF(RCT) ': 79.12261348561645, 'RFR (RCT) ': 76.10475392309641, 'RFR DIFF(RCT) ': 79.12261348561645, 'ridge DIFF OBS': 83.75648679705549, 'RFR DIFF(OBS)': 85.25545564154892, 'RFR (ALL)': 25.075627476284648, 'CF on ALL': 78.97919525388097, 'std Y_adj': 78.96582948651154}\n",
      "{'2 step rfr': 74.25583429330655, '2 step ridge': 72.89801145515628, 'ridge RCT': 74.72958170522607, 'ridge DIFF(RCT) ': 77.39807498555369, 'RFR (RCT) ': 74.10542698916126, 'RFR DIFF(RCT) ': 77.39807498555369, 'ridge DIFF OBS': 82.55040525446593, 'RFR DIFF(OBS)': 84.07515849098087, 'RFR (ALL)': 24.772448474972485, 'CF on ALL': 77.89918694325796, 'std Y_adj': 77.95122380415107}\n",
      "{'2 step rfr': 73.40621224878366, '2 step ridge': 71.7863877994775, 'ridge RCT': 73.77199089006089, 'ridge DIFF(RCT) ': 77.59904984248176, 'RFR (RCT) ': 72.99185151794313, 'RFR DIFF(RCT) ': 77.59904984248176, 'ridge DIFF OBS': 78.95181792747955, 'RFR DIFF(OBS)': 80.31093290985076, 'RFR (ALL)': 24.332067047496057, 'CF on ALL': 76.23569841126879, 'std Y_adj': 76.35292121450658}\n",
      "{'2 step rfr': 77.02372018197347, '2 step ridge': 75.51612818194253, 'ridge RCT': 77.4444044204579, 'ridge DIFF(RCT) ': 79.99062636368541, 'RFR (RCT) ': 76.81231158260377, 'RFR DIFF(RCT) ': 79.99062636368541, 'ridge DIFF OBS': 84.77621225221063, 'RFR DIFF(OBS)': 86.59061776119174, 'RFR (ALL)': 25.263875009214253, 'CF on ALL': 80.0247300296344, 'std Y_adj': 80.12259282069873}\n",
      "{'2 step rfr': 77.1812949944269, '2 step ridge': 75.61938789178527, 'ridge RCT': 77.29006833678889, 'ridge DIFF(RCT) ': 80.72434848370634, 'RFR (RCT) ': 77.99094455091098, 'RFR DIFF(RCT) ': 80.72434848370634, 'ridge DIFF OBS': 86.10830142767342, 'RFR DIFF(OBS)': 88.01894959557715, 'RFR (ALL)': 25.13913649482537, 'CF on ALL': 80.7987419893221, 'std Y_adj': 80.76766541463685}\n",
      "{'2 step rfr': 73.90104183472111, '2 step ridge': 72.17332687523052, 'ridge RCT': 73.90263482440959, 'ridge DIFF(RCT) ': 79.16469314669841, 'RFR (RCT) ': 74.51298288212772, 'RFR DIFF(RCT) ': 79.16469314669841, 'ridge DIFF OBS': 82.9596048349284, 'RFR DIFF(OBS)': 84.66808982852302, 'RFR (ALL)': 24.832786247300835, 'CF on ALL': 78.12945434318874, 'std Y_adj': 78.14122173897547}\n",
      "{'2 step rfr': 75.54242637449292, '2 step ridge': 74.24442943278153, 'ridge RCT': 75.85804636255656, 'ridge DIFF(RCT) ': 79.09599849135024, 'RFR (RCT) ': 77.16004837293653, 'RFR DIFF(RCT) ': 79.09599849135024, 'ridge DIFF OBS': 83.76910822741735, 'RFR DIFF(OBS)': 85.39570904168464, 'RFR (ALL)': 25.46148252990843, 'CF on ALL': 78.58399042217184, 'std Y_adj': 78.52998913925425}\n",
      "{'2 step rfr': 77.60492990178382, '2 step ridge': 76.21112288837072, 'ridge RCT': 77.77672355261559, 'ridge DIFF(RCT) ': 80.79891439335283, 'RFR (RCT) ': 78.01917292232875, 'RFR DIFF(RCT) ': 80.79891439335283, 'ridge DIFF OBS': 85.22621848665703, 'RFR DIFF(OBS)': 86.87891938516327, 'RFR (ALL)': 25.690356874720035, 'CF on ALL': 80.51462116079779, 'std Y_adj': 80.39067026892037}\n",
      "{'2 step rfr': 75.47069299377904, '2 step ridge': 73.81494053439218, 'ridge RCT': 75.67336293653128, 'ridge DIFF(RCT) ': 79.61467286512364, 'RFR (RCT) ': 76.8935329202934, 'RFR DIFF(RCT) ': 79.61467286512364, 'ridge DIFF OBS': 84.0570423825175, 'RFR DIFF(OBS)': 85.68669404164679, 'RFR (ALL)': 25.771491410912652, 'CF on ALL': 79.199920128647, 'std Y_adj': 79.15213719748941}\n",
      "{'2 step rfr': 73.89910098209236, '2 step ridge': 72.67044039753624, 'ridge RCT': 74.32115367903904, 'ridge DIFF(RCT) ': 77.17732067957776, 'RFR (RCT) ': 73.88186546601764, 'RFR DIFF(RCT) ': 77.17732067957776, 'ridge DIFF OBS': 81.10118029912505, 'RFR DIFF(OBS)': 79.21669068296983, 'RFR (ALL)': 25.166132212288563, 'CF on ALL': 77.60815717077902, 'std Y_adj': 77.6732652522945}\n",
      "{'2 step rfr': 74.03214768856937, '2 step ridge': 75.74392244443477, 'ridge RCT': 77.40859485604398, 'ridge DIFF(RCT) ': 80.92824404309943, 'RFR (RCT) ': 76.5355269986914, 'RFR DIFF(RCT) ': 80.92824404309943, 'ridge DIFF OBS': 85.46738305526391, 'RFR DIFF(OBS)': 86.10135277471052, 'RFR (ALL)': 24.957010934251446, 'CF on ALL': 79.99277733858865, 'std Y_adj': 79.82962690292696}\n",
      "{'2 step rfr': 73.43814418665735, '2 step ridge': 71.8188435349137, 'ridge RCT': 73.6030989212337, 'ridge DIFF(RCT) ': 76.77971994433737, 'RFR (RCT) ': 73.05908108434123, 'RFR DIFF(RCT) ': 76.77971994433737, 'ridge DIFF OBS': 81.01957198503175, 'RFR DIFF(OBS)': 82.59902404687081, 'RFR (ALL)': 24.284547595264513, 'CF on ALL': 76.98972819762133, 'std Y_adj': 77.00446095484124}\n"
     ]
    },
    {
     "name": "stdout",
     "output_type": "stream",
     "text": [
      "{'2 step rfr': 77.92561213890968, '2 step ridge': 76.34755598384075, 'ridge RCT': 77.87553236510587, 'ridge DIFF(RCT) ': 80.14064030888507, 'RFR (RCT) ': 77.97870252526958, 'RFR DIFF(RCT) ': 80.14064030888507, 'ridge DIFF OBS': 85.29160267694216, 'RFR DIFF(OBS)': 87.0439885227471, 'RFR (ALL)': 26.108468816043185, 'CF on ALL': 80.48701209272542, 'std Y_adj': 80.5032371077187}\n",
      "{'2 step rfr': 77.1523876752494, '2 step ridge': 75.67655635916891, 'ridge RCT': 77.53405002813507, 'ridge DIFF(RCT) ': 81.3684644404566, 'RFR (RCT) ': 77.70166287965161, 'RFR DIFF(RCT) ': 81.3684644404566, 'ridge DIFF OBS': 86.57795945805726, 'RFR DIFF(OBS)': 88.07732271722587, 'RFR (ALL)': 25.998990020263236, 'CF on ALL': 81.43275727514003, 'std Y_adj': 81.40963949024112}\n",
      "{'2 step rfr': 76.71181718743604, '2 step ridge': 75.55254993070537, 'ridge RCT': 77.13016652819664, 'ridge DIFF(RCT) ': 79.97076008368612, 'RFR (RCT) ': 77.62687942807068, 'RFR DIFF(RCT) ': 79.97076008368612, 'ridge DIFF OBS': 85.01029286646691, 'RFR DIFF(OBS)': 86.24158921101314, 'RFR (ALL)': 25.460976572091326, 'CF on ALL': 79.156879877046, 'std Y_adj': 79.03295523542037}\n",
      "{'2 step rfr': 76.39516308482031, '2 step ridge': 74.77260378008377, 'ridge RCT': 76.47051309277984, 'ridge DIFF(RCT) ': 80.2248762290964, 'RFR (RCT) ': 75.92308099080121, 'RFR DIFF(RCT) ': 80.2248762290964, 'ridge DIFF OBS': 84.70461021795973, 'RFR DIFF(OBS)': 86.39294462904589, 'RFR (ALL)': 24.91451759819378, 'CF on ALL': 79.32031346300522, 'std Y_adj': 79.41035967659245}\n",
      "{'2 step rfr': 76.55146541628424, '2 step ridge': 74.98088083792665, 'ridge RCT': 76.80047409153654, 'ridge DIFF(RCT) ': 80.40428245545577, 'RFR (RCT) ': 76.6695322937115, 'RFR DIFF(RCT) ': 80.40428245545577, 'ridge DIFF OBS': 85.00102456746163, 'RFR DIFF(OBS)': 87.23001479210542, 'RFR (ALL)': 25.118137612102153, 'CF on ALL': 79.557425239705, 'std Y_adj': 79.43080449670587}\n",
      "{'2 step rfr': 75.52062730799149, '2 step ridge': 74.24799299921531, 'ridge RCT': 75.74920383265646, 'ridge DIFF(RCT) ': 79.68790327929108, 'RFR (RCT) ': 75.96987176699027, 'RFR DIFF(RCT) ': 79.68790327929108, 'ridge DIFF OBS': 85.84548237674855, 'RFR DIFF(OBS)': 87.07477848785189, 'RFR (ALL)': 25.22812867507966, 'CF on ALL': 78.9499524464061, 'std Y_adj': 78.76566360824985}\n",
      "{'2 step rfr': 75.00620861503702, '2 step ridge': 73.41815503966733, 'ridge RCT': 75.23928519296356, 'ridge DIFF(RCT) ': 78.12587102457601, 'RFR (RCT) ': 72.55894542371058, 'RFR DIFF(RCT) ': 78.12587102457601, 'ridge DIFF OBS': 83.06942585529673, 'RFR DIFF(OBS)': 84.79165300909128, 'RFR (ALL)': 24.88274181797207, 'CF on ALL': 77.71050427660283, 'std Y_adj': 77.68143429352314}\n",
      "{'2 step rfr': 75.7016117759922, '2 step ridge': 73.86946205462237, 'ridge RCT': 75.7140410177749, 'ridge DIFF(RCT) ': 79.14769067295384, 'RFR (RCT) ': 76.94497235771033, 'RFR DIFF(RCT) ': 79.14769067295384, 'ridge DIFF OBS': 83.32595119805725, 'RFR DIFF(OBS)': 85.47010401812577, 'RFR (ALL)': 25.48603192622491, 'CF on ALL': 78.02883017041675, 'std Y_adj': 78.02924901176621}\n",
      "{'2 step rfr': 75.83407746639611, '2 step ridge': 74.19902300709977, 'ridge RCT': 75.9755923716333, 'ridge DIFF(RCT) ': 78.89044943124831, 'RFR (RCT) ': 77.05289710904248, 'RFR DIFF(RCT) ': 78.89044943124831, 'ridge DIFF OBS': 83.75552420419021, 'RFR DIFF(OBS)': 85.5845955839397, 'RFR (ALL)': 25.003365488930005, 'CF on ALL': 78.86759317229021, 'std Y_adj': 78.90384335613021}\n",
      "{'2 step rfr': 76.83411557648786, '2 step ridge': 75.27863455291075, 'ridge RCT': 77.12915394768471, 'ridge DIFF(RCT) ': 79.54240451341353, 'RFR (RCT) ': 76.87355264443809, 'RFR DIFF(RCT) ': 79.54240451341353, 'ridge DIFF OBS': 83.14769661278913, 'RFR DIFF(OBS)': 85.05894669141338, 'RFR (ALL)': 25.635942213676636, 'CF on ALL': 79.13285219239425, 'std Y_adj': 79.21218356730829}\n",
      "{'2 step rfr': 70.16835070842382, '2 step ridge': 71.40180536510657, 'ridge RCT': 73.08509419878956, 'ridge DIFF(RCT) ': 77.18150313130239, 'RFR (RCT) ': 74.31292702306688, 'RFR DIFF(RCT) ': 77.18150313130239, 'ridge DIFF OBS': 81.59454061820348, 'RFR DIFF(OBS)': 79.65740113502302, 'RFR (ALL)': 25.062498149706364, 'CF on ALL': 76.18515795730015, 'std Y_adj': 76.08298936755484}\n",
      "{'2 step rfr': 74.6377627618496, '2 step ridge': 72.88026419294744, 'ridge RCT': 74.4106648177842, 'ridge DIFF(RCT) ': 77.72358410770391, 'RFR (RCT) ': 74.55639056444095, 'RFR DIFF(RCT) ': 77.72358410770391, 'ridge DIFF OBS': 82.00644307498425, 'RFR DIFF(OBS)': 83.79433035323972, 'RFR (ALL)': 24.24826040632176, 'CF on ALL': 77.92213098536318, 'std Y_adj': 78.02621124896301}\n",
      "{'2 step rfr': 76.12351010007808, '2 step ridge': 74.45117870064301, 'ridge RCT': 76.27211709952614, 'ridge DIFF(RCT) ': 78.58019718923029, 'RFR (RCT) ': 77.25039065103174, 'RFR DIFF(RCT) ': 78.58019718923029, 'ridge DIFF OBS': 82.03233391047475, 'RFR DIFF(OBS)': 83.97855678038489, 'RFR (ALL)': 25.31920412029644, 'CF on ALL': 78.23416461943621, 'std Y_adj': 78.33495215453593}\n",
      "{'2 step rfr': 77.54894978526107, '2 step ridge': 76.21052231065444, 'ridge RCT': 78.01327251068653, 'ridge DIFF(RCT) ': 81.50923406161793, 'RFR (RCT) ': 78.47593256709297, 'RFR DIFF(RCT) ': 81.50923406161793, 'ridge DIFF OBS': 85.5131720574013, 'RFR DIFF(OBS)': 87.39262441879038, 'RFR (ALL)': 25.881430587661058, 'CF on ALL': 80.39435685995795, 'std Y_adj': 80.30763794678727}\n",
      "{'2 step rfr': 76.57164921145767, '2 step ridge': 75.68641114208445, 'ridge RCT': 76.92947776453813, 'ridge DIFF(RCT) ': 79.54227435972143, 'RFR (RCT) ': 76.40815585592341, 'RFR DIFF(RCT) ': 79.54227435972143, 'ridge DIFF OBS': 86.10143681644773, 'RFR DIFF(OBS)': 86.77331444138379, 'RFR (ALL)': 25.787413158709413, 'CF on ALL': 79.6720777129963, 'std Y_adj': 79.47580593018655}\n",
      "{'2 step rfr': 76.12185791294361, '2 step ridge': 74.76961300167284, 'ridge RCT': 76.37549156404566, 'ridge DIFF(RCT) ': 79.25846142114602, 'RFR (RCT) ': 76.40335092859368, 'RFR DIFF(RCT) ': 79.25846142114602, 'ridge DIFF OBS': 83.70695545459851, 'RFR DIFF(OBS)': 85.20605023599751, 'RFR (ALL)': 24.90380125649394, 'CF on ALL': 78.99177111319412, 'std Y_adj': 79.03093277139756}\n",
      "{'2 step rfr': 75.46838516602891, '2 step ridge': 73.83897521485957, 'ridge RCT': 75.51663717054348, 'ridge DIFF(RCT) ': 78.97763165338426, 'RFR (RCT) ': 76.09297266769622, 'RFR DIFF(RCT) ': 78.97763165338426, 'ridge DIFF OBS': 84.31700679612328, 'RFR DIFF(OBS)': 85.6714473074558, 'RFR (ALL)': 25.53550879288386, 'CF on ALL': 78.50544771330311, 'std Y_adj': 78.40044368907007}\n",
      "{'2 step rfr': 76.57356756455683, '2 step ridge': 75.2461637451695, 'ridge RCT': 76.97167882815879, 'ridge DIFF(RCT) ': 81.07900601146643, 'RFR (RCT) ': 75.83352441131503, 'RFR DIFF(RCT) ': 81.07900601146643, 'ridge DIFF OBS': 85.22194759178971, 'RFR DIFF(OBS)': 86.7089132384628, 'RFR (ALL)': 26.3633301992113, 'CF on ALL': 80.87226278695294, 'std Y_adj': 80.88897986561574}\n",
      "{'2 step rfr': 75.3774510475439, '2 step ridge': 73.61023457007772, 'ridge RCT': 75.37771601763505, 'ridge DIFF(RCT) ': 79.53823870286944, 'RFR (RCT) ': 74.57611745580078, 'RFR DIFF(RCT) ': 79.53823870286944, 'ridge DIFF OBS': 83.77601653661516, 'RFR DIFF(OBS)': 85.45853221495426, 'RFR (ALL)': 24.95411553163653, 'CF on ALL': 78.92377204980635, 'std Y_adj': 78.93690527073093}\n",
      "{'2 step rfr': 74.78976025108487, '2 step ridge': 73.10095662814916, 'ridge RCT': 74.90440755257745, 'ridge DIFF(RCT) ': 79.28131557524887, 'RFR (RCT) ': 73.83533922493051, 'RFR DIFF(RCT) ': 79.28131557524887, 'ridge DIFF OBS': 81.53594142122247, 'RFR DIFF(OBS)': 83.55998708984401, 'RFR (ALL)': 24.7249069706734, 'CF on ALL': 78.93258623548978, 'std Y_adj': 79.00818759580656}\n",
      "{'2 step rfr': 75.28989882251939, '2 step ridge': 73.99218689107148, 'ridge RCT': 75.68220614110486, 'ridge DIFF(RCT) ': 78.46791841472339, 'RFR (RCT) ': 74.42622593800577, 'RFR DIFF(RCT) ': 78.46791841472339, 'ridge DIFF OBS': 84.88768701486624, 'RFR DIFF(OBS)': 86.52151729176148, 'RFR (ALL)': 25.237920315115986, 'CF on ALL': 79.3076526361372, 'std Y_adj': 79.29599373732655}\n",
      "{'2 step rfr': 77.71279798696723, '2 step ridge': 76.39750497447368, 'ridge RCT': 78.31858040312316, 'ridge DIFF(RCT) ': 81.94182441540097, 'RFR (RCT) ': 77.32120570883599, 'RFR DIFF(RCT) ': 81.94182441540097, 'ridge DIFF OBS': 84.63744905941996, 'RFR DIFF(OBS)': 86.83512696524276, 'RFR (ALL)': 25.519112617293423, 'CF on ALL': 81.06157421232115, 'std Y_adj': 81.14717380330693}\n"
     ]
    },
    {
     "name": "stdout",
     "output_type": "stream",
     "text": [
      "{'2 step rfr': 76.88597060601887, '2 step ridge': 75.0339605311843, 'ridge RCT': 77.15833897638387, 'ridge DIFF(RCT) ': 80.60621277482694, 'RFR (RCT) ': 76.47207754290177, 'RFR DIFF(RCT) ': 80.60621277482694, 'ridge DIFF OBS': 85.54733520318149, 'RFR DIFF(OBS)': 83.87833101315836, 'RFR (ALL)': 24.971083094249376, 'CF on ALL': 80.68528644459083, 'std Y_adj': 80.68011700333719}\n",
      "{'2 step rfr': 75.20251164461332, '2 step ridge': 73.36828796372497, 'ridge RCT': 75.06666771174369, 'ridge DIFF(RCT) ': 77.49185785154972, 'RFR (RCT) ': 75.47883137524938, 'RFR DIFF(RCT) ': 77.49185785154972, 'ridge DIFF OBS': 83.39990182353665, 'RFR DIFF(OBS)': 85.2761141396061, 'RFR (ALL)': 25.335842783034376, 'CF on ALL': 78.38389121525535, 'std Y_adj': 78.46305449322433}\n",
      "{'2 step rfr': 74.02200626548743, '2 step ridge': 72.77055162847094, 'ridge RCT': 74.38368993300381, 'ridge DIFF(RCT) ': 77.22248775725382, 'RFR (RCT) ': 73.26892685219272, 'RFR DIFF(RCT) ': 77.22248775725382, 'ridge DIFF OBS': 80.92438472847446, 'RFR DIFF(OBS)': 82.19975107699783, 'RFR (ALL)': 25.154557221252723, 'CF on ALL': 76.71932309353214, 'std Y_adj': 76.83269992255042}\n",
      "{'2 step rfr': 74.53408127868519, '2 step ridge': 73.69688291574722, 'ridge RCT': 75.01036664466896, 'ridge DIFF(RCT) ': 78.03693728193132, 'RFR (RCT) ': 76.31828485663704, 'RFR DIFF(RCT) ': 78.03693728193132, 'ridge DIFF OBS': 82.01163877152753, 'RFR DIFF(OBS)': 83.14296298994398, 'RFR (ALL)': 26.132347677153962, 'CF on ALL': 78.0816455381301, 'std Y_adj': 78.15328253517978}\n",
      "{'2 step rfr': 76.57086233174844, '2 step ridge': 74.98506003574029, 'ridge RCT': 76.72947350838078, 'ridge DIFF(RCT) ': 80.07667747432488, 'RFR (RCT) ': 74.87997050458956, 'RFR DIFF(RCT) ': 80.07667747432488, 'ridge DIFF OBS': 83.4525119097987, 'RFR DIFF(OBS)': 85.15045156435282, 'RFR (ALL)': 24.38700037643255, 'CF on ALL': 79.19496157430146, 'std Y_adj': 79.13190132282405}\n",
      "{'2 step rfr': 74.97611189071769, '2 step ridge': 73.41447205438365, 'ridge RCT': 75.03456012560733, 'ridge DIFF(RCT) ': 78.1699635909872, 'RFR (RCT) ': 75.47890353521564, 'RFR DIFF(RCT) ': 78.1699635909872, 'ridge DIFF OBS': 82.80267269903726, 'RFR DIFF(OBS)': 84.46695552160341, 'RFR (ALL)': 24.954326686186818, 'CF on ALL': 78.16020938155081, 'std Y_adj': 78.25256309890034}\n",
      "{'2 step rfr': 74.92023711251309, '2 step ridge': 73.57113629502109, 'ridge RCT': 75.24764056734253, 'ridge DIFF(RCT) ': 77.32364691088972, 'RFR (RCT) ': 74.9581793778272, 'RFR DIFF(RCT) ': 77.32364691088972, 'ridge DIFF OBS': 81.70383375652412, 'RFR DIFF(OBS)': 82.89147013982047, 'RFR (ALL)': 25.138669484333384, 'CF on ALL': 77.73135398834283, 'std Y_adj': 77.8224098186437}\n",
      "{'2 step rfr': 75.96692861357606, '2 step ridge': 74.29990213223718, 'ridge RCT': 76.1355925518216, 'ridge DIFF(RCT) ': 78.64682527775166, 'RFR (RCT) ': 74.96941475749985, 'RFR DIFF(RCT) ': 78.64682527775166, 'ridge DIFF OBS': 83.09025356107918, 'RFR DIFF(OBS)': 85.19523157451545, 'RFR (ALL)': 24.898740711130134, 'CF on ALL': 79.2870834191881, 'std Y_adj': 79.36779584914412}\n",
      "{'2 step rfr': 74.65960424673715, '2 step ridge': 73.25785954900894, 'ridge RCT': 74.81294275557408, 'ridge DIFF(RCT) ': 77.39645721334033, 'RFR (RCT) ': 74.75495985408672, 'RFR DIFF(RCT) ': 77.39645721334033, 'ridge DIFF OBS': 80.98977577741074, 'RFR DIFF(OBS)': 82.43528884211692, 'RFR (ALL)': 24.791404387299995, 'CF on ALL': 77.79801107615403, 'std Y_adj': 77.89125541824882}\n",
      "{'2 step rfr': 77.12771145000605, '2 step ridge': 75.26959733365649, 'ridge RCT': 77.23582096184117, 'ridge DIFF(RCT) ': 80.54101232024581, 'RFR (RCT) ': 78.18888206835923, 'RFR DIFF(RCT) ': 80.54101232024581, 'ridge DIFF OBS': 84.70825299400363, 'RFR DIFF(OBS)': 86.60661815139319, 'RFR (ALL)': 25.266109420058175, 'CF on ALL': 80.17887279561808, 'std Y_adj': 80.13351416430318}\n",
      "{'2 step rfr': 73.65078474239522, '2 step ridge': 72.30469173757709, 'ridge RCT': 74.1418784597565, 'ridge DIFF(RCT) ': 77.89754309763529, 'RFR (RCT) ': 74.21310016454606, 'RFR DIFF(RCT) ': 77.89754309763529, 'ridge DIFF OBS': 81.90762390951039, 'RFR DIFF(OBS)': 83.454446900982, 'RFR (ALL)': 24.972112118281316, 'CF on ALL': 77.68456478230398, 'std Y_adj': 77.68252705745333}\n",
      "{'2 step rfr': 76.46037591373826, '2 step ridge': 74.95761817610573, 'ridge RCT': 76.70548608613173, 'ridge DIFF(RCT) ': 79.1887208642116, 'RFR (RCT) ': 76.67443561542468, 'RFR DIFF(RCT) ': 79.1887208642116, 'ridge DIFF OBS': 82.23888715808737, 'RFR DIFF(OBS)': 83.97316217710399, 'RFR (ALL)': 25.24731434475684, 'CF on ALL': 78.61073100274957, 'std Y_adj': 78.71479505444724}\n",
      "{'2 step rfr': 75.80926454691446, '2 step ridge': 74.50521856194828, 'ridge RCT': 76.02768401919383, 'ridge DIFF(RCT) ': 79.74136254060198, 'RFR (RCT) ': 75.13184973550794, 'RFR DIFF(RCT) ': 79.74136254060198, 'ridge DIFF OBS': 83.69794131734487, 'RFR DIFF(OBS)': 85.13174689031487, 'RFR (ALL)': 25.4126203810784, 'CF on ALL': 79.62329916346968, 'std Y_adj': 79.72132341037566}\n",
      "{'2 step rfr': 74.68427567737014, '2 step ridge': 73.30634613417438, 'ridge RCT': 74.95138260956932, 'ridge DIFF(RCT) ': 76.56548646881198, 'RFR (RCT) ': 76.42076445276395, 'RFR DIFF(RCT) ': 76.56548646881198, 'ridge DIFF OBS': 82.56080985232384, 'RFR DIFF(OBS)': 83.88922703205537, 'RFR (ALL)': 25.434023664331317, 'CF on ALL': 77.61069425365058, 'std Y_adj': 77.5726148103976}\n",
      "{'2 step rfr': 74.52140478070352, '2 step ridge': 72.80592595406317, 'ridge RCT': 74.31176686010407, 'ridge DIFF(RCT) ': 78.85170035544479, 'RFR (RCT) ': 76.80637465658693, 'RFR DIFF(RCT) ': 78.85170035544479, 'ridge DIFF OBS': 83.92294909764155, 'RFR DIFF(OBS)': 85.57958869716427, 'RFR (ALL)': 25.134265550803867, 'CF on ALL': 78.23757004048802, 'std Y_adj': 78.22500995963414}\n",
      "{'2 step rfr': 73.83734663718154, '2 step ridge': 72.21028342938402, 'ridge RCT': 74.08343131185953, 'ridge DIFF(RCT) ': 77.4578583375308, 'RFR (RCT) ': 75.50519178267011, 'RFR DIFF(RCT) ': 77.4578583375308, 'ridge DIFF OBS': 81.87246679179476, 'RFR DIFF(OBS)': 83.59903517285862, 'RFR (ALL)': 24.167444807994126, 'CF on ALL': 76.3358116563309, 'std Y_adj': 76.20581697922701}\n",
      "{'2 step rfr': 75.90279387641982, '2 step ridge': 74.48297118041823, 'ridge RCT': 76.19290061951492, 'ridge DIFF(RCT) ': 79.33798995626587, 'RFR (RCT) ': 75.9838211336004, 'RFR DIFF(RCT) ': 79.33798995626587, 'ridge DIFF OBS': 82.78014487026492, 'RFR DIFF(OBS)': 84.49721092370379, 'RFR (ALL)': 24.751089682237374, 'CF on ALL': 78.44868232770865, 'std Y_adj': 78.45247744121684}\n",
      "{'2 step rfr': 75.51319997987558, '2 step ridge': 74.59164504976899, 'ridge RCT': 76.24940545818187, 'ridge DIFF(RCT) ': 81.04726710788294, 'RFR (RCT) ': 76.45111067265088, 'RFR DIFF(RCT) ': 81.04726710788294, 'ridge DIFF OBS': 84.4338328103364, 'RFR DIFF(OBS)': 85.542672737576, 'RFR (ALL)': 25.29548649360734, 'CF on ALL': 79.67297915037915, 'std Y_adj': 79.64332474151908}\n",
      "{'2 step rfr': 73.28560746035451, '2 step ridge': 72.04306708701326, 'ridge RCT': 73.74114192530423, 'ridge DIFF(RCT) ': 78.66344940467296, 'RFR (RCT) ': 74.42493577956607, 'RFR DIFF(RCT) ': 78.66344940467296, 'ridge DIFF OBS': 83.5388231681888, 'RFR DIFF(OBS)': 84.79933624797248, 'RFR (ALL)': 24.14970111907081, 'CF on ALL': 77.68418309303853, 'std Y_adj': 77.43635822493464}\n",
      "{'2 step rfr': 74.35607175019939, '2 step ridge': 72.98357944866699, 'ridge RCT': 74.79506703040231, 'ridge DIFF(RCT) ': 78.77014201765591, 'RFR (RCT) ': 75.84199615987409, 'RFR DIFF(RCT) ': 78.77014201765591, 'ridge DIFF OBS': 82.4915123639524, 'RFR DIFF(OBS)': 84.11193290487074, 'RFR (ALL)': 24.71995606142585, 'CF on ALL': 78.16850412636104, 'std Y_adj': 78.1561476455213}\n",
      "{'2 step rfr': 70.97678878928495, '2 step ridge': 72.19037203913716, 'ridge RCT': 73.7079395615559, 'ridge DIFF(RCT) ': 76.48070554657207, 'RFR (RCT) ': 74.29020393180618, 'RFR DIFF(RCT) ': 76.48070554657207, 'ridge DIFF OBS': 80.41644503242026, 'RFR DIFF(OBS)': 79.35829662079544, 'RFR (ALL)': 25.277360358125573, 'CF on ALL': 76.20741583985176, 'std Y_adj': 76.30467764616468}\n",
      "{'2 step rfr': 75.59728462717352, '2 step ridge': 76.54303339411382, 'ridge RCT': 78.36823794790719, 'ridge DIFF(RCT) ': 80.8683265992365, 'RFR (RCT) ': 76.63155875725086, 'RFR DIFF(RCT) ': 80.8683265992365, 'ridge DIFF OBS': 87.69820034271014, 'RFR DIFF(OBS)': 86.54018534239482, 'RFR (ALL)': 25.17438234951542, 'CF on ALL': 80.62012461353274, 'std Y_adj': 80.16893668228359}\n"
     ]
    },
    {
     "name": "stdout",
     "output_type": "stream",
     "text": [
      "{'2 step rfr': 77.06818945383755, '2 step ridge': 75.84190447693474, 'ridge RCT': 77.5243658021672, 'ridge DIFF(RCT) ': 80.91689710062315, 'RFR (RCT) ': 78.60172519182635, 'RFR DIFF(RCT) ': 80.91689710062315, 'ridge DIFF OBS': 86.19428247209096, 'RFR DIFF(OBS)': 87.73615331559292, 'RFR (ALL)': 26.006694388468357, 'CF on ALL': 80.65316167239982, 'std Y_adj': 80.58780501784564}\n",
      "{'2 step rfr': 76.34821386685205, '2 step ridge': 74.93317241203576, 'ridge RCT': 76.65175182259762, 'ridge DIFF(RCT) ': 80.46651091837778, 'RFR (RCT) ': 77.94872558902158, 'RFR DIFF(RCT) ': 80.46651091837778, 'ridge DIFF OBS': 85.17597797469028, 'RFR DIFF(OBS)': 86.94171353996397, 'RFR (ALL)': 25.557898697294032, 'CF on ALL': 79.790390202086, 'std Y_adj': 79.59457002723538}\n",
      "{'2 step rfr': 75.59477956880555, '2 step ridge': 73.90789478375102, 'ridge RCT': 75.86176286122482, 'ridge DIFF(RCT) ': 79.40331212301297, 'RFR (RCT) ': 76.3093192804343, 'RFR DIFF(RCT) ': 79.40331212301297, 'ridge DIFF OBS': 83.36709334751386, 'RFR DIFF(OBS)': 85.39635871582617, 'RFR (ALL)': 24.731256447595776, 'CF on ALL': 78.7675348936213, 'std Y_adj': 78.73326424777783}\n",
      "{'2 step rfr': 71.43990278195467, '2 step ridge': 72.75572808276716, 'ridge RCT': 74.44226606699867, 'ridge DIFF(RCT) ': 77.02994613000119, 'RFR (RCT) ': 74.8846444129153, 'RFR DIFF(RCT) ': 77.02994613000119, 'ridge DIFF OBS': 83.42826077515292, 'RFR DIFF(OBS)': 82.36449377218273, 'RFR (ALL)': 24.41852128043656, 'CF on ALL': 78.06196168453936, 'std Y_adj': 78.06236783192041}\n",
      "{'2 step rfr': 76.48599536758374, '2 step ridge': 74.76022430949735, 'ridge RCT': 76.68446441812979, 'ridge DIFF(RCT) ': 77.88135356792924, 'RFR (RCT) ': 77.61151662521557, 'RFR DIFF(RCT) ': 77.88135356792924, 'ridge DIFF OBS': 82.38023251057741, 'RFR DIFF(OBS)': 84.39729190400172, 'RFR (ALL)': 25.241746706317386, 'CF on ALL': 78.44844040859817, 'std Y_adj': 78.54420820036884}\n",
      "{'2 step rfr': 77.18561958568276, '2 step ridge': 75.65701529182965, 'ridge RCT': 77.35390572115696, 'ridge DIFF(RCT) ': 79.98231323703983, 'RFR (RCT) ': 78.39360092611189, 'RFR DIFF(RCT) ': 79.98231323703983, 'ridge DIFF OBS': 86.03336721686297, 'RFR DIFF(OBS)': 87.89875456442319, 'RFR (ALL)': 25.91924671662619, 'CF on ALL': 79.96262374158736, 'std Y_adj': 79.84838744130454}\n",
      "{'2 step rfr': 75.38730959395079, '2 step ridge': 74.27723020596095, 'ridge RCT': 75.93084190306038, 'ridge DIFF(RCT) ': 81.12693362536636, 'RFR (RCT) ': 76.39736860840243, 'RFR DIFF(RCT) ': 81.12693362536636, 'ridge DIFF OBS': 84.71663030569194, 'RFR DIFF(OBS)': 85.44454942408109, 'RFR (ALL)': 25.779301984942162, 'CF on ALL': 80.27243698671353, 'std Y_adj': 80.22457623611496}\n",
      "{'2 step rfr': 75.71913924641039, '2 step ridge': 74.3882853062363, 'ridge RCT': 76.03698775323633, 'ridge DIFF(RCT) ': 77.69836097766931, 'RFR (RCT) ': 75.13678149872567, 'RFR DIFF(RCT) ': 77.69836097766931, 'ridge DIFF OBS': 82.43333317719174, 'RFR DIFF(OBS)': 84.19869232393053, 'RFR (ALL)': 25.601775330176157, 'CF on ALL': 78.7732559544896, 'std Y_adj': 78.92771254688867}\n",
      "{'2 step rfr': 77.34995806958791, '2 step ridge': 75.84993684952562, 'ridge RCT': 77.30458131767051, 'ridge DIFF(RCT) ': 79.88245710190395, 'RFR (RCT) ': 78.69403041574432, 'RFR DIFF(RCT) ': 79.88245710190395, 'ridge DIFF OBS': 86.0509760342134, 'RFR DIFF(OBS)': 87.9583951128819, 'RFR (ALL)': 25.841209237532205, 'CF on ALL': 79.87413856950177, 'std Y_adj': 79.75753086463499}\n",
      "{'2 step rfr': 74.22138202791916, '2 step ridge': 75.6038946858352, 'ridge RCT': 77.34267986168123, 'ridge DIFF(RCT) ': 80.57199089434103, 'RFR (RCT) ': 76.01243463042127, 'RFR DIFF(RCT) ': 80.57199089434103, 'ridge DIFF OBS': 85.30567919212712, 'RFR DIFF(OBS)': 83.91908872405396, 'RFR (ALL)': 24.7188196655781, 'CF on ALL': 80.42467688710582, 'std Y_adj': 80.49268160802546}\n",
      "{'2 step rfr': 76.43740194994477, '2 step ridge': 74.68061122777841, 'ridge RCT': 76.65373009653565, 'ridge DIFF(RCT) ': 80.22168983860512, 'RFR (RCT) ': 76.501540886955, 'RFR DIFF(RCT) ': 80.22168983860512, 'ridge DIFF OBS': 85.18427022894349, 'RFR DIFF(OBS)': 86.68455808048961, 'RFR (ALL)': 25.61967580709521, 'CF on ALL': 80.00109825280606, 'std Y_adj': 79.88971745030742}\n",
      "{'2 step rfr': 75.7304360124436, '2 step ridge': 74.31606136636555, 'ridge RCT': 76.06505798158683, 'ridge DIFF(RCT) ': 78.66395945860441, 'RFR (RCT) ': 77.21861229179738, 'RFR DIFF(RCT) ': 78.66395945860441, 'ridge DIFF OBS': 83.17977926821045, 'RFR DIFF(OBS)': 84.78149663728841, 'RFR (ALL)': 25.41816903450041, 'CF on ALL': 78.39077005843697, 'std Y_adj': 78.31865732179934}\n",
      "{'2 step rfr': 73.95822287390118, '2 step ridge': 72.80222437885757, 'ridge RCT': 74.23733420163542, 'ridge DIFF(RCT) ': 77.19475391391471, 'RFR (RCT) ': 75.89073476985659, 'RFR DIFF(RCT) ': 77.19475391391471, 'ridge DIFF OBS': 84.14550039338349, 'RFR DIFF(OBS)': 85.4661939077467, 'RFR (ALL)': 25.307628868037888, 'CF on ALL': 77.92885981802208, 'std Y_adj': 77.84902089348668}\n",
      "{'2 step rfr': 75.5775267634786, '2 step ridge': 73.92433031174035, 'ridge RCT': 75.72449094079786, 'ridge DIFF(RCT) ': 79.04738591488065, 'RFR (RCT) ': 77.05157135890975, 'RFR DIFF(RCT) ': 79.04738591488065, 'ridge DIFF OBS': 82.96667928528628, 'RFR DIFF(OBS)': 84.67483606229179, 'RFR (ALL)': 24.77742813582016, 'CF on ALL': 78.4152813463497, 'std Y_adj': 78.39866886705293}\n",
      "{'2 step rfr': 73.57506255349665, '2 step ridge': 72.18458420836379, 'ridge RCT': 73.95781193919215, 'ridge DIFF(RCT) ': 76.54933480331484, 'RFR (RCT) ': 74.18458233041163, 'RFR DIFF(RCT) ': 76.54933480331484, 'ridge DIFF OBS': 80.224781527798, 'RFR DIFF(OBS)': 81.89055978087495, 'RFR (ALL)': 24.6138002596479, 'CF on ALL': 76.10198624156995, 'std Y_adj': 76.14726172876254}\n",
      "{'2 step rfr': 73.97108605222782, '2 step ridge': 72.96638249461265, 'ridge RCT': 74.37510804566095, 'ridge DIFF(RCT) ': 77.88254999600095, 'RFR (RCT) ': 74.75439775712286, 'RFR DIFF(RCT) ': 77.88254999600095, 'ridge DIFF OBS': 81.75807668232859, 'RFR DIFF(OBS)': 83.11499066604435, 'RFR (ALL)': 24.318416119009964, 'CF on ALL': 77.10991074081079, 'std Y_adj': 77.13381318667015}\n",
      "{'2 step rfr': 78.41328102467418, '2 step ridge': 76.94082338499689, 'ridge RCT': 78.76161763451162, 'ridge DIFF(RCT) ': 81.83778890077487, 'RFR (RCT) ': 78.78985168917637, 'RFR DIFF(RCT) ': 81.83778890077487, 'ridge DIFF OBS': 87.58161795549748, 'RFR DIFF(OBS)': 88.89490600496188, 'RFR (ALL)': 25.75248607184292, 'CF on ALL': 82.14029320948666, 'std Y_adj': 81.93233641610144}\n",
      "{'2 step rfr': 79.33001196753509, '2 step ridge': 77.73233892463573, 'ridge RCT': 79.6200672384733, 'ridge DIFF(RCT) ': 82.61316636864073, 'RFR (RCT) ': 80.56648443394175, 'RFR DIFF(RCT) ': 82.61316636864073, 'ridge DIFF OBS': 87.59765305919, 'RFR DIFF(OBS)': 89.26249635688023, 'RFR (ALL)': 26.209338444453053, 'CF on ALL': 82.09004618453375, 'std Y_adj': 81.95151398547169}\n",
      "{'2 step rfr': 75.30121125372266, '2 step ridge': 73.63349406696939, 'ridge RCT': 75.32219042355648, 'ridge DIFF(RCT) ': 78.34338027976403, 'RFR (RCT) ': 75.73644328311728, 'RFR DIFF(RCT) ': 78.34338027976403, 'ridge DIFF OBS': 83.01581077485271, 'RFR DIFF(OBS)': 84.88218318010468, 'RFR (ALL)': 24.866655957346183, 'CF on ALL': 78.1888492666532, 'std Y_adj': 78.2856042219849}\n",
      "{'2 step rfr': 76.96001634631777, '2 step ridge': 75.74436050244643, 'ridge RCT': 77.36953448783055, 'ridge DIFF(RCT) ': 80.75094054511298, 'RFR (RCT) ': 77.6049531218376, 'RFR DIFF(RCT) ': 80.75094054511298, 'ridge DIFF OBS': 84.33053797708733, 'RFR DIFF(OBS)': 82.54889148181394, 'RFR (ALL)': 25.695980053018257, 'CF on ALL': 79.78631601622358, 'std Y_adj': 79.75218130960758}\n",
      "{'2 step rfr': 75.27234063444409, '2 step ridge': 73.95091448537693, 'ridge RCT': 75.54457880947116, 'ridge DIFF(RCT) ': 79.2435845648463, 'RFR (RCT) ': 74.56876756577951, 'RFR DIFF(RCT) ': 79.2435845648463, 'ridge DIFF OBS': 82.31365488750384, 'RFR DIFF(OBS)': 84.20333513230885, 'RFR (ALL)': 25.45528100007729, 'CF on ALL': 79.03753967566361, 'std Y_adj': 79.10371890749016}\n",
      "{'2 step rfr': 74.27815263330838, '2 step ridge': 75.66630592527304, 'ridge RCT': 77.39050918373407, 'ridge DIFF(RCT) ': 81.54643565514063, 'RFR (RCT) ': 77.96822493398176, 'RFR DIFF(RCT) ': 81.54643565514063, 'ridge DIFF OBS': 85.53769026398898, 'RFR DIFF(OBS)': 84.22394343391885, 'RFR (ALL)': 25.8066618334889, 'CF on ALL': 81.00989184493426, 'std Y_adj': 80.92973470508774}\n"
     ]
    },
    {
     "name": "stdout",
     "output_type": "stream",
     "text": [
      "{'2 step rfr': 75.32252814119376, '2 step ridge': 73.78548972146436, 'ridge RCT': 75.63510151203698, 'ridge DIFF(RCT) ': 77.8316247237529, 'RFR (RCT) ': 76.04990594192981, 'RFR DIFF(RCT) ': 77.8316247237529, 'ridge DIFF OBS': 82.32574196510784, 'RFR DIFF(OBS)': 83.85447274480877, 'RFR (ALL)': 24.994415088693525, 'CF on ALL': 77.19180680526735, 'std Y_adj': 77.15483031826855}\n",
      "{'2 step rfr': 74.76375708337162, '2 step ridge': 73.20438881207899, 'ridge RCT': 74.8895123865271, 'ridge DIFF(RCT) ': 77.30192554363701, 'RFR (RCT) ': 73.60657732066602, 'RFR DIFF(RCT) ': 77.30192554363701, 'ridge DIFF OBS': 79.45318775678797, 'RFR DIFF(OBS)': 81.27758512167381, 'RFR (ALL)': 25.364318046491917, 'CF on ALL': 77.44444659450744, 'std Y_adj': 77.45999182779427}\n",
      "{'2 step rfr': 75.97194367724659, '2 step ridge': 73.97206890691002, 'ridge RCT': 75.87535811818357, 'ridge DIFF(RCT) ': 79.16841211953766, 'RFR (RCT) ': 76.63860912362598, 'RFR DIFF(RCT) ': 79.16841211953766, 'ridge DIFF OBS': 81.79265990092006, 'RFR DIFF(OBS)': 84.2129839207306, 'RFR (ALL)': 25.201749007941917, 'CF on ALL': 78.58604701739137, 'std Y_adj': 78.7102330687443}\n",
      "{'2 step rfr': 77.51129536039188, '2 step ridge': 75.9567773084794, 'ridge RCT': 77.54322201428089, 'ridge DIFF(RCT) ': 81.50001806853959, 'RFR (RCT) ': 78.57243478530877, 'RFR DIFF(RCT) ': 81.50001806853959, 'ridge DIFF OBS': 85.73284810929431, 'RFR DIFF(OBS)': 87.19772680355116, 'RFR (ALL)': 26.219755195388515, 'CF on ALL': 80.95326031748529, 'std Y_adj': 81.00268908442784}\n",
      "{'2 step rfr': 74.70433149002197, '2 step ridge': 73.05517208648101, 'ridge RCT': 74.75561879480064, 'ridge DIFF(RCT) ': 77.11400282482317, 'RFR (RCT) ': 74.94516997184552, 'RFR DIFF(RCT) ': 77.11400282482317, 'ridge DIFF OBS': 82.15502801674495, 'RFR DIFF(OBS)': 84.14129542944828, 'RFR (ALL)': 24.592188738406666, 'CF on ALL': 77.79992061689806, 'std Y_adj': 77.81626341771853}\n",
      "{'2 step rfr': 77.88304474372708, '2 step ridge': 76.64812151037532, 'ridge RCT': 78.03166174503427, 'ridge DIFF(RCT) ': 82.84543922658747, 'RFR (RCT) ': 79.80349648438867, 'RFR DIFF(RCT) ': 82.84543922658747, 'ridge DIFF OBS': 86.7268646209589, 'RFR DIFF(OBS)': 87.64458609483333, 'RFR (ALL)': 25.966973699101615, 'CF on ALL': 80.98514717567173, 'std Y_adj': 80.95096930307669}\n",
      "{'2 step rfr': 76.47854226703701, '2 step ridge': 74.50946489068826, 'ridge RCT': 76.30056523290968, 'ridge DIFF(RCT) ': 79.49620010985774, 'RFR (RCT) ': 76.26683240615276, 'RFR DIFF(RCT) ': 79.49620010985774, 'ridge DIFF OBS': 83.79679941706054, 'RFR DIFF(OBS)': 86.10360176608172, 'RFR (ALL)': 24.579707940762635, 'CF on ALL': 79.39072039646219, 'std Y_adj': 79.35934999963584}\n",
      "{'2 step rfr': 76.12208307305832, '2 step ridge': 74.80388660594153, 'ridge RCT': 76.437536849965, 'ridge DIFF(RCT) ': 80.0515267027326, 'RFR (RCT) ': 77.97760467515117, 'RFR DIFF(RCT) ': 80.0515267027326, 'ridge DIFF OBS': 82.88942024370674, 'RFR DIFF(OBS)': 84.64568917524629, 'RFR (ALL)': 25.50599562259104, 'CF on ALL': 78.95787071364404, 'std Y_adj': 79.01625116107463}\n",
      "{'2 step rfr': 74.44585443471013, '2 step ridge': 73.32038712591374, 'ridge RCT': 74.90203116103494, 'ridge DIFF(RCT) ': 77.7472884144978, 'RFR (RCT) ': 74.64912684742127, 'RFR DIFF(RCT) ': 77.7472884144978, 'ridge DIFF OBS': 83.45226616953774, 'RFR DIFF(OBS)': 84.06007882118732, 'RFR (ALL)': 25.210302383830623, 'CF on ALL': 77.72565577063712, 'std Y_adj': 77.7603397013005}\n",
      "{'2 step rfr': 77.24481138035091, '2 step ridge': 75.8144952134069, 'ridge RCT': 77.46431761949266, 'ridge DIFF(RCT) ': 80.6040519226908, 'RFR (RCT) ': 77.06183509897903, 'RFR DIFF(RCT) ': 80.6040519226908, 'ridge DIFF OBS': 83.64097167993573, 'RFR DIFF(OBS)': 85.14033479974577, 'RFR (ALL)': 25.795813587214333, 'CF on ALL': 80.10985762480217, 'std Y_adj': 80.21330210890893}\n",
      "{'2 step rfr': 75.07161702583117, '2 step ridge': 73.4574019798715, 'ridge RCT': 75.09049734917717, 'ridge DIFF(RCT) ': 78.60943828725834, 'RFR (RCT) ': 76.30600413507348, 'RFR DIFF(RCT) ': 78.60943828725834, 'ridge DIFF OBS': 82.03996677984597, 'RFR DIFF(OBS)': 84.22150566011189, 'RFR (ALL)': 24.991109535274617, 'CF on ALL': 78.53169904260531, 'std Y_adj': 78.5977022006269}\n",
      "{'2 step rfr': 78.18110097083749, '2 step ridge': 76.60675509312834, 'ridge RCT': 78.31596138755953, 'ridge DIFF(RCT) ': 81.72147868013107, 'RFR (RCT) ': 78.34372274485229, 'RFR DIFF(RCT) ': 81.72147868013107, 'ridge DIFF OBS': 87.47471680750945, 'RFR DIFF(OBS)': 89.37272212829315, 'RFR (ALL)': 25.93899703226412, 'CF on ALL': 81.39047107400381, 'std Y_adj': 81.13429912664762}\n"
     ]
    },
    {
     "ename": "FileNotFoundError",
     "evalue": "[Errno 2] No such file or directory: 'result_with_EVALSET_all_baselines_04RCT.np'",
     "output_type": "error",
     "traceback": [
      "\u001b[0;31m---------------------------------------------------------------------------\u001b[0m",
      "\u001b[0;31mFileNotFoundError\u001b[0m                         Traceback (most recent call last)",
      "\u001b[0;32m<ipython-input-96-d86e0aa1506a>\u001b[0m in \u001b[0;36m<module>\u001b[0;34m()\u001b[0m\n\u001b[1;32m      5\u001b[0m     \u001b[0mnp\u001b[0m\u001b[0;34m.\u001b[0m\u001b[0msavez\u001b[0m\u001b[0;34m(\u001b[0m\u001b[0;34m'result_with_EVALSET_all_baselines_04RCT'\u001b[0m\u001b[0;34m,\u001b[0m \u001b[0m_result_list_04\u001b[0m\u001b[0;34m)\u001b[0m\u001b[0;34m\u001b[0m\u001b[0m\n\u001b[1;32m      6\u001b[0m     \u001b[0mprint\u001b[0m\u001b[0;34m(\u001b[0m\u001b[0m_result_list_04\u001b[0m\u001b[0;34m[\u001b[0m\u001b[0;34m-\u001b[0m\u001b[0;36m1\u001b[0m\u001b[0;34m]\u001b[0m\u001b[0;34m)\u001b[0m\u001b[0;34m\u001b[0m\u001b[0m\n\u001b[0;32m----> 7\u001b[0;31m \u001b[0mclean_results\u001b[0m\u001b[0;34m(\u001b[0m\u001b[0;34m'result_with_EVALSET_all_baselines_04RCT.np'\u001b[0m\u001b[0;34m)\u001b[0m\u001b[0;34m\u001b[0m\u001b[0m\n\u001b[0m",
      "\u001b[0;32m<ipython-input-89-6a5f1a6a3904>\u001b[0m in \u001b[0;36mclean_results\u001b[0;34m(filename)\u001b[0m\n\u001b[1;32m      4\u001b[0m \u001b[0;34m\u001b[0m\u001b[0m\n\u001b[1;32m      5\u001b[0m \u001b[0;32mdef\u001b[0m \u001b[0mclean_results\u001b[0m\u001b[0;34m(\u001b[0m\u001b[0mfilename\u001b[0m\u001b[0;34m)\u001b[0m\u001b[0;34m:\u001b[0m\u001b[0;34m\u001b[0m\u001b[0m\n\u001b[0;32m----> 6\u001b[0;31m     \u001b[0merrs_dict\u001b[0m \u001b[0;34m=\u001b[0m \u001b[0mnp\u001b[0m\u001b[0;34m.\u001b[0m\u001b[0mload\u001b[0m\u001b[0;34m(\u001b[0m\u001b[0mfilename\u001b[0m\u001b[0;34m)\u001b[0m\u001b[0;34m[\u001b[0m\u001b[0;34m'arr_0'\u001b[0m\u001b[0;34m]\u001b[0m\u001b[0;34m\u001b[0m\u001b[0m\n\u001b[0m\u001b[1;32m      7\u001b[0m     \u001b[0;32mfor\u001b[0m \u001b[0mmethod_name\u001b[0m \u001b[0;32min\u001b[0m \u001b[0merrs_dict\u001b[0m\u001b[0;34m[\u001b[0m\u001b[0;36m0\u001b[0m\u001b[0;34m]\u001b[0m\u001b[0;34m.\u001b[0m\u001b[0mkeys\u001b[0m\u001b[0;34m(\u001b[0m\u001b[0;34m)\u001b[0m\u001b[0;34m:\u001b[0m\u001b[0;34m\u001b[0m\u001b[0m\n\u001b[1;32m      8\u001b[0m         \u001b[0mprint\u001b[0m\u001b[0;34m(\u001b[0m\u001b[0;34m'{:18}: {:2.2f} +/- {:2.2f}'\u001b[0m\u001b[0;34m.\u001b[0m\u001b[0mformat\u001b[0m\u001b[0;34m(\u001b[0m\u001b[0mmethod_name\u001b[0m\u001b[0;34m,\u001b[0m \u001b[0;34m*\u001b[0m\u001b[0mmean_sem\u001b[0m\u001b[0;34m(\u001b[0m\u001b[0merrs_dict\u001b[0m\u001b[0;34m,\u001b[0m \u001b[0mmethod_name\u001b[0m\u001b[0;34m)\u001b[0m\u001b[0;34m)\u001b[0m\u001b[0;34m)\u001b[0m\u001b[0;34m\u001b[0m\u001b[0m\n",
      "\u001b[0;32m/scratch/apm470/pfrl-env/lib/python3.6/site-packages/numpy/lib/npyio.py\u001b[0m in \u001b[0;36mload\u001b[0;34m(file, mmap_mode, allow_pickle, fix_imports, encoding)\u001b[0m\n\u001b[1;32m    370\u001b[0m     \u001b[0mown_fid\u001b[0m \u001b[0;34m=\u001b[0m \u001b[0;32mFalse\u001b[0m\u001b[0;34m\u001b[0m\u001b[0m\n\u001b[1;32m    371\u001b[0m     \u001b[0;32mif\u001b[0m \u001b[0misinstance\u001b[0m\u001b[0;34m(\u001b[0m\u001b[0mfile\u001b[0m\u001b[0;34m,\u001b[0m \u001b[0mbasestring\u001b[0m\u001b[0;34m)\u001b[0m\u001b[0;34m:\u001b[0m\u001b[0;34m\u001b[0m\u001b[0m\n\u001b[0;32m--> 372\u001b[0;31m         \u001b[0mfid\u001b[0m \u001b[0;34m=\u001b[0m \u001b[0mopen\u001b[0m\u001b[0;34m(\u001b[0m\u001b[0mfile\u001b[0m\u001b[0;34m,\u001b[0m \u001b[0;34m\"rb\"\u001b[0m\u001b[0;34m)\u001b[0m\u001b[0;34m\u001b[0m\u001b[0m\n\u001b[0m\u001b[1;32m    373\u001b[0m         \u001b[0mown_fid\u001b[0m \u001b[0;34m=\u001b[0m \u001b[0;32mTrue\u001b[0m\u001b[0;34m\u001b[0m\u001b[0m\n\u001b[1;32m    374\u001b[0m     \u001b[0;32melif\u001b[0m \u001b[0mis_pathlib_path\u001b[0m\u001b[0;34m(\u001b[0m\u001b[0mfile\u001b[0m\u001b[0;34m)\u001b[0m\u001b[0;34m:\u001b[0m\u001b[0;34m\u001b[0m\u001b[0m\n",
      "\u001b[0;31mFileNotFoundError\u001b[0m: [Errno 2] No such file or directory: 'result_with_EVALSET_all_baselines_04RCT.np'"
     ]
    }
   ],
   "source": [
    "_result_list_04 = []\n",
    "\n",
    "for i in range(100):\n",
    "    _result_list_04.append(_full_experiment(rct_fraction_of_rural=0.6))\n",
    "    np.savez('result_with_EVALSET_all_baselines_04RCT', _result_list_04)\n",
    "    print(_result_list_04[-1])\n"
   ]
  },
  {
   "cell_type": "code",
   "execution_count": 97,
   "metadata": {},
   "outputs": [
    {
     "name": "stdout",
     "output_type": "stream",
     "text": [
      "2 step rfr        : 75.48 +/- 0.16\n",
      "2 step ridge      : 74.26 +/- 0.13\n",
      "ridge RCT         : 75.98 +/- 0.14\n",
      "ridge DIFF(RCT)   : 79.27 +/- 0.15\n",
      "RFR (RCT)         : 76.09 +/- 0.16\n",
      "RFR DIFF(RCT)     : 79.27 +/- 0.15\n",
      "ridge DIFF OBS    : 83.70 +/- 0.18\n",
      "RFR DIFF(OBS)     : 84.97 +/- 0.20\n",
      "RFR (ALL)         : 25.21 +/- 0.05\n",
      "CF on ALL         : 78.95 +/- 0.13\n",
      "std Y_adj         : 78.93 +/- 0.13\n"
     ]
    }
   ],
   "source": [
    "clean_results('result_with_EVALSET_all_baselines_04RCT.npz')"
   ]
  },
  {
   "cell_type": "code",
   "execution_count": 98,
   "metadata": {
    "scrolled": true
   },
   "outputs": [
    {
     "name": "stdout",
     "output_type": "stream",
     "text": [
      "{'2 step rfr': 75.24327862305631, '2 step ridge': 73.6705064539643, 'ridge RCT': 75.44004536764288, 'ridge DIFF(RCT) ': 79.47029215599497, 'RFR (RCT) ': 75.58425399917215, 'RFR DIFF(RCT) ': 79.47029215599497, 'ridge DIFF OBS': 83.55236652485893, 'RFR DIFF(OBS)': 85.3045294780488, 'RFR (ALL)': 25.026436302242963, 'CF on ALL': 78.95300250312759, 'std Y_adj': 78.94292659849901}\n",
      "{'2 step rfr': 77.63813169426776, '2 step ridge': 76.20601914031948, 'ridge RCT': 78.11040697439577, 'ridge DIFF(RCT) ': 81.0400022414609, 'RFR (RCT) ': 77.58328347613498, 'RFR DIFF(RCT) ': 81.0400022414609, 'ridge DIFF OBS': 85.0914193800192, 'RFR DIFF(OBS)': 86.92861636874864, 'RFR (ALL)': 25.343791189586273, 'CF on ALL': 80.49199304083606, 'std Y_adj': 80.48107471537959}\n",
      "{'2 step rfr': 74.85443575483406, '2 step ridge': 73.24588203460888, 'ridge RCT': 74.78975408129632, 'ridge DIFF(RCT) ': 78.23906784512114, 'RFR (RCT) ': 74.97730394857415, 'RFR DIFF(RCT) ': 78.23906784512114, 'ridge DIFF OBS': 83.51927538864102, 'RFR DIFF(OBS)': 85.36706546315247, 'RFR (ALL)': 25.29325777720564, 'CF on ALL': 77.94269927406937, 'std Y_adj': 77.88246124244006}\n",
      "{'2 step rfr': 76.53759743346892, '2 step ridge': 75.00798661232227, 'ridge RCT': 76.70068671994756, 'ridge DIFF(RCT) ': 78.9044250541368, 'RFR (RCT) ': 76.25280499978898, 'RFR DIFF(RCT) ': 78.9044250541368, 'ridge DIFF OBS': 84.78908493136589, 'RFR DIFF(OBS)': 86.86635814229908, 'RFR (ALL)': 25.359644507534657, 'CF on ALL': 79.34840852124813, 'std Y_adj': 79.35459528246157}\n",
      "{'2 step rfr': 76.75023854589139, '2 step ridge': 75.16049226809402, 'ridge RCT': 76.91752430250892, 'ridge DIFF(RCT) ': 80.131463136945, 'RFR (RCT) ': 77.33161916524391, 'RFR DIFF(RCT) ': 80.131463136945, 'ridge DIFF OBS': 84.01139656204178, 'RFR DIFF(OBS)': 84.93277210054838, 'RFR (ALL)': 25.55261840487929, 'CF on ALL': 80.0234426026932, 'std Y_adj': 80.16299801086255}\n",
      "{'2 step rfr': 77.22773737678405, '2 step ridge': 75.32401973831581, 'ridge RCT': 77.13219767067426, 'ridge DIFF(RCT) ': 80.65293548672541, 'RFR (RCT) ': 75.12255342017266, 'RFR DIFF(RCT) ': 80.65293548672541, 'ridge DIFF OBS': 82.87921361038133, 'RFR DIFF(OBS)': 84.99212846209704, 'RFR (ALL)': 24.906757760174038, 'CF on ALL': 79.15424471334646, 'std Y_adj': 79.21528396351913}\n",
      "{'2 step rfr': 77.21523014086141, '2 step ridge': 76.15489517603002, 'ridge RCT': 77.56719942699489, 'ridge DIFF(RCT) ': 81.72261946976171, 'RFR (RCT) ': 75.70645716022459, 'RFR DIFF(RCT) ': 81.72261946976171, 'ridge DIFF OBS': 86.01629446518598, 'RFR DIFF(OBS)': 87.31807036177878, 'RFR (ALL)': 25.72739025878146, 'CF on ALL': 81.40144476858968, 'std Y_adj': 81.4993878134753}\n",
      "{'2 step rfr': 77.66960285475533, '2 step ridge': 75.96381293386948, 'ridge RCT': 77.81502507325645, 'ridge DIFF(RCT) ': 80.96478040295884, 'RFR (RCT) ': 76.94700714113817, 'RFR DIFF(RCT) ': 80.96478040295884, 'ridge DIFF OBS': 85.55371309127177, 'RFR DIFF(OBS)': 87.26616984599755, 'RFR (ALL)': 25.58381015123073, 'CF on ALL': 80.6002181086348, 'std Y_adj': 80.5374878683999}\n",
      "{'2 step rfr': 76.82073969734117, '2 step ridge': 75.01678098173072, 'ridge RCT': 76.7828395024082, 'ridge DIFF(RCT) ': 80.53246832918009, 'RFR (RCT) ': 76.95533202080901, 'RFR DIFF(RCT) ': 80.53246832918009, 'ridge DIFF OBS': 83.86302703903515, 'RFR DIFF(OBS)': 85.76034743067385, 'RFR (ALL)': 25.17828747164699, 'CF on ALL': 79.64653000779128, 'std Y_adj': 79.74468572716025}\n",
      "{'2 step rfr': 77.38601119690475, '2 step ridge': 75.77421898804468, 'ridge RCT': 77.42511780119014, 'ridge DIFF(RCT) ': 80.3056478462682, 'RFR (RCT) ': 77.80306465724189, 'RFR DIFF(RCT) ': 80.3056478462682, 'ridge DIFF OBS': 85.60505554544618, 'RFR DIFF(OBS)': 86.96203456073911, 'RFR (ALL)': 25.04385646087927, 'CF on ALL': 79.63025237505089, 'std Y_adj': 79.39606716032284}\n",
      "{'2 step rfr': 77.6976163309781, '2 step ridge': 76.32677128091689, 'ridge RCT': 77.83245607789961, 'ridge DIFF(RCT) ': 80.62533144338018, 'RFR (RCT) ': 76.45420685608858, 'RFR DIFF(RCT) ': 80.62533144338018, 'ridge DIFF OBS': 84.31745179182165, 'RFR DIFF(OBS)': 86.08249386585278, 'RFR (ALL)': 25.36958106948596, 'CF on ALL': 79.47148865037464, 'std Y_adj': 79.46185259854957}\n",
      "{'2 step rfr': 75.80160587688383, '2 step ridge': 74.97052460668813, 'ridge RCT': 76.88554243946027, 'ridge DIFF(RCT) ': 78.56044619700711, 'RFR (RCT) ': 75.89828485337235, 'RFR DIFF(RCT) ': 78.56044619700711, 'ridge DIFF OBS': 82.21350703803289, 'RFR DIFF(OBS)': 80.76826300409628, 'RFR (ALL)': 25.4204058087759, 'CF on ALL': 78.85927392201393, 'std Y_adj': 78.97336861391699}\n",
      "{'2 step rfr': 76.45209405174806, '2 step ridge': 75.2802822011913, 'ridge RCT': 77.15067699042969, 'ridge DIFF(RCT) ': 79.84669644083445, 'RFR (RCT) ': 76.62846070550884, 'RFR DIFF(RCT) ': 79.84669644083445, 'ridge DIFF OBS': 84.64586858094677, 'RFR DIFF(OBS)': 86.00616515847584, 'RFR (ALL)': 25.646239902294514, 'CF on ALL': 79.64698952268276, 'std Y_adj': 79.66593565464107}\n",
      "{'2 step rfr': 78.69700909377745, '2 step ridge': 77.25297422581448, 'ridge RCT': 78.93009355669065, 'ridge DIFF(RCT) ': 80.60896065406425, 'RFR (RCT) ': 78.44174630155464, 'RFR DIFF(RCT) ': 80.60896065406425, 'ridge DIFF OBS': 86.9068301449276, 'RFR DIFF(OBS)': 88.61306744885977, 'RFR (ALL)': 25.205540950844956, 'CF on ALL': 80.181846908193, 'std Y_adj': 79.90274436770453}\n",
      "{'2 step rfr': 78.03024899165229, '2 step ridge': 76.56464070813705, 'ridge RCT': 78.19651361853354, 'ridge DIFF(RCT) ': 80.08996651662517, 'RFR (RCT) ': 77.41265540564676, 'RFR DIFF(RCT) ': 80.08996651662517, 'ridge DIFF OBS': 85.42180925208606, 'RFR DIFF(OBS)': 86.1929482253971, 'RFR (ALL)': 25.857999324663396, 'CF on ALL': 79.94715967441063, 'std Y_adj': 79.8613124737161}\n",
      "{'2 step rfr': 75.24237449360058, '2 step ridge': 75.12698642384677, 'ridge RCT': 76.76529027834142, 'ridge DIFF(RCT) ': 80.28828809171429, 'RFR (RCT) ': 76.21536858922858, 'RFR DIFF(RCT) ': 80.28828809171429, 'ridge DIFF OBS': 84.28592794811065, 'RFR DIFF(OBS)': 85.26541137646917, 'RFR (ALL)': 24.569038560116244, 'CF on ALL': 79.0708232995977, 'std Y_adj': 79.02890995521844}\n",
      "{'2 step rfr': 75.63203813850326, '2 step ridge': 74.06540617767794, 'ridge RCT': 79.19872723026107, 'ridge DIFF(RCT) ': 78.50472781990563, 'RFR (RCT) ': 77.08048293261736, 'RFR DIFF(RCT) ': 78.50472781990563, 'ridge DIFF OBS': 81.51952285703457, 'RFR DIFF(OBS)': 83.2118708751392, 'RFR (ALL)': 25.30935381834069, 'CF on ALL': 78.36031078364152, 'std Y_adj': 78.46196281333259}\n",
      "{'2 step rfr': 78.05189594312331, '2 step ridge': 76.23072961888508, 'ridge RCT': 78.20341984182377, 'ridge DIFF(RCT) ': 80.73397421435283, 'RFR (RCT) ': 77.73352337706125, 'RFR DIFF(RCT) ': 80.73397421435283, 'ridge DIFF OBS': 84.90079568992394, 'RFR DIFF(OBS)': 86.97201265196763, 'RFR (ALL)': 24.77880615086728, 'CF on ALL': 80.370547163897, 'std Y_adj': 80.46615668769724}\n",
      "{'2 step rfr': 77.45336459249529, '2 step ridge': 76.16330546377179, 'ridge RCT': 77.35348606022079, 'ridge DIFF(RCT) ': 79.25792816862558, 'RFR (RCT) ': 75.79856999104592, 'RFR DIFF(RCT) ': 79.25792816862558, 'ridge DIFF OBS': 84.27282703093492, 'RFR DIFF(OBS)': 85.19191705727957, 'RFR (ALL)': 24.568270016218456, 'CF on ALL': 78.85675677968109, 'std Y_adj': 78.90677943617817}\n",
      "{'2 step rfr': 76.2523130030733, '2 step ridge': 74.4873173601215, 'ridge RCT': 76.35077577017786, 'ridge DIFF(RCT) ': 79.18085263423241, 'RFR (RCT) ': 75.60282354915475, 'RFR DIFF(RCT) ': 79.18085263423241, 'ridge DIFF OBS': 83.3281971744643, 'RFR DIFF(OBS)': 85.30119256562492, 'RFR (ALL)': 25.006625173350155, 'CF on ALL': 78.60197540517514, 'std Y_adj': 78.6224733418684}\n",
      "{'2 step rfr': 76.3944872723756, '2 step ridge': 75.17549357288584, 'ridge RCT': 76.962008676697, 'ridge DIFF(RCT) ': 79.19354343704697, 'RFR (RCT) ': 77.35747146107151, 'RFR DIFF(RCT) ': 79.19354343704697, 'ridge DIFF OBS': 82.75788468835367, 'RFR DIFF(OBS)': 84.23493910235625, 'RFR (ALL)': 25.616893982460354, 'CF on ALL': 78.6700065760185, 'std Y_adj': 78.71980850707845}\n",
      "{'2 step rfr': 78.8330049645572, '2 step ridge': 77.29109602831866, 'ridge RCT': 79.12620423747096, 'ridge DIFF(RCT) ': 82.0612860012564, 'RFR (RCT) ': 77.86876701048345, 'RFR DIFF(RCT) ': 82.0612860012564, 'ridge DIFF OBS': 84.5758000248569, 'RFR DIFF(OBS)': 86.64076077108075, 'RFR (ALL)': 26.124902450961113, 'CF on ALL': 81.19973992492312, 'std Y_adj': 81.27841577073198}\n"
     ]
    },
    {
     "name": "stdout",
     "output_type": "stream",
     "text": [
      "{'2 step rfr': 73.83335148016239, '2 step ridge': 74.92751888965483, 'ridge RCT': 76.43861544600837, 'ridge DIFF(RCT) ': 77.79426495253473, 'RFR (RCT) ': 75.81457213383932, 'RFR DIFF(RCT) ': 77.79426495253473, 'ridge DIFF OBS': 82.11241314475349, 'RFR DIFF(OBS)': 80.63285745253651, 'RFR (ALL)': 25.121214939754257, 'CF on ALL': 78.08021685294204, 'std Y_adj': 78.17306856038262}\n",
      "{'2 step rfr': 75.5484119038535, '2 step ridge': 74.0508237668394, 'ridge RCT': 75.81204188855371, 'ridge DIFF(RCT) ': 79.6268814163964, 'RFR (RCT) ': 74.46062354574, 'RFR DIFF(RCT) ': 79.6268814163964, 'ridge DIFF OBS': 83.81725363301445, 'RFR DIFF(OBS)': 85.59242283814723, 'RFR (ALL)': 25.03414825508387, 'CF on ALL': 79.34365572074806, 'std Y_adj': 79.33034620730797}\n",
      "{'2 step rfr': 75.76571244586368, '2 step ridge': 74.33875158102067, 'ridge RCT': 76.20365198749234, 'ridge DIFF(RCT) ': 78.47144707625688, 'RFR (RCT) ': 74.48462097813899, 'RFR DIFF(RCT) ': 78.47144707625688, 'ridge DIFF OBS': 82.39547225334186, 'RFR DIFF(OBS)': 84.03810564381297, 'RFR (ALL)': 25.027437956016904, 'CF on ALL': 78.2923534348314, 'std Y_adj': 78.34114869191558}\n",
      "{'2 step rfr': 78.29007688709821, '2 step ridge': 76.92985746546803, 'ridge RCT': 78.57499410380004, 'ridge DIFF(RCT) ': 81.19033296711198, 'RFR (RCT) ': 78.74447507401784, 'RFR DIFF(RCT) ': 81.19033296711198, 'ridge DIFF OBS': 85.88173598231232, 'RFR DIFF(OBS)': 87.52362561971687, 'RFR (ALL)': 24.9761185005167, 'CF on ALL': 81.15599737200493, 'std Y_adj': 81.14789841174651}\n",
      "{'2 step rfr': 76.05820559284004, '2 step ridge': 74.53543139883504, 'ridge RCT': 76.38558260478335, 'ridge DIFF(RCT) ': 78.92461973561728, 'RFR (RCT) ': 77.55272843678617, 'RFR DIFF(RCT) ': 78.92461973561728, 'ridge DIFF OBS': 83.02155726817732, 'RFR DIFF(OBS)': 84.71162853659271, 'RFR (ALL)': 24.84842288898, 'CF on ALL': 77.86809107594067, 'std Y_adj': 77.8024882079094}\n",
      "{'2 step rfr': 75.11697913676163, '2 step ridge': 73.52039966095377, 'ridge RCT': 75.1521685776298, 'ridge DIFF(RCT) ': 78.38256296324116, 'RFR (RCT) ': 76.74889794874443, 'RFR DIFF(RCT) ': 78.38256296324116, 'ridge DIFF OBS': 83.4723822807583, 'RFR DIFF(OBS)': 85.07718409295876, 'RFR (ALL)': 24.972019205795178, 'CF on ALL': 77.74491354155148, 'std Y_adj': 77.69063456651541}\n",
      "{'2 step rfr': 74.91684746776285, '2 step ridge': 73.33772853705338, 'ridge RCT': 75.40078468346447, 'ridge DIFF(RCT) ': 78.2613312962966, 'RFR (RCT) ': 74.9849123490646, 'RFR DIFF(RCT) ': 78.2613312962966, 'ridge DIFF OBS': 81.86151770656508, 'RFR DIFF(OBS)': 83.66686024674725, 'RFR (ALL)': 24.552834454777553, 'CF on ALL': 77.80276454318737, 'std Y_adj': 77.86992210210221}\n",
      "{'2 step rfr': 75.67695616972784, '2 step ridge': 74.08682192300702, 'ridge RCT': 75.90462089173313, 'ridge DIFF(RCT) ': 78.03957527430057, 'RFR (RCT) ': 76.12407691503726, 'RFR DIFF(RCT) ': 78.03957527430057, 'ridge DIFF OBS': 82.0978356448753, 'RFR DIFF(OBS)': 83.9996907846169, 'RFR (ALL)': 25.098780946170944, 'CF on ALL': 78.29643948566518, 'std Y_adj': 78.40622942363791}\n",
      "{'2 step rfr': 77.17319086435535, '2 step ridge': 76.24385842967476, 'ridge RCT': 77.41134864793906, 'ridge DIFF(RCT) ': 79.46593136062054, 'RFR (RCT) ': 76.00967187891382, 'RFR DIFF(RCT) ': 79.46593136062054, 'ridge DIFF OBS': 86.89386809633628, 'RFR DIFF(OBS)': 87.41534238077915, 'RFR (ALL)': 25.600132700654992, 'CF on ALL': 80.48939532979317, 'std Y_adj': 80.50033116824142}\n",
      "{'2 step rfr': 76.14700320603147, '2 step ridge': 74.3152027025721, 'ridge RCT': 76.33493608869541, 'ridge DIFF(RCT) ': 77.84172968571694, 'RFR (RCT) ': 76.04938354004754, 'RFR DIFF(RCT) ': 77.84172968571694, 'ridge DIFF OBS': 82.85638461139384, 'RFR DIFF(OBS)': 84.8319945270574, 'RFR (ALL)': 25.138307061247424, 'CF on ALL': 78.26435040552012, 'std Y_adj': 78.27746317206655}\n",
      "{'2 step rfr': 77.16779454909242, '2 step ridge': 76.04846285427463, 'ridge RCT': 78.0034756432367, 'ridge DIFF(RCT) ': 80.69989220523902, 'RFR (RCT) ': 76.76836717074677, 'RFR DIFF(RCT) ': 80.69989220523902, 'ridge DIFF OBS': 83.54408683219636, 'RFR DIFF(OBS)': 85.38184309121473, 'RFR (ALL)': 25.180350509933316, 'CF on ALL': 80.35431474630857, 'std Y_adj': 80.38174781917544}\n",
      "{'2 step rfr': 75.33293237410595, '2 step ridge': 74.13500829477056, 'ridge RCT': 75.90905263549888, 'ridge DIFF(RCT) ': 79.05048984778664, 'RFR (RCT) ': 76.79892592404, 'RFR DIFF(RCT) ': 79.05048984778664, 'ridge DIFF OBS': 82.91474386736202, 'RFR DIFF(OBS)': 84.42629692350582, 'RFR (ALL)': 24.121848400884723, 'CF on ALL': 77.93777854356178, 'std Y_adj': 77.86040877132197}\n",
      "{'2 step rfr': 78.45101603417059, '2 step ridge': 76.58888073474182, 'ridge RCT': 78.53633883499397, 'ridge DIFF(RCT) ': 81.06615262133366, 'RFR (RCT) ': 77.82935759769781, 'RFR DIFF(RCT) ': 81.06615262133366, 'ridge DIFF OBS': 83.86092555434438, 'RFR DIFF(OBS)': 85.63873534132037, 'RFR (ALL)': 25.5193209450503, 'CF on ALL': 80.58584441362429, 'std Y_adj': 80.68237181693954}\n",
      "{'2 step rfr': 75.76338924203998, '2 step ridge': 74.0869189027253, 'ridge RCT': 75.845567133168, 'ridge DIFF(RCT) ': 79.61625538230905, 'RFR (RCT) ': 75.57765532435135, 'RFR DIFF(RCT) ': 79.61625538230905, 'ridge DIFF OBS': 85.00774795887021, 'RFR DIFF(OBS)': 86.54190468305273, 'RFR (ALL)': 24.98788787206734, 'CF on ALL': 78.55564152410346, 'std Y_adj': 78.39037475300351}\n",
      "{'2 step rfr': 75.84655827821187, '2 step ridge': 73.93738182524936, 'ridge RCT': 75.83869619160076, 'ridge DIFF(RCT) ': 79.2303183485218, 'RFR (RCT) ': 75.74116312196774, 'RFR DIFF(RCT) ': 79.2303183485218, 'ridge DIFF OBS': 84.1671860127808, 'RFR DIFF(OBS)': 86.03955133242515, 'RFR (ALL)': 25.215778844926035, 'CF on ALL': 78.13061036834362, 'std Y_adj': 78.06101376913008}\n",
      "{'2 step rfr': 75.4727063152242, '2 step ridge': 74.32410423755682, 'ridge RCT': 76.00699964899087, 'ridge DIFF(RCT) ': 80.32870529564995, 'RFR (RCT) ': 75.3306786148883, 'RFR DIFF(RCT) ': 80.32870529564995, 'ridge DIFF OBS': 83.23089286804645, 'RFR DIFF(OBS)': 84.51926109074189, 'RFR (ALL)': 25.01110209172007, 'CF on ALL': 79.39551200777578, 'std Y_adj': 79.47840050719594}\n",
      "{'2 step rfr': 80.1222354013404, '2 step ridge': 78.48166867995862, 'ridge RCT': 80.13287237906754, 'ridge DIFF(RCT) ': 83.26539995648866, 'RFR (RCT) ': 81.12744154827654, 'RFR DIFF(RCT) ': 83.26539995648866, 'ridge DIFF OBS': 86.96827793699025, 'RFR DIFF(OBS)': 89.17496233284969, 'RFR (ALL)': 25.987882470054586, 'CF on ALL': 82.06582411905727, 'std Y_adj': 82.02072136769094}\n",
      "{'2 step rfr': 78.39400691422706, '2 step ridge': 76.77472427197415, 'ridge RCT': 78.43636361177094, 'ridge DIFF(RCT) ': 82.00027978165538, 'RFR (RCT) ': 78.3110710168818, 'RFR DIFF(RCT) ': 82.00027978165538, 'ridge DIFF OBS': 86.75118569891926, 'RFR DIFF(OBS)': 88.35533601685724, 'RFR (ALL)': 25.69745354830637, 'CF on ALL': 81.25983278132696, 'std Y_adj': 81.09024219607205}\n",
      "{'2 step rfr': 76.39080555117351, '2 step ridge': 75.02239582882657, 'ridge RCT': 76.70322794395962, 'ridge DIFF(RCT) ': 80.81586728772322, 'RFR (RCT) ': 77.2596614143934, 'RFR DIFF(RCT) ': 80.81586728772322, 'ridge DIFF OBS': 85.78666295940286, 'RFR DIFF(OBS)': 87.41681106350276, 'RFR (ALL)': 25.603245823729914, 'CF on ALL': 79.68532671366017, 'std Y_adj': 79.61902994860922}\n",
      "{'2 step rfr': 78.68010158400217, '2 step ridge': 76.54697881726096, 'ridge RCT': 78.49850131432036, 'ridge DIFF(RCT) ': 81.70158978724834, 'RFR (RCT) ': 79.34548854119193, 'RFR DIFF(RCT) ': 81.70158978724834, 'ridge DIFF OBS': 85.80918218782995, 'RFR DIFF(OBS)': 87.894363309151, 'RFR (ALL)': 24.98641457577671, 'CF on ALL': 80.57949817641364, 'std Y_adj': 80.49285541837983}\n",
      "{'2 step rfr': 78.02881353795975, '2 step ridge': 76.41469821978751, 'ridge RCT': 78.12683535867822, 'ridge DIFF(RCT) ': 80.61345269383712, 'RFR (RCT) ': 77.0276666308751, 'RFR DIFF(RCT) ': 80.61345269383712, 'ridge DIFF OBS': 85.28770880998165, 'RFR DIFF(OBS)': 86.98040581601737, 'RFR (ALL)': 25.186334491055735, 'CF on ALL': 80.2999249356251, 'std Y_adj': 80.26014790283048}\n",
      "{'2 step rfr': 75.013128839147, '2 step ridge': 73.57547616448923, 'ridge RCT': 75.34445161667105, 'ridge DIFF(RCT) ': 78.26263442065648, 'RFR (RCT) ': 74.30790457935748, 'RFR DIFF(RCT) ': 78.26263442065648, 'ridge DIFF OBS': 82.4026285503391, 'RFR DIFF(OBS)': 83.97677255870725, 'RFR (ALL)': 24.764868574329263, 'CF on ALL': 77.54562648309823, 'std Y_adj': 77.53302274611562}\n"
     ]
    },
    {
     "name": "stdout",
     "output_type": "stream",
     "text": [
      "{'2 step rfr': 71.4918068075577, '2 step ridge': 72.86582376604393, 'ridge RCT': 74.71893679424397, 'ridge DIFF(RCT) ': 78.54316959720383, 'RFR (RCT) ': 74.7676250407624, 'RFR DIFF(RCT) ': 78.54316959720383, 'ridge DIFF OBS': 82.38597216443435, 'RFR DIFF(OBS)': 81.1358974720883, 'RFR (ALL)': 24.464199605614187, 'CF on ALL': 77.45839697861759, 'std Y_adj': 77.53872737948596}\n",
      "{'2 step rfr': 76.6652092503882, '2 step ridge': 74.90651349490332, 'ridge RCT': 76.71223598103228, 'ridge DIFF(RCT) ': 79.03533220335812, 'RFR (RCT) ': 76.93957745280703, 'RFR DIFF(RCT) ': 79.03533220335812, 'ridge DIFF OBS': 83.51166569030593, 'RFR DIFF(OBS)': 85.49715485166367, 'RFR (ALL)': 25.053621626957984, 'CF on ALL': 79.08965211471667, 'std Y_adj': 79.19965368146974}\n",
      "{'2 step rfr': 76.7405145904864, '2 step ridge': 75.92502300092133, 'ridge RCT': 77.82355759141214, 'ridge DIFF(RCT) ': 80.56995323470768, 'RFR (RCT) ': 76.3113686611495, 'RFR DIFF(RCT) ': 80.56995323470768, 'ridge DIFF OBS': 84.89455237599347, 'RFR DIFF(OBS)': 85.49533120678225, 'RFR (ALL)': 25.4214796423311, 'CF on ALL': 80.54598467734753, 'std Y_adj': 80.53197234586847}\n",
      "{'2 step rfr': 75.7161335418324, '2 step ridge': 77.02244880014904, 'ridge RCT': 78.8031175516269, 'ridge DIFF(RCT) ': 80.81703622157889, 'RFR (RCT) ': 78.70792377188862, 'RFR DIFF(RCT) ': 80.81703622157889, 'ridge DIFF OBS': 85.83651940320168, 'RFR DIFF(OBS)': 87.50986284837388, 'RFR (ALL)': 26.006058635919537, 'CF on ALL': 80.99024095488024, 'std Y_adj': 81.05699144957197}\n",
      "{'2 step rfr': 78.1590699210787, '2 step ridge': 76.06757810726101, 'ridge RCT': 77.76861775362161, 'ridge DIFF(RCT) ': 80.56788707340591, 'RFR (RCT) ': 79.25590288269227, 'RFR DIFF(RCT) ': 80.56788707340591, 'ridge DIFF OBS': 83.87471645205471, 'RFR DIFF(OBS)': 86.19482082389936, 'RFR (ALL)': 25.425840963584953, 'CF on ALL': 79.2556877500187, 'std Y_adj': 79.31949246335637}\n",
      "{'2 step rfr': 78.30559034124663, '2 step ridge': 76.83301426044106, 'ridge RCT': 78.682233437779, 'ridge DIFF(RCT) ': 80.81555434414646, 'RFR (RCT) ': 77.13865792051914, 'RFR DIFF(RCT) ': 80.81555434414646, 'ridge DIFF OBS': 83.42383499970455, 'RFR DIFF(OBS)': 85.49527538305497, 'RFR (ALL)': 25.629163671636544, 'CF on ALL': 80.26222033176035, 'std Y_adj': 80.28225431161029}\n",
      "{'2 step rfr': 78.95887790219565, '2 step ridge': 77.60781599613301, 'ridge RCT': 79.24850925341893, 'ridge DIFF(RCT) ': 82.489223900482, 'RFR (RCT) ': 79.91465780588534, 'RFR DIFF(RCT) ': 82.489223900482, 'ridge DIFF OBS': 88.01077263077357, 'RFR DIFF(OBS)': 89.55669100223537, 'RFR (ALL)': 26.29793507124812, 'CF on ALL': 82.1457900002969, 'std Y_adj': 81.90712108800524}\n",
      "{'2 step rfr': 77.39423989439629, '2 step ridge': 76.2753806203193, 'ridge RCT': 77.92885333689473, 'ridge DIFF(RCT) ': 79.49200406467185, 'RFR (RCT) ': 76.73490850611799, 'RFR DIFF(RCT) ': 79.49200406467185, 'ridge DIFF OBS': 82.3357707838645, 'RFR DIFF(OBS)': 84.31233143107659, 'RFR (ALL)': 25.13372108463295, 'CF on ALL': 78.68290464847716, 'std Y_adj': 78.77072247115655}\n",
      "{'2 step rfr': 78.93668287089446, '2 step ridge': 77.60646657683628, 'ridge RCT': 79.39369644324259, 'ridge DIFF(RCT) ': 83.24817485081478, 'RFR (RCT) ': 83.54898296867016, 'RFR DIFF(RCT) ': 83.24817485081478, 'ridge DIFF OBS': 87.82777106965109, 'RFR DIFF(OBS)': 89.62179869494264, 'RFR (ALL)': 25.697721761936258, 'CF on ALL': 82.40201849736793, 'std Y_adj': 82.23251543007446}\n",
      "{'2 step rfr': 74.4270565827391, '2 step ridge': 75.48489000405469, 'ridge RCT': 77.12343440753462, 'ridge DIFF(RCT) ': 79.45465956421346, 'RFR (RCT) ': 75.86482023950174, 'RFR DIFF(RCT) ': 79.45465956421346, 'ridge DIFF OBS': 85.79637086850249, 'RFR DIFF(OBS)': 84.03779118145644, 'RFR (ALL)': 25.011009241544276, 'CF on ALL': 79.2494961376757, 'std Y_adj': 79.10789056233551}\n",
      "{'2 step rfr': 75.78686010367964, '2 step ridge': 74.64187281281656, 'ridge RCT': 75.99734355580298, 'ridge DIFF(RCT) ': 78.7954662819473, 'RFR (RCT) ': 75.37847183345664, 'RFR DIFF(RCT) ': 78.7954662819473, 'ridge DIFF OBS': 83.00876096793503, 'RFR DIFF(OBS)': 83.73991581327176, 'RFR (ALL)': 24.800951348348, 'CF on ALL': 78.54424695153556, 'std Y_adj': 78.54990557602603}\n",
      "{'2 step rfr': 74.58324946235919, '2 step ridge': 75.59094878031628, 'ridge RCT': 77.26517376253298, 'ridge DIFF(RCT) ': 80.11316195132423, 'RFR (RCT) ': 77.88785647127217, 'RFR DIFF(RCT) ': 80.11316195132423, 'ridge DIFF OBS': 84.8525437723022, 'RFR DIFF(OBS)': 86.84807743578936, 'RFR (ALL)': 25.061495942056204, 'CF on ALL': 80.32353133843934, 'std Y_adj': 80.35523794667887}\n",
      "{'2 step rfr': 76.4110450847188, '2 step ridge': 75.2588949717519, 'ridge RCT': 76.82690863377857, 'ridge DIFF(RCT) ': 78.99896438176681, 'RFR (RCT) ': 76.71955908359611, 'RFR DIFF(RCT) ': 78.99896438176681, 'ridge DIFF OBS': 83.5899319116399, 'RFR DIFF(OBS)': 85.25982533785731, 'RFR (ALL)': 24.65001145326152, 'CF on ALL': 78.02008610683431, 'std Y_adj': 78.00261092773633}\n",
      "{'2 step rfr': 78.08627192716122, '2 step ridge': 76.30677049704487, 'ridge RCT': 78.19566343236096, 'ridge DIFF(RCT) ': 81.57070998934488, 'RFR (RCT) ': 78.07255569456724, 'RFR DIFF(RCT) ': 81.57070998934488, 'ridge DIFF OBS': 85.58028139896355, 'RFR DIFF(OBS)': 87.75032671062377, 'RFR (ALL)': 24.788008430040104, 'CF on ALL': 80.34667690195737, 'std Y_adj': 80.21381629402407}\n",
      "{'2 step rfr': 75.01012112112657, '2 step ridge': 73.56064172801614, 'ridge RCT': 75.1923607061882, 'ridge DIFF(RCT) ': 77.5882813161321, 'RFR (RCT) ': 74.6726311706152, 'RFR DIFF(RCT) ': 77.5882813161321, 'ridge DIFF OBS': 82.13180947800771, 'RFR DIFF(OBS)': 83.86213326951079, 'RFR (ALL)': 24.419604013830256, 'CF on ALL': 77.54575575081724, 'std Y_adj': 77.60271664289561}\n",
      "{'2 step rfr': 76.46575196224455, '2 step ridge': 75.01579447497824, 'ridge RCT': 76.66450376244649, 'ridge DIFF(RCT) ': 80.02411769965993, 'RFR (RCT) ': 77.06416613883981, 'RFR DIFF(RCT) ': 80.02411769965993, 'ridge DIFF OBS': 85.2863121855995, 'RFR DIFF(OBS)': 87.00472153376758, 'RFR (ALL)': 25.38131543614861, 'CF on ALL': 78.68268057071859, 'std Y_adj': 78.44470033868893}\n",
      "{'2 step rfr': 74.63651828157091, '2 step ridge': 72.77690734510087, 'ridge RCT': 74.51651045309956, 'ridge DIFF(RCT) ': 78.06219044155391, 'RFR (RCT) ': 73.30322206403103, 'RFR DIFF(RCT) ': 78.06219044155391, 'ridge DIFF OBS': 83.03638473756756, 'RFR DIFF(OBS)': 84.98778773919422, 'RFR (ALL)': 25.290217291172745, 'CF on ALL': 78.02819814944685, 'std Y_adj': 78.05754495895482}\n",
      "{'2 step rfr': 76.50144959622565, '2 step ridge': 74.84020619096214, 'ridge RCT': 76.76465198275562, 'ridge DIFF(RCT) ': 78.60998607401619, 'RFR (RCT) ': 75.11656880804824, 'RFR DIFF(RCT) ': 78.60998607401619, 'ridge DIFF OBS': 82.58394908383424, 'RFR DIFF(OBS)': 84.52174872456182, 'RFR (ALL)': 24.996280465679945, 'CF on ALL': 78.34418577737955, 'std Y_adj': 78.39443147245639}\n",
      "{'2 step rfr': 76.96573710721121, '2 step ridge': 75.51423241801264, 'ridge RCT': 77.17595470390528, 'ridge DIFF(RCT) ': 80.17393904881934, 'RFR (RCT) ': 77.84847112134709, 'RFR DIFF(RCT) ': 80.17393904881934, 'ridge DIFF OBS': 84.97232810037521, 'RFR DIFF(OBS)': 86.66653237921187, 'RFR (ALL)': 25.699519230279016, 'CF on ALL': 80.11686529400161, 'std Y_adj': 80.13729249512504}\n",
      "{'2 step rfr': 73.55671124875927, '2 step ridge': 72.20048488685639, 'ridge RCT': 73.88025181869774, 'ridge DIFF(RCT) ': 77.04011745127943, 'RFR (RCT) ': 72.54259077859915, 'RFR DIFF(RCT) ': 77.04011745127943, 'ridge DIFF OBS': 81.2956392742019, 'RFR DIFF(OBS)': 83.26022887469705, 'RFR (ALL)': 24.806269234730504, 'CF on ALL': 77.63168904725757, 'std Y_adj': 77.7345644820838}\n",
      "{'2 step rfr': 76.82128611106596, '2 step ridge': 74.92149664591845, 'ridge RCT': 77.05977689860241, 'ridge DIFF(RCT) ': 79.25941413881476, 'RFR (RCT) ': 77.07930172590578, 'RFR DIFF(RCT) ': 79.25941413881476, 'ridge DIFF OBS': 84.00501364077746, 'RFR DIFF(OBS)': 85.50271446680482, 'RFR (ALL)': 24.84723856851083, 'CF on ALL': 79.02282667769573, 'std Y_adj': 79.03258700892248}\n",
      "{'2 step rfr': 74.29311642516713, '2 step ridge': 75.98048535466856, 'ridge RCT': 78.0212869513313, 'ridge DIFF(RCT) ': 80.41534677343502, 'RFR (RCT) ': 78.21180488265674, 'RFR DIFF(RCT) ': 80.41534677343502, 'ridge DIFF OBS': 84.92297232128077, 'RFR DIFF(OBS)': 82.98113097741657, 'RFR (ALL)': 25.354654750247047, 'CF on ALL': 80.13497124348802, 'std Y_adj': 80.20329497196825}\n"
     ]
    },
    {
     "name": "stdout",
     "output_type": "stream",
     "text": [
      "{'2 step rfr': 77.56599378083678, '2 step ridge': 75.99281092381723, 'ridge RCT': 77.79432897489959, 'ridge DIFF(RCT) ': 80.32205576571174, 'RFR (RCT) ': 77.76567364125786, 'RFR DIFF(RCT) ': 80.32205576571174, 'ridge DIFF OBS': 84.57768000985183, 'RFR DIFF(OBS)': 86.09513089265916, 'RFR (ALL)': 26.290495499154392, 'CF on ALL': 80.09590467420959, 'std Y_adj': 80.15901606813418}\n",
      "{'2 step rfr': 75.7627897494255, '2 step ridge': 73.75466720161278, 'ridge RCT': 75.57751192443116, 'ridge DIFF(RCT) ': 77.82096701641376, 'RFR (RCT) ': 76.07045716905789, 'RFR DIFF(RCT) ': 77.82096701641376, 'ridge DIFF OBS': 83.66964537513974, 'RFR DIFF(OBS)': 85.46431833060052, 'RFR (ALL)': 23.795739234331954, 'CF on ALL': 77.85267046048459, 'std Y_adj': 77.77336809340653}\n",
      "{'2 step rfr': 76.71740672391907, '2 step ridge': 74.94734383687023, 'ridge RCT': 76.85104768523617, 'ridge DIFF(RCT) ': 79.66291665829972, 'RFR (RCT) ': 76.3856784390803, 'RFR DIFF(RCT) ': 79.66291665829972, 'ridge DIFF OBS': 84.44643824640208, 'RFR DIFF(OBS)': 86.62651228697763, 'RFR (ALL)': 24.794162202987316, 'CF on ALL': 79.03116565764248, 'std Y_adj': 78.97201310198626}\n",
      "{'2 step rfr': 79.53139051388055, '2 step ridge': 77.83621870511992, 'ridge RCT': 79.37387872124745, 'ridge DIFF(RCT) ': 80.37223326751602, 'RFR (RCT) ': 78.36472524889584, 'RFR DIFF(RCT) ': 80.37223326751602, 'ridge DIFF OBS': 84.54468195247269, 'RFR DIFF(OBS)': 85.90737910557169, 'RFR (ALL)': 26.11102955376762, 'CF on ALL': 79.29202093515318, 'std Y_adj': 79.26376952882126}\n",
      "{'2 step rfr': 77.24685121773946, '2 step ridge': 75.7487578359303, 'ridge RCT': 77.32539915091598, 'ridge DIFF(RCT) ': 80.47568918568885, 'RFR (RCT) ': 77.38130913419864, 'RFR DIFF(RCT) ': 80.47568918568885, 'ridge DIFF OBS': 83.6877499564447, 'RFR DIFF(OBS)': 85.50536543698011, 'RFR (ALL)': 25.028316496551792, 'CF on ALL': 79.24625833599875, 'std Y_adj': 79.25778786033695}\n",
      "{'2 step rfr': 77.47461864997766, '2 step ridge': 76.03194133613586, 'ridge RCT': 77.9434907312376, 'ridge DIFF(RCT) ': 80.52191811328274, 'RFR (RCT) ': 76.37139068443297, 'RFR DIFF(RCT) ': 80.52191811328274, 'ridge DIFF OBS': 84.88670639688445, 'RFR DIFF(OBS)': 85.11588508393224, 'RFR (ALL)': 24.719259977525653, 'CF on ALL': 80.21954195865108, 'std Y_adj': 80.25415549159277}\n",
      "{'2 step rfr': 76.06891361729218, '2 step ridge': 77.1626203077232, 'ridge RCT': 78.89681265673681, 'ridge DIFF(RCT) ': 82.24200396140465, 'RFR (RCT) ': 79.69157286977192, 'RFR DIFF(RCT) ': 82.24200396140465, 'ridge DIFF OBS': 86.1514320726876, 'RFR DIFF(OBS)': 84.6426493294179, 'RFR (ALL)': 26.332348437610214, 'CF on ALL': 81.13464567376944, 'std Y_adj': 81.06318047069297}\n",
      "{'2 step rfr': 76.54846806622562, '2 step ridge': 77.21668892168336, 'ridge RCT': 78.86422183663694, 'ridge DIFF(RCT) ': 81.56603108459905, 'RFR (RCT) ': 77.86036191640287, 'RFR DIFF(RCT) ': 81.56603108459905, 'ridge DIFF OBS': 86.84325226482107, 'RFR DIFF(OBS)': 88.4578798062618, 'RFR (ALL)': 25.483978728163706, 'CF on ALL': 81.67589318445452, 'std Y_adj': 81.77704402232304}\n",
      "{'2 step rfr': 76.42695345571731, '2 step ridge': 74.54066648161191, 'ridge RCT': 76.46503108103339, 'ridge DIFF(RCT) ': 78.99209557420156, 'RFR (RCT) ': 76.55778252193744, 'RFR DIFF(RCT) ': 78.99209557420156, 'ridge DIFF OBS': 82.31253094472153, 'RFR DIFF(OBS)': 84.31312057973183, 'RFR (ALL)': 25.070916198959235, 'CF on ALL': 77.38499371952385, 'std Y_adj': 77.34559722553513}\n",
      "{'2 step rfr': 76.02776044613586, '2 step ridge': 75.30698162257212, 'ridge RCT': 77.02037406090825, 'ridge DIFF(RCT) ': 80.3985636880021, 'RFR (RCT) ': 74.82189609459546, 'RFR DIFF(RCT) ': 80.3985636880021, 'ridge DIFF OBS': 85.39965475975957, 'RFR DIFF(OBS)': 85.9414948510692, 'RFR (ALL)': 24.91205674862034, 'CF on ALL': 80.61148748036157, 'std Y_adj': 80.61335399047314}\n",
      "{'2 step rfr': 76.15920223219113, '2 step ridge': 74.66482691828816, 'ridge RCT': 76.2700223713738, 'ridge DIFF(RCT) ': 79.25779694110457, 'RFR (RCT) ': 76.28932352966663, 'RFR DIFF(RCT) ': 79.25779694110457, 'ridge DIFF OBS': 82.70006832382637, 'RFR DIFF(OBS)': 84.61686627737934, 'RFR (ALL)': 25.00314163017957, 'CF on ALL': 79.7182089583845, 'std Y_adj': 79.81451097880431}\n",
      "{'2 step rfr': 76.83229427462895, '2 step ridge': 74.75779469528364, 'ridge RCT': 76.55125572464908, 'ridge DIFF(RCT) ': 79.38966038161391, 'RFR (RCT) ': 75.8973435582197, 'RFR DIFF(RCT) ': 79.38966038161391, 'ridge DIFF OBS': 84.22423094015744, 'RFR DIFF(OBS)': 85.99955343309031, 'RFR (ALL)': 25.640645961629424, 'CF on ALL': 79.5166053055623, 'std Y_adj': 79.56888276379885}\n",
      "{'2 step rfr': 77.97022701409759, '2 step ridge': 76.39795875498413, 'ridge RCT': 78.17544008652915, 'ridge DIFF(RCT) ': 81.34260546596303, 'RFR (RCT) ': 78.79318820898398, 'RFR DIFF(RCT) ': 81.34260546596303, 'ridge DIFF OBS': 85.01575821728149, 'RFR DIFF(OBS)': 86.93008161470216, 'RFR (ALL)': 25.819563695077214, 'CF on ALL': 81.2536165939016, 'std Y_adj': 81.30700385571086}\n",
      "{'2 step rfr': 76.19454829845051, '2 step ridge': 74.81758355281816, 'ridge RCT': 76.6684599160294, 'ridge DIFF(RCT) ': 79.04652662668211, 'RFR (RCT) ': 76.91710552044036, 'RFR DIFF(RCT) ': 79.04652662668211, 'ridge DIFF OBS': 83.3590617964644, 'RFR DIFF(OBS)': 85.38540735498857, 'RFR (ALL)': 25.024897507904523, 'CF on ALL': 78.29735743267705, 'std Y_adj': 78.29883072408957}\n",
      "{'2 step rfr': 75.31041223785131, '2 step ridge': 74.94325051900265, 'ridge RCT': 76.66506635744662, 'ridge DIFF(RCT) ': 79.69841671997537, 'RFR (RCT) ': 76.48164889637526, 'RFR DIFF(RCT) ': 79.69841671997537, 'ridge DIFF OBS': 84.54031083492178, 'RFR DIFF(OBS)': 84.69595000345475, 'RFR (ALL)': 24.630597072075634, 'CF on ALL': 79.07467717492057, 'std Y_adj': 78.99856617549915}\n",
      "{'2 step rfr': 77.22163557728146, '2 step ridge': 75.53725948761857, 'ridge RCT': 77.29244502448292, 'ridge DIFF(RCT) ': 79.09562978790748, 'RFR (RCT) ': 76.49157146551848, 'RFR DIFF(RCT) ': 79.09562978790748, 'ridge DIFF OBS': 82.63149867274443, 'RFR DIFF(OBS)': 84.47779871787452, 'RFR (ALL)': 24.722854103514106, 'CF on ALL': 78.9583544211452, 'std Y_adj': 79.0293408997272}\n",
      "{'2 step rfr': 76.7711116761262, '2 step ridge': 75.2282404848917, 'ridge RCT': 76.8368930799175, 'ridge DIFF(RCT) ': 79.26019705239311, 'RFR (RCT) ': 77.41463921558815, 'RFR DIFF(RCT) ': 79.26019705239311, 'ridge DIFF OBS': 84.85846403215393, 'RFR DIFF(OBS)': 86.54571190917352, 'RFR (ALL)': 25.454796981772514, 'CF on ALL': 79.30705553527802, 'std Y_adj': 79.27784394999061}\n",
      "{'2 step rfr': 78.53940252094182, '2 step ridge': 77.15923522881006, 'ridge RCT': 78.8389065006131, 'ridge DIFF(RCT) ': 80.29850526508234, 'RFR (RCT) ': 77.14331878463298, 'RFR DIFF(RCT) ': 80.29850526508234, 'ridge DIFF OBS': 84.99046000271652, 'RFR DIFF(OBS)': 86.59443812433373, 'RFR (ALL)': 25.816523445529597, 'CF on ALL': 79.80892804211521, 'std Y_adj': 79.7779622624611}\n",
      "{'2 step rfr': 76.91121678070753, '2 step ridge': 75.26787779513815, 'ridge RCT': 77.03240309677129, 'ridge DIFF(RCT) ': 79.36385569536785, 'RFR (RCT) ': 75.59986398941527, 'RFR DIFF(RCT) ': 79.36385569536785, 'ridge DIFF OBS': 84.51391490213462, 'RFR DIFF(OBS)': 86.50520370144116, 'RFR (ALL)': 26.063439148369064, 'CF on ALL': 79.30235118146945, 'std Y_adj': 79.2789955624306}\n",
      "{'2 step rfr': 75.1355988031573, '2 step ridge': 74.82427187868912, 'ridge RCT': 76.5874904621644, 'ridge DIFF(RCT) ': 79.43126023033119, 'RFR (RCT) ': 75.86604381121212, 'RFR DIFF(RCT) ': 79.43126023033119, 'ridge DIFF OBS': 83.99885084228195, 'RFR DIFF(OBS)': 84.17950598217047, 'RFR (ALL)': 25.558683614685005, 'CF on ALL': 79.04186926074728, 'std Y_adj': 79.06513250791815}\n",
      "{'2 step rfr': 76.76308599553691, '2 step ridge': 74.9498418099884, 'ridge RCT': 76.64211861544098, 'ridge DIFF(RCT) ': 80.0683222913873, 'RFR (RCT) ': 75.41411790077812, 'RFR DIFF(RCT) ': 80.0683222913873, 'ridge DIFF OBS': 85.15876016312988, 'RFR DIFF(OBS)': 87.11537780145008, 'RFR (ALL)': 25.108433685299786, 'CF on ALL': 79.65135687474218, 'std Y_adj': 79.6681262180141}\n",
      "{'2 step rfr': 76.28266375918213, '2 step ridge': 77.22973584220016, 'ridge RCT': 79.11139364293889, 'ridge DIFF(RCT) ': 81.87750349454313, 'RFR (RCT) ': 79.30245274096121, 'RFR DIFF(RCT) ': 81.87750349454313, 'ridge DIFF OBS': 86.67598268452093, 'RFR DIFF(OBS)': 88.18190987450409, 'RFR (ALL)': 24.832697802404926, 'CF on ALL': 81.69051212121069, 'std Y_adj': 81.63951943098012}\n"
     ]
    },
    {
     "name": "stdout",
     "output_type": "stream",
     "text": [
      "{'2 step rfr': 74.98898936484711, '2 step ridge': 73.37873972048845, 'ridge RCT': 75.17226299279137, 'ridge DIFF(RCT) ': 78.20530202695954, 'RFR (RCT) ': 76.68275044433474, 'RFR DIFF(RCT) ': 78.20530202695954, 'ridge DIFF OBS': 83.07543064851836, 'RFR DIFF(OBS)': 84.91026515072204, 'RFR (ALL)': 24.77533836465477, 'CF on ALL': 77.64257576654059, 'std Y_adj': 77.60963224946751}\n",
      "{'2 step rfr': 74.60003283186907, '2 step ridge': 73.06578511650845, 'ridge RCT': 74.7599419764272, 'ridge DIFF(RCT) ': 77.58080934687833, 'RFR (RCT) ': 75.10218800324152, 'RFR DIFF(RCT) ': 77.58080934687833, 'ridge DIFF OBS': 82.36776478502075, 'RFR DIFF(OBS)': 84.16858017038378, 'RFR (ALL)': 24.673654537833805, 'CF on ALL': 77.28957298369639, 'std Y_adj': 77.27966687893003}\n",
      "{'2 step rfr': 76.68566838817, '2 step ridge': 75.2900633314009, 'ridge RCT': 76.9365896212617, 'ridge DIFF(RCT) ': 80.79388099395344, 'RFR (RCT) ': 77.26614571283378, 'RFR DIFF(RCT) ': 80.79388099395344, 'ridge DIFF OBS': 84.6664891882932, 'RFR DIFF(OBS)': 84.95240253945596, 'RFR (ALL)': 26.08621921195011, 'CF on ALL': 80.75946518815282, 'std Y_adj': 80.7752490539669}\n",
      "{'2 step rfr': 75.69716224970496, '2 step ridge': 74.78048196649226, 'ridge RCT': 75.91282760142427, 'ridge DIFF(RCT) ': 78.87952614953812, 'RFR (RCT) ': 77.74501095934237, 'RFR DIFF(RCT) ': 78.87952614953812, 'ridge DIFF OBS': 84.11993580778636, 'RFR DIFF(OBS)': 84.65000440028744, 'RFR (ALL)': 25.430244023180755, 'CF on ALL': 78.31133757213394, 'std Y_adj': 78.34725820362735}\n",
      "{'2 step rfr': 78.86400767734956, '2 step ridge': 77.20065250442306, 'ridge RCT': 78.83261667189032, 'ridge DIFF(RCT) ': 81.34965774947106, 'RFR (RCT) ': 77.87061870866985, 'RFR DIFF(RCT) ': 81.34965774947106, 'ridge DIFF OBS': 87.44452717628693, 'RFR DIFF(OBS)': 89.41601057829025, 'RFR (ALL)': 25.52810012734542, 'CF on ALL': 81.76612088306584, 'std Y_adj': 81.58774302513339}\n",
      "{'2 step rfr': 76.34011806809214, '2 step ridge': 74.50780986255108, 'ridge RCT': 76.36232613160912, 'ridge DIFF(RCT) ': 80.14085292671847, 'RFR (RCT) ': 75.91442634678974, 'RFR DIFF(RCT) ': 80.14085292671847, 'ridge DIFF OBS': 84.40608805398837, 'RFR DIFF(OBS)': 86.75615413278727, 'RFR (ALL)': 24.763851672651167, 'CF on ALL': 79.85537568383681, 'std Y_adj': 79.79726458404964}\n",
      "{'2 step rfr': 74.35862118004206, '2 step ridge': 76.10885459424414, 'ridge RCT': 78.07778892985246, 'ridge DIFF(RCT) ': 80.86266319061983, 'RFR (RCT) ': 80.32304269419718, 'RFR DIFF(RCT) ': 80.86266319061983, 'ridge DIFF OBS': 83.8613398049809, 'RFR DIFF(OBS)': 85.67646486233141, 'RFR (ALL)': 26.315774401455684, 'CF on ALL': 79.68711956552076, 'std Y_adj': 79.75639952559709}\n",
      "{'2 step rfr': 75.94729956640728, '2 step ridge': 74.11951696711313, 'ridge RCT': 76.31239479126124, 'ridge DIFF(RCT) ': 79.89223018594583, 'RFR (RCT) ': 75.39809815374653, 'RFR DIFF(RCT) ': 79.89223018594583, 'ridge DIFF OBS': 83.25819443187204, 'RFR DIFF(OBS)': 85.17727940448104, 'RFR (ALL)': 25.02885709101564, 'CF on ALL': 78.87360269977094, 'std Y_adj': 78.90010398115527}\n",
      "{'2 step rfr': 72.57317918040248, '2 step ridge': 73.81118000260904, 'ridge RCT': 75.73724814497362, 'ridge DIFF(RCT) ': 77.99005835253459, 'RFR (RCT) ': 76.52962671486479, 'RFR DIFF(RCT) ': 77.99005835253459, 'ridge DIFF OBS': 84.43767535962469, 'RFR DIFF(OBS)': 83.21443613796487, 'RFR (ALL)': 25.966116047394888, 'CF on ALL': 78.87212020768152, 'std Y_adj': 78.77816030236153}\n",
      "{'2 step rfr': 74.71109760814102, '2 step ridge': 72.95398224544842, 'ridge RCT': 74.74894563512251, 'ridge DIFF(RCT) ': 77.35433492192608, 'RFR (RCT) ': 73.649790441386, 'RFR DIFF(RCT) ': 77.35433492192608, 'ridge DIFF OBS': 81.96145437747393, 'RFR DIFF(OBS)': 83.3116364868741, 'RFR (ALL)': 24.614795167236533, 'CF on ALL': 77.1336484398371, 'std Y_adj': 77.14308040730607}\n",
      "{'2 step rfr': 76.08759279917794, '2 step ridge': 74.42929952956176, 'ridge RCT': 76.20909936627832, 'ridge DIFF(RCT) ': 78.01567770586647, 'RFR (RCT) ': 75.96926919534363, 'RFR DIFF(RCT) ': 78.01567770586647, 'ridge DIFF OBS': 82.86977627290325, 'RFR DIFF(OBS)': 84.77132120314081, 'RFR (ALL)': 24.930902845666658, 'CF on ALL': 78.08985301387762, 'std Y_adj': 78.11962916777469}\n",
      "{'2 step rfr': 76.35525520479933, '2 step ridge': 74.86408471427761, 'ridge RCT': 76.59366408294564, 'ridge DIFF(RCT) ': 79.6503060331324, 'RFR (RCT) ': 75.50378019688544, 'RFR DIFF(RCT) ': 79.6503060331324, 'ridge DIFF OBS': 83.8934924094395, 'RFR DIFF(OBS)': 85.29937654931737, 'RFR (ALL)': 25.41820410460045, 'CF on ALL': 79.5747455170132, 'std Y_adj': 79.64104221087844}\n"
     ]
    }
   ],
   "source": [
    "_result_list_03 = []\n",
    "\n",
    "for i in range(100):\n",
    "    _result_list_03.append(_full_experiment(rct_fraction_of_rural=0.7))\n",
    "    np.savez('result_with_EVALSET_all_baselines_03RCT', _result_list_03)\n",
    "    print(_result_list_03[-1])"
   ]
  },
  {
   "cell_type": "code",
   "execution_count": 99,
   "metadata": {},
   "outputs": [
    {
     "name": "stdout",
     "output_type": "stream",
     "text": [
      "2 step rfr        : 76.48 +/- 0.15\n",
      "2 step ridge      : 75.29 +/- 0.13\n",
      "ridge RCT         : 77.07 +/- 0.13\n",
      "ridge DIFF(RCT)   : 79.82 +/- 0.13\n",
      "RFR (RCT)         : 76.77 +/- 0.16\n",
      "RFR DIFF(RCT)     : 79.82 +/- 0.13\n",
      "ridge DIFF OBS    : 84.23 +/- 0.15\n",
      "RFR DIFF(OBS)     : 85.63 +/- 0.17\n",
      "RFR (ALL)         : 25.23 +/- 0.05\n",
      "CF on ALL         : 79.41 +/- 0.12\n",
      "std Y_adj         : 79.41 +/- 0.12\n"
     ]
    }
   ],
   "source": [
    "clean_results('result_with_EVALSET_all_baselines_03RCT.npz')"
   ]
  },
  {
   "cell_type": "code",
   "execution_count": 100,
   "metadata": {
    "scrolled": true
   },
   "outputs": [
    {
     "name": "stdout",
     "output_type": "stream",
     "text": [
      "{'2 step rfr': 76.08796514833111, '2 step ridge': 74.32833017799805, 'ridge RCT': 76.25542962729662, 'ridge DIFF(RCT) ': 79.15359978626155, 'RFR (RCT) ': 80.68914635571072, 'RFR DIFF(RCT) ': 79.15359978626155, 'ridge DIFF OBS': 81.47511186736996, 'RFR DIFF(OBS)': 83.4669193297278, 'RFR (ALL)': 25.11121290742644, 'CF on ALL': 78.40805057302339, 'std Y_adj': 78.53627948653407}\n",
      "{'2 step rfr': 79.59984652301438, '2 step ridge': 77.97669386112113, 'ridge RCT': 78.35472809136456, 'ridge DIFF(RCT) ': 80.58871542266814, 'RFR (RCT) ': 78.62470720097062, 'RFR DIFF(RCT) ': 80.58871542266814, 'ridge DIFF OBS': 86.39732066718925, 'RFR DIFF(OBS)': 87.69611711895483, 'RFR (ALL)': 25.384720870476734, 'CF on ALL': 79.6175357181442, 'std Y_adj': 79.29100189249662}\n",
      "{'2 step rfr': 79.44345598651203, '2 step ridge': 77.15266960552165, 'ridge RCT': 78.5789109214116, 'ridge DIFF(RCT) ': 79.01597818376278, 'RFR (RCT) ': 79.45393831189814, 'RFR DIFF(RCT) ': 79.01597818376278, 'ridge DIFF OBS': 84.54400146218867, 'RFR DIFF(OBS)': 86.52112800181104, 'RFR (ALL)': 25.301604817431556, 'CF on ALL': 78.41354168327328, 'std Y_adj': 78.35717040256453}\n",
      "{'2 step rfr': 76.70837464474901, '2 step ridge': 75.05363156752487, 'ridge RCT': 77.00971375593484, 'ridge DIFF(RCT) ': 78.71966521462268, 'RFR (RCT) ': 78.60718455949095, 'RFR DIFF(RCT) ': 78.71966521462268, 'ridge DIFF OBS': 84.05004043556886, 'RFR DIFF(OBS)': 85.74856173122755, 'RFR (ALL)': 24.829051197050436, 'CF on ALL': 78.31026181885136, 'std Y_adj': 78.29865833726473}\n",
      "{'2 step rfr': 76.28929361661561, '2 step ridge': 74.69741913260277, 'ridge RCT': 76.24009865266845, 'ridge DIFF(RCT) ': 77.94627914505787, 'RFR (RCT) ': 77.59342688026683, 'RFR DIFF(RCT) ': 77.94627914505787, 'ridge DIFF OBS': 85.00709704497649, 'RFR DIFF(OBS)': 86.50450883849089, 'RFR (ALL)': 24.643903681997063, 'CF on ALL': 78.23053898019901, 'std Y_adj': 78.01457282861213}\n",
      "{'2 step rfr': 82.18765642490119, '2 step ridge': 80.35229237853129, 'ridge RCT': 81.69415166612586, 'ridge DIFF(RCT) ': 81.94908455062756, 'RFR (RCT) ': 82.82060570681729, 'RFR DIFF(RCT) ': 81.94908455062756, 'ridge DIFF OBS': 86.47651935306136, 'RFR DIFF(OBS)': 88.18626182949797, 'RFR (ALL)': 25.699937555644595, 'CF on ALL': 81.56191507811329, 'std Y_adj': 81.56873560990304}\n",
      "{'2 step rfr': 79.66601352017942, '2 step ridge': 77.85973550332835, 'ridge RCT': 79.66472176079628, 'ridge DIFF(RCT) ': 81.37299234226052, 'RFR (RCT) ': 79.4874960388392, 'RFR DIFF(RCT) ': 81.37299234226052, 'ridge DIFF OBS': 85.29166365039659, 'RFR DIFF(OBS)': 87.48258288852999, 'RFR (ALL)': 25.55925722931219, 'CF on ALL': 80.49952744329548, 'std Y_adj': 80.4705355280911}\n",
      "{'2 step rfr': 74.5811292596341, '2 step ridge': 74.07810121002788, 'ridge RCT': 75.74715001452869, 'ridge DIFF(RCT) ': 77.21796060398292, 'RFR (RCT) ': 76.35121007542725, 'RFR DIFF(RCT) ': 77.21796060398292, 'ridge DIFF OBS': 82.6823203074347, 'RFR DIFF(OBS)': 84.48601763628845, 'RFR (ALL)': 25.099883061946887, 'CF on ALL': 77.43889033795878, 'std Y_adj': 77.4933254681734}\n",
      "{'2 step rfr': 78.2122446817763, '2 step ridge': 76.6654994511501, 'ridge RCT': 78.40735313560059, 'ridge DIFF(RCT) ': 80.9325184331915, 'RFR (RCT) ': 81.42818916874462, 'RFR DIFF(RCT) ': 80.9325184331915, 'ridge DIFF OBS': 84.96983539177556, 'RFR DIFF(OBS)': 86.63834174209464, 'RFR (ALL)': 25.45863162802356, 'CF on ALL': 80.23231134636363, 'std Y_adj': 80.23352829656694}\n",
      "{'2 step rfr': 77.74522513611787, '2 step ridge': 75.92461394366289, 'ridge RCT': 77.70573279652615, 'ridge DIFF(RCT) ': 78.41032734199065, 'RFR (RCT) ': 76.38262972623593, 'RFR DIFF(RCT) ': 78.41032734199065, 'ridge DIFF OBS': 82.7945252753399, 'RFR DIFF(OBS)': 84.9677793452733, 'RFR (ALL)': 24.795306216688562, 'CF on ALL': 77.66019920661375, 'std Y_adj': 77.6844678773371}\n",
      "{'2 step rfr': 75.68581353001443, '2 step ridge': 74.75925108580039, 'ridge RCT': 76.40604740115432, 'ridge DIFF(RCT) ': 80.10883912248711, 'RFR (RCT) ': 77.1254080100452, 'RFR DIFF(RCT) ': 80.10883912248711, 'ridge DIFF OBS': 83.45583651059896, 'RFR DIFF(OBS)': 85.3863508365919, 'RFR (ALL)': 24.87751443563058, 'CF on ALL': 77.89166594677967, 'std Y_adj': 77.82972305974333}\n",
      "{'2 step rfr': 77.02046660705993, '2 step ridge': 75.40046505557638, 'ridge RCT': 77.37497759942437, 'ridge DIFF(RCT) ': 78.87148953263262, 'RFR (RCT) ': 77.57404467948278, 'RFR DIFF(RCT) ': 78.87148953263262, 'ridge DIFF OBS': 83.36866755423334, 'RFR DIFF(OBS)': 84.95370589420503, 'RFR (ALL)': 25.85577110569503, 'CF on ALL': 79.13842565487879, 'std Y_adj': 79.25488247960247}\n",
      "{'2 step rfr': 79.45906084496167, '2 step ridge': 77.54365104653289, 'ridge RCT': 79.12497092797791, 'ridge DIFF(RCT) ': 80.32609571021214, 'RFR (RCT) ': 75.67161261998993, 'RFR DIFF(RCT) ': 80.32609571021214, 'ridge DIFF OBS': 82.83169150988061, 'RFR DIFF(OBS)': 84.84237810185921, 'RFR (ALL)': 24.996763174827514, 'CF on ALL': 79.01359954321966, 'std Y_adj': 79.09359442496566}\n",
      "{'2 step rfr': 77.39762089605335, '2 step ridge': 75.69257328098011, 'ridge RCT': 77.50146789034494, 'ridge DIFF(RCT) ': 78.78378391761025, 'RFR (RCT) ': 77.2863672602349, 'RFR DIFF(RCT) ': 78.78378391761025, 'ridge DIFF OBS': 84.19369986966433, 'RFR DIFF(OBS)': 85.98631586280871, 'RFR (ALL)': 26.070828293607498, 'CF on ALL': 78.47740314130493, 'std Y_adj': 78.40818419941921}\n",
      "{'2 step rfr': 77.16143908749399, '2 step ridge': 75.84097786871725, 'ridge RCT': 77.75691036176492, 'ridge DIFF(RCT) ': 78.4324300621685, 'RFR (RCT) ': 77.74065889196697, 'RFR DIFF(RCT) ': 78.4324300621685, 'ridge DIFF OBS': 82.41334293771075, 'RFR DIFF(OBS)': 84.212534698915, 'RFR (ALL)': 24.573119714895903, 'CF on ALL': 77.20635582107397, 'std Y_adj': 77.22422603119132}\n",
      "{'2 step rfr': 76.6211348821735, '2 step ridge': 74.86808586955542, 'ridge RCT': 76.76114720603682, 'ridge DIFF(RCT) ': 78.8326192521024, 'RFR (RCT) ': 76.0183175468864, 'RFR DIFF(RCT) ': 78.8326192521024, 'ridge DIFF OBS': 82.31121699991905, 'RFR DIFF(OBS)': 84.3319682819028, 'RFR (ALL)': 24.915462716468863, 'CF on ALL': 78.00789971969222, 'std Y_adj': 78.07275796104352}\n",
      "{'2 step rfr': 78.44201974785854, '2 step ridge': 76.60270268253907, 'ridge RCT': 78.62875116689382, 'ridge DIFF(RCT) ': 80.00382512184403, 'RFR (RCT) ': 81.79708237015943, 'RFR DIFF(RCT) ': 80.00382512184403, 'ridge DIFF OBS': 83.52267992367716, 'RFR DIFF(OBS)': 85.6549290161846, 'RFR (ALL)': 25.952823513017368, 'CF on ALL': 78.71915841622584, 'std Y_adj': 78.67063268196976}\n",
      "{'2 step rfr': 79.28101320146445, '2 step ridge': 77.70818065497632, 'ridge RCT': 79.60500353222729, 'ridge DIFF(RCT) ': 81.57420190144379, 'RFR (RCT) ': 78.93054559627329, 'RFR DIFF(RCT) ': 81.57420190144379, 'ridge DIFF OBS': 85.72019864186443, 'RFR DIFF(OBS)': 87.55501045902987, 'RFR (ALL)': 25.575370927172262, 'CF on ALL': 80.39819451333975, 'std Y_adj': 80.3955687027011}\n",
      "{'2 step rfr': 76.20126660133211, '2 step ridge': 74.8084707335162, 'ridge RCT': 76.54611310354184, 'ridge DIFF(RCT) ': 78.79328670294849, 'RFR (RCT) ': 76.11102353084071, 'RFR DIFF(RCT) ': 78.79328670294849, 'ridge DIFF OBS': 81.94988162472919, 'RFR DIFF(OBS)': 83.48209621101871, 'RFR (ALL)': 25.300122808623062, 'CF on ALL': 78.20595535013575, 'std Y_adj': 78.32427834570815}\n",
      "{'2 step rfr': 77.60203978433942, '2 step ridge': 75.70789493211042, 'ridge RCT': 77.8348995043038, 'ridge DIFF(RCT) ': 80.31999168019712, 'RFR (RCT) ': 78.28348381230504, 'RFR DIFF(RCT) ': 80.31999168019712, 'ridge DIFF OBS': 83.15326930291965, 'RFR DIFF(OBS)': 85.31920868831601, 'RFR (ALL)': 25.128206447554565, 'CF on ALL': 79.43738091626638, 'std Y_adj': 79.50250240327976}\n",
      "{'2 step rfr': 77.77129898742115, '2 step ridge': 75.92229317432833, 'ridge RCT': 77.72818532916428, 'ridge DIFF(RCT) ': 78.68396532325565, 'RFR (RCT) ': 76.9414819135866, 'RFR DIFF(RCT) ': 78.68396532325565, 'ridge DIFF OBS': 82.20050931047092, 'RFR DIFF(OBS)': 83.93710749682806, 'RFR (ALL)': 25.616155075675653, 'CF on ALL': 77.6987377491866, 'std Y_adj': 77.81507321550323}\n",
      "{'2 step rfr': 77.93942839120018, '2 step ridge': 75.88166069619095, 'ridge RCT': 77.78509827854792, 'ridge DIFF(RCT) ': 79.69714057936734, 'RFR (RCT) ': 76.82342352865074, 'RFR DIFF(RCT) ': 79.69714057936734, 'ridge DIFF OBS': 84.09002928611125, 'RFR DIFF(OBS)': 86.03919568489532, 'RFR (ALL)': 25.136805377684006, 'CF on ALL': 79.65133419547658, 'std Y_adj': 79.74569060347025}\n"
     ]
    },
    {
     "name": "stdout",
     "output_type": "stream",
     "text": [
      "{'2 step rfr': 76.96766958353959, '2 step ridge': 75.75844545181039, 'ridge RCT': 77.11806529458283, 'ridge DIFF(RCT) ': 79.71713678949551, 'RFR (RCT) ': 77.84864592261277, 'RFR DIFF(RCT) ': 79.71713678949551, 'ridge DIFF OBS': 83.55398710170459, 'RFR DIFF(OBS)': 84.27818407013582, 'RFR (ALL)': 25.15890601934412, 'CF on ALL': 78.8381840272021, 'std Y_adj': 78.89417874014242}\n",
      "{'2 step rfr': 77.9980026082553, '2 step ridge': 75.44139662077635, 'ridge RCT': 77.84909501340248, 'ridge DIFF(RCT) ': 79.13239511247964, 'RFR (RCT) ': 75.69444995556287, 'RFR DIFF(RCT) ': 79.13239511247964, 'ridge DIFF OBS': 81.33695411774923, 'RFR DIFF(OBS)': 83.72226883844591, 'RFR (ALL)': 25.00886732278481, 'CF on ALL': 77.67087767418715, 'std Y_adj': 77.6928051749982}\n",
      "{'2 step rfr': 78.21314329263676, '2 step ridge': 76.62140044152608, 'ridge RCT': 78.16084094524956, 'ridge DIFF(RCT) ': 80.22702337348012, 'RFR (RCT) ': 77.42679539729279, 'RFR DIFF(RCT) ': 80.22702337348012, 'ridge DIFF OBS': 85.70978928703231, 'RFR DIFF(OBS)': 87.65902855069905, 'RFR (ALL)': 25.52767364943687, 'CF on ALL': 80.0999918318705, 'std Y_adj': 79.92541447769264}\n",
      "{'2 step rfr': 75.50860971073422, '2 step ridge': 73.70258074597834, 'ridge RCT': 75.83957779684502, 'ridge DIFF(RCT) ': 79.45799112271617, 'RFR (RCT) ': 77.30491404375658, 'RFR DIFF(RCT) ': 79.45799112271617, 'ridge DIFF OBS': 85.10868576415099, 'RFR DIFF(OBS)': 86.91578629380753, 'RFR (ALL)': 24.550036914363186, 'CF on ALL': 78.15757815116189, 'std Y_adj': 77.87833095415118}\n",
      "{'2 step rfr': 79.79652290760552, '2 step ridge': 77.37033674782496, 'ridge RCT': 79.3633614123675, 'ridge DIFF(RCT) ': 79.20434639602662, 'RFR (RCT) ': 79.08970910589628, 'RFR DIFF(RCT) ': 79.20434639602662, 'ridge DIFF OBS': 83.15314415568507, 'RFR DIFF(OBS)': 85.5825017613808, 'RFR (ALL)': 25.404064386905386, 'CF on ALL': 79.22632315317883, 'std Y_adj': 79.33091800476463}\n",
      "{'2 step rfr': 77.51502563623288, '2 step ridge': 76.9422551360346, 'ridge RCT': 77.70209299991477, 'ridge DIFF(RCT) ': 80.23042880049347, 'RFR (RCT) ': 77.08538832952206, 'RFR DIFF(RCT) ': 80.23042880049347, 'ridge DIFF OBS': 82.7915094245013, 'RFR DIFF(OBS)': 84.39139534776218, 'RFR (ALL)': 25.52526110444215, 'CF on ALL': 78.31879035829479, 'std Y_adj': 78.37464644719618}\n",
      "{'2 step rfr': 77.15555071176546, '2 step ridge': 75.1922378129071, 'ridge RCT': 76.8444991273513, 'ridge DIFF(RCT) ': 78.4068677737534, 'RFR (RCT) ': 76.71520346513516, 'RFR DIFF(RCT) ': 78.4068677737534, 'ridge DIFF OBS': 82.3356722502607, 'RFR DIFF(OBS)': 84.01684739762526, 'RFR (ALL)': 24.95020136153263, 'CF on ALL': 77.50296269248511, 'std Y_adj': 77.5182367639266}\n",
      "{'2 step rfr': 77.48746948873193, '2 step ridge': 76.95727636628453, 'ridge RCT': 77.63025124140219, 'ridge DIFF(RCT) ': 79.06265138451361, 'RFR (RCT) ': 78.23902771228033, 'RFR DIFF(RCT) ': 79.06265138451361, 'ridge DIFF OBS': 83.35736275993978, 'RFR DIFF(OBS)': 84.97050796388993, 'RFR (ALL)': 25.166765627507026, 'CF on ALL': 78.84954773468617, 'std Y_adj': 78.89318874431535}\n",
      "{'2 step rfr': 76.45982919549807, '2 step ridge': 74.78641237362203, 'ridge RCT': 78.48019225659101, 'ridge DIFF(RCT) ': 78.67206583823008, 'RFR (RCT) ': 76.58634655609904, 'RFR DIFF(RCT) ': 78.67206583823008, 'ridge DIFF OBS': 82.9099805976793, 'RFR DIFF(OBS)': 84.83765784407632, 'RFR (ALL)': 25.351203814185013, 'CF on ALL': 78.5168315164092, 'std Y_adj': 78.54348978958276}\n",
      "{'2 step rfr': 76.97081814580156, '2 step ridge': 75.51543944499316, 'ridge RCT': 77.01749967379742, 'ridge DIFF(RCT) ': 79.24770877621143, 'RFR (RCT) ': 74.98692019273764, 'RFR DIFF(RCT) ': 79.24770877621143, 'ridge DIFF OBS': 83.7495086916252, 'RFR DIFF(OBS)': 84.92292260410336, 'RFR (ALL)': 24.89996228444052, 'CF on ALL': 79.19805675254375, 'std Y_adj': 79.33018563374019}\n",
      "{'2 step rfr': 80.67917174240046, '2 step ridge': 78.939151871363, 'ridge RCT': 80.82071405201255, 'ridge DIFF(RCT) ': 82.58197916451233, 'RFR (RCT) ': 79.62004531389245, 'RFR DIFF(RCT) ': 82.58197916451233, 'ridge DIFF OBS': 83.8788097829965, 'RFR DIFF(OBS)': 85.61949274195877, 'RFR (ALL)': 25.712488963647203, 'CF on ALL': 80.47421348458715, 'std Y_adj': 80.51296448627119}\n",
      "{'2 step rfr': 78.24984781614098, '2 step ridge': 78.04258856437437, 'ridge RCT': 79.78380743203586, 'ridge DIFF(RCT) ': 80.30764499929116, 'RFR (RCT) ': 77.67975581432907, 'RFR DIFF(RCT) ': 80.30764499929116, 'ridge DIFF OBS': 84.18538022246025, 'RFR DIFF(OBS)': 86.42206526678127, 'RFR (ALL)': 24.916632601028525, 'CF on ALL': 79.29966111165827, 'std Y_adj': 79.23521523157955}\n",
      "{'2 step rfr': 76.72044903030887, '2 step ridge': 75.21342450305721, 'ridge RCT': 76.94555265165319, 'ridge DIFF(RCT) ': 79.32227590785016, 'RFR (RCT) ': 76.12464599073964, 'RFR DIFF(RCT) ': 79.32227590785016, 'ridge DIFF OBS': 83.51230464005698, 'RFR DIFF(OBS)': 85.38936965202751, 'RFR (ALL)': 24.97231614462163, 'CF on ALL': 79.12870578639257, 'std Y_adj': 79.1295067633476}\n",
      "{'2 step rfr': 76.90772035012392, '2 step ridge': 75.20606885597712, 'ridge RCT': 77.2646621615489, 'ridge DIFF(RCT) ': 78.44148786931841, 'RFR (RCT) ': 76.50114085611325, 'RFR DIFF(RCT) ': 78.44148786931841, 'ridge DIFF OBS': 82.61112433829535, 'RFR DIFF(OBS)': 84.6026673445462, 'RFR (ALL)': 25.318498488961776, 'CF on ALL': 78.36814878740073, 'std Y_adj': 78.4573992844162}\n",
      "{'2 step rfr': 76.89509964656402, '2 step ridge': 75.26759958003387, 'ridge RCT': 78.50121438483744, 'ridge DIFF(RCT) ': 79.25925593189201, 'RFR (RCT) ': 79.53151035956076, 'RFR DIFF(RCT) ': 79.25925593189201, 'ridge DIFF OBS': 84.67086616325673, 'RFR DIFF(OBS)': 86.21677049301165, 'RFR (ALL)': 24.69887314768171, 'CF on ALL': 78.53727627147755, 'std Y_adj': 78.56232909917392}\n",
      "{'2 step rfr': 77.55611030824673, '2 step ridge': 75.52050870693766, 'ridge RCT': 76.95755034170729, 'ridge DIFF(RCT) ': 77.74740030928241, 'RFR (RCT) ': 77.35932802260865, 'RFR DIFF(RCT) ': 77.74740030928241, 'ridge DIFF OBS': 82.74492508584534, 'RFR DIFF(OBS)': 84.67905935339, 'RFR (ALL)': 24.535906518715848, 'CF on ALL': 77.11170331533134, 'std Y_adj': 77.1192495764838}\n",
      "{'2 step rfr': 78.6534096686919, '2 step ridge': 76.73005131819272, 'ridge RCT': 78.67041612646021, 'ridge DIFF(RCT) ': 79.73207358239479, 'RFR (RCT) ': 80.402239790889, 'RFR DIFF(RCT) ': 79.73207358239479, 'ridge DIFF OBS': 82.74641031157775, 'RFR DIFF(OBS)': 84.95313780559907, 'RFR (ALL)': 24.85918135953987, 'CF on ALL': 78.88191499044312, 'std Y_adj': 78.90984365242696}\n",
      "{'2 step rfr': 77.37265034214569, '2 step ridge': 75.65395156207863, 'ridge RCT': 79.11572603850951, 'ridge DIFF(RCT) ': 79.74361771708163, 'RFR (RCT) ': 77.54878930684733, 'RFR DIFF(RCT) ': 79.74361771708163, 'ridge DIFF OBS': 83.20930416442576, 'RFR DIFF(OBS)': 83.659141533803, 'RFR (ALL)': 25.07879818602222, 'CF on ALL': 79.14451291567066, 'std Y_adj': 79.16448157507327}\n",
      "{'2 step rfr': 77.64707106472238, '2 step ridge': 76.11831219803229, 'ridge RCT': 78.16475814192655, 'ridge DIFF(RCT) ': 80.96211249120576, 'RFR (RCT) ': 77.11220278849451, 'RFR DIFF(RCT) ': 80.96211249120576, 'ridge DIFF OBS': 84.45544450568055, 'RFR DIFF(OBS)': 85.99755192856331, 'RFR (ALL)': 25.25938398825497, 'CF on ALL': 79.1289720503843, 'std Y_adj': 79.12629588710097}\n",
      "{'2 step rfr': 77.45183201791191, '2 step ridge': 75.40491683559381, 'ridge RCT': 78.73635774772144, 'ridge DIFF(RCT) ': 79.7567977382912, 'RFR (RCT) ': 75.89184468868017, 'RFR DIFF(RCT) ': 79.7567977382912, 'ridge DIFF OBS': 83.55917691194595, 'RFR DIFF(OBS)': 85.64384125177055, 'RFR (ALL)': 24.942594445859513, 'CF on ALL': 78.60046423015191, 'std Y_adj': 78.65637807899036}\n",
      "{'2 step rfr': 79.536571219325, '2 step ridge': 77.72072355734171, 'ridge RCT': 79.665190498359, 'ridge DIFF(RCT) ': 80.5125041002978, 'RFR (RCT) ': 78.13226484122247, 'RFR DIFF(RCT) ': 80.5125041002978, 'ridge DIFF OBS': 84.13768024724335, 'RFR DIFF(OBS)': 85.94126617443831, 'RFR (ALL)': 26.07530906373426, 'CF on ALL': 80.13073181712267, 'std Y_adj': 80.20670124575409}\n",
      "{'2 step rfr': 77.4962652931425, '2 step ridge': 75.98044305185122, 'ridge RCT': 77.70344424713035, 'ridge DIFF(RCT) ': 80.1008666845349, 'RFR (RCT) ': 77.12051480693965, 'RFR DIFF(RCT) ': 80.1008666845349, 'ridge DIFF OBS': 84.52113287715665, 'RFR DIFF(OBS)': 86.21560162019277, 'RFR (ALL)': 25.400686586564106, 'CF on ALL': 78.9726958046412, 'std Y_adj': 78.78235482295183}\n"
     ]
    },
    {
     "name": "stdout",
     "output_type": "stream",
     "text": [
      "{'2 step rfr': 78.83751373805896, '2 step ridge': 76.91832159386429, 'ridge RCT': 78.85161411003678, 'ridge DIFF(RCT) ': 80.61247239011234, 'RFR (RCT) ': 77.90968468057031, 'RFR DIFF(RCT) ': 80.61247239011234, 'ridge DIFF OBS': 83.24868413312065, 'RFR DIFF(OBS)': 85.1086229979336, 'RFR (ALL)': 25.07057273246853, 'CF on ALL': 78.45407250484308, 'std Y_adj': 78.53099458357065}\n",
      "{'2 step rfr': 80.00228764536382, '2 step ridge': 78.39657113793467, 'ridge RCT': 79.99655661418487, 'ridge DIFF(RCT) ': 81.29451261903716, 'RFR (RCT) ': 79.32287522095332, 'RFR DIFF(RCT) ': 81.29451261903716, 'ridge DIFF OBS': 84.31358563709065, 'RFR DIFF(OBS)': 86.09238792860992, 'RFR (ALL)': 25.524377680348334, 'CF on ALL': 80.61961343769063, 'std Y_adj': 80.7197387379283}\n",
      "{'2 step rfr': 78.3552316064774, '2 step ridge': 76.47346712637396, 'ridge RCT': 78.27222920161238, 'ridge DIFF(RCT) ': 80.60532220931975, 'RFR (RCT) ': 77.44707277612501, 'RFR DIFF(RCT) ': 80.60532220931975, 'ridge DIFF OBS': 82.89099170413925, 'RFR DIFF(OBS)': 83.55998111302262, 'RFR (ALL)': 25.196629281534374, 'CF on ALL': 79.2864006945992, 'std Y_adj': 79.34538296788058}\n",
      "{'2 step rfr': 77.4749605696287, '2 step ridge': 77.15832236489227, 'ridge RCT': 78.71043257694785, 'ridge DIFF(RCT) ': 80.93296319496181, 'RFR (RCT) ': 75.59335164723299, 'RFR DIFF(RCT) ': 80.93296319496181, 'ridge DIFF OBS': 84.5714405684735, 'RFR DIFF(OBS)': 86.04981236992029, 'RFR (ALL)': 25.440280594270103, 'CF on ALL': 79.41334395057113, 'std Y_adj': 79.39474332602002}\n",
      "{'2 step rfr': 80.54528450316859, '2 step ridge': 78.38117257209493, 'ridge RCT': 79.99347970123297, 'ridge DIFF(RCT) ': 80.36810064200834, 'RFR (RCT) ': 80.86507209275793, 'RFR DIFF(RCT) ': 80.36810064200834, 'ridge DIFF OBS': 84.51447697827822, 'RFR DIFF(OBS)': 86.67759465927483, 'RFR (ALL)': 25.49744358658354, 'CF on ALL': 80.04451900533705, 'std Y_adj': 80.0624012203733}\n",
      "{'2 step rfr': 77.80906247838647, '2 step ridge': 75.9758405842524, 'ridge RCT': 77.91045342817507, 'ridge DIFF(RCT) ': 80.36325217830844, 'RFR (RCT) ': 76.91130467025336, 'RFR DIFF(RCT) ': 80.36325217830844, 'ridge DIFF OBS': 84.21779509022433, 'RFR DIFF(OBS)': 85.69201644593575, 'RFR (ALL)': 25.721311444855488, 'CF on ALL': 79.67743494687892, 'std Y_adj': 79.7515583195844}\n",
      "{'2 step rfr': 75.60588078297549, '2 step ridge': 74.3403620576335, 'ridge RCT': 76.43277309397655, 'ridge DIFF(RCT) ': 77.91866311902433, 'RFR (RCT) ': 76.32183311608891, 'RFR DIFF(RCT) ': 77.91866311902433, 'ridge DIFF OBS': 80.9431156881553, 'RFR DIFF(OBS)': 82.68342313563731, 'RFR (ALL)': 25.53804231901911, 'CF on ALL': 77.86540471278165, 'std Y_adj': 77.93100446562157}\n",
      "{'2 step rfr': 77.67293629716892, '2 step ridge': 75.65945389288689, 'ridge RCT': 77.63069717133303, 'ridge DIFF(RCT) ': 79.30188985524373, 'RFR (RCT) ': 75.87053557137888, 'RFR DIFF(RCT) ': 79.30188985524373, 'ridge DIFF OBS': 82.24851608198857, 'RFR DIFF(OBS)': 84.51410905944266, 'RFR (ALL)': 24.763702445977636, 'CF on ALL': 78.66731968260844, 'std Y_adj': 78.75785901047104}\n",
      "{'2 step rfr': 76.77051108714815, '2 step ridge': 75.24594123245771, 'ridge RCT': 77.68310392026844, 'ridge DIFF(RCT) ': 78.43759370587682, 'RFR (RCT) ': 75.3732307569441, 'RFR DIFF(RCT) ': 78.43759370587682, 'ridge DIFF OBS': 82.0449113506323, 'RFR DIFF(OBS)': 84.23924495776305, 'RFR (ALL)': 24.62132241212211, 'CF on ALL': 77.60236597109201, 'std Y_adj': 77.64929158527723}\n",
      "{'2 step rfr': 78.29278414159262, '2 step ridge': 76.96877555754867, 'ridge RCT': 78.86222602476754, 'ridge DIFF(RCT) ': 80.09881686564519, 'RFR (RCT) ': 78.02891399546029, 'RFR DIFF(RCT) ': 80.09881686564519, 'ridge DIFF OBS': 84.59063364747504, 'RFR DIFF(OBS)': 86.23594258378264, 'RFR (ALL)': 25.412057316305916, 'CF on ALL': 79.72460216177859, 'std Y_adj': 79.73347327087771}\n",
      "{'2 step rfr': 80.59780172174764, '2 step ridge': 78.57902836194955, 'ridge RCT': 80.18107068902957, 'ridge DIFF(RCT) ': 80.77507086247827, 'RFR (RCT) ': 76.98260770682498, 'RFR DIFF(RCT) ': 80.77507086247827, 'ridge DIFF OBS': 84.03142571977202, 'RFR DIFF(OBS)': 85.66978814477586, 'RFR (ALL)': 25.31337749737158, 'CF on ALL': 80.0433882635919, 'std Y_adj': 80.16249953303307}\n",
      "{'2 step rfr': 77.31398769313137, '2 step ridge': 75.74080895200427, 'ridge RCT': 77.46506905589881, 'ridge DIFF(RCT) ': 79.90070525057082, 'RFR (RCT) ': 78.02526276409877, 'RFR DIFF(RCT) ': 79.90070525057082, 'ridge DIFF OBS': 84.53082953973518, 'RFR DIFF(OBS)': 86.22524498238894, 'RFR (ALL)': 24.939911144234213, 'CF on ALL': 78.98842557237708, 'std Y_adj': 78.97892539324843}\n",
      "{'2 step rfr': 76.23064289943984, '2 step ridge': 74.71175945274705, 'ridge RCT': 76.63278220891549, 'ridge DIFF(RCT) ': 78.61063500347143, 'RFR (RCT) ': 76.3604650555951, 'RFR DIFF(RCT) ': 78.61063500347143, 'ridge DIFF OBS': 81.4270363287185, 'RFR DIFF(OBS)': 82.74269194731005, 'RFR (ALL)': 24.740334809475414, 'CF on ALL': 77.44965417221769, 'std Y_adj': 77.51924596596676}\n",
      "{'2 step rfr': 75.16554562805918, '2 step ridge': 73.6808183008162, 'ridge RCT': 75.37942638122358, 'ridge DIFF(RCT) ': 76.85342458736727, 'RFR (RCT) ': 75.34304072358833, 'RFR DIFF(RCT) ': 76.85342458736727, 'ridge DIFF OBS': 80.01828189118018, 'RFR DIFF(OBS)': 81.49597722000034, 'RFR (ALL)': 24.603153220312713, 'CF on ALL': 75.7075162700202, 'std Y_adj': 75.7720745771007}\n",
      "{'2 step rfr': 78.06994641464874, '2 step ridge': 75.99589805439376, 'ridge RCT': 78.01277882692006, 'ridge DIFF(RCT) ': 79.54785392983955, 'RFR (RCT) ': 79.36375451696402, 'RFR DIFF(RCT) ': 79.54785392983955, 'ridge DIFF OBS': 82.58052973971529, 'RFR DIFF(OBS)': 84.59335761422969, 'RFR (ALL)': 25.135163057336843, 'CF on ALL': 78.30542194120603, 'std Y_adj': 78.33245834031862}\n",
      "{'2 step rfr': 80.82813821802137, '2 step ridge': 79.39152698953473, 'ridge RCT': 80.70032079424799, 'ridge DIFF(RCT) ': 81.21179068503469, 'RFR (RCT) ': 81.22709064580464, 'RFR DIFF(RCT) ': 81.21179068503469, 'ridge DIFF OBS': 86.71524533665782, 'RFR DIFF(OBS)': 87.84761037040384, 'RFR (ALL)': 25.269540673831827, 'CF on ALL': 80.86629288560832, 'std Y_adj': 80.69773379039258}\n",
      "{'2 step rfr': 77.69896144813121, '2 step ridge': 76.79601556438402, 'ridge RCT': 78.77352134053314, 'ridge DIFF(RCT) ': 80.67899712436153, 'RFR (RCT) ': 79.28922482272372, 'RFR DIFF(RCT) ': 80.67899712436153, 'ridge DIFF OBS': 83.87261088812656, 'RFR DIFF(OBS)': 84.82118958986145, 'RFR (ALL)': 25.794638087028677, 'CF on ALL': 79.86269857380135, 'std Y_adj': 79.9171615884842}\n",
      "{'2 step rfr': 76.79090395652439, '2 step ridge': 75.13032091133903, 'ridge RCT': 79.76279414937348, 'ridge DIFF(RCT) ': 80.26704396698587, 'RFR (RCT) ': 80.27065453238728, 'RFR DIFF(RCT) ': 80.26704396698587, 'ridge DIFF OBS': 84.42194080139495, 'RFR DIFF(OBS)': 86.3531866731659, 'RFR (ALL)': 25.636275938551645, 'CF on ALL': 79.89024498479263, 'std Y_adj': 79.89288486016888}\n",
      "{'2 step rfr': 80.95936621938394, '2 step ridge': 78.92996933020352, 'ridge RCT': 80.8728968033787, 'ridge DIFF(RCT) ': 81.80639958740996, 'RFR (RCT) ': 81.24759229445588, 'RFR DIFF(RCT) ': 81.80639958740996, 'ridge DIFF OBS': 84.79585237056119, 'RFR DIFF(OBS)': 86.69502093832604, 'RFR (ALL)': 25.06442095835066, 'CF on ALL': 80.83146958858175, 'std Y_adj': 80.89392240220916}\n",
      "{'2 step rfr': 75.15299487379954, '2 step ridge': 74.50511370200928, 'ridge RCT': 76.586983138266, 'ridge DIFF(RCT) ': 78.90822656908207, 'RFR (RCT) ': 77.27151182699015, 'RFR DIFF(RCT) ': 78.90822656908207, 'ridge DIFF OBS': 82.19602092663771, 'RFR DIFF(OBS)': 84.52574739766804, 'RFR (ALL)': 24.88507711806925, 'CF on ALL': 77.66328623247739, 'std Y_adj': 77.6662170038976}\n",
      "{'2 step rfr': 80.63860922637157, '2 step ridge': 78.63560398650343, 'ridge RCT': 80.169989159963, 'ridge DIFF(RCT) ': 81.35545878370962, 'RFR (RCT) ': 78.28564399992992, 'RFR DIFF(RCT) ': 81.35545878370962, 'ridge DIFF OBS': 85.42859571633807, 'RFR DIFF(OBS)': 87.50951954609417, 'RFR (ALL)': 25.644469161096502, 'CF on ALL': 80.1091614534094, 'std Y_adj': 80.09522382856447}\n",
      "{'2 step rfr': 79.42208663762783, '2 step ridge': 77.46087327404497, 'ridge RCT': 79.53330929690387, 'ridge DIFF(RCT) ': 79.13201265901932, 'RFR (RCT) ': 79.83562548029785, 'RFR DIFF(RCT) ': 79.13201265901932, 'ridge DIFF OBS': 84.56975475646287, 'RFR DIFF(OBS)': 86.61706387338639, 'RFR (ALL)': 24.984053720946058, 'CF on ALL': 79.49737346165963, 'std Y_adj': 79.49676277151904}\n"
     ]
    },
    {
     "name": "stdout",
     "output_type": "stream",
     "text": [
      "{'2 step rfr': 76.25667844439752, '2 step ridge': 74.3975709449141, 'ridge RCT': 76.43106801467061, 'ridge DIFF(RCT) ': 78.75749112082211, 'RFR (RCT) ': 75.87065463337866, 'RFR DIFF(RCT) ': 78.75749112082211, 'ridge DIFF OBS': 82.22516438498845, 'RFR DIFF(OBS)': 84.38085182539471, 'RFR (ALL)': 24.645394110182654, 'CF on ALL': 78.4157632817053, 'std Y_adj': 78.4597986749398}\n",
      "{'2 step rfr': 76.8488446309751, '2 step ridge': 77.33223264240165, 'ridge RCT': 79.50758774794757, 'ridge DIFF(RCT) ': 79.67016787921054, 'RFR (RCT) ': 78.48051125854332, 'RFR DIFF(RCT) ': 79.67016787921054, 'ridge DIFF OBS': 84.56151794515428, 'RFR DIFF(OBS)': 83.41416465343981, 'RFR (ALL)': 25.86300266059925, 'CF on ALL': 79.60297591134307, 'std Y_adj': 79.58654597207692}\n",
      "{'2 step rfr': 78.90759724572708, '2 step ridge': 77.1599245032706, 'ridge RCT': 78.94571443618108, 'ridge DIFF(RCT) ': 80.64143124333302, 'RFR (RCT) ': 79.3250420362448, 'RFR DIFF(RCT) ': 80.64143124333302, 'ridge DIFF OBS': 85.15355241748536, 'RFR DIFF(OBS)': 86.83494481114117, 'RFR (ALL)': 25.686542245428008, 'CF on ALL': 79.42709883580424, 'std Y_adj': 79.40427875595785}\n",
      "{'2 step rfr': 77.71614162402766, '2 step ridge': 76.03900074497449, 'ridge RCT': 78.06345590372183, 'ridge DIFF(RCT) ': 79.00585059321523, 'RFR (RCT) ': 78.8077542998359, 'RFR DIFF(RCT) ': 79.00585059321523, 'ridge DIFF OBS': 83.47003740831335, 'RFR DIFF(OBS)': 84.64794587027998, 'RFR (ALL)': 24.637843971772963, 'CF on ALL': 77.79045133059842, 'std Y_adj': 77.62366716801101}\n",
      "{'2 step rfr': 78.15047733032125, '2 step ridge': 76.71782735448262, 'ridge RCT': 78.55151796150896, 'ridge DIFF(RCT) ': 80.65731682590682, 'RFR (RCT) ': 78.98060397972198, 'RFR DIFF(RCT) ': 80.65731682590682, 'ridge DIFF OBS': 85.5886542656887, 'RFR DIFF(OBS)': 86.7498652939826, 'RFR (ALL)': 25.416743413945415, 'CF on ALL': 79.75057958315283, 'std Y_adj': 79.49808260833463}\n",
      "{'2 step rfr': 78.31993773756831, '2 step ridge': 76.65703021742135, 'ridge RCT': 78.42892621615718, 'ridge DIFF(RCT) ': 80.08897957524593, 'RFR (RCT) ': 79.33118148711202, 'RFR DIFF(RCT) ': 80.08897957524593, 'ridge DIFF OBS': 84.62952350047522, 'RFR DIFF(OBS)': 86.54201327024019, 'RFR (ALL)': 24.956716911365262, 'CF on ALL': 80.03432939941402, 'std Y_adj': 80.07130430228912}\n",
      "{'2 step rfr': 78.1746974820234, '2 step ridge': 76.672458345014, 'ridge RCT': 78.5102493426117, 'ridge DIFF(RCT) ': 80.45152593259357, 'RFR (RCT) ': 79.61297650657404, 'RFR DIFF(RCT) ': 80.45152593259357, 'ridge DIFF OBS': 85.51281972210175, 'RFR DIFF(OBS)': 87.3534961157055, 'RFR (ALL)': 25.795084952573234, 'CF on ALL': 79.84452247713767, 'std Y_adj': 79.76101647801418}\n",
      "{'2 step rfr': 75.80126056869757, '2 step ridge': 74.61617847023756, 'ridge RCT': 75.91959699147083, 'ridge DIFF(RCT) ': 78.12848130886196, 'RFR (RCT) ': 74.87264594220852, 'RFR DIFF(RCT) ': 78.12848130886196, 'ridge DIFF OBS': 81.72439134717436, 'RFR DIFF(OBS)': 83.08790605125226, 'RFR (ALL)': 25.07718075670981, 'CF on ALL': 76.95601194368629, 'std Y_adj': 77.01044661614308}\n",
      "{'2 step rfr': 77.30936180266102, '2 step ridge': 76.0185697929317, 'ridge RCT': 77.45350896867095, 'ridge DIFF(RCT) ': 79.77088931182462, 'RFR (RCT) ': 75.8849151081989, 'RFR DIFF(RCT) ': 79.77088931182462, 'ridge DIFF OBS': 84.5363710840501, 'RFR DIFF(OBS)': 86.0848945166627, 'RFR (ALL)': 25.498466766775806, 'CF on ALL': 79.36481658499945, 'std Y_adj': 79.42355279254393}\n",
      "{'2 step rfr': 80.55920162977294, '2 step ridge': 78.95140434803723, 'ridge RCT': 80.76495242772259, 'ridge DIFF(RCT) ': 82.37915409139764, 'RFR (RCT) ': 81.17810297478592, 'RFR DIFF(RCT) ': 82.37915409139764, 'ridge DIFF OBS': 86.39713782982696, 'RFR DIFF(OBS)': 88.24808200801837, 'RFR (ALL)': 26.126804052427428, 'CF on ALL': 81.37089010566703, 'std Y_adj': 81.41437648591629}\n",
      "{'2 step rfr': 78.3565090576219, '2 step ridge': 76.86177248426203, 'ridge RCT': 78.62612985750609, 'ridge DIFF(RCT) ': 80.80596455118435, 'RFR (RCT) ': 79.45325878097744, 'RFR DIFF(RCT) ': 80.80596455118435, 'ridge DIFF OBS': 84.513759958623, 'RFR DIFF(OBS)': 85.80294502803916, 'RFR (ALL)': 24.98526331583993, 'CF on ALL': 79.32822935845071, 'std Y_adj': 79.3679632039533}\n",
      "{'2 step rfr': 78.29787488056499, '2 step ridge': 76.59147286378966, 'ridge RCT': 78.29938839251322, 'ridge DIFF(RCT) ': 80.95012765901508, 'RFR (RCT) ': 77.3769386507216, 'RFR DIFF(RCT) ': 80.95012765901508, 'ridge DIFF OBS': 84.26005655502581, 'RFR DIFF(OBS)': 86.20186575941726, 'RFR (ALL)': 24.417001278476004, 'CF on ALL': 79.46153344504722, 'std Y_adj': 79.49493891335626}\n",
      "{'2 step rfr': 79.53174052414693, '2 step ridge': 77.50762001842574, 'ridge RCT': 79.45100489338232, 'ridge DIFF(RCT) ': 79.8422666903108, 'RFR (RCT) ': 80.08240317861399, 'RFR DIFF(RCT) ': 79.8422666903108, 'ridge DIFF OBS': 84.83741751633269, 'RFR DIFF(OBS)': 86.98595370939957, 'RFR (ALL)': 25.722981051364652, 'CF on ALL': 80.06029518700576, 'std Y_adj': 80.05091085168996}\n",
      "{'2 step rfr': 76.13365880383812, '2 step ridge': 74.61458885863031, 'ridge RCT': 76.3387722023561, 'ridge DIFF(RCT) ': 77.96628649927008, 'RFR (RCT) ': 76.23732996932465, 'RFR DIFF(RCT) ': 77.96628649927008, 'ridge DIFF OBS': 82.16529516425547, 'RFR DIFF(OBS)': 83.80402750988289, 'RFR (ALL)': 24.890374917807506, 'CF on ALL': 77.7709066551782, 'std Y_adj': 77.75079384969354}\n",
      "{'2 step rfr': 79.31883450309604, '2 step ridge': 77.63153825409428, 'ridge RCT': 79.52025156343961, 'ridge DIFF(RCT) ': 83.24594322720456, 'RFR (RCT) ': 78.97666714442838, 'RFR DIFF(RCT) ': 83.24594322720456, 'ridge DIFF OBS': 85.30617284862718, 'RFR DIFF(OBS)': 86.58337440565808, 'RFR (ALL)': 25.213258461142527, 'CF on ALL': 80.68262990304417, 'std Y_adj': 80.75433069061384}\n",
      "{'2 step rfr': 77.79571887480341, '2 step ridge': 75.95626821594414, 'ridge RCT': 77.80337801268833, 'ridge DIFF(RCT) ': 79.55929344358148, 'RFR (RCT) ': 78.06293103423796, 'RFR DIFF(RCT) ': 79.55929344358148, 'ridge DIFF OBS': 82.67621884245787, 'RFR DIFF(OBS)': 84.63721766059012, 'RFR (ALL)': 25.29421180306205, 'CF on ALL': 78.85210708275613, 'std Y_adj': 78.94055010831718}\n",
      "{'2 step rfr': 78.90754395864427, '2 step ridge': 77.31978976878035, 'ridge RCT': 77.9764713614754, 'ridge DIFF(RCT) ': 78.23429272706403, 'RFR (RCT) ': 76.19411188973591, 'RFR DIFF(RCT) ': 78.23429272706403, 'ridge DIFF OBS': 83.4494418067573, 'RFR DIFF(OBS)': 84.85183181919227, 'RFR (ALL)': 25.503445108898777, 'CF on ALL': 77.96736296467313, 'std Y_adj': 77.96196256798474}\n",
      "{'2 step rfr': 77.30326408709867, '2 step ridge': 75.32710588199551, 'ridge RCT': 77.24388872118752, 'ridge DIFF(RCT) ': 79.99089103097256, 'RFR (RCT) ': 76.91749677003442, 'RFR DIFF(RCT) ': 79.99089103097256, 'ridge DIFF OBS': 83.92046220934684, 'RFR DIFF(OBS)': 86.3019647874494, 'RFR (ALL)': 25.20450567037289, 'CF on ALL': 78.27366854077965, 'std Y_adj': 78.21436854904252}\n",
      "{'2 step rfr': 77.82822236134969, '2 step ridge': 76.24041094599289, 'ridge RCT': 78.07344761031004, 'ridge DIFF(RCT) ': 79.60552406952662, 'RFR (RCT) ': 80.5415737320365, 'RFR DIFF(RCT) ': 79.60552406952662, 'ridge DIFF OBS': 84.16545346205011, 'RFR DIFF(OBS)': 86.04764266140485, 'RFR (ALL)': 25.491603531194063, 'CF on ALL': 79.4990238316842, 'std Y_adj': 79.62617966322682}\n",
      "{'2 step rfr': 78.75863981384055, '2 step ridge': 76.60418764031998, 'ridge RCT': 78.35183000893099, 'ridge DIFF(RCT) ': 78.82587096356615, 'RFR (RCT) ': 75.72897196140245, 'RFR DIFF(RCT) ': 78.82587096356615, 'ridge DIFF OBS': 82.4110211544186, 'RFR DIFF(OBS)': 84.51435063606002, 'RFR (ALL)': 24.79849949792854, 'CF on ALL': 78.34901880611105, 'std Y_adj': 78.36076002411677}\n",
      "{'2 step rfr': 79.80907557014464, '2 step ridge': 77.97242657376142, 'ridge RCT': 79.94722338054663, 'ridge DIFF(RCT) ': 81.95983592961159, 'RFR (RCT) ': 80.8064457451565, 'RFR DIFF(RCT) ': 81.95983592961159, 'ridge DIFF OBS': 84.26524256808634, 'RFR DIFF(OBS)': 85.95259999213015, 'RFR (ALL)': 25.57265049122264, 'CF on ALL': 80.64087829301745, 'std Y_adj': 80.77621919812442}\n",
      "{'2 step rfr': 80.53815525505271, '2 step ridge': 78.85086631385775, 'ridge RCT': 80.54314757121612, 'ridge DIFF(RCT) ': 80.40383401650925, 'RFR (RCT) ': 78.19825284009202, 'RFR DIFF(RCT) ': 80.40383401650925, 'ridge DIFF OBS': 84.7659191619437, 'RFR DIFF(OBS)': 86.54432022183713, 'RFR (ALL)': 25.811775144876712, 'CF on ALL': 80.45457900458634, 'std Y_adj': 80.5270305722929}\n"
     ]
    },
    {
     "name": "stdout",
     "output_type": "stream",
     "text": [
      "{'2 step rfr': 81.70806347313868, '2 step ridge': 79.4611284451745, 'ridge RCT': 81.1713967641159, 'ridge DIFF(RCT) ': 82.3334514727848, 'RFR (RCT) ': 78.05484545155589, 'RFR DIFF(RCT) ': 82.3334514727848, 'ridge DIFF OBS': 86.66522078442145, 'RFR DIFF(OBS)': 88.58133407465765, 'RFR (ALL)': 25.844146241242804, 'CF on ALL': 80.70690114891853, 'std Y_adj': 80.54839391476057}\n",
      "{'2 step rfr': 76.38039273528778, '2 step ridge': 74.72863040334427, 'ridge RCT': 76.41957666367543, 'ridge DIFF(RCT) ': 79.1435720322274, 'RFR (RCT) ': 76.43116922555784, 'RFR DIFF(RCT) ': 79.1435720322274, 'ridge DIFF OBS': 82.09340816218702, 'RFR DIFF(OBS)': 83.91100245820212, 'RFR (ALL)': 24.55006862685897, 'CF on ALL': 77.46679576922917, 'std Y_adj': 77.5005052209357}\n",
      "{'2 step rfr': 78.64680550151783, '2 step ridge': 76.93740380375942, 'ridge RCT': 77.88927935210289, 'ridge DIFF(RCT) ': 78.71569278657631, 'RFR (RCT) ': 77.96168895802617, 'RFR DIFF(RCT) ': 78.71569278657631, 'ridge DIFF OBS': 84.2610006184366, 'RFR DIFF(OBS)': 85.71009798295918, 'RFR (ALL)': 25.034114941235334, 'CF on ALL': 77.71898535644294, 'std Y_adj': 77.67231396940574}\n",
      "{'2 step rfr': 79.27381751309376, '2 step ridge': 77.68867077050724, 'ridge RCT': 79.5148816206836, 'ridge DIFF(RCT) ': 81.38476111554836, 'RFR (RCT) ': 82.83381747275409, 'RFR DIFF(RCT) ': 81.38476111554836, 'ridge DIFF OBS': 84.99946716907367, 'RFR DIFF(OBS)': 86.33535754713995, 'RFR (ALL)': 24.743032485860276, 'CF on ALL': 80.20974232340407, 'std Y_adj': 80.29472564331246}\n",
      "{'2 step rfr': 79.7143468544646, '2 step ridge': 78.06660715077773, 'ridge RCT': 79.60826074305683, 'ridge DIFF(RCT) ': 80.42309750486578, 'RFR (RCT) ': 77.88313877481117, 'RFR DIFF(RCT) ': 80.42309750486578, 'ridge DIFF OBS': 84.56780649464741, 'RFR DIFF(OBS)': 86.07481861058439, 'RFR (ALL)': 24.649030859393083, 'CF on ALL': 79.38845568298252, 'std Y_adj': 79.40803839801889}\n",
      "{'2 step rfr': 76.8705194853967, '2 step ridge': 76.03388053071849, 'ridge RCT': 78.11414214501262, 'ridge DIFF(RCT) ': 80.9749222412675, 'RFR (RCT) ': 79.63015253608785, 'RFR DIFF(RCT) ': 80.9749222412675, 'ridge DIFF OBS': 84.91851060775235, 'RFR DIFF(OBS)': 86.39939322474522, 'RFR (ALL)': 25.012585812303815, 'CF on ALL': 80.10140911630808, 'std Y_adj': 80.11440144271172}\n",
      "{'2 step rfr': 77.51845327868821, '2 step ridge': 76.20795016140477, 'ridge RCT': 77.87526159000069, 'ridge DIFF(RCT) ': 80.15647650849981, 'RFR (RCT) ': 76.71684388185011, 'RFR DIFF(RCT) ': 80.15647650849981, 'ridge DIFF OBS': 83.65294943297346, 'RFR DIFF(OBS)': 85.13748280822945, 'RFR (ALL)': 25.257461952730107, 'CF on ALL': 79.46687799525708, 'std Y_adj': 79.45466039996904}\n",
      "{'2 step rfr': 80.65515087890235, '2 step ridge': 78.84147258968501, 'ridge RCT': 80.56452095561598, 'ridge DIFF(RCT) ': 80.89026491129461, 'RFR (RCT) ': 80.81648098991056, 'RFR DIFF(RCT) ': 80.89026491129461, 'ridge DIFF OBS': 85.05662184930179, 'RFR DIFF(OBS)': 86.8041182780881, 'RFR (ALL)': 25.54474543343372, 'CF on ALL': 80.61117372545705, 'std Y_adj': 80.56517213015944}\n",
      "{'2 step rfr': 80.70630422666473, '2 step ridge': 78.75989194720765, 'ridge RCT': 79.96571213941932, 'ridge DIFF(RCT) ': 81.26242154354074, 'RFR (RCT) ': 78.10281138716583, 'RFR DIFF(RCT) ': 81.26242154354074, 'ridge DIFF OBS': 85.81098455693858, 'RFR DIFF(OBS)': 87.52605737796392, 'RFR (ALL)': 24.419042348104753, 'CF on ALL': 79.82691426557805, 'std Y_adj': 79.76026596803183}\n",
      "{'2 step rfr': 77.023249718353, '2 step ridge': 76.32067379509441, 'ridge RCT': 77.94279335409668, 'ridge DIFF(RCT) ': 79.71934779366376, 'RFR (RCT) ': 77.06066635092618, 'RFR DIFF(RCT) ': 79.71934779366376, 'ridge DIFF OBS': 85.4204869607054, 'RFR DIFF(OBS)': 85.91992986089656, 'RFR (ALL)': 25.27622590698341, 'CF on ALL': 79.52858894218316, 'std Y_adj': 79.38574878620646}\n",
      "{'2 step rfr': 80.90569301346078, '2 step ridge': 79.22664150801869, 'ridge RCT': 80.42380835298528, 'ridge DIFF(RCT) ': 81.06607126949326, 'RFR (RCT) ': 79.04692026461179, 'RFR DIFF(RCT) ': 81.06607126949326, 'ridge DIFF OBS': 85.49026538578296, 'RFR DIFF(OBS)': 86.92306495492217, 'RFR (ALL)': 25.39030455641037, 'CF on ALL': 80.09660245884578, 'std Y_adj': 80.12974131106046}\n",
      "{'2 step rfr': 77.5103216016026, '2 step ridge': 75.69247307561676, 'ridge RCT': 77.65107987823092, 'ridge DIFF(RCT) ': 80.30990165924916, 'RFR (RCT) ': 76.60547876905443, 'RFR DIFF(RCT) ': 80.30990165924916, 'ridge DIFF OBS': 83.43241057372144, 'RFR DIFF(OBS)': 85.15357409741915, 'RFR (ALL)': 25.781725995388896, 'CF on ALL': 79.32638730762463, 'std Y_adj': 79.32292843595388}\n"
     ]
    }
   ],
   "source": [
    "_result_list_02 = []\n",
    "\n",
    "for i in range(100):\n",
    "    _result_list_02.append(_full_experiment(rct_fraction_of_rural=0.8))\n",
    "    np.savez('result_with_EVALSET_all_baselines_02RCT', _result_list_02)\n",
    "    print(_result_list_02[-1])"
   ]
  },
  {
   "cell_type": "code",
   "execution_count": 101,
   "metadata": {},
   "outputs": [
    {
     "name": "stdout",
     "output_type": "stream",
     "text": [
      "2 step rfr        : 78.08 +/- 0.16\n",
      "2 step ridge      : 76.48 +/- 0.14\n",
      "ridge RCT         : 78.31 +/- 0.14\n",
      "ridge DIFF(RCT)   : 79.88 +/- 0.12\n",
      "RFR (RCT)         : 78.05 +/- 0.18\n",
      "RFR DIFF(RCT)     : 79.88 +/- 0.12\n",
      "ridge DIFF OBS    : 83.86 +/- 0.13\n",
      "RFR DIFF(OBS)     : 85.56 +/- 0.13\n",
      "RFR (ALL)         : 25.22 +/- 0.04\n",
      "CF on ALL         : 79.07 +/- 0.11\n",
      "std Y_adj         : 79.08 +/- 0.11\n"
     ]
    }
   ],
   "source": [
    "clean_results('result_with_EVALSET_all_baselines_02RCT.npz')"
   ]
  },
  {
   "cell_type": "code",
   "execution_count": 102,
   "metadata": {},
   "outputs": [
    {
     "name": "stdout",
     "output_type": "stream",
     "text": [
      "{'2 step rfr': 79.55963312827076, '2 step ridge': 78.1848413675763, 'ridge RCT': 79.23159564356132, 'ridge DIFF(RCT) ': 80.06715480440782, 'RFR (RCT) ': 80.49063289637373, 'RFR DIFF(RCT) ': 80.06715480440782, 'ridge DIFF OBS': 84.47956856360429, 'RFR DIFF(OBS)': 86.22456108768831, 'RFR (ALL)': 25.600349541786777, 'CF on ALL': 78.96813884402457, 'std Y_adj': 78.89317478266773}\n",
      "{'2 step rfr': 78.54997826641606, '2 step ridge': 76.17692614553542, 'ridge RCT': 77.71109781705341, 'ridge DIFF(RCT) ': 78.5300968357387, 'RFR (RCT) ': 78.14395547207188, 'RFR DIFF(RCT) ': 78.5300968357387, 'ridge DIFF OBS': 83.28019564307789, 'RFR DIFF(OBS)': 82.5763241962018, 'RFR (ALL)': 25.405541626727562, 'CF on ALL': 77.48992482851699, 'std Y_adj': 77.4716278784975}\n",
      "{'2 step rfr': 78.26125664768219, '2 step ridge': 76.41036349572299, 'ridge RCT': 78.60893698663291, 'ridge DIFF(RCT) ': 78.95437121285602, 'RFR (RCT) ': 79.33698934870507, 'RFR DIFF(RCT) ': 78.95437121285602, 'ridge DIFF OBS': 82.52300378525412, 'RFR DIFF(OBS)': 84.23569470749553, 'RFR (ALL)': 24.923416894622598, 'CF on ALL': 77.9452238458073, 'std Y_adj': 78.01477204993026}\n",
      "{'2 step rfr': 79.1791132561814, '2 step ridge': 77.03380806485792, 'ridge RCT': 78.45290359523642, 'ridge DIFF(RCT) ': 78.67903951746212, 'RFR (RCT) ': 78.70043668656415, 'RFR DIFF(RCT) ': 78.67903951746212, 'ridge DIFF OBS': 82.47397787577418, 'RFR DIFF(OBS)': 84.73031102500121, 'RFR (ALL)': 24.575712953499753, 'CF on ALL': 77.93896052007044, 'std Y_adj': 77.99940143557797}\n",
      "{'2 step rfr': 77.11263789775809, '2 step ridge': 75.71623744610193, 'ridge RCT': 77.36739660368285, 'ridge DIFF(RCT) ': 78.15037663581333, 'RFR (RCT) ': 77.47881493026271, 'RFR DIFF(RCT) ': 78.15037663581333, 'ridge DIFF OBS': 82.48780413031652, 'RFR DIFF(OBS)': 84.45733447002243, 'RFR (ALL)': 24.74810833387778, 'CF on ALL': 77.33367279169384, 'std Y_adj': 77.32004859465229}\n",
      "{'2 step rfr': 80.49601431567355, '2 step ridge': 79.04400371979395, 'ridge RCT': 80.82140904544991, 'ridge DIFF(RCT) ': 80.8363031486701, 'RFR (RCT) ': 80.75469085109623, 'RFR DIFF(RCT) ': 80.8363031486701, 'ridge DIFF OBS': 84.07549076662143, 'RFR DIFF(OBS)': 85.36397279706537, 'RFR (ALL)': 25.220443319436555, 'CF on ALL': 80.20462893954085, 'std Y_adj': 80.25096786188075}\n",
      "{'2 step rfr': 78.9986409205096, '2 step ridge': 77.25130320203277, 'ridge RCT': 79.5775108498545, 'ridge DIFF(RCT) ': 79.78343067090493, 'RFR (RCT) ': 81.3220394506733, 'RFR DIFF(RCT) ': 79.78343067090493, 'ridge DIFF OBS': 83.60055661107639, 'RFR DIFF(OBS)': 85.3303985818371, 'RFR (ALL)': 25.096977007241357, 'CF on ALL': 79.51637073165283, 'std Y_adj': 79.58821727188838}\n",
      "{'2 step rfr': 77.51663899808374, '2 step ridge': 76.58600951842104, 'ridge RCT': 77.30577883619061, 'ridge DIFF(RCT) ': 78.10534407761935, 'RFR (RCT) ': 79.29195922892127, 'RFR DIFF(RCT) ': 78.10534407761935, 'ridge DIFF OBS': 80.9494393083072, 'RFR DIFF(OBS)': 82.93175875040347, 'RFR (ALL)': 24.097125477591586, 'CF on ALL': 77.04954381271766, 'std Y_adj': 77.1428819846577}\n",
      "{'2 step rfr': 77.77316750031174, '2 step ridge': 76.06287220247513, 'ridge RCT': 78.44358996960942, 'ridge DIFF(RCT) ': 78.95227933808667, 'RFR (RCT) ': 78.21916376285385, 'RFR DIFF(RCT) ': 78.95227933808667, 'ridge DIFF OBS': 83.87972538813395, 'RFR DIFF(OBS)': 85.30868258258948, 'RFR (ALL)': 25.186090742195205, 'CF on ALL': 78.48287620148015, 'std Y_adj': 78.45496706113886}\n",
      "{'2 step rfr': 78.03823726827468, '2 step ridge': 78.8849865754382, 'ridge RCT': 79.67171170754771, 'ridge DIFF(RCT) ': 81.95596444984668, 'RFR (RCT) ': 81.69188504684341, 'RFR DIFF(RCT) ': 81.95596444984668, 'ridge DIFF OBS': 85.15127088847657, 'RFR DIFF(OBS)': 83.87241381078614, 'RFR (ALL)': 24.71094764648528, 'CF on ALL': 79.63507236016264, 'std Y_adj': 79.64897392809034}\n",
      "{'2 step rfr': 81.34331929372216, '2 step ridge': 79.52416308076265, 'ridge RCT': 80.93328809058875, 'ridge DIFF(RCT) ': 80.95358786635119, 'RFR (RCT) ': 81.32408202384211, 'RFR DIFF(RCT) ': 80.95358786635119, 'ridge DIFF OBS': 85.3290869829025, 'RFR DIFF(OBS)': 87.14101031262811, 'RFR (ALL)': 25.382835400344877, 'CF on ALL': 80.6178230586636, 'std Y_adj': 80.65019055234066}\n",
      "{'2 step rfr': 80.89428541974469, '2 step ridge': 79.12879628510905, 'ridge RCT': 80.89902124291383, 'ridge DIFF(RCT) ': 81.75082071250417, 'RFR (RCT) ': 80.63806666938733, 'RFR DIFF(RCT) ': 81.75082071250417, 'ridge DIFF OBS': 86.15850784986566, 'RFR DIFF(OBS)': 87.6368527096145, 'RFR (ALL)': 25.563176314823867, 'CF on ALL': 80.70683429728273, 'std Y_adj': 80.76482294124276}\n",
      "{'2 step rfr': 80.8860739008542, '2 step ridge': 79.06775536009093, 'ridge RCT': 80.49964764503326, 'ridge DIFF(RCT) ': 81.03086468928342, 'RFR (RCT) ': 82.2009523533179, 'RFR DIFF(RCT) ': 81.03086468928342, 'ridge DIFF OBS': 85.73583971261584, 'RFR DIFF(OBS)': 87.17994472948354, 'RFR (ALL)': 25.864505836587263, 'CF on ALL': 80.21678025818112, 'std Y_adj': 80.19161095469335}\n",
      "{'2 step rfr': 80.41091193192511, '2 step ridge': 78.13013886570914, 'ridge RCT': 80.18322684644116, 'ridge DIFF(RCT) ': 79.67176017550749, 'RFR (RCT) ': 82.54118264971044, 'RFR DIFF(RCT) ': 79.67176017550749, 'ridge DIFF OBS': 83.36394972771697, 'RFR DIFF(OBS)': 85.48903162116711, 'RFR (ALL)': 26.085621250190467, 'CF on ALL': 79.16960948741811, 'std Y_adj': 79.28049550709524}\n",
      "{'2 step rfr': 80.89216874266802, '2 step ridge': 78.6589855388121, 'ridge RCT': 80.13199833539684, 'ridge DIFF(RCT) ': 81.30058967050917, 'RFR (RCT) ': 82.41159073393649, 'RFR DIFF(RCT) ': 81.30058967050917, 'ridge DIFF OBS': 85.47153061042864, 'RFR DIFF(OBS)': 87.6367187475188, 'RFR (ALL)': 25.15992084626892, 'CF on ALL': 80.06562930085681, 'std Y_adj': 79.99460330131309}\n",
      "{'2 step rfr': 80.14141446760773, '2 step ridge': 78.30210395310085, 'ridge RCT': 80.36794767287365, 'ridge DIFF(RCT) ': 80.52856172738674, 'RFR (RCT) ': 82.78080732389901, 'RFR DIFF(RCT) ': 80.52856172738674, 'ridge DIFF OBS': 83.82986357137032, 'RFR DIFF(OBS)': 85.38685546704143, 'RFR (ALL)': 24.990933396326636, 'CF on ALL': 79.04951508554532, 'std Y_adj': 79.1482164404399}\n",
      "{'2 step rfr': 80.8916674483393, '2 step ridge': 78.83518469866894, 'ridge RCT': 80.78979738155296, 'ridge DIFF(RCT) ': 80.78477135088329, 'RFR (RCT) ': 82.11687164462212, 'RFR DIFF(RCT) ': 80.78477135088329, 'ridge DIFF OBS': 82.60091539376911, 'RFR DIFF(OBS)': 84.50462791695094, 'RFR (ALL)': 25.658241047945253, 'CF on ALL': 78.66969892507012, 'std Y_adj': 78.71715184795335}\n",
      "{'2 step rfr': 79.06996876724911, '2 step ridge': 77.16893511485311, 'ridge RCT': 78.79799172167039, 'ridge DIFF(RCT) ': 78.55979960847637, 'RFR (RCT) ': 81.21990745846612, 'RFR DIFF(RCT) ': 78.55979960847637, 'ridge DIFF OBS': 83.80735481137174, 'RFR DIFF(OBS)': 83.1964146674754, 'RFR (ALL)': 24.671638511690315, 'CF on ALL': 77.99199277385843, 'std Y_adj': 77.88855436178268}\n",
      "{'2 step rfr': 78.09349630796454, '2 step ridge': 76.23698720183344, 'ridge RCT': 77.85376747726968, 'ridge DIFF(RCT) ': 78.0719707923886, 'RFR (RCT) ': 78.7299944353593, 'RFR DIFF(RCT) ': 78.0719707923886, 'ridge DIFF OBS': 81.4133445808699, 'RFR DIFF(OBS)': 83.24768019116101, 'RFR (ALL)': 24.747220426075042, 'CF on ALL': 77.723937063691, 'std Y_adj': 77.8430262092307}\n",
      "{'2 step rfr': 80.25854992693348, '2 step ridge': 78.50357345634022, 'ridge RCT': 80.51280950086453, 'ridge DIFF(RCT) ': 80.98586484768416, 'RFR (RCT) ': 80.68651498127356, 'RFR DIFF(RCT) ': 80.98586484768416, 'ridge DIFF OBS': 84.92755782142306, 'RFR DIFF(OBS)': 86.57405128783425, 'RFR (ALL)': 25.142289288032323, 'CF on ALL': 80.23472077703943, 'std Y_adj': 80.27518551061105}\n",
      "{'2 step rfr': 78.74076413331966, '2 step ridge': 76.98291127782598, 'ridge RCT': 78.73716799470277, 'ridge DIFF(RCT) ': 79.08850483413651, 'RFR (RCT) ': 77.95014107204872, 'RFR DIFF(RCT) ': 79.08850483413651, 'ridge DIFF OBS': 83.32157396093352, 'RFR DIFF(OBS)': 85.08687703443849, 'RFR (ALL)': 25.03150266795589, 'CF on ALL': 78.65803530067483, 'std Y_adj': 78.7257119201633}\n",
      "{'2 step rfr': 78.47240649623369, '2 step ridge': 75.99585827721737, 'ridge RCT': 78.4555644415507, 'ridge DIFF(RCT) ': 79.34320036983505, 'RFR (RCT) ': 80.08344503632982, 'RFR DIFF(RCT) ': 79.34320036983505, 'ridge DIFF OBS': 82.05712398909779, 'RFR DIFF(OBS)': 84.2660749968256, 'RFR (ALL)': 25.0344719175687, 'CF on ALL': 77.79198710166487, 'std Y_adj': 77.86001402413387}\n"
     ]
    },
    {
     "name": "stdout",
     "output_type": "stream",
     "text": [
      "{'2 step rfr': 81.08211349628833, '2 step ridge': 79.29182070228276, 'ridge RCT': 81.1673185896297, 'ridge DIFF(RCT) ': 80.89330113843407, 'RFR (RCT) ': 84.84040497124651, 'RFR DIFF(RCT) ': 80.89330113843407, 'ridge DIFF OBS': 83.05299572652206, 'RFR DIFF(OBS)': 84.77399271531755, 'RFR (ALL)': 24.883697902049704, 'CF on ALL': 78.95237672317649, 'std Y_adj': 79.01960823979995}\n",
      "{'2 step rfr': 78.52424421325088, '2 step ridge': 76.73633109447945, 'ridge RCT': 78.46429386369793, 'ridge DIFF(RCT) ': 79.94959427333056, 'RFR (RCT) ': 79.69297563394247, 'RFR DIFF(RCT) ': 79.94959427333056, 'ridge DIFF OBS': 83.2190903125831, 'RFR DIFF(OBS)': 84.68299173846026, 'RFR (ALL)': 25.254038594628188, 'CF on ALL': 78.48823888249508, 'std Y_adj': 78.49958239522209}\n",
      "{'2 step rfr': 79.31536814955416, '2 step ridge': 77.26510281770025, 'ridge RCT': 78.61574755552196, 'ridge DIFF(RCT) ': 80.03254876857524, 'RFR (RCT) ': 80.3177132900345, 'RFR DIFF(RCT) ': 80.03254876857524, 'ridge DIFF OBS': 83.78513885234487, 'RFR DIFF(OBS)': 85.60885842486992, 'RFR (ALL)': 25.371891058066485, 'CF on ALL': 78.16479160554975, 'std Y_adj': 78.17480987143229}\n",
      "{'2 step rfr': 80.725482998426, '2 step ridge': 78.84834869505802, 'ridge RCT': 80.20210264798266, 'ridge DIFF(RCT) ': 80.89850746333222, 'RFR (RCT) ': 80.44274409735446, 'RFR DIFF(RCT) ': 80.89850746333222, 'ridge DIFF OBS': 83.9455570304429, 'RFR DIFF(OBS)': 85.68503276544287, 'RFR (ALL)': 24.560654929689495, 'CF on ALL': 80.11785416698861, 'std Y_adj': 80.22336649894353}\n",
      "{'2 step rfr': 79.93819226969144, '2 step ridge': 77.8488492235406, 'ridge RCT': 79.434620856273, 'ridge DIFF(RCT) ': 80.58395791838622, 'RFR (RCT) ': 81.15133690223868, 'RFR DIFF(RCT) ': 80.58395791838622, 'ridge DIFF OBS': 82.75832762442549, 'RFR DIFF(OBS)': 84.7091126535571, 'RFR (ALL)': 25.01485629547947, 'CF on ALL': 79.02154120237901, 'std Y_adj': 79.1630483482751}\n",
      "{'2 step rfr': 81.90056295131161, '2 step ridge': 79.8925974820856, 'ridge RCT': 81.33962712236662, 'ridge DIFF(RCT) ': 81.59293533009904, 'RFR (RCT) ': 83.29361740635049, 'RFR DIFF(RCT) ': 81.59293533009904, 'ridge DIFF OBS': 85.2833589770821, 'RFR DIFF(OBS)': 86.88729654433708, 'RFR (ALL)': 25.168524236953655, 'CF on ALL': 81.04260919964076, 'std Y_adj': 81.13483784363389}\n",
      "{'2 step rfr': 79.7261075054421, '2 step ridge': 77.90582386637737, 'ridge RCT': 79.7100105598667, 'ridge DIFF(RCT) ': 79.91936615273981, 'RFR (RCT) ': 80.77392037005141, 'RFR DIFF(RCT) ': 79.91936615273981, 'ridge DIFF OBS': 83.74876886254148, 'RFR DIFF(OBS)': 85.49722307458545, 'RFR (ALL)': 25.01606282144386, 'CF on ALL': 79.57894004041988, 'std Y_adj': 79.675954585052}\n",
      "{'2 step rfr': 79.51040932998272, '2 step ridge': 77.01177522715204, 'ridge RCT': 79.04437539285361, 'ridge DIFF(RCT) ': 80.60535370640791, 'RFR (RCT) ': 80.03946253124631, 'RFR DIFF(RCT) ': 80.60535370640791, 'ridge DIFF OBS': 83.84395422283721, 'RFR DIFF(OBS)': 85.77324886533285, 'RFR (ALL)': 24.972366458941096, 'CF on ALL': 78.99180102919871, 'std Y_adj': 79.08216308515603}\n",
      "{'2 step rfr': 81.66418459296753, '2 step ridge': 79.39963273711996, 'ridge RCT': 82.04487553655267, 'ridge DIFF(RCT) ': 84.39512015936516, 'RFR (RCT) ': 83.99266545372426, 'RFR DIFF(RCT) ': 84.39512015936516, 'ridge DIFF OBS': 84.5440529710336, 'RFR DIFF(OBS)': 86.48881620233054, 'RFR (ALL)': 25.77521558614053, 'CF on ALL': 80.6086449757314, 'std Y_adj': 80.65025670754632}\n",
      "{'2 step rfr': 80.19938501586677, '2 step ridge': 77.80346143174242, 'ridge RCT': 79.10346397556954, 'ridge DIFF(RCT) ': 79.62217337798594, 'RFR (RCT) ': 81.0493268816954, 'RFR DIFF(RCT) ': 79.62217337798594, 'ridge DIFF OBS': 83.732213306598, 'RFR DIFF(OBS)': 85.73668298401743, 'RFR (ALL)': 25.0633084333725, 'CF on ALL': 79.01665544037454, 'std Y_adj': 79.09271454988975}\n",
      "{'2 step rfr': 78.18462996217923, '2 step ridge': 76.83026894342925, 'ridge RCT': 78.29569322125927, 'ridge DIFF(RCT) ': 79.12916681076396, 'RFR (RCT) ': 79.53658495312894, 'RFR DIFF(RCT) ': 79.12916681076396, 'ridge DIFF OBS': 83.05275289042143, 'RFR DIFF(OBS)': 85.12734803146076, 'RFR (ALL)': 24.33869879497568, 'CF on ALL': 78.26066510198162, 'std Y_adj': 78.31421432089788}\n",
      "{'2 step rfr': 79.65181802333854, '2 step ridge': 77.57806033473412, 'ridge RCT': 79.06327497069931, 'ridge DIFF(RCT) ': 79.07279848265162, 'RFR (RCT) ': 79.25086220039817, 'RFR DIFF(RCT) ': 79.07279848265162, 'ridge DIFF OBS': 83.6557613754667, 'RFR DIFF(OBS)': 85.69591738387375, 'RFR (ALL)': 25.09240531085603, 'CF on ALL': 78.9924551933303, 'std Y_adj': 79.05973314062663}\n",
      "{'2 step rfr': 80.1545149588234, '2 step ridge': 78.37848231979231, 'ridge RCT': 79.90370861301139, 'ridge DIFF(RCT) ': 80.53652998905417, 'RFR (RCT) ': 79.78349617592836, 'RFR DIFF(RCT) ': 80.53652998905417, 'ridge DIFF OBS': 84.64052692923293, 'RFR DIFF(OBS)': 86.09487533008597, 'RFR (ALL)': 25.497019170279433, 'CF on ALL': 79.87267992287123, 'std Y_adj': 79.86578937094431}\n",
      "{'2 step rfr': 78.82974588457213, '2 step ridge': 76.73883492578476, 'ridge RCT': 78.73203414999837, 'ridge DIFF(RCT) ': 78.71114611226392, 'RFR (RCT) ': 79.8671621127794, 'RFR DIFF(RCT) ': 78.71114611226392, 'ridge DIFF OBS': 82.50801304924966, 'RFR DIFF(OBS)': 84.73370869035435, 'RFR (ALL)': 25.502903147209167, 'CF on ALL': 78.60038873775743, 'std Y_adj': 78.73194712065903}\n",
      "{'2 step rfr': 82.00045823387957, '2 step ridge': 80.29801908326907, 'ridge RCT': 81.42868551869194, 'ridge DIFF(RCT) ': 81.78553229564518, 'RFR (RCT) ': 82.67286246747722, 'RFR DIFF(RCT) ': 81.78553229564518, 'ridge DIFF OBS': 85.73205973122842, 'RFR DIFF(OBS)': 87.52561343045441, 'RFR (ALL)': 26.23274047246801, 'CF on ALL': 81.32484317831099, 'std Y_adj': 81.39958109901787}\n",
      "{'2 step rfr': 80.84754437411002, '2 step ridge': 78.85034451426202, 'ridge RCT': 80.36910225697699, 'ridge DIFF(RCT) ': 80.74571157374072, 'RFR (RCT) ': 82.4490462449915, 'RFR DIFF(RCT) ': 80.74571157374072, 'ridge DIFF OBS': 84.80443731899246, 'RFR DIFF(OBS)': 86.47110685731889, 'RFR (ALL)': 25.12976828412668, 'CF on ALL': 80.21240760012529, 'std Y_adj': 80.21491559936456}\n",
      "{'2 step rfr': 79.04143240889645, '2 step ridge': 77.10224530221251, 'ridge RCT': 78.87580861136182, 'ridge DIFF(RCT) ': 80.32190823970325, 'RFR (RCT) ': 79.07668697963676, 'RFR DIFF(RCT) ': 80.32190823970325, 'ridge DIFF OBS': 83.32758382426374, 'RFR DIFF(OBS)': 85.27467856361446, 'RFR (ALL)': 25.6339438467913, 'CF on ALL': 78.84922888570696, 'std Y_adj': 78.87205796530864}\n",
      "{'2 step rfr': 78.73703474136839, '2 step ridge': 77.06217314716977, 'ridge RCT': 79.11909554681125, 'ridge DIFF(RCT) ': 80.5631596182352, 'RFR (RCT) ': 79.92819615153131, 'RFR DIFF(RCT) ': 80.5631596182352, 'ridge DIFF OBS': 81.11287238301043, 'RFR DIFF(OBS)': 82.73990477288608, 'RFR (ALL)': 25.180316043328812, 'CF on ALL': 78.580373306386, 'std Y_adj': 78.67232243104574}\n",
      "{'2 step rfr': 78.89423002110289, '2 step ridge': 76.801030519194, 'ridge RCT': 78.34471971177634, 'ridge DIFF(RCT) ': 79.4710637374114, 'RFR (RCT) ': 79.83266117983243, 'RFR DIFF(RCT) ': 79.4710637374114, 'ridge DIFF OBS': 82.37320436397364, 'RFR DIFF(OBS)': 84.6507353399626, 'RFR (ALL)': 25.200269674675923, 'CF on ALL': 78.28224729746813, 'std Y_adj': 78.33366407181805}\n",
      "{'2 step rfr': 77.64687698180384, '2 step ridge': 75.94785833283133, 'ridge RCT': 78.05415616874053, 'ridge DIFF(RCT) ': 79.30715803105161, 'RFR (RCT) ': 78.77962395137573, 'RFR DIFF(RCT) ': 79.30715803105161, 'ridge DIFF OBS': 82.987504635017, 'RFR DIFF(OBS)': 84.55172508606552, 'RFR (ALL)': 25.850569168539955, 'CF on ALL': 77.84583791034801, 'std Y_adj': 77.94018175734126}\n",
      "{'2 step rfr': 78.46135629014051, '2 step ridge': 76.48548415364635, 'ridge RCT': 78.08713557419884, 'ridge DIFF(RCT) ': 78.18506656228567, 'RFR (RCT) ': 78.65271345906972, 'RFR DIFF(RCT) ': 78.18506656228567, 'ridge DIFF OBS': 81.46186227316275, 'RFR DIFF(OBS)': 83.29432280167737, 'RFR (ALL)': 25.212982166429903, 'CF on ALL': 77.96479905698506, 'std Y_adj': 78.06466140354688}\n",
      "{'2 step rfr': 82.47357695251836, '2 step ridge': 80.7817430752113, 'ridge RCT': 81.21202938408835, 'ridge DIFF(RCT) ': 82.71583327797723, 'RFR (RCT) ': 82.44684338937773, 'RFR DIFF(RCT) ': 82.71583327797723, 'ridge DIFF OBS': 87.52092548146767, 'RFR DIFF(OBS)': 89.25294823237739, 'RFR (ALL)': 25.325917255109673, 'CF on ALL': 80.78765529151997, 'std Y_adj': 80.47834614397986}\n"
     ]
    },
    {
     "name": "stdout",
     "output_type": "stream",
     "text": [
      "{'2 step rfr': 80.4788067604556, '2 step ridge': 77.98925081726097, 'ridge RCT': 79.78416531170228, 'ridge DIFF(RCT) ': 80.43807519222084, 'RFR (RCT) ': 81.53547769170098, 'RFR DIFF(RCT) ': 80.43807519222084, 'ridge DIFF OBS': 82.89837055833776, 'RFR DIFF(OBS)': 85.45854448191534, 'RFR (ALL)': 25.155506872471, 'CF on ALL': 79.3319125527996, 'std Y_adj': 79.42471543420803}\n",
      "{'2 step rfr': 78.81312196730747, '2 step ridge': 76.52078419518139, 'ridge RCT': 77.82777897673259, 'ridge DIFF(RCT) ': 77.57126399843983, 'RFR (RCT) ': 78.52293805445711, 'RFR DIFF(RCT) ': 77.57126399843983, 'ridge DIFF OBS': 83.00561716820076, 'RFR DIFF(OBS)': 85.28802581160119, 'RFR (ALL)': 24.639258189262417, 'CF on ALL': 77.69657507998159, 'std Y_adj': 77.7235381001743}\n",
      "{'2 step rfr': 78.35113579752449, '2 step ridge': 76.37705841787283, 'ridge RCT': 77.60459618114825, 'ridge DIFF(RCT) ': 77.5286726119844, 'RFR (RCT) ': 80.21403190850457, 'RFR DIFF(RCT) ': 77.5286726119844, 'ridge DIFF OBS': 81.4823536861309, 'RFR DIFF(OBS)': 83.55692993416977, 'RFR (ALL)': 24.636251603033315, 'CF on ALL': 77.26999527425274, 'std Y_adj': 77.34019026182409}\n",
      "{'2 step rfr': 77.61038636463562, '2 step ridge': 75.70344765176301, 'ridge RCT': 77.28248328698012, 'ridge DIFF(RCT) ': 77.77090196903092, 'RFR (RCT) ': 79.51178338429779, 'RFR DIFF(RCT) ': 77.77090196903092, 'ridge DIFF OBS': 81.54726981604942, 'RFR DIFF(OBS)': 83.04473785346208, 'RFR (ALL)': 25.04124768969001, 'CF on ALL': 76.59034219445604, 'std Y_adj': 76.63960333613599}\n",
      "{'2 step rfr': 80.106554361545, '2 step ridge': 78.08858550074291, 'ridge RCT': 79.58283926392691, 'ridge DIFF(RCT) ': 81.4905177649094, 'RFR (RCT) ': 82.22012015199617, 'RFR DIFF(RCT) ': 81.4905177649094, 'ridge DIFF OBS': 84.1918089452553, 'RFR DIFF(OBS)': 86.11634984798238, 'RFR (ALL)': 25.357685802460814, 'CF on ALL': 79.55672909490883, 'std Y_adj': 79.62527873185124}\n",
      "{'2 step rfr': 79.16131185674627, '2 step ridge': 77.40282828553106, 'ridge RCT': 78.84906168542082, 'ridge DIFF(RCT) ': 79.64653276329413, 'RFR (RCT) ': 78.20881748161567, 'RFR DIFF(RCT) ': 79.64653276329413, 'ridge DIFF OBS': 83.01832225101201, 'RFR DIFF(OBS)': 84.71684033242754, 'RFR (ALL)': 25.633303431437547, 'CF on ALL': 78.5399223044745, 'std Y_adj': 78.55805719042239}\n",
      "{'2 step rfr': 79.97976409790529, '2 step ridge': 77.95978064416191, 'ridge RCT': 80.24849571434986, 'ridge DIFF(RCT) ': 80.67863713992853, 'RFR (RCT) ': 82.84244023845146, 'RFR DIFF(RCT) ': 80.67863713992853, 'ridge DIFF OBS': 83.74924679619333, 'RFR DIFF(OBS)': 85.8037053469524, 'RFR (ALL)': 25.611844571332636, 'CF on ALL': 79.37150333615033, 'std Y_adj': 79.46985821548525}\n",
      "{'2 step rfr': 80.25062144980598, '2 step ridge': 78.07805135791281, 'ridge RCT': 80.63944410098293, 'ridge DIFF(RCT) ': 81.50203022483151, 'RFR (RCT) ': 80.80656379325806, 'RFR DIFF(RCT) ': 81.50203022483151, 'ridge DIFF OBS': 85.65222837996787, 'RFR DIFF(OBS)': 88.07420177804741, 'RFR (ALL)': 25.379340262729585, 'CF on ALL': 80.51967361855837, 'std Y_adj': 80.56384199931448}\n",
      "{'2 step rfr': 78.1313314231285, '2 step ridge': 78.58396195039505, 'ridge RCT': 79.33609466452937, 'ridge DIFF(RCT) ': 79.66404066909692, 'RFR (RCT) ': 80.08246806857383, 'RFR DIFF(RCT) ': 79.66404066909692, 'ridge DIFF OBS': 84.35647228486374, 'RFR DIFF(OBS)': 85.99074097097795, 'RFR (ALL)': 25.246445961172235, 'CF on ALL': 79.09576332086026, 'std Y_adj': 79.14105401660197}\n",
      "{'2 step rfr': 84.06835659895174, '2 step ridge': 81.78307315636705, 'ridge RCT': 83.8601144019696, 'ridge DIFF(RCT) ': 83.6374523689871, 'RFR (RCT) ': 85.40882943509905, 'RFR DIFF(RCT) ': 83.6374523689871, 'ridge DIFF OBS': 87.79498753644253, 'RFR DIFF(OBS)': 89.99956727791088, 'RFR (ALL)': 25.80639418184142, 'CF on ALL': 82.49502265379495, 'std Y_adj': 82.41898654134046}\n",
      "{'2 step rfr': 77.848817045371, '2 step ridge': 75.99484611027246, 'ridge RCT': 77.78698681902432, 'ridge DIFF(RCT) ': 78.4337519987027, 'RFR (RCT) ': 80.97477975508029, 'RFR DIFF(RCT) ': 78.4337519987027, 'ridge DIFF OBS': 81.69711167742472, 'RFR DIFF(OBS)': 83.68665518083984, 'RFR (ALL)': 24.9514139481323, 'CF on ALL': 77.25050604583951, 'std Y_adj': 77.30472841549074}\n",
      "{'2 step rfr': 81.45714137952083, '2 step ridge': 79.83393776929994, 'ridge RCT': 81.81625745324571, 'ridge DIFF(RCT) ': 81.59117537688002, 'RFR (RCT) ': 83.04082328945223, 'RFR DIFF(RCT) ': 81.59117537688002, 'ridge DIFF OBS': 85.65158660905497, 'RFR DIFF(OBS)': 87.30186708613041, 'RFR (ALL)': 25.299688909950433, 'CF on ALL': 81.11614483064393, 'std Y_adj': 81.1549539582815}\n",
      "{'2 step rfr': 79.95276391498231, '2 step ridge': 78.03960416770805, 'ridge RCT': 79.34804484200637, 'ridge DIFF(RCT) ': 80.10158884500505, 'RFR (RCT) ': 79.56297002187304, 'RFR DIFF(RCT) ': 80.10158884500505, 'ridge DIFF OBS': 84.3602751824092, 'RFR DIFF(OBS)': 86.23100175032225, 'RFR (ALL)': 24.74943559450198, 'CF on ALL': 79.16010608615721, 'std Y_adj': 79.22665933133378}\n",
      "{'2 step rfr': 79.6838430235627, '2 step ridge': 77.49788420810789, 'ridge RCT': 79.24026009623972, 'ridge DIFF(RCT) ': 80.21389316598363, 'RFR (RCT) ': 80.34350146418798, 'RFR DIFF(RCT) ': 80.21389316598363, 'ridge DIFF OBS': 82.91773090650935, 'RFR DIFF(OBS)': 84.9125746095674, 'RFR (ALL)': 25.3024425362692, 'CF on ALL': 79.10597160436492, 'std Y_adj': 79.18012847131966}\n",
      "{'2 step rfr': 79.12511305626357, '2 step ridge': 76.88011597374421, 'ridge RCT': 78.2996498370544, 'ridge DIFF(RCT) ': 78.75626347418267, 'RFR (RCT) ': 79.06990222688687, 'RFR DIFF(RCT) ': 78.75626347418267, 'ridge DIFF OBS': 82.7244804549806, 'RFR DIFF(OBS)': 84.93280691348481, 'RFR (ALL)': 25.530041579995416, 'CF on ALL': 78.19259778311731, 'std Y_adj': 78.23234552049594}\n",
      "{'2 step rfr': 80.53955375166045, '2 step ridge': 78.44671436635905, 'ridge RCT': 79.97134378347407, 'ridge DIFF(RCT) ': 81.16376640256114, 'RFR (RCT) ': 80.62060764252458, 'RFR DIFF(RCT) ': 81.16376640256114, 'ridge DIFF OBS': 84.41968931074021, 'RFR DIFF(OBS)': 86.61917082221744, 'RFR (ALL)': 25.325738776992164, 'CF on ALL': 79.93845064634426, 'std Y_adj': 79.94178110787678}\n",
      "{'2 step rfr': 82.4422254555247, '2 step ridge': 80.41843929753911, 'ridge RCT': 81.5301606109736, 'ridge DIFF(RCT) ': 81.55632840601601, 'RFR (RCT) ': 81.62375368963684, 'RFR DIFF(RCT) ': 81.55632840601601, 'ridge DIFF OBS': 87.02293272260242, 'RFR DIFF(OBS)': 88.7680386203025, 'RFR (ALL)': 25.496569268452, 'CF on ALL': 81.3655938633206, 'std Y_adj': 81.32959720390626}\n",
      "{'2 step rfr': 80.13907059325388, '2 step ridge': 78.32934399562782, 'ridge RCT': 79.81095754794823, 'ridge DIFF(RCT) ': 80.14424494561175, 'RFR (RCT) ': 79.9836490766913, 'RFR DIFF(RCT) ': 80.14424494561175, 'ridge DIFF OBS': 85.93905988676411, 'RFR DIFF(OBS)': 87.51939897244621, 'RFR (ALL)': 25.201788094392512, 'CF on ALL': 79.97983457073057, 'std Y_adj': 79.81086840839154}\n",
      "{'2 step rfr': 81.40371169806224, '2 step ridge': 79.47513777579226, 'ridge RCT': 81.41822696185027, 'ridge DIFF(RCT) ': 81.5958559335474, 'RFR (RCT) ': 82.27153633368445, 'RFR DIFF(RCT) ': 81.5958559335474, 'ridge DIFF OBS': 86.05584214612149, 'RFR DIFF(OBS)': 87.96052547660983, 'RFR (ALL)': 25.486436442348886, 'CF on ALL': 79.52987757852249, 'std Y_adj': 79.42908431565428}\n",
      "{'2 step rfr': 79.97709422412386, '2 step ridge': 78.69128983926312, 'ridge RCT': 79.88067296443664, 'ridge DIFF(RCT) ': 79.87859960482085, 'RFR (RCT) ': 80.52631684866807, 'RFR DIFF(RCT) ': 79.87859960482085, 'ridge DIFF OBS': 84.77715546745736, 'RFR DIFF(OBS)': 86.14445485254163, 'RFR (ALL)': 25.101181109479654, 'CF on ALL': 79.80845603543911, 'std Y_adj': 79.84047306823416}\n",
      "{'2 step rfr': 78.74917456654225, '2 step ridge': 76.61741909570567, 'ridge RCT': 78.26807139784785, 'ridge DIFF(RCT) ': 78.35247159076059, 'RFR (RCT) ': 79.76594270361615, 'RFR DIFF(RCT) ': 78.35247159076059, 'ridge DIFF OBS': 81.925010748081, 'RFR DIFF(OBS)': 84.11659389587928, 'RFR (ALL)': 25.1640175999185, 'CF on ALL': 77.71156454139938, 'std Y_adj': 77.7867974292919}\n",
      "{'2 step rfr': 78.71643621772876, '2 step ridge': 76.65470436446195, 'ridge RCT': 78.3547266315691, 'ridge DIFF(RCT) ': 79.7678861573194, 'RFR (RCT) ': 79.32703987234524, 'RFR DIFF(RCT) ': 79.7678861573194, 'ridge DIFF OBS': 83.42293661876516, 'RFR DIFF(OBS)': 85.41707157977305, 'RFR (ALL)': 25.219203279128635, 'CF on ALL': 78.34071407312359, 'std Y_adj': 78.32925302108629}\n"
     ]
    },
    {
     "name": "stdout",
     "output_type": "stream",
     "text": [
      "{'2 step rfr': 79.76874496468429, '2 step ridge': 77.62589057154622, 'ridge RCT': 79.38097144862282, 'ridge DIFF(RCT) ': 79.0218224269854, 'RFR (RCT) ': 79.53349766892082, 'RFR DIFF(RCT) ': 79.0218224269854, 'ridge DIFF OBS': 84.05797486389314, 'RFR DIFF(OBS)': 84.33915192715631, 'RFR (ALL)': 25.34536357507296, 'CF on ALL': 78.52593595612007, 'std Y_adj': 78.50744330450999}\n",
      "{'2 step rfr': 80.64715536466169, '2 step ridge': 79.09021107466116, 'ridge RCT': 80.17665584932011, 'ridge DIFF(RCT) ': 81.33619612324799, 'RFR (RCT) ': 80.48880431536358, 'RFR DIFF(RCT) ': 81.33619612324799, 'ridge DIFF OBS': 84.48578725236028, 'RFR DIFF(OBS)': 86.2589159658206, 'RFR (ALL)': 25.723951314871485, 'CF on ALL': 80.03511853227982, 'std Y_adj': 80.07278711338991}\n",
      "{'2 step rfr': 79.44676503039288, '2 step ridge': 77.66681329436395, 'ridge RCT': 79.4758643273698, 'ridge DIFF(RCT) ': 80.99582740124083, 'RFR (RCT) ': 81.10688012482696, 'RFR DIFF(RCT) ': 80.99582740124083, 'ridge DIFF OBS': 84.82610578882235, 'RFR DIFF(OBS)': 86.23181246619394, 'RFR (ALL)': 25.35183629805726, 'CF on ALL': 79.36635190753383, 'std Y_adj': 79.28828054278031}\n",
      "{'2 step rfr': 79.185117245429, '2 step ridge': 77.90039178820454, 'ridge RCT': 79.6586199028822, 'ridge DIFF(RCT) ': 79.98962373614008, 'RFR (RCT) ': 80.94392773206242, 'RFR DIFF(RCT) ': 79.98962373614008, 'ridge DIFF OBS': 84.59096586911544, 'RFR DIFF(OBS)': 86.33817359403106, 'RFR (ALL)': 25.26037929454783, 'CF on ALL': 79.68190641311135, 'std Y_adj': 79.68312330321149}\n",
      "{'2 step rfr': 79.95128977426899, '2 step ridge': 78.11879209294807, 'ridge RCT': 78.91196483319158, 'ridge DIFF(RCT) ': 79.3953944601483, 'RFR (RCT) ': 80.30391237159392, 'RFR DIFF(RCT) ': 79.3953944601483, 'ridge DIFF OBS': 85.12056432727482, 'RFR DIFF(OBS)': 86.51827433786623, 'RFR (ALL)': 25.084952065955008, 'CF on ALL': 78.79909306430623, 'std Y_adj': 78.76405816809249}\n",
      "{'2 step rfr': 81.56054573843336, '2 step ridge': 79.56818269909259, 'ridge RCT': 79.96318845520497, 'ridge DIFF(RCT) ': 80.90144424613777, 'RFR (RCT) ': 81.58258274090093, 'RFR DIFF(RCT) ': 80.90144424613777, 'ridge DIFF OBS': 86.4692556042697, 'RFR DIFF(OBS)': 88.25346004573224, 'RFR (ALL)': 25.049759071764615, 'CF on ALL': 80.06135342771691, 'std Y_adj': 79.92323625570525}\n",
      "{'2 step rfr': 80.36817181261871, '2 step ridge': 78.26119230461981, 'ridge RCT': 79.35673782793788, 'ridge DIFF(RCT) ': 80.01396360051034, 'RFR (RCT) ': 78.59204187510342, 'RFR DIFF(RCT) ': 80.01396360051034, 'ridge DIFF OBS': 84.49758666992702, 'RFR DIFF(OBS)': 86.65200474235299, 'RFR (ALL)': 25.093867780794007, 'CF on ALL': 79.15932327325818, 'std Y_adj': 79.08396219357164}\n",
      "{'2 step rfr': 79.73090102463074, '2 step ridge': 77.79053418590209, 'ridge RCT': 79.03354213800509, 'ridge DIFF(RCT) ': 78.93831704722972, 'RFR (RCT) ': 79.96437369309118, 'RFR DIFF(RCT) ': 78.93831704722972, 'ridge DIFF OBS': 85.07775674748979, 'RFR DIFF(OBS)': 86.89917118643696, 'RFR (ALL)': 25.17966111170218, 'CF on ALL': 78.99965791516371, 'std Y_adj': 78.9707702791419}\n",
      "{'2 step rfr': 80.63804478305381, '2 step ridge': 78.46382441405206, 'ridge RCT': 79.85684030006125, 'ridge DIFF(RCT) ': 80.98143362682423, 'RFR (RCT) ': 81.96919721216925, 'RFR DIFF(RCT) ': 80.98143362682423, 'ridge DIFF OBS': 85.78332405340379, 'RFR DIFF(OBS)': 87.77931070377342, 'RFR (ALL)': 25.89344561428103, 'CF on ALL': 79.50067340307464, 'std Y_adj': 79.24440036439044}\n",
      "{'2 step rfr': 81.55209044297598, '2 step ridge': 79.54244782403467, 'ridge RCT': 81.27158691513691, 'ridge DIFF(RCT) ': 82.40904005429155, 'RFR (RCT) ': 81.74431559874505, 'RFR DIFF(RCT) ': 82.40904005429155, 'ridge DIFF OBS': 86.32848196214334, 'RFR DIFF(OBS)': 88.13983202678573, 'RFR (ALL)': 25.544526856934127, 'CF on ALL': 81.15531731672185, 'std Y_adj': 81.13778345785326}\n",
      "{'2 step rfr': 78.69811081799232, '2 step ridge': 76.79018139062359, 'ridge RCT': 79.16273520704716, 'ridge DIFF(RCT) ': 79.43351443537027, 'RFR (RCT) ': 80.14758666225873, 'RFR DIFF(RCT) ': 79.43351443537027, 'ridge DIFF OBS': 82.24832797625517, 'RFR DIFF(OBS)': 84.13580169736014, 'RFR (ALL)': 25.48131292883934, 'CF on ALL': 78.2275385269369, 'std Y_adj': 78.28706740148633}\n",
      "{'2 step rfr': 77.47711758605072, '2 step ridge': 75.6397003394658, 'ridge RCT': 77.70029860436614, 'ridge DIFF(RCT) ': 77.74513076089065, 'RFR (RCT) ': 78.63444017838852, 'RFR DIFF(RCT) ': 77.74513076089065, 'ridge DIFF OBS': 81.27097641845161, 'RFR DIFF(OBS)': 82.90435246340051, 'RFR (ALL)': 24.672212091885452, 'CF on ALL': 77.43586874309499, 'std Y_adj': 77.49388483377506}\n",
      "{'2 step rfr': 80.1116720150873, '2 step ridge': 77.98477127506519, 'ridge RCT': 79.3736571901581, 'ridge DIFF(RCT) ': 80.58509578198647, 'RFR (RCT) ': 79.47912787760497, 'RFR DIFF(RCT) ': 80.58509578198647, 'ridge DIFF OBS': 84.27950063826545, 'RFR DIFF(OBS)': 86.1965269671393, 'RFR (ALL)': 24.96183347293829, 'CF on ALL': 78.86320305017439, 'std Y_adj': 78.83817845690426}\n",
      "{'2 step rfr': 79.32894673312484, '2 step ridge': 77.1366308943468, 'ridge RCT': 78.77480260712532, 'ridge DIFF(RCT) ': 79.77053510298121, 'RFR (RCT) ': 80.4415899923951, 'RFR DIFF(RCT) ': 79.77053510298121, 'ridge DIFF OBS': 82.7860115777718, 'RFR DIFF(OBS)': 85.02722130830928, 'RFR (ALL)': 24.89171833958768, 'CF on ALL': 78.59271059892775, 'std Y_adj': 78.64997611472215}\n",
      "{'2 step rfr': 80.22543262511402, '2 step ridge': 78.47021440984746, 'ridge RCT': 80.15173068649219, 'ridge DIFF(RCT) ': 80.7339585884246, 'RFR (RCT) ': 80.26643427661777, 'RFR DIFF(RCT) ': 80.7339585884246, 'ridge DIFF OBS': 84.08903774780913, 'RFR DIFF(OBS)': 85.79394828376326, 'RFR (ALL)': 25.208579372671043, 'CF on ALL': 80.15229965886286, 'std Y_adj': 80.21364181730608}\n",
      "{'2 step rfr': 79.22574143907809, '2 step ridge': 76.60577873326717, 'ridge RCT': 78.35942323958871, 'ridge DIFF(RCT) ': 78.85155178451662, 'RFR (RCT) ': 79.04575023992867, 'RFR DIFF(RCT) ': 78.85155178451662, 'ridge DIFF OBS': 82.30059155589637, 'RFR DIFF(OBS)': 84.24072382359444, 'RFR (ALL)': 24.710097892017096, 'CF on ALL': 78.06718060461385, 'std Y_adj': 78.10844346889135}\n",
      "{'2 step rfr': 80.09304927038103, '2 step ridge': 77.78833358757838, 'ridge RCT': 79.5680911329004, 'ridge DIFF(RCT) ': 80.59183222202324, 'RFR (RCT) ': 82.10978765711185, 'RFR DIFF(RCT) ': 80.59183222202324, 'ridge DIFF OBS': 84.13670293567476, 'RFR DIFF(OBS)': 86.00546258714994, 'RFR (ALL)': 24.87265861568591, 'CF on ALL': 79.5518857507615, 'std Y_adj': 79.53389425781478}\n",
      "{'2 step rfr': 78.95609270282432, '2 step ridge': 76.94866652164498, 'ridge RCT': 78.62101425164678, 'ridge DIFF(RCT) ': 79.07135022491897, 'RFR (RCT) ': 78.49160060944759, 'RFR DIFF(RCT) ': 79.07135022491897, 'ridge DIFF OBS': 83.04450016820095, 'RFR DIFF(OBS)': 84.88106171749732, 'RFR (ALL)': 25.184502244077738, 'CF on ALL': 78.56657898012196, 'std Y_adj': 78.59382626894156}\n",
      "{'2 step rfr': 81.85056028315618, '2 step ridge': 79.99900311832259, 'ridge RCT': 81.09675179691868, 'ridge DIFF(RCT) ': 83.69374666694127, 'RFR (RCT) ': 81.6357978988511, 'RFR DIFF(RCT) ': 83.69374666694127, 'ridge DIFF OBS': 86.43263782162589, 'RFR DIFF(OBS)': 88.12398295067594, 'RFR (ALL)': 26.051058499982943, 'CF on ALL': 81.07794994180946, 'std Y_adj': 80.98412833601623}\n",
      "{'2 step rfr': 81.22377851012337, '2 step ridge': 79.0779666916801, 'ridge RCT': 80.85266617063559, 'ridge DIFF(RCT) ': 82.12621049485746, 'RFR (RCT) ': 82.11045444596519, 'RFR DIFF(RCT) ': 82.12621049485746, 'ridge DIFF OBS': 86.23862794281816, 'RFR DIFF(OBS)': 88.35542056559662, 'RFR (ALL)': 25.321049984638005, 'CF on ALL': 80.64039762123909, 'std Y_adj': 80.45637427974148}\n",
      "{'2 step rfr': 78.29717675722804, '2 step ridge': 76.17807538766554, 'ridge RCT': 78.01094641872099, 'ridge DIFF(RCT) ': 79.30855484032152, 'RFR (RCT) ': 79.9454026840078, 'RFR DIFF(RCT) ': 79.30855484032152, 'ridge DIFF OBS': 82.1327636139603, 'RFR DIFF(OBS)': 84.3307363981027, 'RFR (ALL)': 24.82842360730468, 'CF on ALL': 77.96240827218469, 'std Y_adj': 78.001073483813}\n",
      "{'2 step rfr': 78.78467395444234, '2 step ridge': 76.69519804858427, 'ridge RCT': 79.08810762959097, 'ridge DIFF(RCT) ': 79.6157788506551, 'RFR (RCT) ': 78.92423746377641, 'RFR DIFF(RCT) ': 79.6157788506551, 'ridge DIFF OBS': 82.57253934235436, 'RFR DIFF(OBS)': 84.64762934910217, 'RFR (ALL)': 24.973258123387055, 'CF on ALL': 78.23667151539446, 'std Y_adj': 78.22908821189765}\n"
     ]
    },
    {
     "name": "stdout",
     "output_type": "stream",
     "text": [
      "{'2 step rfr': 79.79939840158039, '2 step ridge': 77.71549704890614, 'ridge RCT': 80.00271667667032, 'ridge DIFF(RCT) ': 81.37004015297845, 'RFR (RCT) ': 81.2029181058054, 'RFR DIFF(RCT) ': 81.37004015297845, 'ridge DIFF OBS': 83.60465375389559, 'RFR DIFF(OBS)': 85.51728252312343, 'RFR (ALL)': 25.21894047733456, 'CF on ALL': 79.67286581962075, 'std Y_adj': 79.76614488171192}\n",
      "{'2 step rfr': 82.09239163734605, '2 step ridge': 80.07170509949238, 'ridge RCT': 81.65689290255813, 'ridge DIFF(RCT) ': 81.79890390665071, 'RFR (RCT) ': 81.08287509809311, 'RFR DIFF(RCT) ': 81.79890390665071, 'ridge DIFF OBS': 86.72838799840335, 'RFR DIFF(OBS)': 88.71077688663492, 'RFR (ALL)': 25.375528647988496, 'CF on ALL': 80.67787730810593, 'std Y_adj': 80.51238454129908}\n",
      "{'2 step rfr': 77.2081432549908, '2 step ridge': 75.17566511907009, 'ridge RCT': 77.58562896887666, 'ridge DIFF(RCT) ': 78.55379699259049, 'RFR (RCT) ': 78.46286300019442, 'RFR DIFF(RCT) ': 78.55379699259049, 'ridge DIFF OBS': 83.63029423746785, 'RFR DIFF(OBS)': 85.60417576710016, 'RFR (ALL)': 24.8115393919315, 'CF on ALL': 77.68435207572121, 'std Y_adj': 77.48248327137634}\n",
      "{'2 step rfr': 80.40347837661615, '2 step ridge': 78.20202106479155, 'ridge RCT': 79.77346733671774, 'ridge DIFF(RCT) ': 79.91094041087383, 'RFR (RCT) ': 81.03535797575164, 'RFR DIFF(RCT) ': 79.91094041087383, 'ridge DIFF OBS': 83.55872355824015, 'RFR DIFF(OBS)': 85.58431315940642, 'RFR (ALL)': 25.419391054815545, 'CF on ALL': 79.14328109731633, 'std Y_adj': 79.19373139224206}\n",
      "{'2 step rfr': 80.66992358869236, '2 step ridge': 78.30524225760306, 'ridge RCT': 80.27032015916707, 'ridge DIFF(RCT) ': 81.35734132655303, 'RFR (RCT) ': 81.87905831863905, 'RFR DIFF(RCT) ': 81.35734132655303, 'ridge DIFF OBS': 84.27097716996744, 'RFR DIFF(OBS)': 86.71702820326709, 'RFR (ALL)': 25.20737993118448, 'CF on ALL': 79.72915270156186, 'std Y_adj': 79.72712673377676}\n",
      "{'2 step rfr': 79.27451526795316, '2 step ridge': 77.26144182865399, 'ridge RCT': 78.8057376658556, 'ridge DIFF(RCT) ': 81.32882012943291, 'RFR (RCT) ': 80.78029276819709, 'RFR DIFF(RCT) ': 81.32882012943291, 'ridge DIFF OBS': 83.48140196090107, 'RFR DIFF(OBS)': 85.50428193865378, 'RFR (ALL)': 25.4413776396485, 'CF on ALL': 78.71177335916741, 'std Y_adj': 78.79533849056006}\n",
      "{'2 step rfr': 80.35412744780473, '2 step ridge': 78.9432366040307, 'ridge RCT': 80.71194622058223, 'ridge DIFF(RCT) ': 80.65378911361007, 'RFR (RCT) ': 80.71400214525842, 'RFR DIFF(RCT) ': 80.65378911361007, 'ridge DIFF OBS': 82.82531209472471, 'RFR DIFF(OBS)': 84.65351841951102, 'RFR (ALL)': 24.852029053237228, 'CF on ALL': 78.99647068128348, 'std Y_adj': 79.10841789783889}\n",
      "{'2 step rfr': 77.44307911869481, '2 step ridge': 75.74866508792338, 'ridge RCT': 77.35023713020239, 'ridge DIFF(RCT) ': 78.96634489716102, 'RFR (RCT) ': 78.63781485245197, 'RFR DIFF(RCT) ': 78.96634489716102, 'ridge DIFF OBS': 82.15373451306989, 'RFR DIFF(OBS)': 83.46041690171884, 'RFR (ALL)': 23.959799897898836, 'CF on ALL': 77.29812052052735, 'std Y_adj': 77.34764890903263}\n",
      "{'2 step rfr': 79.79102111516009, '2 step ridge': 77.71998940738861, 'ridge RCT': 78.78206811605297, 'ridge DIFF(RCT) ': 82.50975114109403, 'RFR (RCT) ': 80.10880726780836, 'RFR DIFF(RCT) ': 82.50975114109403, 'ridge DIFF OBS': 83.72048368487168, 'RFR DIFF(OBS)': 85.55734130821614, 'RFR (ALL)': 24.83036294495932, 'CF on ALL': 78.71731334015482, 'std Y_adj': 78.76908384640666}\n",
      "{'2 step rfr': 80.3680404551831, '2 step ridge': 78.40287370912539, 'ridge RCT': 79.53158367746862, 'ridge DIFF(RCT) ': 80.13266148816516, 'RFR (RCT) ': 82.54534956746289, 'RFR DIFF(RCT) ': 80.13266148816516, 'ridge DIFF OBS': 85.76130554867451, 'RFR DIFF(OBS)': 87.78469571893521, 'RFR (ALL)': 25.78685671184637, 'CF on ALL': 79.59679644533246, 'std Y_adj': 79.52189728352226}\n",
      "{'2 step rfr': 79.14386330055945, '2 step ridge': 77.53670359994088, 'ridge RCT': 79.40963475893855, 'ridge DIFF(RCT) ': 79.24820455543707, 'RFR (RCT) ': 80.34059633684035, 'RFR DIFF(RCT) ': 79.24820455543707, 'ridge DIFF OBS': 82.62526625246922, 'RFR DIFF(OBS)': 84.51243997721917, 'RFR (ALL)': 25.262846437096478, 'CF on ALL': 78.81189846652362, 'std Y_adj': 78.90683237859832}\n",
      "{'2 step rfr': 80.35542398940883, '2 step ridge': 78.41797138789575, 'ridge RCT': 79.49053964863485, 'ridge DIFF(RCT) ': 80.79871607687836, 'RFR (RCT) ': 80.78493056731729, 'RFR DIFF(RCT) ': 80.79871607687836, 'ridge DIFF OBS': 83.46428619160665, 'RFR DIFF(OBS)': 85.26154054113582, 'RFR (ALL)': 25.014294872446097, 'CF on ALL': 79.46021816593985, 'std Y_adj': 79.52923065655253}\n",
      "2 step rfr        : 79.74 +/- 0.13\n",
      "2 step ridge      : 77.85 +/- 0.13\n",
      "ridge RCT         : 79.48 +/- 0.12\n",
      "ridge DIFF(RCT)   : 80.19 +/- 0.14\n",
      "RFR (RCT)         : 80.57 +/- 0.15\n",
      "RFR DIFF(RCT)     : 80.19 +/- 0.14\n",
      "ridge DIFF OBS    : 83.89 +/- 0.15\n",
      "RFR DIFF(OBS)     : 85.66 +/- 0.15\n",
      "RFR (ALL)         : 25.19 +/- 0.04\n",
      "CF on ALL         : 79.12 +/- 0.11\n",
      "std Y_adj         : 79.14 +/- 0.11\n"
     ]
    }
   ],
   "source": [
    "_result_list_01 = []\n",
    "\n",
    "for i in range(100):\n",
    "    _result_list_01.append(_full_experiment(rct_fraction_of_rural=0.9))\n",
    "    np.savez('result_with_EVALSET_all_baselines_01RCT', _result_list_01)\n",
    "    print(_result_list_01[-1])\n",
    "clean_results('result_with_EVALSET_all_baselines_01RCT.npz')"
   ]
  },
  {
   "cell_type": "code",
   "execution_count": null,
   "metadata": {},
   "outputs": [],
   "source": []
  },
  {
   "cell_type": "code",
   "execution_count": null,
   "metadata": {},
   "outputs": [],
   "source": []
  },
  {
   "cell_type": "code",
   "execution_count": 53,
   "metadata": {},
   "outputs": [
    {
     "data": {
      "text/plain": [
       "[74.6136452765414,\n",
       " 74.52113509568767,\n",
       " 74.3522571513946,\n",
       " 75.14134184879391,\n",
       " 73.86120784383706,\n",
       " 72.40815125482808,\n",
       " 75.3958321053442,\n",
       " 75.36279881605658,\n",
       " 74.13927843718741,\n",
       " 72.49241595246558]"
      ]
     },
     "execution_count": 53,
     "metadata": {},
     "output_type": "execute_result"
    }
   ],
   "source": [
    "[item['2 step'] for item in _result_list]"
   ]
  },
  {
   "cell_type": "code",
   "execution_count": 50,
   "metadata": {},
   "outputs": [
    {
     "data": {
      "text/plain": [
       "(74.22880637821365, 0.31941175237773695)"
      ]
     },
     "execution_count": 50,
     "metadata": {},
     "output_type": "execute_result"
    }
   ],
   "source": [
    "np.mean([item['2 step'] for item in _result_list]), np.std([item['2 step'] for item in _result_list])/10**0.5"
   ]
  },
  {
   "cell_type": "code",
   "execution_count": 57,
   "metadata": {},
   "outputs": [
    {
     "data": {
      "text/plain": [
       "(83.67878681431229, 0.3309045806659721)"
      ]
     },
     "execution_count": 57,
     "metadata": {},
     "output_type": "execute_result"
    }
   ],
   "source": [
    "np.mean([item['RFR on OBS'] for item in _result_list]), np.std([item['RFR on OBS'] for item in _result_list])/10**0.5"
   ]
  },
  {
   "cell_type": "code",
   "execution_count": 92,
   "metadata": {
    "scrolled": true
   },
   "outputs": [
    {
     "name": "stdout",
     "output_type": "stream",
     "text": [
      "2 step rfr        : 74.11 +/- 0.28\n",
      "2 step ridge      : 73.90 +/- 0.21\n",
      "ridge RCT         : 75.67 +/- 0.21\n",
      "ridge DIFF(RCT)   : 78.92 +/- 0.21\n",
      "RFR (RCT)         : 76.18 +/- 0.23\n",
      "RFR DIFF(RCT)     : 78.92 +/- 0.21\n",
      "ridge DIFF OBS    : 83.67 +/- 0.24\n",
      "RFR DIFF(OBS)     : 83.87 +/- 0.33\n",
      "RFR (ALL)         : 25.28 +/- 0.08\n",
      "CF on ALL         : 78.89 +/- 0.20\n",
      "std Y_adj         : 78.88 +/- 0.20\n"
     ]
    }
   ],
   "source": []
  },
  {
   "cell_type": "code",
   "execution_count": 2,
   "metadata": {},
   "outputs": [],
   "source": [
    "def mean_sem(err_dict, method_name):\n",
    "    err_list = [item[method_name] for item in err_dict]\n",
    "    return (np.mean(err_list), np.std(err_list)/len(err_list)**0.5)\n",
    "\n",
    "def clean_results(filename):\n",
    "    errs_dict = np.load(filename)['arr_0']\n",
    "    for method_name in errs_dict[0].keys():\n",
    "        print('{:18}: {:2.2f} +/- {:2.2f}'.format(method_name, *mean_sem(errs_dict, method_name)))\n",
    "        \n",
    "def ret_row(filenames):\n",
    "    err_list_dict = {}\n",
    "    sem_list_dict = {}\n",
    "    for filename in filenames:\n",
    "        errs_dict = np.load(filename)['arr_0']\n",
    "        for method_name in errs_dict[0].keys():\n",
    "            # print('{:18}: {:2.2f} +/- {:2.2f}'.format(method_name, *mean_sem(errs_dict, method_name)))\n",
    "            if err_list_dict.get(method_name, None) is None:\n",
    "                err_list_dict[method_name] = []\n",
    "                sem_list_dict[method_name] = []\n",
    "            mean, sem = mean_sem(errs_dict, method_name)\n",
    "            err_list_dict[method_name].append(mean)\n",
    "            sem_list_dict[method_name].append(sem)\n",
    "    return err_list_dict, sem_list_dict"
   ]
  },
  {
   "cell_type": "code",
   "execution_count": 160,
   "metadata": {},
   "outputs": [],
   "source": [
    "_err_list_dict, _sem_list_dict = ret_row([\n",
    "    'result_with_EVALSET_all_baselines_01RCT.npz',\n",
    "    'result_with_EVALSET_all_baselines_02RCT.npz',\n",
    "    'result_with_EVALSET_all_baselines_03RCT.npz',\n",
    "    'result_with_EVALSET_all_baselines_04RCT.npz',\n",
    "    'result_with_EVALSET_all_baselines.npz',\n",
    "])"
   ]
  },
  {
   "cell_type": "code",
   "execution_count": 161,
   "metadata": {},
   "outputs": [
    {
     "name": "stdout",
     "output_type": "stream",
     "text": [
      "2 step rfr        : 79.74 +/- 0.13\n",
      "2 step ridge      : 77.85 +/- 0.13\n",
      "ridge RCT         : 79.48 +/- 0.12\n",
      "ridge DIFF(RCT)   : 80.19 +/- 0.14\n",
      "RFR (RCT)         : 80.57 +/- 0.15\n",
      "RFR DIFF(RCT)     : 80.19 +/- 0.14\n",
      "ridge DIFF OBS    : 83.89 +/- 0.15\n",
      "RFR DIFF(OBS)     : 85.66 +/- 0.15\n",
      "RFR (ALL)         : 25.19 +/- 0.04\n",
      "CF on ALL         : 79.12 +/- 0.11\n",
      "std Y_adj         : 79.14 +/- 0.11\n"
     ]
    }
   ],
   "source": [
    "clean_results('result_with_EVALSET_all_baselines_01RCT.npz')"
   ]
  },
  {
   "cell_type": "code",
   "execution_count": 162,
   "metadata": {},
   "outputs": [
    {
     "data": {
      "text/plain": [
       "dict_keys(['2 step rfr', '2 step ridge', 'ridge RCT', 'ridge DIFF(RCT) ', 'RFR (RCT) ', 'RFR DIFF(RCT) ', 'ridge DIFF OBS', 'RFR DIFF(OBS)', 'RFR (ALL)', 'CF on ALL', 'std Y_adj'])"
      ]
     },
     "execution_count": 162,
     "metadata": {},
     "output_type": "execute_result"
    }
   ],
   "source": [
    "_err_list_dict.keys()"
   ]
  },
  {
   "cell_type": "code",
   "execution_count": 163,
   "metadata": {},
   "outputs": [],
   "source": [
    "import matplotlib"
   ]
  },
  {
   "cell_type": "code",
   "execution_count": 164,
   "metadata": {},
   "outputs": [],
   "source": [
    "from IPython.display import set_matplotlib_formats\n",
    "set_matplotlib_formats('pdf')"
   ]
  },
  {
   "cell_type": "code",
   "execution_count": 166,
   "metadata": {},
   "outputs": [
    {
     "data": {
      "application/pdf": "[encoded data removed]",
      "text/plain": [
       "<Figure size 2700x1800 with 1 Axes>"
      ]
     },
     "metadata": {
      "needs_background": "light"
     },
     "output_type": "display_data"
    }
   ],
   "source": [
    "rct_frac_range = [0.1, 0.2, 0.3 , 0.4, 0.5]\n",
    "\n",
    "font = {'family' : 'normal',\n",
    "        'weight' : 'normal',\n",
    "        'size'   : 17}\n",
    "\n",
    "matplotlib.rc('font', **font)\n",
    "\n",
    "to_plot_list = ['2 step rfr', '2 step ridge', 'ridge RCT', 'ridge DIFF(RCT) ', 'RFR (RCT) ', 'RFR DIFF(RCT) ', 'ridge DIFF OBS', 'RFR DIFF(OBS)']\n",
    "name_list = ['2 step RF', '2 step ridge', 'ridge $Y^{GT}$ (UNC)', 'ridge DIFF(UNC) ', 'RF $Y^{GT}$(UNC) ', 'RF DIFF(UNC) ', 'ridge DIFF(CONF)', 'RF DIFF(CONF)']\n",
    "marker_list = ['o', 'd', '^', '>', '<', 'v', 'P','s']\n",
    "linestyle_list = ['-', '-', '--', '--', '--', '--', '--','--']\n",
    "\n",
    "plt.figure(figsize=(9,6), dpi=300)\n",
    "for ind, plot_name in enumerate(to_plot_list):\n",
    "    plt.errorbar(rct_frac_range,\n",
    "                 _err_list_dict[plot_name],\n",
    "                 yerr = 1.96*np.array(_sem_list_dict[plot_name]),\n",
    "                 marker = marker_list[ind],\n",
    "                 label = name_list[ind],\n",
    "                 linewidth = 3,\n",
    "                 linestyle = linestyle_list[ind],)\n",
    "# plt.errorbar(rct_frac_range, _err_list_dict['2 step ridge'], yerr = 1.96*_sem_list_dict['2 step rfr'], marker = 'o',label='COLORR 0/1 Loss')\n",
    "# plt.errorbar(rct_frac_range, _err_list_dict['2 step rfr'], yerr = 1.96*_sem_list_dict['2 step rfr'], marker = 'o',label='COLORR 0/1 Loss')\n",
    "# plt.errorbar(rct_frac_range, _err_list_dict['2 step rfr'], yerr = 1.96*_sem_list_dict['2 step rfr'], marker = 'o',label='COLORR 0/1 Loss')\n",
    "# plt.errorbar(rct_frac_range, _err_list_dict['2 step rfr'], yerr = 1.96*_sem_list_dict['2 step rfr'], marker = 'o',label='COLORR 0/1 Loss')\n",
    "# plt.errorbar(rct_frac_range, _err_list_dict['2 step rfr'], yerr = 1.96*_sem_list_dict['2 step rfr'], marker = 'o',label='COLORR 0/1 Loss')\n",
    "# plt.errorbar(rct_frac_range, _err_list_dict['2 step rfr'], yerr = 1.96*_sem_list_dict['2 step rfr'], marker = 'o',label='COLORR 0/1 Loss')\n",
    "# plt.errorbar(rct_frac_range, _err_list_dict['2 step rfr'], yerr = 1.96*_sem_list_dict['2 step rfr'], marker = 'o',label='COLORR 0/1 Loss')\n",
    "# plt.errorbar(noise_range, 1- temp_bart_acc_val_arr,yerr = 1.96*temp_bart_acc_val_sem_arr, marker = 'P',label='BART 0/1 Loss')\n",
    "# plt.errorbar(noise_range, 1- np.array(xl_acc_val_arr),yerr = 1.96*xl_acc_val_sem_arr, marker = 'd',label='XL 0/1 Loss')\n",
    "# plt.errorbar(noise_range, 1- np.array(GD_val_acc_noise_arr),yerr = 1.96*np.array(GD_val_acc_sem_noise_arr), marker = 's',label='GD 0/1 Loss')\n",
    "# plt.errorbar(noise_range, cf_loss_arr,yerr = 1.96*cf_sem_arr, marker = '>',label='CF 0/1 Loss')\n",
    "plt.xlabel('size of UNCONF as fraction of rural', fontsize=17)\n",
    "plt.ylabel('RMSE on EVAL set', fontsize=17)\n",
    "plt.xticks(rct_frac_range)\n",
    "plt.yticks(list(range(73, 89, 3)))\n",
    "plt.legend(loc='center left', bbox_to_anchor=(1, 0.5))\n",
    "plt.show()"
   ]
  },
  {
   "cell_type": "code",
   "execution_count": 167,
   "metadata": {},
   "outputs": [
    {
     "name": "stdout",
     "output_type": "stream",
     "text": [
      "2 step            : 68.55 +/- 0.18\n",
      "RF on RCT         : 76.17 +/- 0.07\n",
      "RFR on OBS        : 73.63 +/- 0.74\n",
      "RFR on ALL        : 25.13 +/- 0.02\n",
      "ridge RCT         : 75.73 +/- 0.05\n",
      "ridge OBS         : 82.15 +/- 0.06\n",
      "CF on ALL         : 78.73 +/- 0.04\n",
      "std Y_adj         : 79.02 +/- 0.04\n"
     ]
    }
   ],
   "source": [
    "clean_results('./result_with_cfall_RFR.npz')"
   ]
  },
  {
   "cell_type": "code",
   "execution_count": null,
   "metadata": {},
   "outputs": [],
   "source": [
    "clean_results('./result_with_cfall_RFR.npz')"
   ]
  },
  {
   "cell_type": "code",
   "execution_count": null,
   "metadata": {},
   "outputs": [],
   "source": [
    "clean_results('./result_with_cfall_RFR_02_RCT.npz')"
   ]
  },
  {
   "cell_type": "code",
   "execution_count": null,
   "metadata": {},
   "outputs": [],
   "source": [
    "clean_results('./result_with_cfall_RFR_03_RCT.npz')"
   ]
  },
  {
   "cell_type": "code",
   "execution_count": null,
   "metadata": {},
   "outputs": [],
   "source": [
    "np.mean([item['std Y_adj'] for item in _result_list]), np.std([item['std Y_adj'] for item in _result_list])/10**0.5"
   ]
  },
  {
   "cell_type": "code",
   "execution_count": null,
   "metadata": {},
   "outputs": [],
   "source": [
    "np.mean([item['CF on ALL rmse'] for item in _result_list]), np.std([item['CF on ALL rmse'] for item in _result_list])/10**0.5"
   ]
  },
  {
   "cell_type": "code",
   "execution_count": null,
   "metadata": {},
   "outputs": [],
   "source": [
    "def run_linear_baseline(rct_fraction_of_rural = 0.5):\n",
    "    X_rct, Y_rct, T_rct, X_obs, Y_obs, T_obs, X_not_rct, Y_not_rct, T_not_rct = _generate_rct_obs(X_rural,\n",
    "                                                                                                      Y_rural,\n",
    "                                                                                                      T_rural,\n",
    "                                                                                                      X_urban,\n",
    "                                                                                                      Y_urban,\n",
    "                                                                                                      T_urban,\n",
    "                                                                                                      rct_fraction_of_rural = rct_fraction_of_rural)\n",
    "    print(X_rct.shape, X_not_rct.shape)\n",
    "#     _best_rct_linear_model = get_best_model_from_gridcv(X_rct, ite_adjusted_outcome(Y_rct,\n",
    "#                                                                          T_rct,\n",
    "#                                                                          _propensity = _propensity_all,\n",
    "#                                                                          c=_mean_outcome), linear_reg_parameter_pairs)\n",
    "\n",
    "#     _error_rct_pred_not_rct = rmse(_best_rct_linear_model.predict(X_not_rct), ite_adjusted_outcome(Y_not_rct,\n",
    "#                                                                    T_not_rct, \n",
    "#                                                                    _propensity = _propensity_all,\n",
    "#                                                                    c = _mean_outcome))\n",
    "\n",
    "#     _best_obs_linear_model = get_best_model_from_gridcv(X_obs, ite_adjusted_outcome(Y_obs,\n",
    "#                                                                          T_obs,\n",
    "#                                                                          _propensity = _propensity_all,\n",
    "#                                                                          c=_mean_outcome), linear_reg_parameter_pairs)\n",
    "\n",
    "#     _error_obs_pred_not_rct = rmse(_best_obs_linear_model .predict(X_not_rct), ite_adjusted_outcome(Y_not_rct,\n",
    "#                                                                    T_not_rct, \n",
    "#                                                                    _propensity = _propensity_all,\n",
    "#                                                                    c = _mean_outcome))\n",
    "    \n",
    "#     return {'err_rct':_error_rct_pred_not_rct, 'err_obs': _error_obs_pred_not_rct}"
   ]
  },
  {
   "cell_type": "code",
   "execution_count": null,
   "metadata": {},
   "outputs": [],
   "source": [
    "run_linear_baseline(0.8)"
   ]
  },
  {
   "cell_type": "code",
   "execution_count": null,
   "metadata": {},
   "outputs": [],
   "source": [
    "X_rct, Y_rct, T_rct, X_obs, Y_obs, T_obs, X_not_rct, Y_not_rct, T_not_rct = _generate_rct_obs(X_rural,\n",
    "                                                                                                      Y_rural,\n",
    "                                                                                                      T_rural,\n",
    "                                                                                                      X_urban,\n",
    "                                                                                                      Y_urban,\n",
    "                                                                                                      T_urban,\n",
    "                                                                                                      rct_fraction_of_rural = 0.5)"
   ]
  },
  {
   "cell_type": "code",
   "execution_count": null,
   "metadata": {},
   "outputs": [],
   "source": [
    "_best_rct_linear_model = get_best_model_from_gridcv(X_rct, ite_adjusted_outcome(Y_rct,\n",
    "                                                                         T_rct,\n",
    "                                                                         _propensity = _propensity_all,\n",
    "                                                                         c=_mean_outcome), linear_reg_parameter_pairs)\n",
    "    \n",
    "rmse(_best_rct_linear_model.predict(X_not_rct), ite_adjusted_outcome(Y_not_rct,\n",
    "                                                                   T_not_rct, \n",
    "                                                                   _propensity = _propensity_all,\n",
    "                                                                   c = _mean_outcome))"
   ]
  },
  {
   "cell_type": "code",
   "execution_count": null,
   "metadata": {
    "scrolled": true
   },
   "outputs": [],
   "source": [
    "\n",
    "_rfr_result_list = []\n",
    "for i in range(10):\n",
    "    _best_rct_rfr_model = get_best_model_from_gridcv(X_rct, ite_adjusted_outcome(Y_rct,\n",
    "                                                                             T_rct,\n",
    "                                                                             _propensity = _propensity_all,\n",
    "                                                                             c=_mean_outcome), rfr_reg_parameter_pairs, verbose=1)\n",
    "\n",
    "    _rfr_result_list.append(rmse(_best_rct_rfr_model.predict(X_not_rct), ite_adjusted_outcome(Y_not_rct,\n",
    "                                                                       T_not_rct, \n",
    "                                                                       _propensity = _propensity_all,\n",
    "                                                                       c = _mean_outcome)))"
   ]
  },
  {
   "cell_type": "code",
   "execution_count": null,
   "metadata": {},
   "outputs": [],
   "source": [
    "\n",
    "_rfr_on_NOTRCT_result_list = []\n",
    "for i in range(10):\n",
    "    _best_notrct_rfr_model = get_best_model_from_gridcv(X_not_rct, ite_adjusted_outcome(Y_not_rct,\n",
    "                                                                                        T_not_rct,\n",
    "                                                                                        _propensity = _propensity_all,\n",
    "                                                                                        c = np.mean(Y_not_rct)), \n",
    "                                                        rfr_reg_parameter_pairs, verbose=1)\n",
    "\n",
    "    _rfr_on_NOTRCT_result_list.append(rmse(_best_notrct_rfr_model.predict(X_not_rct), \n",
    "                                           ite_adjusted_outcome(Y_not_rct,\n",
    "                                                                T_not_rct, \n",
    "                                                                _propensity = _propensity_all,\n",
    "                                                                c = _mean_outcome)))"
   ]
  },
  {
   "cell_type": "code",
   "execution_count": null,
   "metadata": {},
   "outputs": [],
   "source": [
    "np.mean(_rfr_on_NOTRCT_result_list), np.std(_rfr_on_NOTRCT_result_list)/10**0.5"
   ]
  },
  {
   "cell_type": "code",
   "execution_count": null,
   "metadata": {},
   "outputs": [],
   "source": [
    "_rfr_on_OBS_result_list = []\n",
    "for i in range(10):\n",
    "    _best_OBS_rfr_model = get_best_model_from_gridcv(X_obs, ite_adjusted_outcome(Y_obs,\n",
    "                                                                                    T_obs,\n",
    "                                                                                    _propensity = _propensity_all,\n",
    "                                                                                    c = _mean_outcome), \n",
    "                                                        rfr_reg_parameter_pairs, verbose=0)\n",
    "\n",
    "    _rfr_on_OBS_result_list.append(rmse(_best_OBS_rfr_model.predict(X_not_rct), \n",
    "                                           ite_adjusted_outcome(Y_not_rct,\n",
    "                                                                T_not_rct, \n",
    "                                                                _propensity = _propensity_all,\n",
    "                                                                c = _mean_outcome)))\n",
    "    print(_rfr_on_OBS_result_list[-1])"
   ]
  },
  {
   "cell_type": "code",
   "execution_count": null,
   "metadata": {},
   "outputs": [],
   "source": [
    "np.mean(_rfr_on_OBS_result_list), np.std(_rfr_on_OBS_result_list)/10**0.5"
   ]
  },
  {
   "cell_type": "code",
   "execution_count": null,
   "metadata": {},
   "outputs": [],
   "source": [
    "_best_rct_f0_linear_model = get_best_model_from_gridcv(X_rct[T_rct==0], Y_rct[T_rct ==0], linear_reg_parameter_pairs)\n",
    "_best_rct_f1_linear_model = get_best_model_from_gridcv(X_rct[T_rct==1], Y_rct[T_rct ==1], linear_reg_parameter_pairs)\n",
    "    \n",
    "rmse(_best_rct_f1_linear_model.predict(X_not_rct).ravel() - _best_rct_f0_linear_model.predict(X_not_rct).ravel(), \n",
    "     ite_adjusted_outcome(Y_not_rct, T_not_rct, _propensity = _propensity_all,\n",
    "                                                                   c = _mean_outcome))"
   ]
  },
  {
   "cell_type": "code",
   "execution_count": null,
   "metadata": {},
   "outputs": [],
   "source": [
    "plt.hist(ite_adjusted_outcome(Y_not_rct, T_not_rct, _propensity = _propensity_all,\n",
    "                                                                   c = _mean_outcome) - _best_rct_f1_linear_model.predict(X_not_rct).ravel() + _best_rct_f0_linear_model.predict(X_not_rct).ravel(), bins=40)\n",
    "plt.show()"
   ]
  },
  {
   "cell_type": "code",
   "execution_count": null,
   "metadata": {},
   "outputs": [],
   "source": [
    "plt.hist(ite_adjusted_outcome(Y_not_rct, T_not_rct, _propensity = _propensity_all,\n",
    "                                                                   c = _mean_outcome) - _best_rct_linear_model.predict(X_not_rct), bins=40)\n",
    "plt.show()"
   ]
  },
  {
   "cell_type": "code",
   "execution_count": null,
   "metadata": {
    "scrolled": true
   },
   "outputs": [],
   "source": [
    "_linear_baseline_result = []\n",
    "for i in range(10):\n",
    "    _linear_baseline_result.append(run_linear_baseline(0.8))\n",
    "    print(_linear_baseline_result[-1])"
   ]
  },
  {
   "cell_type": "code",
   "execution_count": null,
   "metadata": {},
   "outputs": [],
   "source": [
    "np.mean([item['err_rct'] for item in _linear_baseline_result]), np.std([item['err_rct'] for item in _linear_baseline_result])/10**0.5"
   ]
  },
  {
   "cell_type": "code",
   "execution_count": null,
   "metadata": {},
   "outputs": [],
   "source": [
    "np.mean([item['err_obs'] for item in _linear_baseline_result]), np.std([item['err_obs'] for item in _linear_baseline_result])/10**0.5"
   ]
  },
  {
   "cell_type": "code",
   "execution_count": null,
   "metadata": {},
   "outputs": [],
   "source": [
    "np.mean(ite_adjusted_outcome(Y_all/10, T_all, _propensity=_propensity_all, c = _mean_outcome/10))"
   ]
  },
  {
   "cell_type": "code",
   "execution_count": null,
   "metadata": {},
   "outputs": [],
   "source": [
    "np.mean(Y_all[T_all==1]) - np.mean(Y_all[T_all==0])"
   ]
  }
 ],
 "metadata": {
  "kernelspec": {
   "display_name": "Python 3",
   "language": "python",
   "name": "python3"
  },
  "language_info": {
   "codemirror_mode": {
    "name": "ipython",
    "version": 3
   },
   "file_extension": ".py",
   "mimetype": "text/x-python",
   "name": "python",
   "nbconvert_exporter": "python",
   "pygments_lexer": "ipython3",
   "version": "3.7.0"
  }
 },
 "nbformat": 4,
 "nbformat_minor": 2
}
